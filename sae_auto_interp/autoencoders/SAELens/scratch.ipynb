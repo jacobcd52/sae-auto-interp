{
 "cells": [
  {
   "cell_type": "code",
   "execution_count": 1,
   "metadata": {},
   "outputs": [],
   "source": [
    "%load_ext autoreload\n",
    "%autoreload 2"
   ]
  },
  {
   "cell_type": "code",
   "execution_count": 11,
   "metadata": {},
   "outputs": [
    {
     "ename": "ImportError",
     "evalue": "cannot import name 'FeatureLoader' from 'sae_auto_interp.features' (/root/sae-auto-interp/sae_auto_interp/features/__init__.py)",
     "output_type": "error",
     "traceback": [
      "\u001b[0;31m---------------------------------------------------------------------------\u001b[0m",
      "\u001b[0;31mImportError\u001b[0m                               Traceback (most recent call last)",
      "Cell \u001b[0;32mIn[11], line 4\u001b[0m\n\u001b[1;32m      1\u001b[0m \u001b[38;5;66;03m# import sys\u001b[39;00m\n\u001b[1;32m      2\u001b[0m \u001b[38;5;66;03m# sys.path.append(\"/root/sae_auto_interp\")\u001b[39;00m\n\u001b[1;32m      3\u001b[0m \u001b[38;5;28;01mfrom\u001b[39;00m \u001b[38;5;21;01msae_auto_interp\u001b[39;00m\u001b[38;5;21;01m.\u001b[39;00m\u001b[38;5;21;01mexplainers\u001b[39;00m \u001b[38;5;28;01mimport\u001b[39;00m SimpleExplainer\n\u001b[0;32m----> 4\u001b[0m \u001b[38;5;28;01mfrom\u001b[39;00m \u001b[38;5;21;01msae_auto_interp\u001b[39;00m\u001b[38;5;21;01m.\u001b[39;00m\u001b[38;5;21;01mfeatures\u001b[39;00m \u001b[38;5;28;01mimport\u001b[39;00m FeatureDataset, FeatureLoader\n\u001b[1;32m      5\u001b[0m \u001b[38;5;28;01mfrom\u001b[39;00m \u001b[38;5;21;01msae_auto_interp\u001b[39;00m\u001b[38;5;21;01m.\u001b[39;00m\u001b[38;5;21;01mconfig\u001b[39;00m \u001b[38;5;28;01mimport\u001b[39;00m FeatureConfig\n\u001b[1;32m      6\u001b[0m \u001b[38;5;28;01mfrom\u001b[39;00m \u001b[38;5;21;01msae_auto_interp\u001b[39;00m\u001b[38;5;21;01m.\u001b[39;00m\u001b[38;5;21;01mclients\u001b[39;00m \u001b[38;5;28;01mimport\u001b[39;00m Local\n",
      "\u001b[0;31mImportError\u001b[0m: cannot import name 'FeatureLoader' from 'sae_auto_interp.features' (/root/sae-auto-interp/sae_auto_interp/features/__init__.py)"
     ]
    }
   ],
   "source": [
    "# import sys\n",
    "# sys.path.append(\"/root/sae_auto_interp\")\n",
    "from sae_auto_interp.explainers import SimpleExplainer\n",
    "from sae_auto_interp.features import FeatureDataset, FeatureLoader\n",
    "from sae_auto_interp.config import FeatureConfig\n",
    "from sae_auto_interp.clients import Local\n",
    "\n",
    "import os\n",
    "from nnsight import LanguageModel\n",
    "from simple_parsing import ArgumentParser\n",
    "from load_sae_from_hf import load_sae_from_hf\n",
    "from sae_auto_interp.autoencoders import load_saelens_autoencoders\n",
    "from sae_auto_interp.config import CacheConfig\n",
    "from sae_auto_interp.features import FeatureCache\n",
    "from sae_auto_interp.utils import load_filter, load_tokenized_data\n",
    "from nnsight import LanguageModel"
   ]
  },
  {
   "cell_type": "code",
   "execution_count": 5,
   "metadata": {},
   "outputs": [
    {
     "name": "stderr",
     "output_type": "stream",
     "text": [
      "`config.hidden_act` is ignored, you should use `config.hidden_activation` instead.\n",
      "Gemma's activation function will be set to `gelu_pytorch_tanh`. Please, use\n",
      "`config.hidden_activation` if you want to override this behaviour.\n",
      "See https://github.com/huggingface/transformers/pull/29402 for more details.\n"
     ]
    },
    {
     "data": {
      "application/vnd.jupyter.widget-view+json": {
       "model_id": "ea90841cc8f3439ab6135fda53b6abdd",
       "version_major": 2,
       "version_minor": 0
      },
      "text/plain": [
       "Loading checkpoint shards:   0%|          | 0/2 [00:00<?, ?it/s]"
      ]
     },
     "metadata": {},
     "output_type": "display_data"
    }
   ],
   "source": [
    "# model = LanguageModel(\"google/gemma-2b-it\", device_map=\"cpu\", dispatch=True)"
   ]
  },
  {
   "cell_type": "code",
   "execution_count": 4,
   "metadata": {},
   "outputs": [],
   "source": [
    "# get tokenizer from HF\n",
    "from transformers import AutoTokenizer\n",
    "tokenizer = AutoTokenizer.from_pretrained(\"google/gemma-2b-it\")"
   ]
  },
  {
   "cell_type": "code",
   "execution_count": 5,
   "metadata": {},
   "outputs": [],
   "source": [
    "cfg = FeatureConfig()\n",
    "dataset = FeatureDataset(\n",
    "    raw_dir=\"/root/sae-auto-interp/splits/.model.layers.12\",\n",
    "    cfg=cfg,\n",
    ")"
   ]
  },
  {
   "cell_type": "code",
   "execution_count": null,
   "metadata": {},
   "outputs": [],
   "source": [
    "loader = FeatureLoader(\n",
    "    tokens=tokens,\n",
    "    dataset=dataset,\n",
    "    constructor = # constructor,\n",
    ")"
   ]
  },
  {
   "cell_type": "code",
   "execution_count": 6,
   "metadata": {},
   "outputs": [],
   "source": [
    "client = Local(\"casperhansen/llama-3-70b-instruct-awq\", base_url=f\"http://localhost:8000/v1\")"
   ]
  },
  {
   "cell_type": "code",
   "execution_count": 9,
   "metadata": {},
   "outputs": [],
   "source": [
    "import orjson\n",
    "from sae_auto_interp.pipeline import process_wrapper, Pipeline\n",
    "explanation_dir = \"/root/sae-auto-interp/explanations\"\n",
    "if not os.path.isdir(explanation_dir):\n",
    "    os.makedirs(explanation_dir)\n",
    "\n",
    "def explainer_postprocess(result):\n",
    "    with open(f\"{explanation_dir}/{result.record.feature}.txt\", \"wb\") as f:\n",
    "        f.write(orjson.dumps(result.explanation))\n",
    "\n",
    "    return result\n",
    "\n",
    "explainer_pipe = process_wrapper(\n",
    "    SimpleExplainer(\n",
    "        client,\n",
    "        tokenizer=tokenizer,\n",
    "    ),\n",
    "    postprocess=explainer_postprocess,\n",
    ")"
   ]
  },
  {
   "cell_type": "code",
   "execution_count": null,
   "metadata": {},
   "outputs": [],
   "source": [
    "import asyncio\n",
    "pipeline = Pipeline(\n",
    "    loader.load,\n",
    "    explainer_pipe,\n",
    ")\n",
    "\n",
    "asyncio.run(pipeline.run())"
   ]
  }
 ],
 "metadata": {
  "kernelspec": {
   "display_name": "Python 3",
   "language": "python",
   "name": "python3"
  },
  "language_info": {
   "codemirror_mode": {
    "name": "ipython",
    "version": 3
   },
   "file_extension": ".py",
   "mimetype": "text/x-python",
   "name": "python",
   "nbconvert_exporter": "python",
   "pygments_lexer": "ipython3",
   "version": "3.10.12"
  }
 },
 "nbformat": 4,
 "nbformat_minor": 2
}
