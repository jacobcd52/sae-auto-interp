{
 "cells": [
  {
   "cell_type": "code",
   "execution_count": 1,
   "metadata": {},
   "outputs": [],
   "source": [
    "%load_ext autoreload\n",
    "%autoreload 2\n",
    "import sys\n",
    "sys.path.append(\"/root/sae-auto-interp\")\n",
    "\n",
    "from nnsight import LanguageModel\n",
    "from functools import partial\n",
    "\n",
    "from sae_auto_interp.features import FeatureDataset, FeatureCache, pool_max_activation_windows, sample\n",
    "from sae_auto_interp.config import FeatureConfig, ExperimentConfig\n",
    "from sae_auto_interp.get_activations import get_activations\n",
    "from sae_auto_interp.utils import load_tokenized_data, display\n",
    "from sae_auto_interp.clients import OpenRouter\n",
    "from sae_auto_interp.explainers import SimpleExplainer"
   ]
  },
  {
   "cell_type": "code",
   "execution_count": 2,
   "metadata": {},
   "outputs": [],
   "source": [
    "CTX_LEN = 128\n",
    "BATCH_SIZE = 32\n",
    "N_TOKENS = 100_000\n",
    "MODEL_NAME = \"google/gemma-2b-it\"\n",
    "DATASET_NAME = \"jacobcd52/college_math_cleaned\"\n",
    "DATASET_SPLIT = \"train\"\n",
    "FEATURE_IDX_LIST = list(range(100))\n",
    "SAE_REPO = \"jacobcd52/gemma-2b-it-ssae-college_math_cleaned\"\n",
    "SAE_CFG_FILE = \"gemma-2b-it_layer12_college_math_cleaned_l1=10_expansion=2_tokens=8192000_gsae_id=layer_12_stepan_cfg.json\"\n",
    "SAE_WEIGHTS_FILE = \"gemma-2b-it_layer12_college_math_cleaned_l1=10_expansion=2_tokens=8192000_gsae_id=layer_12_stepan.safetensors\" "
   ]
  },
  {
   "cell_type": "code",
   "execution_count": 4,
   "metadata": {},
   "outputs": [
    {
     "name": "stderr",
     "output_type": "stream",
     "text": [
      "`config.hidden_act` is ignored, you should use `config.hidden_activation` instead.\n",
      "Gemma's activation function will be set to `gelu_pytorch_tanh`. Please, use\n",
      "`config.hidden_activation` if you want to override this behaviour.\n",
      "See https://github.com/huggingface/transformers/pull/29402 for more details.\n"
     ]
    },
    {
     "data": {
      "application/vnd.jupyter.widget-view+json": {
       "model_id": "248051c8db634768be3ebeb79971b13c",
       "version_major": 2,
       "version_minor": 0
      },
      "text/plain": [
       "Loading checkpoint shards:   0%|          | 0/2 [00:00<?, ?it/s]"
      ]
     },
     "metadata": {},
     "output_type": "display_data"
    },
    {
     "data": {
      "application/vnd.jupyter.widget-view+json": {
       "model_id": "2d90f0bb946a4864bcf11a2e8565ffe6",
       "version_major": 2,
       "version_minor": 0
      },
      "text/plain": [
       "(…)2000_gsae_id=layer_12_stepan.safetensors:   0%|          | 0.00/302M [00:00<?, ?B/s]"
      ]
     },
     "metadata": {},
     "output_type": "display_data"
    },
    {
     "data": {
      "application/vnd.jupyter.widget-view+json": {
       "model_id": "7239ade05c674ca98c728e16f75dc5b5",
       "version_major": 2,
       "version_minor": 0
      },
      "text/plain": [
       "(…)8192000_gsae_id=layer_12_stepan_cfg.json:   0%|          | 0.00/2.75k [00:00<?, ?B/s]"
      ]
     },
     "metadata": {},
     "output_type": "display_data"
    },
    {
     "name": "stdout",
     "output_type": "stream",
     "text": [
      "module path .model.layers.12\n",
      "dict_keys(['.model.layers.12'])\n"
     ]
    },
    {
     "name": "stderr",
     "output_type": "stream",
     "text": [
      "Caching features:   0%|          | 0/24 [00:00<?, ?it/s]You're using a GemmaTokenizerFast tokenizer. Please note that with a fast tokenizer, using the `__call__` method is faster than using a method to encode the text followed by a call to the `pad` method to get a padded encoding.\n",
      "Caching features: 100%|██████████| 24/24 [00:29<00:00,  1.25s/it, Total Tokens=98,304]\n"
     ]
    },
    {
     "name": "stdout",
     "output_type": "stream",
     "text": [
      "Total tokens processed: 98,304\n",
      "saving split at  /root/sae-auto-interp/splits/.model.layers.12\n",
      "saving split at  /root/sae-auto-interp/splits/.model.layers.12\n",
      "saving split at  /root/sae-auto-interp/splits/.model.layers.12\n",
      "saving split at  /root/sae-auto-interp/splits/.model.layers.12\n",
      "saving split at  /root/sae-auto-interp/splits/.model.layers.12\n"
     ]
    }
   ],
   "source": [
    "# Run model to get SAE feature activations\n",
    "model, sae_width = get_activations(sae_repo = SAE_REPO,\n",
    "                    sae_weights_file = SAE_WEIGHTS_FILE,\n",
    "                    sae_cfg_file = SAE_CFG_FILE,\n",
    "                    feature_idx_list = FEATURE_IDX_LIST,\n",
    "                    dataset_name  = DATASET_NAME,\n",
    "                    dataset_split = DATASET_SPLIT,\n",
    "                    model_name = MODEL_NAME,\n",
    "                    batch_size = BATCH_SIZE,\n",
    "                    ctx_len = CTX_LEN,\n",
    "                    n_tokens = N_TOKENS,\n",
    "                    remove_bos = True\n",
    "                    )"
   ]
  },
  {
   "cell_type": "code",
   "execution_count": 5,
   "metadata": {},
   "outputs": [
    {
     "name": "stderr",
     "output_type": "stream",
     "text": [
      "Loading .model.layers.12: 804it [00:31, 25.93it/s]"
     ]
    },
    {
     "name": "stdout",
     "output_type": "stream",
     "text": [
      "length of records 273\n",
      "first feature: .model.layers.12_feature0\n"
     ]
    },
    {
     "name": "stderr",
     "output_type": "stream",
     "text": [
      "\n"
     ]
    },
    {
     "data": {
      "text/html": [
       "<mark><bos></mark>+(<mark><bos></mark>)23pxxx=−+()252xqxx=+()235xfxx=+()227hxx=+()3jx=()2 3g<br><br>. This is Green<mark><bos></mark> formula again. L Let Σ be a bounded piece of the surface in R3 and L = ∂Σ be its boundary. Then A · d l = (∇ ×<br><br>3(3) + b b = −9 The line parallel to f (x) that passes through (3, 0) <mark><bos></mark>is g(x) = 3x − <br><br>, the presen<mark><bos></mark>t value of an annuity is the amount Ap that must be invested now at the interest rate i per time period to provide n payments, each of amount R. Clearly, Ap is"
      ],
      "text/plain": [
       "<IPython.core.display.HTML object>"
      ]
     },
     "metadata": {},
     "output_type": "display_data"
    }
   ],
   "source": [
    "cfg = FeatureConfig(\n",
    "    width = sae_width,\n",
    "    min_examples = 200, # TODO change\n",
    "    max_examples = 10_000,\n",
    "    example_ctx_len = 40,\n",
    "    n_splits = 5\n",
    ")\n",
    "\n",
    "experiment_cfg = ExperimentConfig(n_quantiles=2) # TODO change?\n",
    "\n",
    "feature_dataset = FeatureDataset(\n",
    "    raw_dir=\"/root/sae-auto-interp/splits\",\n",
    "    cfg=cfg,\n",
    ")\n",
    "\n",
    "tokens = load_tokenized_data(\n",
    "    CTX_LEN,\n",
    "    model.tokenizer,\n",
    "    DATASET_NAME,\n",
    "    DATASET_SPLIT)\n",
    "\n",
    "constructor=partial(\n",
    "    pool_max_activation_windows,\n",
    "    tokens=tokens,\n",
    "    ctx_len=cfg.example_ctx_len,\n",
    "    max_examples=cfg.max_examples,\n",
    ")\n",
    "\n",
    "sampler = partial(\n",
    "    sample,\n",
    "    cfg=experiment_cfg\n",
    ")\n",
    "\n",
    "loaded_data_iter = iter(feature_dataset.load(constructor=constructor, sampler=sampler))\n",
    "records = next(loaded_data_iter)\n",
    "\n",
    "print(\"length of records\", len(records))\n",
    "print(\"first feature:\", records[0].feature)\n",
    "display(records[0], model.tokenizer, n=4)"
   ]
  },
  {
   "cell_type": "code",
   "execution_count": 41,
   "metadata": {},
   "outputs": [
    {
     "data": {
      "text/html": [
       " radius 1, so its area is p, and the square has area 4. If we choose a point at random from the square<mark>, the</mark> probability that it lies inside the circle will be area<br><br> 2 minutes? 18. In rolling one die<mark> repeatedly, what</mark> is<mark> the</mark> probability<mark> of getting the</mark> third six on the xth<mark> roll</mark>? 19. A coin is tossed 6<mark> times</mark><br><br> balls are randomly<mark> drawn</mark> from the<mark> urn with replacement. Use</mark> the appropriate Poisson distribution to approximate the probability<mark> that</mark> ﬁve black balls are observed. 2.3.20 Suppose that there is a loop<br><br><mark> coin,</mark> heads and tails are equally likely outcomes in the sense that if this experiment is<mark> repeated many times, we</mark> expect<mark> that</mark> about as many heads as tails will show up. In any given experiment we are<br><br> certain virus afflicted the families in 3 adjacent houses in a row of 12 houses. If three houses were randomly chosen from a row of 12 houses<mark>, what is the</mark> probability<mark> that</mark> the<br><br> initiative. If ﬁve voters are interviewed at random<mark>, what is the</mark> probability<mark> that</mark> exactly three of them will favor the initiative? 29. Pharmaceuticals A drug that is used to prevent motion sickness is<br><br>3, has minimum variance? 12. A box contains 5 white balls and 3 black balls<mark>.</mark> Draw<mark> 2 balls without replacement. If</mark> X represents<mark> the</mark> number of white balls and Y<br><br> FI GUR E 4. 10 The complement of an event ● A∪B Ac A S S EXAMPLE 4.16 Two fair coins are<mark> tossed, and the outcome is</mark> recorded<mark>.</mark><br><br> the United States are reported as.41,.10,.04, and.45, respectively.1 If a single Caucasian is chosen randomly from the population<mark>, what is the</mark> probability that<br><br><mark>, what</mark> is the probability that it lies in the span of some other vectors?” i. Given a collection S of k bit vectors in B3, consider the bit matrix M whose columns are the vectors"
      ],
      "text/plain": [
       "<IPython.core.display.HTML object>"
      ]
     },
     "metadata": {},
     "output_type": "display_data"
    },
    {
     "name": "stdout",
     "output_type": "stream",
     "text": [
      "Neuron activates at the beginning of sentences in mathematical or scientific texts, potentially helping to structure technical content.\n"
     ]
    }
   ],
   "source": [
    "client = OpenRouter('anthropic/claude-3.5-sonnet', api_key=\"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\")\n",
    "explainer = SimpleExplainer(\n",
    "    client,\n",
    "    model.tokenizer,\n",
    "    max_new_tokens=50,\n",
    "    temperature=0.0,\n",
    ")\n",
    "\n",
    "explainer_result = await explainer(records[3])\n",
    "display(records[3], model.tokenizer)\n",
    "print(explainer_result.explanation)"
   ]
  },
  {
   "cell_type": "code",
   "execution_count": 34,
   "metadata": {},
   "outputs": [
    {
     "data": {
      "text/html": [
       "<mark><bos></mark> binomial probabilities will be adequate if both np 5 and nq 5 How Do I Calculate Binomial Probabilities Using the Normal Approximation? • Find the necessary values of n and p. Calculate<br><br><mark><bos></mark>. y = 2e3t/2 17.1.15. t = − ln 2 k 17.1.16. 600<br><br><mark><bos></mark>79_Apdx7eMV_Apdx7eMV_pA02-A12 11/10/10 1:04 PM Page A<br><br><mark><bos></mark> index j ∈ {1,..., r} and denote by κj : gj × gj → R the Killing form of gj. By Theorem 7.6.11 the Lie algebra gj admits<br><br><mark><bos></mark> Y be the quasi-circle shown in the ﬁgure, a closed subspace of R2 consisting of a portion of the graph of y = sin(1/x), the segment [−1<br><br><mark><bos></mark> are tossed? Solution Each coin can land in one of two ways. Hence, the number of simple events is (2)(2)(2) 8 EXAMPLE 4.11 A truck<br><br><mark><bos></mark> is invertible in A. Hence A(xn + sn) = (α) A, and xn + sn divides α, and so divides a in A. By (1) it also divides<br><br><mark><bos></mark> αS(v), where S, T ∈ Hom(V, W ), α ∈ F, and v ∈ V. (b) Let V be an F -vector space. Deﬁ<br><br><mark><bos></mark> 2δ = 2ε/3 < ε, and when (40) applies, 2δ = 2γ/3 < γ. It now follows from (37<br><br><mark><bos></mark> of h since H1(X) is abelian. To obtain the reverse inclusion we will show that every class [f ] in the kernel of h is trivial in the abelianization π1("
      ],
      "text/plain": [
       "<IPython.core.display.HTML object>"
      ]
     },
     "metadata": {},
     "output_type": "display_data"
    }
   ],
   "source": [
    "display(records[6], model.tokenizer)\n"
   ]
  },
  {
   "cell_type": "code",
   "execution_count": 35,
   "metadata": {},
   "outputs": [
    {
     "data": {
      "text/html": [
       "<mark><bos></mark> SECTION 4.1 LINEAR FUNCTIONS 301 Solution The slope of the given line is 3. If we choose the slope<mark>-intercept form</mark>, we can substitute m = 3,<br><br> x = 3, and f (x) = 0 into the<mark> slope-intercept form</mark> to find the y-intercept. g(x) = 3x + b 0 = <br><br><mark><bos></mark> compact sets each contained in an open Rn ⊂ M. By inductio<mark><bos></mark>n on m this gives a reduction to the case m = 1, so A ⊂ Rn ⊂ M<br><br>, the presen<mark><bos></mark>t value of an annuity is the amount Ap that must be invested now at the interest rate i per time period to provide n payments, each of amount R. Clearly, Ap is<br><br>3(3) + b b = −9 The line parallel to f (x) that passes through (3, 0) <mark><bos></mark>is g(x) = 3x − <br><br><mark><bos></mark>) for the elevator in an office building is<mark><bos></mark> 2000 pounds. The relative frequency distribution of the weights of all men and women using the elevator is mound-shaped (slightly skewed<br><br><mark><bos></mark>iii) be a basis for a vector space V. Consider the following vectors in R3     <mark><bos></mark> 1 − 10 7 <br><br>. This is Green<mark><bos></mark> formula again. L Let Σ be a bounded piece of the surface in R3 and L = ∂Σ be its boundary. Then A · d l = (∇ ×<br><br><mark><bos></mark>+(<mark><bos></mark>)23pxxx=−+()252xqxx=+()235xfxx=+()227hxx=+()3jx=()2 3g<br><br><mark><bos></mark> that is not simple can be broken into a number of simple curves, and the integrals around these simple curves are all 0. Adding these integrals, we obtain for any closed curve x C F"
      ],
      "text/plain": [
       "<IPython.core.display.HTML object>"
      ]
     },
     "metadata": {},
     "output_type": "display_data"
    }
   ],
   "source": [
    "display(records[1], model.tokenizer, n=10)"
   ]
  },
  {
   "cell_type": "code",
   "execution_count": 44,
   "metadata": {},
   "outputs": [
    {
     "name": "stdout",
     "output_type": "stream",
     "text": [
      "\n",
      "\n",
      "Example 0:\n",
      "\n",
      "<bos> SECTION 4.1 LINEAR FUNCTIONS 301 Solution The slope of the given line is 3. If we choose the slope-intercept form, we can substitute m = 3,\n",
      "\n",
      "\n",
      "Example 1:\n",
      "\n",
      " x = 3, and f (x) = 0 into the slope-intercept form to find the y-intercept. g(x) = 3x + b 0 = \n",
      "\n",
      "\n",
      "Example 2:\n",
      "\n",
      "<bos> compact sets each contained in an open Rn ⊂ M. By inductio<bos>n on m this gives a reduction to the case m = 1, so A ⊂ Rn ⊂ M\n",
      "\n",
      "\n",
      "Example 3:\n",
      "\n",
      ", the presen<bos>t value of an annuity is the amount Ap that must be invested now at the interest rate i per time period to provide n payments, each of amount R. Clearly, Ap is\n",
      "\n",
      "\n",
      "Example 4:\n",
      "\n",
      "3(3) + b b = −9 The line parallel to f (x) that passes through (3, 0) <bos>is g(x) = 3x − \n",
      "\n",
      "\n",
      "Example 5:\n",
      "\n",
      "<bos>) for the elevator in an office building is<bos> 2000 pounds. The relative frequency distribution of the weights of all men and women using the elevator is mound-shaped (slightly skewed\n",
      "\n",
      "\n",
      "Example 6:\n",
      "\n",
      "<bos>iii) be a basis for a vector space V. Consider the following vectors in R3     <bos> 1 − 10 7 \n",
      "\n",
      "\n",
      "Example 7:\n",
      "\n",
      ". This is Green<bos> formula again. L Let Σ be a bounded piece of the surface in R3 and L = ∂Σ be its boundary. Then A · d l = (∇ ×\n",
      "\n",
      "\n",
      "Example 8:\n",
      "\n",
      "<bos>+(<bos>)23pxxx=−+()252xqxx=+()235xfxx=+()227hxx=+()3jx=()2 3g\n",
      "\n",
      "\n",
      "Example 9:\n",
      "\n",
      "<bos> that is not simple can be broken into a number of simple curves, and the integrals around these simple curves are all 0. Adding these integrals, we obtain for any closed curve x C F\n"
     ]
    }
   ],
   "source": [
    "for i, example in enumerate(records[1].examples[:10]):\n",
    "    print(f\"\\n\\nExample {i}:\\n\")\n",
    "    print(model.tokenizer.decode(example.tokens))"
   ]
  },
  {
   "cell_type": "code",
   "execution_count": 31,
   "metadata": {},
   "outputs": [
    {
     "data": {
      "text/plain": [
       "'<bos>'"
      ]
     },
     "execution_count": 31,
     "metadata": {},
     "output_type": "execute_result"
    }
   ],
   "source": [
    "model.tokenizer.convert_ids_to_tokens(2)"
   ]
  }
 ],
 "metadata": {
  "kernelspec": {
   "display_name": "Python 3",
   "language": "python",
   "name": "python3"
  },
  "language_info": {
   "codemirror_mode": {
    "name": "ipython",
    "version": 3
   },
   "file_extension": ".py",
   "mimetype": "text/x-python",
   "name": "python",
   "nbconvert_exporter": "python",
   "pygments_lexer": "ipython3",
   "version": "3.10.12"
  }
 },
 "nbformat": 4,
 "nbformat_minor": 2
}
