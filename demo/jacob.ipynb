{
 "cells": [
  {
   "cell_type": "code",
   "execution_count": 11,
   "metadata": {},
   "outputs": [
    {
     "name": "stdout",
     "output_type": "stream",
     "text": [
      "The autoreload extension is already loaded. To reload it, use:\n",
      "  %reload_ext autoreload\n"
     ]
    },
    {
     "ename": "ModuleNotFoundError",
     "evalue": "No module named 'keys'",
     "output_type": "error",
     "traceback": [
      "\u001b[0;31m---------------------------------------------------------------------------\u001b[0m",
      "\u001b[0;31mModuleNotFoundError\u001b[0m                       Traceback (most recent call last)",
      "Cell \u001b[0;32mIn[11], line 7\u001b[0m\n\u001b[1;32m      5\u001b[0m \u001b[38;5;28;01mfrom\u001b[39;00m \u001b[38;5;21;01msae_auto_interp\u001b[39;00m\u001b[38;5;21;01m.\u001b[39;00m\u001b[38;5;21;01mfeatures\u001b[39;00m \u001b[38;5;28;01mimport\u001b[39;00m FeatureDataset, pool_max_activation_windows, sample\n\u001b[1;32m      6\u001b[0m \u001b[38;5;28;01mfrom\u001b[39;00m \u001b[38;5;21;01msae_auto_interp\u001b[39;00m\u001b[38;5;21;01m.\u001b[39;00m\u001b[38;5;21;01mconfig\u001b[39;00m \u001b[38;5;28;01mimport\u001b[39;00m FeatureConfig, ExperimentConfig\n\u001b[0;32m----> 7\u001b[0m \u001b[38;5;28;01mfrom\u001b[39;00m \u001b[38;5;21;01mkeys\u001b[39;00m \u001b[38;5;28;01mimport\u001b[39;00m key\n\u001b[1;32m      9\u001b[0m cfg \u001b[38;5;241m=\u001b[39m FeatureConfig(\n\u001b[1;32m     10\u001b[0m     width \u001b[38;5;241m=\u001b[39m \u001b[38;5;241m2048\u001b[39m\u001b[38;5;241m*\u001b[39m\u001b[38;5;241m16\u001b[39m,\n\u001b[1;32m     11\u001b[0m     min_examples \u001b[38;5;241m=\u001b[39m \u001b[38;5;241m200\u001b[39m,\n\u001b[0;32m   (...)\u001b[0m\n\u001b[1;32m     14\u001b[0m     n_splits \u001b[38;5;241m=\u001b[39m \u001b[38;5;241m5\u001b[39m\n\u001b[1;32m     15\u001b[0m )\n\u001b[1;32m     17\u001b[0m sample_cfg \u001b[38;5;241m=\u001b[39m ExperimentConfig()\n",
      "\u001b[0;31mModuleNotFoundError\u001b[0m: No module named 'keys'"
     ]
    }
   ],
   "source": [
    "%load_ext autoreload\n",
    "%autoreload 2\n",
    "import sys\n",
    "sys.path.append(\"/root/sae-auto-interp\")\n",
    "from sae_auto_interp.features import FeatureDataset, pool_max_activation_windows, sample\n",
    "from sae_auto_interp.config import FeatureConfig, ExperimentConfig\n",
    "\n",
    "cfg = FeatureConfig(\n",
    "    width = 2048*16,\n",
    "    min_examples = 200,\n",
    "    max_examples = 10_000,\n",
    "    example_ctx_len = 128,\n",
    "    n_splits = 5\n",
    ")\n",
    "\n",
    "sample_cfg = ExperimentConfig()\n",
    "\n",
    "dataset = FeatureDataset(\n",
    "    raw_dir=\"/root/sae-auto-interp/splits\",\n",
    "    cfg=cfg,\n",
    ")"
   ]
  },
  {
   "cell_type": "code",
   "execution_count": 2,
   "metadata": {},
   "outputs": [
    {
     "name": "stderr",
     "output_type": "stream",
     "text": [
      "`config.hidden_act` is ignored, you should use `config.hidden_activation` instead.\n",
      "Gemma's activation function will be set to `gelu_pytorch_tanh`. Please, use\n",
      "`config.hidden_activation` if you want to override this behaviour.\n",
      "See https://github.com/huggingface/transformers/pull/29402 for more details.\n"
     ]
    },
    {
     "data": {
      "application/vnd.jupyter.widget-view+json": {
       "model_id": "59b8810804634f799e1f279920c18b08",
       "version_major": 2,
       "version_minor": 0
      },
      "text/plain": [
       "Loading checkpoint shards:   0%|          | 0/2 [00:00<?, ?it/s]"
      ]
     },
     "metadata": {},
     "output_type": "display_data"
    }
   ],
   "source": [
    "from sae_auto_interp.features import FeatureCache\n",
    "from sae_auto_interp.utils import load_tokenized_data\n",
    "from nnsight import LanguageModel\n",
    "\n",
    "CTX_LEN = 128\n",
    "BATCH_SIZE = 32\n",
    "# N_TOKENS = 1000_000\n",
    "N_SPLITS = 5\n",
    "model = LanguageModel(\"google/gemma-2b-it\", device_map=\"auto\", dispatch=True)\n",
    "tokens = load_tokenized_data(\n",
    "    CTX_LEN,\n",
    "    model.tokenizer,\n",
    "    \"kh4dien/fineweb-100m-sample\",\n",
    "    \"train[:2%]\",\n",
    ")"
   ]
  },
  {
   "cell_type": "code",
   "execution_count": 3,
   "metadata": {},
   "outputs": [],
   "source": [
    "from functools import partial\n",
    "constructor=partial(\n",
    "    pool_max_activation_windows,\n",
    "    tokens=tokens,\n",
    "    ctx_len=cfg.example_ctx_len,\n",
    "    max_examples=cfg.max_examples,\n",
    ")\n",
    "\n",
    "sampler = partial(\n",
    "    sample,\n",
    "    cfg=sample_cfg\n",
    ")"
   ]
  },
  {
   "cell_type": "code",
   "execution_count": 6,
   "metadata": {},
   "outputs": [],
   "source": [
    "loaded_data_iter = iter(dataset.load(constructor=constructor, sampler=sampler))"
   ]
  },
  {
   "cell_type": "code",
   "execution_count": 7,
   "metadata": {},
   "outputs": [
    {
     "name": "stderr",
     "output_type": "stream",
     "text": [
      "Loading .model.layers.12: 2it [00:00, 15.16it/s]"
     ]
    },
    {
     "name": "stdout",
     "output_type": "stream",
     "text": [
      "quantile_size 23\n",
      "len examples 235\n",
      "n_quantiles 10\n"
     ]
    },
    {
     "name": "stderr",
     "output_type": "stream",
     "text": [
      "Loading .model.layers.12: 4it [00:00,  8.67it/s]"
     ]
    },
    {
     "name": "stdout",
     "output_type": "stream",
     "text": [
      "quantile_size 119\n",
      "len examples 1194\n",
      "n_quantiles 10\n"
     ]
    },
    {
     "name": "stderr",
     "output_type": "stream",
     "text": [
      "Loading .model.layers.12: 7it [00:00,  6.79it/s]"
     ]
    },
    {
     "name": "stdout",
     "output_type": "stream",
     "text": [
      "quantile_size 24\n",
      "len examples 242\n",
      "n_quantiles 10\n",
      "quantile_size 50\n",
      "len examples 501\n",
      "n_quantiles 10\n"
     ]
    },
    {
     "name": "stderr",
     "output_type": "stream",
     "text": [
      "Loading .model.layers.12: 10it [00:01,  6.66it/s]"
     ]
    },
    {
     "name": "stdout",
     "output_type": "stream",
     "text": [
      "quantile_size 19\n",
      "len examples 195\n",
      "n_quantiles 10\n",
      "quantile_size 57\n",
      "len examples 576\n",
      "n_quantiles 10\n"
     ]
    },
    {
     "name": "stderr",
     "output_type": "stream",
     "text": [
      "Loading .model.layers.12: 15it [00:01, 14.66it/s]"
     ]
    },
    {
     "name": "stdout",
     "output_type": "stream",
     "text": [
      "quantile_size 19\n",
      "len examples 191\n",
      "n_quantiles 10\n",
      "quantile_size 28\n",
      "len examples 283\n",
      "n_quantiles 10\n",
      "quantile_size 67\n",
      "len examples 674\n",
      "n_quantiles 10\n",
      "quantile_size 22\n",
      "len examples 221\n",
      "n_quantiles 10\n",
      "quantile_size 37\n",
      "len examples 372\n",
      "n_quantiles 10\n",
      "quantile_size 44\n",
      "len examples 446\n",
      "n_quantiles 10\n"
     ]
    },
    {
     "name": "stderr",
     "output_type": "stream",
     "text": [
      "Loading .model.layers.12: 23it [00:01, 22.03it/s]"
     ]
    },
    {
     "name": "stdout",
     "output_type": "stream",
     "text": [
      "quantile_size 25\n",
      "len examples 259\n",
      "n_quantiles 10\n",
      "quantile_size 30\n",
      "len examples 305\n",
      "n_quantiles 10\n",
      "quantile_size 63\n",
      "len examples 632\n",
      "n_quantiles 10\n",
      "quantile_size 23\n",
      "len examples 230\n",
      "n_quantiles 10\n",
      "quantile_size 20\n",
      "len examples 208\n",
      "n_quantiles 10\n"
     ]
    },
    {
     "name": "stderr",
     "output_type": "stream",
     "text": [
      "Loading .model.layers.12: 29it [00:02, 25.32it/s]"
     ]
    },
    {
     "name": "stdout",
     "output_type": "stream",
     "text": [
      "quantile_size 111\n",
      "len examples 1112\n",
      "n_quantiles 10\n",
      "quantile_size 17\n",
      "len examples 173\n",
      "n_quantiles 10\n",
      "quantile_size 127\n",
      "len examples 1278\n",
      "n_quantiles 10\n",
      "quantile_size 86\n",
      "len examples 868\n",
      "n_quantiles 10\n",
      "quantile_size 30\n",
      "len examples 300\n",
      "n_quantiles 10\n"
     ]
    },
    {
     "name": "stderr",
     "output_type": "stream",
     "text": [
      "Loading .model.layers.12: 39it [00:02, 35.55it/s]"
     ]
    },
    {
     "name": "stdout",
     "output_type": "stream",
     "text": [
      "quantile_size 19\n",
      "len examples 197\n",
      "n_quantiles 10\n",
      "quantile_size 46\n",
      "len examples 469\n",
      "n_quantiles 10\n",
      "quantile_size 8\n",
      "len examples 85\n",
      "n_quantiles 10\n",
      "quantile_size 21\n",
      "len examples 210\n",
      "n_quantiles 10\n",
      "quantile_size 146\n",
      "len examples 1469\n",
      "n_quantiles 10\n"
     ]
    },
    {
     "name": "stderr",
     "output_type": "stream",
     "text": [
      "Loading .model.layers.12: 55it [00:02, 49.50it/s]"
     ]
    },
    {
     "name": "stdout",
     "output_type": "stream",
     "text": [
      "quantile_size 119\n",
      "len examples 1195\n",
      "n_quantiles 10\n",
      "quantile_size 93\n",
      "len examples 936\n",
      "n_quantiles 10\n",
      "quantile_size 22\n",
      "len examples 226\n",
      "n_quantiles 10\n",
      "quantile_size 18\n",
      "len examples 186\n",
      "n_quantiles 10\n",
      "quantile_size 21\n",
      "len examples 213\n",
      "n_quantiles 10\n",
      "quantile_size 18\n",
      "len examples 182\n",
      "n_quantiles 10\n"
     ]
    },
    {
     "name": "stderr",
     "output_type": "stream",
     "text": [
      "Loading .model.layers.12: 67it [00:02, 45.88it/s]"
     ]
    },
    {
     "name": "stdout",
     "output_type": "stream",
     "text": [
      "quantile_size 11\n",
      "len examples 111\n",
      "n_quantiles 10\n",
      "quantile_size 61\n",
      "len examples 613\n",
      "n_quantiles 10\n",
      "quantile_size 35\n",
      "len examples 354\n",
      "n_quantiles 10\n",
      "quantile_size 18\n",
      "len examples 188\n",
      "n_quantiles 10\n",
      "quantile_size 41\n",
      "len examples 412\n",
      "n_quantiles 10\n",
      "quantile_size 19\n",
      "len examples 193\n",
      "n_quantiles 10\n"
     ]
    },
    {
     "name": "stderr",
     "output_type": "stream",
     "text": [
      "Loading .model.layers.12: 73it [00:03, 39.65it/s]"
     ]
    },
    {
     "name": "stdout",
     "output_type": "stream",
     "text": [
      "quantile_size 119\n",
      "len examples 1194\n",
      "n_quantiles 10\n",
      "quantile_size 52\n",
      "len examples 520\n",
      "n_quantiles 10\n",
      "quantile_size 11\n",
      "len examples 113\n",
      "n_quantiles 10\n",
      "quantile_size 23\n",
      "len examples 233\n",
      "n_quantiles 10\n",
      "quantile_size 13\n",
      "len examples 131\n",
      "n_quantiles 10\n"
     ]
    },
    {
     "name": "stderr",
     "output_type": "stream",
     "text": [
      "Loading .model.layers.12: 78it [00:03, 34.52it/s]"
     ]
    },
    {
     "name": "stdout",
     "output_type": "stream",
     "text": [
      "quantile_size 129\n",
      "len examples 1295\n",
      "n_quantiles 10\n",
      "quantile_size 12\n",
      "len examples 129\n",
      "n_quantiles 10\n",
      "quantile_size 38\n",
      "len examples 382\n",
      "n_quantiles 10\n",
      "quantile_size 39\n",
      "len examples 396\n",
      "n_quantiles 10\n",
      "quantile_size 30\n",
      "len examples 302\n",
      "n_quantiles 10\n"
     ]
    },
    {
     "name": "stderr",
     "output_type": "stream",
     "text": [
      "Loading .model.layers.12: 82it [00:03, 35.40it/s]"
     ]
    },
    {
     "name": "stdout",
     "output_type": "stream",
     "text": [
      "quantile_size 12\n",
      "len examples 127\n",
      "n_quantiles 10\n",
      "quantile_size 279\n",
      "len examples 2794\n",
      "n_quantiles 10\n",
      "quantile_size 23\n",
      "len examples 236\n",
      "n_quantiles 10\n"
     ]
    },
    {
     "name": "stderr",
     "output_type": "stream",
     "text": [
      "Loading .model.layers.12: 95it [00:03, 35.61it/s]"
     ]
    },
    {
     "name": "stdout",
     "output_type": "stream",
     "text": [
      "quantile_size 43\n",
      "len examples 436\n",
      "n_quantiles 10\n",
      "quantile_size 38\n",
      "len examples 381\n",
      "n_quantiles 10\n",
      "quantile_size 13\n",
      "len examples 136\n",
      "n_quantiles 10\n",
      "quantile_size 30\n",
      "len examples 302\n",
      "n_quantiles 10\n",
      "quantile_size 31\n",
      "len examples 318\n",
      "n_quantiles 10\n",
      "quantile_size 16\n",
      "len examples 160\n",
      "n_quantiles 10\n"
     ]
    },
    {
     "name": "stderr",
     "output_type": "stream",
     "text": [
      "Loading .model.layers.12: 103it [00:04, 36.56it/s]"
     ]
    },
    {
     "name": "stdout",
     "output_type": "stream",
     "text": [
      "quantile_size 33\n",
      "len examples 331\n",
      "n_quantiles 10\n",
      "quantile_size 88\n",
      "len examples 883\n",
      "n_quantiles 10\n",
      "quantile_size 21\n",
      "len examples 219\n",
      "n_quantiles 10\n",
      "quantile_size 37\n",
      "len examples 378\n",
      "n_quantiles 10\n",
      "quantile_size 17\n",
      "len examples 176\n",
      "n_quantiles 10\n",
      "quantile_size 17\n",
      "len examples 178\n",
      "n_quantiles 10\n"
     ]
    },
    {
     "name": "stderr",
     "output_type": "stream",
     "text": [
      "Loading .model.layers.12: 111it [00:04, 32.84it/s]"
     ]
    },
    {
     "name": "stdout",
     "output_type": "stream",
     "text": [
      "quantile_size 25\n",
      "len examples 256\n",
      "n_quantiles 10\n",
      "quantile_size 21\n",
      "len examples 217\n",
      "n_quantiles 10\n",
      "quantile_size 19\n",
      "len examples 194\n",
      "n_quantiles 10\n",
      "quantile_size 23\n",
      "len examples 234\n",
      "n_quantiles 10\n",
      "quantile_size 76\n",
      "len examples 769\n",
      "n_quantiles 10\n",
      "quantile_size 17\n",
      "len examples 173\n",
      "n_quantiles 10\n"
     ]
    },
    {
     "name": "stderr",
     "output_type": "stream",
     "text": [
      "Loading .model.layers.12: 120it [00:04, 37.01it/s]"
     ]
    },
    {
     "name": "stdout",
     "output_type": "stream",
     "text": [
      "quantile_size 21\n",
      "len examples 211\n",
      "n_quantiles 10\n",
      "quantile_size 25\n",
      "len examples 254\n",
      "n_quantiles 10\n",
      "quantile_size 48\n",
      "len examples 489\n",
      "n_quantiles 10\n",
      "quantile_size 56\n",
      "len examples 569\n",
      "n_quantiles 10\n",
      "quantile_size 67\n",
      "len examples 676\n",
      "n_quantiles 10\n"
     ]
    },
    {
     "name": "stderr",
     "output_type": "stream",
     "text": [
      "Loading .model.layers.12: 130it [00:04, 34.20it/s]"
     ]
    },
    {
     "name": "stdout",
     "output_type": "stream",
     "text": [
      "quantile_size 60\n",
      "len examples 600\n",
      "n_quantiles 10\n",
      "quantile_size 72\n",
      "len examples 728\n",
      "n_quantiles 10\n",
      "quantile_size 100\n",
      "len examples 1002\n",
      "n_quantiles 10\n",
      "quantile_size 26\n",
      "len examples 262\n",
      "n_quantiles 10\n"
     ]
    },
    {
     "name": "stderr",
     "output_type": "stream",
     "text": [
      "Loading .model.layers.12: 140it [00:05, 41.10it/s]"
     ]
    },
    {
     "name": "stdout",
     "output_type": "stream",
     "text": [
      "quantile_size 75\n",
      "len examples 758\n",
      "n_quantiles 10\n",
      "quantile_size 17\n",
      "len examples 176\n",
      "n_quantiles 10\n",
      "quantile_size 25\n",
      "len examples 257\n",
      "n_quantiles 10\n",
      "quantile_size 18\n",
      "len examples 182\n",
      "n_quantiles 10\n",
      "quantile_size 20\n",
      "len examples 202\n",
      "n_quantiles 10\n",
      "quantile_size 30\n",
      "len examples 305\n",
      "n_quantiles 10\n"
     ]
    },
    {
     "name": "stderr",
     "output_type": "stream",
     "text": [
      "Loading .model.layers.12: 145it [00:05, 34.82it/s]"
     ]
    },
    {
     "name": "stdout",
     "output_type": "stream",
     "text": [
      "quantile_size 18\n",
      "len examples 182\n",
      "n_quantiles 10\n",
      "quantile_size 25\n",
      "len examples 255\n",
      "n_quantiles 10\n",
      "quantile_size 41\n",
      "len examples 410\n",
      "n_quantiles 10\n",
      "quantile_size 105\n",
      "len examples 1053\n",
      "n_quantiles 10\n",
      "quantile_size 39\n",
      "len examples 390\n",
      "n_quantiles 10\n",
      "quantile_size 41\n",
      "len examples 411\n",
      "n_quantiles 10\n"
     ]
    },
    {
     "name": "stderr",
     "output_type": "stream",
     "text": [
      "Loading .model.layers.12: 154it [00:05, 38.89it/s]"
     ]
    },
    {
     "name": "stdout",
     "output_type": "stream",
     "text": [
      "quantile_size 12\n",
      "len examples 121\n",
      "n_quantiles 10\n",
      "quantile_size 26\n",
      "len examples 268\n",
      "n_quantiles 10\n",
      "quantile_size 43\n",
      "len examples 437\n",
      "n_quantiles 10\n",
      "quantile_size 63\n",
      "len examples 635\n",
      "n_quantiles 10\n",
      "quantile_size 11\n",
      "len examples 114\n",
      "n_quantiles 10\n",
      "quantile_size 58\n",
      "len examples 588\n",
      "n_quantiles 10\n",
      "quantile_size 100\n",
      "len examples 1004\n",
      "n_quantiles 10\n",
      "quantile_size 33\n",
      "len examples 336\n",
      "n_quantiles 10\n",
      "quantile_size 104\n",
      "len examples 1041\n",
      "n_quantiles 10\n"
     ]
    },
    {
     "name": "stderr",
     "output_type": "stream",
     "text": [
      "Loading .model.layers.12: 169it [00:06, 30.56it/s]"
     ]
    },
    {
     "name": "stdout",
     "output_type": "stream",
     "text": [
      "quantile_size 18\n",
      "len examples 189\n",
      "n_quantiles 10\n",
      "quantile_size 17\n",
      "len examples 176\n",
      "n_quantiles 10\n",
      "quantile_size 22\n",
      "len examples 225\n",
      "n_quantiles 10\n",
      "quantile_size 64\n",
      "len examples 644\n",
      "n_quantiles 10\n",
      "quantile_size 14\n",
      "len examples 143\n",
      "n_quantiles 10\n"
     ]
    },
    {
     "name": "stderr",
     "output_type": "stream",
     "text": [
      "Loading .model.layers.12: 173it [00:06, 32.29it/s]"
     ]
    },
    {
     "name": "stdout",
     "output_type": "stream",
     "text": [
      "quantile_size 61\n",
      "len examples 614\n",
      "n_quantiles 10\n",
      "quantile_size 81\n",
      "len examples 810\n",
      "n_quantiles 10\n",
      "quantile_size 118\n",
      "len examples 1186\n",
      "n_quantiles 10\n",
      "quantile_size 73\n",
      "len examples 734\n",
      "n_quantiles 10\n"
     ]
    },
    {
     "name": "stderr",
     "output_type": "stream",
     "text": [
      "Loading .model.layers.12: 183it [00:06, 34.73it/s]"
     ]
    },
    {
     "name": "stdout",
     "output_type": "stream",
     "text": [
      "quantile_size 85\n",
      "len examples 857\n",
      "n_quantiles 10\n",
      "quantile_size 32\n",
      "len examples 325\n",
      "n_quantiles 10\n",
      "quantile_size 31\n",
      "len examples 314\n",
      "n_quantiles 10\n",
      "quantile_size 33\n",
      "len examples 339\n",
      "n_quantiles 10\n"
     ]
    },
    {
     "name": "stderr",
     "output_type": "stream",
     "text": [
      "Loading .model.layers.12: 194it [00:06, 34.42it/s]"
     ]
    },
    {
     "name": "stdout",
     "output_type": "stream",
     "text": [
      "quantile_size 32\n",
      "len examples 325\n",
      "n_quantiles 10\n",
      "quantile_size 36\n",
      "len examples 369\n",
      "n_quantiles 10\n",
      "quantile_size 35\n",
      "len examples 350\n",
      "n_quantiles 10\n",
      "quantile_size 60\n",
      "len examples 601\n",
      "n_quantiles 10\n",
      "quantile_size 16\n",
      "len examples 162\n",
      "n_quantiles 10\n"
     ]
    },
    {
     "name": "stderr",
     "output_type": "stream",
     "text": [
      "Loading .model.layers.12: 198it [00:06, 34.30it/s]"
     ]
    },
    {
     "name": "stdout",
     "output_type": "stream",
     "text": [
      "quantile_size 31\n",
      "len examples 310\n",
      "n_quantiles 10\n",
      "quantile_size 91\n",
      "len examples 914\n",
      "n_quantiles 10\n",
      "quantile_size 261\n",
      "len examples 2612\n",
      "n_quantiles 10\n",
      "quantile_size 53\n",
      "len examples 537\n",
      "n_quantiles 10\n"
     ]
    },
    {
     "name": "stderr",
     "output_type": "stream",
     "text": [
      "Loading .model.layers.12: 210it [00:07, 40.45it/s]"
     ]
    },
    {
     "name": "stdout",
     "output_type": "stream",
     "text": [
      "quantile_size 158\n",
      "len examples 1581\n",
      "n_quantiles 10\n",
      "quantile_size 39\n",
      "len examples 393\n",
      "n_quantiles 10\n",
      "quantile_size 50\n",
      "len examples 502\n",
      "n_quantiles 10\n",
      "quantile_size 29\n",
      "len examples 293\n",
      "n_quantiles 10\n",
      "quantile_size 45\n",
      "len examples 455\n",
      "n_quantiles 10\n",
      "quantile_size 17\n",
      "len examples 179\n",
      "n_quantiles 10\n"
     ]
    },
    {
     "name": "stderr",
     "output_type": "stream",
     "text": [
      "Loading .model.layers.12: 220it [00:07, 35.77it/s]"
     ]
    },
    {
     "name": "stdout",
     "output_type": "stream",
     "text": [
      "quantile_size 17\n",
      "len examples 176\n",
      "n_quantiles 10\n",
      "quantile_size 73\n",
      "len examples 738\n",
      "n_quantiles 10\n",
      "quantile_size 33\n",
      "len examples 333\n",
      "n_quantiles 10\n",
      "quantile_size 37\n",
      "len examples 377\n",
      "n_quantiles 10\n",
      "quantile_size 19\n",
      "len examples 193\n",
      "n_quantiles 10\n",
      "quantile_size 26\n",
      "len examples 261\n",
      "n_quantiles 10\n"
     ]
    },
    {
     "name": "stderr",
     "output_type": "stream",
     "text": [
      "Loading .model.layers.12: 230it [00:07, 41.27it/s]"
     ]
    },
    {
     "name": "stdout",
     "output_type": "stream",
     "text": [
      "quantile_size 21\n",
      "len examples 212\n",
      "n_quantiles 10\n",
      "quantile_size 22\n",
      "len examples 224\n",
      "n_quantiles 10\n",
      "quantile_size 46\n",
      "len examples 466\n",
      "n_quantiles 10\n",
      "quantile_size 31\n",
      "len examples 316\n",
      "n_quantiles 10\n",
      "quantile_size 30\n",
      "len examples 302\n",
      "n_quantiles 10\n",
      "quantile_size 69\n",
      "len examples 694\n",
      "n_quantiles 10\n"
     ]
    },
    {
     "name": "stderr",
     "output_type": "stream",
     "text": [
      "Loading .model.layers.12: 252it [00:08, 48.23it/s]"
     ]
    },
    {
     "name": "stdout",
     "output_type": "stream",
     "text": [
      "quantile_size 29\n",
      "len examples 293\n",
      "n_quantiles 10\n",
      "quantile_size 18\n",
      "len examples 181\n",
      "n_quantiles 10\n",
      "quantile_size 31\n",
      "len examples 311\n",
      "n_quantiles 10\n",
      "quantile_size 10\n",
      "len examples 105\n",
      "n_quantiles 10\n",
      "quantile_size 107\n",
      "len examples 1070\n",
      "n_quantiles 10\n"
     ]
    },
    {
     "name": "stderr",
     "output_type": "stream",
     "text": [
      "Loading .model.layers.12: 258it [00:08, 41.10it/s]"
     ]
    },
    {
     "name": "stdout",
     "output_type": "stream",
     "text": [
      "quantile_size 31\n",
      "len examples 311\n",
      "n_quantiles 10\n",
      "quantile_size 134\n",
      "len examples 1349\n",
      "n_quantiles 10\n",
      "quantile_size 23\n",
      "len examples 231\n",
      "n_quantiles 10\n",
      "quantile_size 13\n",
      "len examples 131\n",
      "n_quantiles 10\n",
      "quantile_size 40\n",
      "len examples 404\n",
      "n_quantiles 10\n",
      "quantile_size 94\n",
      "len examples 943\n",
      "n_quantiles 10\n"
     ]
    },
    {
     "name": "stderr",
     "output_type": "stream",
     "text": [
      "Loading .model.layers.12: 270it [00:08, 36.99it/s]"
     ]
    },
    {
     "name": "stdout",
     "output_type": "stream",
     "text": [
      "quantile_size 29\n",
      "len examples 296\n",
      "n_quantiles 10\n",
      "quantile_size 17\n",
      "len examples 171\n",
      "n_quantiles 10\n",
      "quantile_size 20\n",
      "len examples 200\n",
      "n_quantiles 10\n",
      "quantile_size 19\n",
      "len examples 192\n",
      "n_quantiles 10\n",
      "quantile_size 28\n",
      "len examples 287\n",
      "n_quantiles 10\n",
      "quantile_size 40\n",
      "len examples 409\n",
      "n_quantiles 10\n"
     ]
    },
    {
     "name": "stderr",
     "output_type": "stream",
     "text": [
      "Loading .model.layers.12: 275it [00:08, 33.51it/s]"
     ]
    },
    {
     "name": "stdout",
     "output_type": "stream",
     "text": [
      "quantile_size 41\n",
      "len examples 417\n",
      "n_quantiles 10\n",
      "quantile_size 25\n",
      "len examples 256\n",
      "n_quantiles 10\n",
      "quantile_size 146\n",
      "len examples 1465\n",
      "n_quantiles 10\n"
     ]
    },
    {
     "name": "stderr",
     "output_type": "stream",
     "text": [
      "Loading .model.layers.12: 285it [00:09, 38.97it/s]"
     ]
    },
    {
     "name": "stdout",
     "output_type": "stream",
     "text": [
      "quantile_size 214\n",
      "len examples 2143\n",
      "n_quantiles 10\n",
      "quantile_size 92\n",
      "len examples 921\n",
      "n_quantiles 10\n",
      "quantile_size 21\n",
      "len examples 213\n",
      "n_quantiles 10\n",
      "quantile_size 24\n",
      "len examples 248\n",
      "n_quantiles 10\n",
      "quantile_size 18\n",
      "len examples 189\n",
      "n_quantiles 10\n",
      "quantile_size 22\n",
      "len examples 220\n",
      "n_quantiles 10\n",
      "quantile_size 28\n",
      "len examples 282\n",
      "n_quantiles 10\n"
     ]
    },
    {
     "name": "stderr",
     "output_type": "stream",
     "text": [
      "Loading .model.layers.12: 296it [00:09, 39.49it/s]"
     ]
    },
    {
     "name": "stdout",
     "output_type": "stream",
     "text": [
      "quantile_size 25\n",
      "len examples 259\n",
      "n_quantiles 10\n",
      "quantile_size 14\n",
      "len examples 140\n",
      "n_quantiles 10\n",
      "quantile_size 8\n",
      "len examples 81\n",
      "n_quantiles 10\n",
      "quantile_size 28\n",
      "len examples 284\n",
      "n_quantiles 10\n",
      "quantile_size 13\n",
      "len examples 133\n",
      "n_quantiles 10\n",
      "quantile_size 27\n",
      "len examples 273\n",
      "n_quantiles 10\n"
     ]
    },
    {
     "name": "stderr",
     "output_type": "stream",
     "text": [
      "Loading .model.layers.12: 307it [00:09, 46.44it/s]"
     ]
    },
    {
     "name": "stdout",
     "output_type": "stream",
     "text": [
      "quantile_size 56\n",
      "len examples 563\n",
      "n_quantiles 10\n",
      "quantile_size 8\n",
      "len examples 80\n",
      "n_quantiles 10\n",
      "quantile_size 22\n",
      "len examples 225\n",
      "n_quantiles 10\n",
      "quantile_size 27\n",
      "len examples 278\n",
      "n_quantiles 10\n",
      "quantile_size 16\n",
      "len examples 168\n",
      "n_quantiles 10\n"
     ]
    },
    {
     "name": "stderr",
     "output_type": "stream",
     "text": [
      "Loading .model.layers.12: 319it [00:09, 44.49it/s]"
     ]
    },
    {
     "name": "stdout",
     "output_type": "stream",
     "text": [
      "quantile_size 89\n",
      "len examples 899\n",
      "n_quantiles 10\n",
      "quantile_size 16\n",
      "len examples 168\n",
      "n_quantiles 10\n",
      "quantile_size 36\n",
      "len examples 365\n",
      "n_quantiles 10\n",
      "quantile_size 18\n",
      "len examples 181\n",
      "n_quantiles 10\n",
      "quantile_size 38\n",
      "len examples 387\n",
      "n_quantiles 10\n"
     ]
    },
    {
     "name": "stderr",
     "output_type": "stream",
     "text": [
      "Loading .model.layers.12: 324it [00:09, 44.95it/s]"
     ]
    },
    {
     "name": "stdout",
     "output_type": "stream",
     "text": [
      "quantile_size 12\n",
      "len examples 127\n",
      "n_quantiles 10\n",
      "quantile_size 23\n",
      "len examples 230\n",
      "n_quantiles 10\n",
      "quantile_size 50\n",
      "len examples 504\n",
      "n_quantiles 10\n",
      "quantile_size 20\n",
      "len examples 209\n",
      "n_quantiles 10\n"
     ]
    },
    {
     "name": "stderr",
     "output_type": "stream",
     "text": [
      "Loading .model.layers.12: 329it [00:10, 30.36it/s]"
     ]
    },
    {
     "name": "stdout",
     "output_type": "stream",
     "text": [
      "quantile_size 51\n",
      "len examples 518\n",
      "n_quantiles 10\n"
     ]
    },
    {
     "name": "stderr",
     "output_type": "stream",
     "text": [
      "Loading .model.layers.12: 333it [00:10, 18.29it/s]"
     ]
    },
    {
     "name": "stdout",
     "output_type": "stream",
     "text": [
      "quantile_size 20\n",
      "len examples 202\n",
      "n_quantiles 10\n",
      "quantile_size 10\n",
      "len examples 101\n",
      "n_quantiles 10\n",
      "quantile_size 9\n",
      "len examples 97\n",
      "n_quantiles 10\n",
      "quantile_size 136\n",
      "len examples 1362\n",
      "n_quantiles 10\n"
     ]
    },
    {
     "name": "stderr",
     "output_type": "stream",
     "text": [
      "Loading .model.layers.12: 339it [00:11, 16.97it/s]"
     ]
    },
    {
     "name": "stdout",
     "output_type": "stream",
     "text": [
      "quantile_size 40\n",
      "len examples 407\n",
      "n_quantiles 10\n",
      "quantile_size 37\n",
      "len examples 371\n",
      "n_quantiles 10\n",
      "quantile_size 16\n",
      "len examples 166\n",
      "n_quantiles 10\n",
      "quantile_size 29\n",
      "len examples 290\n",
      "n_quantiles 10\n"
     ]
    },
    {
     "name": "stderr",
     "output_type": "stream",
     "text": [
      "Loading .model.layers.12: 346it [00:11, 22.14it/s]"
     ]
    },
    {
     "name": "stdout",
     "output_type": "stream",
     "text": [
      "quantile_size 56\n",
      "len examples 566\n",
      "n_quantiles 10\n",
      "quantile_size 18\n",
      "len examples 189\n",
      "n_quantiles 10\n",
      "quantile_size 10\n",
      "len examples 105\n",
      "n_quantiles 10\n",
      "quantile_size 36\n",
      "len examples 364\n",
      "n_quantiles 10\n",
      "quantile_size 43\n",
      "len examples 437\n",
      "n_quantiles 10\n"
     ]
    },
    {
     "name": "stderr",
     "output_type": "stream",
     "text": [
      "Loading .model.layers.12: 356it [00:11, 26.18it/s]"
     ]
    },
    {
     "name": "stdout",
     "output_type": "stream",
     "text": [
      "quantile_size 33\n",
      "len examples 332\n",
      "n_quantiles 10\n",
      "quantile_size 39\n",
      "len examples 390\n",
      "n_quantiles 10\n",
      "quantile_size 16\n",
      "len examples 167\n",
      "n_quantiles 10\n",
      "quantile_size 42\n",
      "len examples 427\n",
      "n_quantiles 10\n"
     ]
    },
    {
     "name": "stderr",
     "output_type": "stream",
     "text": [
      "Loading .model.layers.12: 364it [00:11, 26.08it/s]"
     ]
    },
    {
     "name": "stdout",
     "output_type": "stream",
     "text": [
      "quantile_size 16\n",
      "len examples 169\n",
      "n_quantiles 10\n",
      "quantile_size 10\n",
      "len examples 105\n",
      "n_quantiles 10\n",
      "quantile_size 23\n",
      "len examples 231\n",
      "n_quantiles 10\n",
      "quantile_size 18\n",
      "len examples 184\n",
      "n_quantiles 10\n",
      "quantile_size 10\n",
      "len examples 102\n",
      "n_quantiles 10\n",
      "quantile_size 58\n",
      "len examples 583\n",
      "n_quantiles 10\n"
     ]
    },
    {
     "name": "stderr",
     "output_type": "stream",
     "text": [
      "Loading .model.layers.12: 368it [00:12, 28.70it/s]"
     ]
    },
    {
     "name": "stdout",
     "output_type": "stream",
     "text": [
      "quantile_size 21\n",
      "len examples 215\n",
      "n_quantiles 10\n",
      "quantile_size 25\n",
      "len examples 250\n",
      "n_quantiles 10\n",
      "quantile_size 7\n",
      "len examples 71\n",
      "n_quantiles 10\n",
      "quantile_size 44\n",
      "len examples 441\n",
      "n_quantiles 10\n",
      "quantile_size 69\n",
      "len examples 697\n",
      "n_quantiles 10\n",
      "quantile_size 47\n",
      "len examples 477\n",
      "n_quantiles 10\n"
     ]
    },
    {
     "name": "stderr",
     "output_type": "stream",
     "text": [
      "Loading .model.layers.12: 377it [00:12, 28.64it/s]"
     ]
    },
    {
     "name": "stdout",
     "output_type": "stream",
     "text": [
      "quantile_size 114\n",
      "len examples 1149\n",
      "n_quantiles 10\n",
      "quantile_size 41\n",
      "len examples 414\n",
      "n_quantiles 10\n",
      "quantile_size 102\n",
      "len examples 1023\n",
      "n_quantiles 10\n",
      "quantile_size 88\n",
      "len examples 882\n",
      "n_quantiles 10\n"
     ]
    },
    {
     "name": "stderr",
     "output_type": "stream",
     "text": [
      "Loading .model.layers.12: 385it [00:12, 32.77it/s]"
     ]
    },
    {
     "name": "stdout",
     "output_type": "stream",
     "text": [
      "quantile_size 126\n",
      "len examples 1269\n",
      "n_quantiles 10\n",
      "quantile_size 14\n",
      "len examples 146\n",
      "n_quantiles 10\n",
      "quantile_size 40\n",
      "len examples 400\n",
      "n_quantiles 10\n",
      "quantile_size 33\n",
      "len examples 330\n",
      "n_quantiles 10\n",
      "quantile_size 107\n",
      "len examples 1077\n",
      "n_quantiles 10\n"
     ]
    },
    {
     "name": "stderr",
     "output_type": "stream",
     "text": [
      "Loading .model.layers.12: 396it [00:12, 35.59it/s]"
     ]
    },
    {
     "name": "stdout",
     "output_type": "stream",
     "text": [
      "quantile_size 77\n",
      "len examples 775\n",
      "n_quantiles 10\n",
      "quantile_size 22\n",
      "len examples 222\n",
      "n_quantiles 10\n",
      "quantile_size 19\n",
      "len examples 195\n",
      "n_quantiles 10\n",
      "quantile_size 26\n",
      "len examples 263\n",
      "n_quantiles 10\n",
      "quantile_size 254\n",
      "len examples 2542\n",
      "n_quantiles 10\n"
     ]
    },
    {
     "name": "stderr",
     "output_type": "stream",
     "text": [
      "Loading .model.layers.12: 409it [00:13, 42.08it/s]"
     ]
    },
    {
     "name": "stdout",
     "output_type": "stream",
     "text": [
      "quantile_size 103\n",
      "len examples 1038\n",
      "n_quantiles 10\n",
      "quantile_size 70\n",
      "len examples 703\n",
      "n_quantiles 10\n",
      "quantile_size 37\n",
      "len examples 372\n",
      "n_quantiles 10\n",
      "quantile_size 35\n",
      "len examples 355\n",
      "n_quantiles 10\n"
     ]
    },
    {
     "name": "stderr",
     "output_type": "stream",
     "text": [
      "Loading .model.layers.12: 414it [00:13, 43.41it/s]"
     ]
    },
    {
     "name": "stdout",
     "output_type": "stream",
     "text": [
      "quantile_size 30\n",
      "len examples 303\n",
      "n_quantiles 10\n",
      "quantile_size 14\n",
      "len examples 149\n",
      "n_quantiles 10\n",
      "quantile_size 27\n",
      "len examples 276\n",
      "n_quantiles 10\n",
      "quantile_size 39\n",
      "len examples 391\n",
      "n_quantiles 10\n",
      "quantile_size 15\n",
      "len examples 157\n",
      "n_quantiles 10\n",
      "quantile_size 9\n",
      "len examples 99\n",
      "n_quantiles 10\n"
     ]
    },
    {
     "name": "stderr",
     "output_type": "stream",
     "text": [
      "Loading .model.layers.12: 431it [00:13, 44.81it/s]"
     ]
    },
    {
     "name": "stdout",
     "output_type": "stream",
     "text": [
      "quantile_size 57\n",
      "len examples 577\n",
      "n_quantiles 10\n",
      "quantile_size 42\n",
      "len examples 423\n",
      "n_quantiles 10\n",
      "quantile_size 40\n",
      "len examples 401\n",
      "n_quantiles 10\n",
      "quantile_size 59\n",
      "len examples 597\n",
      "n_quantiles 10\n",
      "quantile_size 27\n",
      "len examples 276\n",
      "n_quantiles 10\n",
      "quantile_size 44\n",
      "len examples 441\n",
      "n_quantiles 10\n"
     ]
    },
    {
     "name": "stderr",
     "output_type": "stream",
     "text": [
      "Loading .model.layers.12: 441it [00:13, 40.11it/s]"
     ]
    },
    {
     "name": "stdout",
     "output_type": "stream",
     "text": [
      "quantile_size 63\n",
      "len examples 633\n",
      "n_quantiles 10\n",
      "quantile_size 23\n",
      "len examples 236\n",
      "n_quantiles 10\n",
      "quantile_size 16\n",
      "len examples 162\n",
      "n_quantiles 10\n",
      "quantile_size 21\n",
      "len examples 219\n",
      "n_quantiles 10\n",
      "quantile_size 57\n",
      "len examples 578\n",
      "n_quantiles 10\n"
     ]
    },
    {
     "name": "stderr",
     "output_type": "stream",
     "text": [
      "Loading .model.layers.12: 446it [00:14, 33.88it/s]"
     ]
    },
    {
     "name": "stdout",
     "output_type": "stream",
     "text": [
      "quantile_size 74\n",
      "len examples 740\n",
      "n_quantiles 10\n",
      "quantile_size 13\n",
      "len examples 135\n",
      "n_quantiles 10\n",
      "quantile_size 16\n",
      "len examples 166\n",
      "n_quantiles 10\n",
      "quantile_size 126\n",
      "len examples 1266\n",
      "n_quantiles 10\n",
      "quantile_size 27\n",
      "len examples 278\n",
      "n_quantiles 10\n",
      "quantile_size 21\n",
      "len examples 212\n",
      "n_quantiles 10\n",
      "quantile_size 31\n",
      "len examples 312\n",
      "n_quantiles 10\n"
     ]
    },
    {
     "name": "stderr",
     "output_type": "stream",
     "text": [
      "Loading .model.layers.12: 460it [00:14, 28.02it/s]"
     ]
    },
    {
     "name": "stdout",
     "output_type": "stream",
     "text": [
      "quantile_size 43\n",
      "len examples 430\n",
      "n_quantiles 10\n",
      "quantile_size 15\n",
      "len examples 158\n",
      "n_quantiles 10\n",
      "quantile_size 105\n",
      "len examples 1058\n",
      "n_quantiles 10\n",
      "quantile_size 34\n",
      "len examples 348\n",
      "n_quantiles 10\n",
      "quantile_size 36\n",
      "len examples 368\n",
      "n_quantiles 10\n",
      "quantile_size 74\n",
      "len examples 744\n",
      "n_quantiles 10\n",
      "quantile_size 13\n",
      "len examples 130\n",
      "n_quantiles 10\n",
      "quantile_size 65\n",
      "len examples 652\n",
      "n_quantiles 10\n"
     ]
    },
    {
     "name": "stderr",
     "output_type": "stream",
     "text": [
      "Loading .model.layers.12: 474it [00:15, 34.99it/s]"
     ]
    },
    {
     "name": "stdout",
     "output_type": "stream",
     "text": [
      "quantile_size 181\n",
      "len examples 1814\n",
      "n_quantiles 10\n",
      "quantile_size 6\n",
      "len examples 69\n",
      "n_quantiles 10\n",
      "quantile_size 98\n",
      "len examples 982\n",
      "n_quantiles 10\n",
      "quantile_size 16\n",
      "len examples 162\n",
      "n_quantiles 10\n",
      "quantile_size 21\n",
      "len examples 216\n",
      "n_quantiles 10\n",
      "quantile_size 128\n",
      "len examples 1289\n",
      "n_quantiles 10\n",
      "quantile_size 13\n",
      "len examples 134\n",
      "n_quantiles 10\n"
     ]
    },
    {
     "name": "stderr",
     "output_type": "stream",
     "text": [
      "Loading .model.layers.12: 482it [00:15, 22.07it/s]"
     ]
    },
    {
     "name": "stdout",
     "output_type": "stream",
     "text": [
      "quantile_size 223\n",
      "len examples 2231\n",
      "n_quantiles 10\n",
      "quantile_size 49\n",
      "len examples 496\n",
      "n_quantiles 10\n",
      "quantile_size 151\n",
      "len examples 1517\n",
      "n_quantiles 10\n",
      "quantile_size 41\n",
      "len examples 413\n",
      "n_quantiles 10\n",
      "quantile_size 22\n",
      "len examples 224\n",
      "n_quantiles 10\n",
      "quantile_size 21\n",
      "len examples 212\n",
      "n_quantiles 10\n"
     ]
    },
    {
     "name": "stderr",
     "output_type": "stream",
     "text": [
      "Loading .model.layers.12: 490it [00:15, 27.84it/s]"
     ]
    },
    {
     "name": "stdout",
     "output_type": "stream",
     "text": [
      "quantile_size 108\n",
      "len examples 1087\n",
      "n_quantiles 10\n",
      "quantile_size 28\n",
      "len examples 289\n",
      "n_quantiles 10\n",
      "quantile_size 19\n",
      "len examples 191\n",
      "n_quantiles 10\n",
      "quantile_size 22\n",
      "len examples 220\n",
      "n_quantiles 10\n"
     ]
    },
    {
     "name": "stderr",
     "output_type": "stream",
     "text": [
      "Loading .model.layers.12: 498it [00:16, 28.18it/s]"
     ]
    },
    {
     "name": "stdout",
     "output_type": "stream",
     "text": [
      "quantile_size 101\n",
      "len examples 1015\n",
      "n_quantiles 10\n",
      "quantile_size 41\n",
      "len examples 410\n",
      "n_quantiles 10\n",
      "quantile_size 11\n",
      "len examples 117\n",
      "n_quantiles 10\n",
      "quantile_size 40\n",
      "len examples 400\n",
      "n_quantiles 10\n",
      "quantile_size 44\n",
      "len examples 441\n",
      "n_quantiles 10\n"
     ]
    },
    {
     "name": "stderr",
     "output_type": "stream",
     "text": [
      "Loading .model.layers.12: 505it [00:16, 26.32it/s]"
     ]
    },
    {
     "name": "stdout",
     "output_type": "stream",
     "text": [
      "quantile_size 47\n",
      "len examples 473\n",
      "n_quantiles 10\n",
      "quantile_size 16\n",
      "len examples 163\n",
      "n_quantiles 10\n",
      "quantile_size 64\n",
      "len examples 643\n",
      "n_quantiles 10\n",
      "quantile_size 20\n",
      "len examples 206\n",
      "n_quantiles 10\n",
      "quantile_size 19\n",
      "len examples 195\n",
      "n_quantiles 10\n",
      "quantile_size 56\n",
      "len examples 567\n",
      "n_quantiles 10\n"
     ]
    },
    {
     "name": "stderr",
     "output_type": "stream",
     "text": [
      "Loading .model.layers.12: 512it [00:16, 30.07it/s]"
     ]
    },
    {
     "name": "stdout",
     "output_type": "stream",
     "text": [
      "quantile_size 64\n",
      "len examples 643\n",
      "n_quantiles 10\n",
      "quantile_size 25\n",
      "len examples 253\n",
      "n_quantiles 10\n",
      "quantile_size 27\n",
      "len examples 270\n",
      "n_quantiles 10\n",
      "quantile_size 23\n",
      "len examples 236\n",
      "n_quantiles 10\n",
      "quantile_size 42\n",
      "len examples 422\n",
      "n_quantiles 10\n"
     ]
    },
    {
     "name": "stderr",
     "output_type": "stream",
     "text": [
      "Loading .model.layers.12: 521it [00:16, 35.77it/s]"
     ]
    },
    {
     "name": "stdout",
     "output_type": "stream",
     "text": [
      "quantile_size 28\n",
      "len examples 282\n",
      "n_quantiles 10\n",
      "quantile_size 20\n",
      "len examples 205\n",
      "n_quantiles 10\n",
      "quantile_size 113\n",
      "len examples 1138\n",
      "n_quantiles 10\n",
      "quantile_size 73\n",
      "len examples 731\n",
      "n_quantiles 10\n",
      "quantile_size 34\n",
      "len examples 347\n",
      "n_quantiles 10\n"
     ]
    },
    {
     "name": "stderr",
     "output_type": "stream",
     "text": [
      "Loading .model.layers.12: 525it [00:17, 29.46it/s]"
     ]
    },
    {
     "name": "stdout",
     "output_type": "stream",
     "text": [
      "quantile_size 19\n",
      "len examples 193\n",
      "n_quantiles 10\n",
      "quantile_size 22\n",
      "len examples 228\n",
      "n_quantiles 10\n",
      "quantile_size 104\n",
      "len examples 1047\n",
      "n_quantiles 10\n",
      "quantile_size 52\n",
      "len examples 529\n",
      "n_quantiles 10\n",
      "quantile_size 33\n",
      "len examples 330\n",
      "n_quantiles 10\n"
     ]
    },
    {
     "name": "stderr",
     "output_type": "stream",
     "text": [
      "Loading .model.layers.12: 532it [00:17, 17.80it/s]"
     ]
    },
    {
     "name": "stdout",
     "output_type": "stream",
     "text": [
      "quantile_size 23\n",
      "len examples 238\n",
      "n_quantiles 10\n",
      "quantile_size 16\n",
      "len examples 168\n",
      "n_quantiles 10\n"
     ]
    },
    {
     "name": "stderr",
     "output_type": "stream",
     "text": [
      "Loading .model.layers.12: 541it [00:17, 26.27it/s]"
     ]
    },
    {
     "name": "stdout",
     "output_type": "stream",
     "text": [
      "quantile_size 22\n",
      "len examples 227\n",
      "n_quantiles 10\n",
      "quantile_size 31\n",
      "len examples 317\n",
      "n_quantiles 10\n",
      "quantile_size 11\n",
      "len examples 118\n",
      "n_quantiles 10\n",
      "quantile_size 87\n",
      "len examples 871\n",
      "n_quantiles 10\n"
     ]
    },
    {
     "name": "stderr",
     "output_type": "stream",
     "text": [
      "Loading .model.layers.12: 545it [00:18, 24.03it/s]"
     ]
    },
    {
     "name": "stdout",
     "output_type": "stream",
     "text": [
      "quantile_size 51\n",
      "len examples 510\n",
      "n_quantiles 10\n",
      "quantile_size 23\n",
      "len examples 235\n",
      "n_quantiles 10\n",
      "quantile_size 264\n",
      "len examples 2648\n",
      "n_quantiles 10\n"
     ]
    },
    {
     "name": "stderr",
     "output_type": "stream",
     "text": [
      "Loading .model.layers.12: 553it [00:18, 26.55it/s]"
     ]
    },
    {
     "name": "stdout",
     "output_type": "stream",
     "text": [
      "quantile_size 33\n",
      "len examples 330\n",
      "n_quantiles 10\n",
      "quantile_size 36\n",
      "len examples 362\n",
      "n_quantiles 10\n",
      "quantile_size 32\n",
      "len examples 329\n",
      "n_quantiles 10\n",
      "quantile_size 16\n",
      "len examples 168\n",
      "n_quantiles 10\n"
     ]
    },
    {
     "name": "stderr",
     "output_type": "stream",
     "text": [
      "Loading .model.layers.12: 564it [00:18, 30.55it/s]"
     ]
    },
    {
     "name": "stdout",
     "output_type": "stream",
     "text": [
      "quantile_size 15\n",
      "len examples 156\n",
      "n_quantiles 10\n",
      "quantile_size 25\n",
      "len examples 251\n",
      "n_quantiles 10\n",
      "quantile_size 40\n",
      "len examples 407\n",
      "n_quantiles 10\n"
     ]
    },
    {
     "name": "stderr",
     "output_type": "stream",
     "text": [
      "Loading .model.layers.12: 573it [00:18, 30.34it/s]"
     ]
    },
    {
     "name": "stdout",
     "output_type": "stream",
     "text": [
      "quantile_size 17\n",
      "len examples 172\n",
      "n_quantiles 10\n",
      "quantile_size 193\n",
      "len examples 1933\n",
      "n_quantiles 10\n",
      "quantile_size 89\n",
      "len examples 895\n",
      "n_quantiles 10\n"
     ]
    },
    {
     "name": "stderr",
     "output_type": "stream",
     "text": [
      "Loading .model.layers.12: 577it [00:19, 32.40it/s]"
     ]
    },
    {
     "name": "stdout",
     "output_type": "stream",
     "text": [
      "quantile_size 20\n",
      "len examples 207\n",
      "n_quantiles 10\n",
      "quantile_size 22\n",
      "len examples 226\n",
      "n_quantiles 10\n",
      "quantile_size 16\n",
      "len examples 161\n",
      "n_quantiles 10\n",
      "quantile_size 44\n",
      "len examples 440\n",
      "n_quantiles 10\n"
     ]
    },
    {
     "name": "stderr",
     "output_type": "stream",
     "text": [
      "Loading .model.layers.12: 581it [00:19, 33.19it/s]"
     ]
    },
    {
     "name": "stdout",
     "output_type": "stream",
     "text": [
      "quantile_size 99\n",
      "len examples 996\n",
      "n_quantiles 10\n",
      "quantile_size 49\n",
      "len examples 496\n",
      "n_quantiles 10\n",
      "quantile_size 18\n",
      "len examples 183\n",
      "n_quantiles 10\n",
      "quantile_size 30\n",
      "len examples 304\n",
      "n_quantiles 10\n"
     ]
    },
    {
     "name": "stderr",
     "output_type": "stream",
     "text": [
      "Loading .model.layers.12: 585it [00:20,  9.34it/s]"
     ]
    },
    {
     "name": "stdout",
     "output_type": "stream",
     "text": [
      "quantile_size 32\n",
      "len examples 327\n",
      "n_quantiles 10\n",
      "quantile_size 18\n",
      "len examples 186\n",
      "n_quantiles 10\n"
     ]
    },
    {
     "name": "stderr",
     "output_type": "stream",
     "text": [
      "Loading .model.layers.12: 590it [00:21,  7.64it/s]"
     ]
    },
    {
     "name": "stdout",
     "output_type": "stream",
     "text": [
      "quantile_size 15\n",
      "len examples 159\n",
      "n_quantiles 10\n"
     ]
    },
    {
     "name": "stderr",
     "output_type": "stream",
     "text": [
      "Loading .model.layers.12: 592it [00:21,  8.03it/s]"
     ]
    },
    {
     "name": "stdout",
     "output_type": "stream",
     "text": [
      "quantile_size 24\n",
      "len examples 240\n",
      "n_quantiles 10\n"
     ]
    },
    {
     "name": "stderr",
     "output_type": "stream",
     "text": [
      "Loading .model.layers.12: 594it [00:21,  8.30it/s]"
     ]
    },
    {
     "name": "stdout",
     "output_type": "stream",
     "text": [
      "quantile_size 21\n",
      "len examples 213\n",
      "n_quantiles 10\n"
     ]
    },
    {
     "name": "stderr",
     "output_type": "stream",
     "text": [
      "Loading .model.layers.12: 596it [00:22,  7.23it/s]"
     ]
    },
    {
     "name": "stdout",
     "output_type": "stream",
     "text": [
      "quantile_size 171\n",
      "len examples 1718\n",
      "n_quantiles 10\n",
      "quantile_size 96\n",
      "len examples 964\n",
      "n_quantiles 10\n"
     ]
    },
    {
     "name": "stderr",
     "output_type": "stream",
     "text": [
      "Loading .model.layers.12: 602it [00:22, 11.79it/s]"
     ]
    },
    {
     "name": "stdout",
     "output_type": "stream",
     "text": [
      "quantile_size 48\n",
      "len examples 489\n",
      "n_quantiles 10\n",
      "quantile_size 14\n",
      "len examples 142\n",
      "n_quantiles 10\n",
      "quantile_size 47\n",
      "len examples 475\n",
      "n_quantiles 10\n"
     ]
    },
    {
     "name": "stderr",
     "output_type": "stream",
     "text": [
      "Loading .model.layers.12: 604it [00:23,  4.85it/s]"
     ]
    },
    {
     "name": "stdout",
     "output_type": "stream",
     "text": [
      "quantile_size 12\n",
      "len examples 123\n",
      "n_quantiles 10\n"
     ]
    },
    {
     "name": "stderr",
     "output_type": "stream",
     "text": [
      "Loading .model.layers.12: 606it [00:23,  5.21it/s]"
     ]
    },
    {
     "name": "stdout",
     "output_type": "stream",
     "text": [
      "quantile_size 9\n",
      "len examples 98\n",
      "n_quantiles 10\n",
      "quantile_size 15\n",
      "len examples 153\n",
      "n_quantiles 10\n"
     ]
    },
    {
     "name": "stderr",
     "output_type": "stream",
     "text": [
      "Loading .model.layers.12: 609it [00:24,  4.89it/s]"
     ]
    },
    {
     "name": "stdout",
     "output_type": "stream",
     "text": [
      "quantile_size 25\n",
      "len examples 251\n",
      "n_quantiles 10\n"
     ]
    },
    {
     "name": "stderr",
     "output_type": "stream",
     "text": [
      "Loading .model.layers.12: 612it [00:24,  7.18it/s]"
     ]
    },
    {
     "name": "stdout",
     "output_type": "stream",
     "text": [
      "quantile_size 35\n",
      "len examples 357\n",
      "n_quantiles 10\n",
      "quantile_size 98\n",
      "len examples 980\n",
      "n_quantiles 10\n"
     ]
    },
    {
     "name": "stderr",
     "output_type": "stream",
     "text": [
      "Loading .model.layers.12: 616it [00:25,  9.48it/s]"
     ]
    },
    {
     "name": "stdout",
     "output_type": "stream",
     "text": [
      "quantile_size 24\n",
      "len examples 241\n",
      "n_quantiles 10\n",
      "quantile_size 32\n",
      "len examples 325\n",
      "n_quantiles 10\n",
      "quantile_size 49\n",
      "len examples 497\n",
      "n_quantiles 10\n",
      "quantile_size 292\n",
      "len examples 2929\n",
      "n_quantiles 10\n"
     ]
    },
    {
     "name": "stderr",
     "output_type": "stream",
     "text": [
      "Loading .model.layers.12: 627it [00:25, 24.16it/s]"
     ]
    },
    {
     "name": "stdout",
     "output_type": "stream",
     "text": [
      "quantile_size 19\n",
      "len examples 190\n",
      "n_quantiles 10\n",
      "quantile_size 58\n",
      "len examples 583\n",
      "n_quantiles 10\n",
      "quantile_size 138\n",
      "len examples 1389\n",
      "n_quantiles 10\n",
      "quantile_size 204\n",
      "len examples 2046\n",
      "n_quantiles 10\n",
      "quantile_size 24\n",
      "len examples 243\n",
      "n_quantiles 10\n"
     ]
    },
    {
     "name": "stderr",
     "output_type": "stream",
     "text": [
      "Loading .model.layers.12: 631it [00:25, 22.95it/s]"
     ]
    },
    {
     "name": "stdout",
     "output_type": "stream",
     "text": [
      "quantile_size 55\n",
      "len examples 558\n",
      "n_quantiles 10\n",
      "quantile_size 47\n",
      "len examples 470\n",
      "n_quantiles 10\n"
     ]
    },
    {
     "name": "stderr",
     "output_type": "stream",
     "text": [
      "Loading .model.layers.12: 642it [00:25, 24.25it/s]"
     ]
    },
    {
     "name": "stdout",
     "output_type": "stream",
     "text": [
      "quantile_size 18\n",
      "len examples 186\n",
      "n_quantiles 10\n",
      "quantile_size 20\n",
      "len examples 204\n",
      "n_quantiles 10\n",
      "quantile_size 39\n",
      "len examples 396\n",
      "n_quantiles 10\n",
      "quantile_size 7\n",
      "len examples 76\n",
      "n_quantiles 10\n",
      "quantile_size 14\n",
      "len examples 143\n",
      "n_quantiles 10\n",
      "quantile_size 20\n",
      "len examples 209\n",
      "n_quantiles 10\n",
      "quantile_size 34\n",
      "len examples 344\n",
      "n_quantiles 10\n"
     ]
    },
    {
     "name": "stderr",
     "output_type": "stream",
     "text": [
      "Loading .model.layers.12: 654it [00:26, 37.32it/s]"
     ]
    },
    {
     "name": "stdout",
     "output_type": "stream",
     "text": [
      "quantile_size 53\n",
      "len examples 538\n",
      "n_quantiles 10\n",
      "quantile_size 25\n",
      "len examples 250\n",
      "n_quantiles 10\n",
      "quantile_size 56\n",
      "len examples 568\n",
      "n_quantiles 10\n",
      "quantile_size 16\n",
      "len examples 166\n",
      "n_quantiles 10\n"
     ]
    },
    {
     "name": "stderr",
     "output_type": "stream",
     "text": [
      "Loading .model.layers.12: 659it [00:26, 39.82it/s]"
     ]
    },
    {
     "name": "stdout",
     "output_type": "stream",
     "text": [
      "quantile_size 80\n",
      "len examples 802\n",
      "n_quantiles 10\n",
      "quantile_size 66\n",
      "len examples 664\n",
      "n_quantiles 10\n",
      "quantile_size 192\n",
      "len examples 1929\n",
      "n_quantiles 10\n",
      "quantile_size 81\n",
      "len examples 814\n",
      "n_quantiles 10\n"
     ]
    },
    {
     "name": "stderr",
     "output_type": "stream",
     "text": [
      "Loading .model.layers.12: 670it [00:26, 39.69it/s]"
     ]
    },
    {
     "name": "stdout",
     "output_type": "stream",
     "text": [
      "quantile_size 47\n",
      "len examples 472\n",
      "n_quantiles 10\n",
      "quantile_size 47\n",
      "len examples 474\n",
      "n_quantiles 10\n",
      "quantile_size 17\n",
      "len examples 178\n",
      "n_quantiles 10\n",
      "quantile_size 63\n",
      "len examples 639\n",
      "n_quantiles 10\n",
      "quantile_size 27\n",
      "len examples 277\n",
      "n_quantiles 10\n",
      "quantile_size 40\n",
      "len examples 407\n",
      "n_quantiles 10\n"
     ]
    },
    {
     "name": "stderr",
     "output_type": "stream",
     "text": [
      "Loading .model.layers.12: 680it [00:26, 31.41it/s]"
     ]
    },
    {
     "name": "stdout",
     "output_type": "stream",
     "text": [
      "quantile_size 79\n",
      "len examples 790\n",
      "n_quantiles 10\n",
      "quantile_size 16\n",
      "len examples 168\n",
      "n_quantiles 10\n",
      "quantile_size 28\n",
      "len examples 281\n",
      "n_quantiles 10\n",
      "quantile_size 19\n",
      "len examples 192\n",
      "n_quantiles 10\n",
      "quantile_size 18\n",
      "len examples 189\n",
      "n_quantiles 10\n",
      "quantile_size 20\n",
      "len examples 201\n",
      "n_quantiles 10\n"
     ]
    },
    {
     "name": "stderr",
     "output_type": "stream",
     "text": [
      "Loading .model.layers.12: 688it [00:27, 33.77it/s]"
     ]
    },
    {
     "name": "stdout",
     "output_type": "stream",
     "text": [
      "quantile_size 44\n",
      "len examples 440\n",
      "n_quantiles 10\n",
      "quantile_size 25\n",
      "len examples 259\n",
      "n_quantiles 10\n",
      "quantile_size 158\n",
      "len examples 1580\n",
      "n_quantiles 10\n",
      "quantile_size 15\n",
      "len examples 156\n",
      "n_quantiles 10\n",
      "quantile_size 14\n",
      "len examples 148\n",
      "n_quantiles 10\n",
      "quantile_size 32\n",
      "len examples 323\n",
      "n_quantiles 10\n",
      "quantile_size 11\n",
      "len examples 114\n",
      "n_quantiles 10\n"
     ]
    },
    {
     "name": "stderr",
     "output_type": "stream",
     "text": [
      "Loading .model.layers.12: 703it [00:27, 43.96it/s]"
     ]
    },
    {
     "name": "stdout",
     "output_type": "stream",
     "text": [
      "quantile_size 39\n",
      "len examples 397\n",
      "n_quantiles 10\n",
      "quantile_size 23\n",
      "len examples 234\n",
      "n_quantiles 10\n",
      "quantile_size 15\n",
      "len examples 159\n",
      "n_quantiles 10\n",
      "quantile_size 57\n",
      "len examples 577\n",
      "n_quantiles 10\n",
      "quantile_size 34\n",
      "len examples 345\n",
      "n_quantiles 10\n"
     ]
    },
    {
     "name": "stderr",
     "output_type": "stream",
     "text": [
      "Loading .model.layers.12: 708it [00:27, 45.12it/s]"
     ]
    },
    {
     "name": "stdout",
     "output_type": "stream",
     "text": [
      "quantile_size 32\n",
      "len examples 325\n",
      "n_quantiles 10\n",
      "quantile_size 56\n",
      "len examples 563\n",
      "n_quantiles 10\n",
      "quantile_size 34\n",
      "len examples 341\n",
      "n_quantiles 10\n",
      "quantile_size 110\n",
      "len examples 1107\n",
      "n_quantiles 10\n"
     ]
    },
    {
     "name": "stderr",
     "output_type": "stream",
     "text": [
      "Loading .model.layers.12: 713it [00:27, 37.12it/s]"
     ]
    },
    {
     "name": "stdout",
     "output_type": "stream",
     "text": [
      "quantile_size 235\n",
      "len examples 2354\n",
      "n_quantiles 10\n",
      "quantile_size 22\n",
      "len examples 224\n",
      "n_quantiles 10\n",
      "quantile_size 41\n",
      "len examples 419\n",
      "n_quantiles 10\n",
      "quantile_size 30\n",
      "len examples 304\n",
      "n_quantiles 10\n",
      "quantile_size 45\n",
      "len examples 459\n",
      "n_quantiles 10\n"
     ]
    },
    {
     "name": "stderr",
     "output_type": "stream",
     "text": [
      "Loading .model.layers.12: 722it [00:28, 34.13it/s]"
     ]
    },
    {
     "name": "stdout",
     "output_type": "stream",
     "text": [
      "quantile_size 92\n",
      "len examples 925\n",
      "n_quantiles 10\n",
      "quantile_size 47\n",
      "len examples 474\n",
      "n_quantiles 10\n",
      "quantile_size 44\n",
      "len examples 446\n",
      "n_quantiles 10\n",
      "quantile_size 24\n",
      "len examples 242\n",
      "n_quantiles 10\n"
     ]
    },
    {
     "name": "stderr",
     "output_type": "stream",
     "text": [
      "Loading .model.layers.12: 735it [00:28, 46.97it/s]"
     ]
    },
    {
     "name": "stdout",
     "output_type": "stream",
     "text": [
      "quantile_size 38\n",
      "len examples 385\n",
      "n_quantiles 10\n",
      "quantile_size 8\n",
      "len examples 84\n",
      "n_quantiles 10\n",
      "quantile_size 21\n",
      "len examples 213\n",
      "n_quantiles 10\n",
      "quantile_size 36\n",
      "len examples 361\n",
      "n_quantiles 10\n",
      "quantile_size 28\n",
      "len examples 287\n",
      "n_quantiles 10\n",
      "quantile_size 45\n",
      "len examples 457\n",
      "n_quantiles 10\n"
     ]
    },
    {
     "name": "stderr",
     "output_type": "stream",
     "text": [
      "Loading .model.layers.12: 746it [00:28, 42.47it/s]"
     ]
    },
    {
     "name": "stdout",
     "output_type": "stream",
     "text": [
      "quantile_size 12\n",
      "len examples 122\n",
      "n_quantiles 10\n",
      "quantile_size 25\n",
      "len examples 258\n",
      "n_quantiles 10\n",
      "quantile_size 27\n",
      "len examples 271\n",
      "n_quantiles 10\n",
      "quantile_size 34\n",
      "len examples 345\n",
      "n_quantiles 10\n",
      "quantile_size 5\n",
      "len examples 56\n",
      "n_quantiles 10\n",
      "quantile_size 34\n",
      "len examples 347\n",
      "n_quantiles 10\n"
     ]
    },
    {
     "name": "stderr",
     "output_type": "stream",
     "text": [
      "Loading .model.layers.12: 752it [00:28, 46.73it/s]"
     ]
    },
    {
     "name": "stdout",
     "output_type": "stream",
     "text": [
      "quantile_size 27\n",
      "len examples 273\n",
      "n_quantiles 10\n",
      "quantile_size 27\n",
      "len examples 274\n",
      "n_quantiles 10\n",
      "quantile_size 21\n",
      "len examples 214\n",
      "n_quantiles 10\n",
      "quantile_size 23\n",
      "len examples 231\n",
      "n_quantiles 10\n",
      "quantile_size 20\n",
      "len examples 204\n",
      "n_quantiles 10\n",
      "quantile_size 10\n",
      "len examples 106\n",
      "n_quantiles 10\n"
     ]
    },
    {
     "name": "stderr",
     "output_type": "stream",
     "text": [
      "Loading .model.layers.12: 768it [00:29, 43.88it/s]"
     ]
    },
    {
     "name": "stdout",
     "output_type": "stream",
     "text": [
      "quantile_size 85\n",
      "len examples 857\n",
      "n_quantiles 10\n",
      "quantile_size 50\n",
      "len examples 507\n",
      "n_quantiles 10\n",
      "quantile_size 44\n",
      "len examples 441\n",
      "n_quantiles 10\n",
      "quantile_size 32\n",
      "len examples 323\n",
      "n_quantiles 10\n",
      "quantile_size 18\n",
      "len examples 183\n",
      "n_quantiles 10\n"
     ]
    },
    {
     "name": "stderr",
     "output_type": "stream",
     "text": [
      "Loading .model.layers.12: 773it [00:29, 44.89it/s]"
     ]
    },
    {
     "name": "stdout",
     "output_type": "stream",
     "text": [
      "quantile_size 131\n",
      "len examples 1317\n",
      "n_quantiles 10\n",
      "quantile_size 21\n",
      "len examples 211\n",
      "n_quantiles 10\n",
      "quantile_size 25\n",
      "len examples 250\n",
      "n_quantiles 10\n",
      "quantile_size 16\n",
      "len examples 161\n",
      "n_quantiles 10\n",
      "quantile_size 19\n",
      "len examples 199\n",
      "n_quantiles 10\n",
      "quantile_size 30\n",
      "len examples 305\n",
      "n_quantiles 10\n"
     ]
    },
    {
     "name": "stderr",
     "output_type": "stream",
     "text": [
      "Loading .model.layers.12: 783it [00:29, 32.49it/s]"
     ]
    },
    {
     "name": "stdout",
     "output_type": "stream",
     "text": [
      "quantile_size 63\n",
      "len examples 638\n",
      "n_quantiles 10\n",
      "quantile_size 25\n",
      "len examples 259\n",
      "n_quantiles 10\n",
      "quantile_size 53\n",
      "len examples 531\n",
      "n_quantiles 10\n",
      "quantile_size 56\n",
      "len examples 562\n",
      "n_quantiles 10\n",
      "quantile_size 20\n",
      "len examples 206\n",
      "n_quantiles 10\n",
      "quantile_size 20\n",
      "len examples 202\n",
      "n_quantiles 10\n"
     ]
    },
    {
     "name": "stderr",
     "output_type": "stream",
     "text": [
      "Loading .model.layers.12: 789it [00:29, 38.11it/s]"
     ]
    },
    {
     "name": "stdout",
     "output_type": "stream",
     "text": [
      "quantile_size 31\n",
      "len examples 313\n",
      "n_quantiles 10\n",
      "quantile_size 87\n",
      "len examples 870\n",
      "n_quantiles 10\n",
      "quantile_size 59\n",
      "len examples 598\n",
      "n_quantiles 10\n",
      "quantile_size 32\n",
      "len examples 326\n",
      "n_quantiles 10\n"
     ]
    },
    {
     "name": "stderr",
     "output_type": "stream",
     "text": [
      "Loading .model.layers.12: 804it [00:29, 47.44it/s]"
     ]
    },
    {
     "name": "stdout",
     "output_type": "stream",
     "text": [
      "quantile_size 100\n",
      "len examples 1005\n",
      "n_quantiles 10\n",
      "quantile_size 52\n",
      "len examples 523\n",
      "n_quantiles 10\n",
      "quantile_size 17\n",
      "len examples 179\n",
      "n_quantiles 10\n",
      "quantile_size 21\n",
      "len examples 212\n",
      "n_quantiles 10\n",
      "quantile_size 55\n",
      "len examples 559\n",
      "n_quantiles 10\n",
      "quantile_size 207\n",
      "len examples 2078\n",
      "n_quantiles 10\n"
     ]
    },
    {
     "name": "stderr",
     "output_type": "stream",
     "text": [
      "Loading .model.layers.12: 810it [00:30, 49.72it/s]"
     ]
    },
    {
     "name": "stdout",
     "output_type": "stream",
     "text": [
      "quantile_size 47\n",
      "len examples 478\n",
      "n_quantiles 10\n",
      "quantile_size 20\n",
      "len examples 209\n",
      "n_quantiles 10\n",
      "quantile_size 24\n",
      "len examples 249\n",
      "n_quantiles 10\n",
      "quantile_size 18\n",
      "len examples 184\n",
      "n_quantiles 10\n",
      "quantile_size 25\n",
      "len examples 254\n",
      "n_quantiles 10\n"
     ]
    },
    {
     "name": "stderr",
     "output_type": "stream",
     "text": [
      "Loading .model.layers.12: 816it [00:30, 42.07it/s]"
     ]
    },
    {
     "name": "stdout",
     "output_type": "stream",
     "text": [
      "quantile_size 24\n",
      "len examples 243\n",
      "n_quantiles 10\n",
      "quantile_size 20\n",
      "len examples 202\n",
      "n_quantiles 10\n",
      "quantile_size 14\n",
      "len examples 143\n",
      "n_quantiles 10\n"
     ]
    },
    {
     "name": "stderr",
     "output_type": "stream",
     "text": [
      "Loading .model.layers.12: 821it [00:30, 30.26it/s]"
     ]
    },
    {
     "name": "stdout",
     "output_type": "stream",
     "text": [
      "quantile_size 264\n",
      "len examples 2642\n",
      "n_quantiles 10\n",
      "quantile_size 50\n",
      "len examples 503\n",
      "n_quantiles 10\n",
      "quantile_size 51\n",
      "len examples 512\n",
      "n_quantiles 10\n",
      "quantile_size 69\n",
      "len examples 693\n",
      "n_quantiles 10\n",
      "quantile_size 49\n",
      "len examples 493\n",
      "n_quantiles 10\n"
     ]
    },
    {
     "name": "stderr",
     "output_type": "stream",
     "text": [
      "Loading .model.layers.12: 830it [00:30, 26.85it/s]"
     ]
    },
    {
     "name": "stdout",
     "output_type": "stream",
     "text": [
      "quantile_size 38\n",
      "len examples 388\n",
      "n_quantiles 10\n",
      "quantile_size 8\n",
      "len examples 83\n",
      "n_quantiles 10\n",
      "quantile_size 47\n",
      "len examples 475\n",
      "n_quantiles 10\n",
      "quantile_size 23\n",
      "len examples 234\n",
      "n_quantiles 10\n"
     ]
    },
    {
     "name": "stderr",
     "output_type": "stream",
     "text": [
      "Loading .model.layers.12: 839it [00:31, 32.84it/s]"
     ]
    },
    {
     "name": "stdout",
     "output_type": "stream",
     "text": [
      "quantile_size 118\n",
      "len examples 1186\n",
      "n_quantiles 10\n",
      "quantile_size 79\n",
      "len examples 792\n",
      "n_quantiles 10\n",
      "quantile_size 109\n",
      "len examples 1091\n",
      "n_quantiles 10\n",
      "quantile_size 57\n",
      "len examples 571\n",
      "n_quantiles 10\n"
     ]
    },
    {
     "name": "stderr",
     "output_type": "stream",
     "text": [
      "Loading .model.layers.12: 848it [00:31, 27.59it/s]"
     ]
    },
    {
     "name": "stdout",
     "output_type": "stream",
     "text": [
      "quantile_size 190\n",
      "len examples 1900\n",
      "n_quantiles 10\n",
      "quantile_size 106\n",
      "len examples 1067\n",
      "n_quantiles 10\n",
      "quantile_size 21\n",
      "len examples 216\n",
      "n_quantiles 10\n",
      "quantile_size 18\n",
      "len examples 184\n",
      "n_quantiles 10\n",
      "quantile_size 56\n",
      "len examples 569\n",
      "n_quantiles 10\n",
      "quantile_size 12\n",
      "len examples 128\n",
      "n_quantiles 10\n"
     ]
    },
    {
     "name": "stderr",
     "output_type": "stream",
     "text": [
      "Loading .model.layers.12: 857it [00:31, 34.37it/s]"
     ]
    },
    {
     "name": "stdout",
     "output_type": "stream",
     "text": [
      "quantile_size 67\n",
      "len examples 671\n",
      "n_quantiles 10\n",
      "quantile_size 33\n",
      "len examples 337\n",
      "n_quantiles 10\n",
      "quantile_size 26\n",
      "len examples 260\n",
      "n_quantiles 10\n",
      "quantile_size 23\n",
      "len examples 233\n",
      "n_quantiles 10\n",
      "quantile_size 52\n",
      "len examples 523\n",
      "n_quantiles 10\n"
     ]
    },
    {
     "name": "stderr",
     "output_type": "stream",
     "text": [
      "Loading .model.layers.12: 865it [00:31, 36.43it/s]"
     ]
    },
    {
     "name": "stdout",
     "output_type": "stream",
     "text": [
      "quantile_size 43\n",
      "len examples 437\n",
      "n_quantiles 10\n",
      "quantile_size 35\n",
      "len examples 355\n",
      "n_quantiles 10\n",
      "quantile_size 16\n",
      "len examples 168\n",
      "n_quantiles 10\n",
      "quantile_size 11\n",
      "len examples 119\n",
      "n_quantiles 10\n",
      "quantile_size 25\n",
      "len examples 258\n",
      "n_quantiles 10\n"
     ]
    },
    {
     "name": "stderr",
     "output_type": "stream",
     "text": [
      "Loading .model.layers.12: 873it [00:32, 31.83it/s]"
     ]
    },
    {
     "name": "stdout",
     "output_type": "stream",
     "text": [
      "quantile_size 41\n",
      "len examples 414\n",
      "n_quantiles 10\n",
      "quantile_size 70\n",
      "len examples 702\n",
      "n_quantiles 10\n",
      "quantile_size 40\n",
      "len examples 404\n",
      "n_quantiles 10\n",
      "quantile_size 47\n",
      "len examples 474\n",
      "n_quantiles 10\n",
      "quantile_size 44\n",
      "len examples 446\n",
      "n_quantiles 10\n"
     ]
    },
    {
     "name": "stderr",
     "output_type": "stream",
     "text": [
      "Loading .model.layers.12: 877it [00:32, 27.21it/s]"
     ]
    },
    {
     "name": "stdout",
     "output_type": "stream",
     "text": [
      "quantile_size 21\n",
      "len examples 216\n",
      "n_quantiles 10\n",
      "quantile_size 29\n",
      "len examples 298\n",
      "n_quantiles 10\n",
      "quantile_size 26\n",
      "len examples 268\n",
      "n_quantiles 10\n",
      "quantile_size 54\n",
      "len examples 549\n",
      "n_quantiles 10\n",
      "quantile_size 92\n",
      "len examples 929\n",
      "n_quantiles 10\n"
     ]
    },
    {
     "name": "stderr",
     "output_type": "stream",
     "text": [
      "Loading .model.layers.12: 881it [00:32, 24.87it/s]"
     ]
    },
    {
     "name": "stdout",
     "output_type": "stream",
     "text": [
      "quantile_size 28\n",
      "len examples 285\n",
      "n_quantiles 10\n",
      "quantile_size 35\n",
      "len examples 355\n",
      "n_quantiles 10\n"
     ]
    },
    {
     "name": "stderr",
     "output_type": "stream",
     "text": [
      "Loading .model.layers.12: 888it [00:32, 24.69it/s]"
     ]
    },
    {
     "name": "stdout",
     "output_type": "stream",
     "text": [
      "quantile_size 57\n",
      "len examples 576\n",
      "n_quantiles 10\n",
      "quantile_size 27\n",
      "len examples 278\n",
      "n_quantiles 10\n",
      "quantile_size 89\n",
      "len examples 891\n",
      "n_quantiles 10\n"
     ]
    },
    {
     "name": "stderr",
     "output_type": "stream",
     "text": [
      "Loading .model.layers.12: 891it [00:33, 18.27it/s]"
     ]
    },
    {
     "name": "stdout",
     "output_type": "stream",
     "text": [
      "quantile_size 22\n",
      "len examples 226\n",
      "n_quantiles 10\n",
      "quantile_size 17\n",
      "len examples 178\n",
      "n_quantiles 10\n",
      "quantile_size 40\n",
      "len examples 405\n",
      "n_quantiles 10\n"
     ]
    },
    {
     "name": "stderr",
     "output_type": "stream",
     "text": [
      "Loading .model.layers.12: 896it [00:33, 12.74it/s]"
     ]
    },
    {
     "name": "stdout",
     "output_type": "stream",
     "text": [
      "quantile_size 18\n",
      "len examples 181\n",
      "n_quantiles 10\n"
     ]
    },
    {
     "name": "stderr",
     "output_type": "stream",
     "text": [
      "Loading .model.layers.12: 898it [00:34,  6.63it/s]"
     ]
    },
    {
     "name": "stdout",
     "output_type": "stream",
     "text": [
      "quantile_size 24\n",
      "len examples 246\n",
      "n_quantiles 10\n"
     ]
    },
    {
     "name": "stderr",
     "output_type": "stream",
     "text": [
      "Loading .model.layers.12: 900it [00:35,  5.09it/s]"
     ]
    },
    {
     "name": "stdout",
     "output_type": "stream",
     "text": [
      "quantile_size 28\n",
      "len examples 289\n",
      "n_quantiles 10\n"
     ]
    },
    {
     "name": "stderr",
     "output_type": "stream",
     "text": [
      "Loading .model.layers.12: 904it [00:35,  6.58it/s]"
     ]
    },
    {
     "name": "stdout",
     "output_type": "stream",
     "text": [
      "quantile_size 15\n",
      "len examples 155\n",
      "n_quantiles 10\n",
      "quantile_size 19\n",
      "len examples 192\n",
      "n_quantiles 10\n"
     ]
    },
    {
     "name": "stderr",
     "output_type": "stream",
     "text": [
      "Loading .model.layers.12: 911it [00:36,  9.72it/s]"
     ]
    },
    {
     "name": "stdout",
     "output_type": "stream",
     "text": [
      "quantile_size 30\n",
      "len examples 300\n",
      "n_quantiles 10\n",
      "quantile_size 28\n",
      "len examples 280\n",
      "n_quantiles 10\n",
      "quantile_size 68\n",
      "len examples 681\n",
      "n_quantiles 10\n",
      "quantile_size 42\n",
      "len examples 421\n",
      "n_quantiles 10\n",
      "quantile_size 62\n",
      "len examples 625\n",
      "n_quantiles 10\n"
     ]
    },
    {
     "name": "stderr",
     "output_type": "stream",
     "text": [
      "Loading .model.layers.12: 915it [00:37,  6.94it/s]"
     ]
    },
    {
     "name": "stdout",
     "output_type": "stream",
     "text": [
      "quantile_size 17\n",
      "len examples 177\n",
      "n_quantiles 10\n",
      "quantile_size 20\n",
      "len examples 208\n",
      "n_quantiles 10\n",
      "quantile_size 180\n",
      "len examples 1803\n",
      "n_quantiles 10\n"
     ]
    },
    {
     "name": "stderr",
     "output_type": "stream",
     "text": [
      "Loading .model.layers.12: 917it [00:37,  8.29it/s]"
     ]
    },
    {
     "name": "stdout",
     "output_type": "stream",
     "text": [
      "quantile_size 78\n",
      "len examples 789\n",
      "n_quantiles 10\n",
      "quantile_size 12\n",
      "len examples 127\n",
      "n_quantiles 10\n"
     ]
    },
    {
     "name": "stderr",
     "output_type": "stream",
     "text": [
      "Loading .model.layers.12: 921it [00:37,  9.38it/s]"
     ]
    },
    {
     "name": "stdout",
     "output_type": "stream",
     "text": [
      "quantile_size 46\n",
      "len examples 462\n",
      "n_quantiles 10\n",
      "quantile_size 32\n",
      "len examples 328\n",
      "n_quantiles 10\n",
      "quantile_size 6\n",
      "len examples 64\n",
      "n_quantiles 10\n"
     ]
    },
    {
     "name": "stderr",
     "output_type": "stream",
     "text": [
      "Loading .model.layers.12: 926it [00:38, 12.87it/s]"
     ]
    },
    {
     "name": "stdout",
     "output_type": "stream",
     "text": [
      "quantile_size 48\n",
      "len examples 481\n",
      "n_quantiles 10\n",
      "quantile_size 18\n",
      "len examples 180\n",
      "n_quantiles 10\n",
      "quantile_size 25\n",
      "len examples 257\n",
      "n_quantiles 10\n",
      "quantile_size 29\n",
      "len examples 298\n",
      "n_quantiles 10\n",
      "quantile_size 15\n",
      "len examples 154\n",
      "n_quantiles 10\n",
      "quantile_size 13\n",
      "len examples 132\n",
      "n_quantiles 10\n"
     ]
    },
    {
     "name": "stderr",
     "output_type": "stream",
     "text": [
      "Loading .model.layers.12: 939it [00:38, 31.22it/s]"
     ]
    },
    {
     "name": "stdout",
     "output_type": "stream",
     "text": [
      "quantile_size 22\n",
      "len examples 228\n",
      "n_quantiles 10\n",
      "quantile_size 17\n",
      "len examples 174\n",
      "n_quantiles 10\n",
      "quantile_size 16\n",
      "len examples 160\n",
      "n_quantiles 10\n",
      "quantile_size 68\n",
      "len examples 686\n",
      "n_quantiles 10\n",
      "quantile_size 12\n",
      "len examples 124\n",
      "n_quantiles 10\n"
     ]
    },
    {
     "name": "stderr",
     "output_type": "stream",
     "text": [
      "Loading .model.layers.12: 948it [00:38, 26.14it/s]"
     ]
    },
    {
     "name": "stdout",
     "output_type": "stream",
     "text": [
      "quantile_size 105\n",
      "len examples 1057\n",
      "n_quantiles 10\n",
      "quantile_size 79\n",
      "len examples 799\n",
      "n_quantiles 10\n",
      "quantile_size 117\n",
      "len examples 1179\n",
      "n_quantiles 10\n",
      "quantile_size 25\n",
      "len examples 257\n",
      "n_quantiles 10\n"
     ]
    },
    {
     "name": "stderr",
     "output_type": "stream",
     "text": [
      "Loading .model.layers.12: 952it [00:38, 23.83it/s]"
     ]
    },
    {
     "name": "stdout",
     "output_type": "stream",
     "text": [
      "quantile_size 16\n",
      "len examples 167\n",
      "n_quantiles 10\n",
      "quantile_size 156\n",
      "len examples 1568\n",
      "n_quantiles 10\n",
      "quantile_size 48\n",
      "len examples 483\n",
      "n_quantiles 10\n",
      "quantile_size 83\n",
      "len examples 834\n",
      "n_quantiles 10\n"
     ]
    },
    {
     "name": "stderr",
     "output_type": "stream",
     "text": [
      "Loading .model.layers.12: 960it [00:39, 30.10it/s]"
     ]
    },
    {
     "name": "stdout",
     "output_type": "stream",
     "text": [
      "quantile_size 53\n",
      "len examples 538\n",
      "n_quantiles 10\n",
      "quantile_size 22\n",
      "len examples 228\n",
      "n_quantiles 10\n",
      "quantile_size 32\n",
      "len examples 321\n",
      "n_quantiles 10\n",
      "quantile_size 43\n",
      "len examples 436\n",
      "n_quantiles 10\n",
      "quantile_size 16\n",
      "len examples 163\n",
      "n_quantiles 10\n",
      "quantile_size 35\n",
      "len examples 359\n",
      "n_quantiles 10\n"
     ]
    },
    {
     "name": "stderr",
     "output_type": "stream",
     "text": [
      "Loading .model.layers.12: 964it [00:39, 26.44it/s]"
     ]
    },
    {
     "name": "stdout",
     "output_type": "stream",
     "text": [
      "quantile_size 78\n",
      "len examples 782\n",
      "n_quantiles 10\n",
      "quantile_size 67\n",
      "len examples 675\n",
      "n_quantiles 10\n",
      "quantile_size 31\n",
      "len examples 314\n",
      "n_quantiles 10\n",
      "quantile_size 13\n",
      "len examples 135\n",
      "n_quantiles 10\n",
      "quantile_size 17\n",
      "len examples 177\n",
      "n_quantiles 10\n",
      "quantile_size 86\n",
      "len examples 867\n",
      "n_quantiles 10\n"
     ]
    },
    {
     "name": "stderr",
     "output_type": "stream",
     "text": [
      "Loading .model.layers.12: 971it [00:39, 25.33it/s]"
     ]
    },
    {
     "name": "stdout",
     "output_type": "stream",
     "text": [
      "quantile_size 42\n",
      "len examples 422\n",
      "n_quantiles 10\n",
      "quantile_size 40\n",
      "len examples 403\n",
      "n_quantiles 10\n",
      "quantile_size 38\n",
      "len examples 383\n",
      "n_quantiles 10\n",
      "quantile_size 18\n",
      "len examples 184\n",
      "n_quantiles 10\n"
     ]
    },
    {
     "name": "stderr",
     "output_type": "stream",
     "text": [
      "Loading .model.layers.12: 975it [00:39, 28.56it/s]"
     ]
    },
    {
     "name": "stdout",
     "output_type": "stream",
     "text": [
      "quantile_size 32\n",
      "len examples 325\n",
      "n_quantiles 10\n",
      "quantile_size 48\n",
      "len examples 482\n",
      "n_quantiles 10\n",
      "quantile_size 151\n",
      "len examples 1517\n",
      "n_quantiles 10\n"
     ]
    },
    {
     "name": "stderr",
     "output_type": "stream",
     "text": [
      "Loading .model.layers.12: 982it [00:39, 26.30it/s]"
     ]
    },
    {
     "name": "stdout",
     "output_type": "stream",
     "text": [
      "quantile_size 17\n",
      "len examples 173\n",
      "n_quantiles 10\n",
      "quantile_size 30\n",
      "len examples 307\n",
      "n_quantiles 10\n",
      "quantile_size 34\n",
      "len examples 349\n",
      "n_quantiles 10\n",
      "quantile_size 10\n",
      "len examples 103\n",
      "n_quantiles 10\n"
     ]
    },
    {
     "name": "stderr",
     "output_type": "stream",
     "text": [
      "Loading .model.layers.12: 992it [00:40, 35.31it/s]"
     ]
    },
    {
     "name": "stdout",
     "output_type": "stream",
     "text": [
      "quantile_size 27\n",
      "len examples 271\n",
      "n_quantiles 10\n",
      "quantile_size 15\n",
      "len examples 158\n",
      "n_quantiles 10\n",
      "quantile_size 66\n",
      "len examples 664\n",
      "n_quantiles 10\n",
      "quantile_size 17\n",
      "len examples 176\n",
      "n_quantiles 10\n",
      "quantile_size 20\n",
      "len examples 200\n",
      "n_quantiles 10\n"
     ]
    },
    {
     "name": "stderr",
     "output_type": "stream",
     "text": [
      "Loading .model.layers.12: 1002it [00:40, 35.02it/s]"
     ]
    },
    {
     "name": "stdout",
     "output_type": "stream",
     "text": [
      "quantile_size 17\n",
      "len examples 178\n",
      "n_quantiles 10\n",
      "quantile_size 33\n",
      "len examples 339\n",
      "n_quantiles 10\n",
      "quantile_size 13\n",
      "len examples 138\n",
      "n_quantiles 10\n",
      "quantile_size 28\n",
      "len examples 286\n",
      "n_quantiles 10\n",
      "quantile_size 36\n",
      "len examples 367\n",
      "n_quantiles 10\n"
     ]
    },
    {
     "name": "stderr",
     "output_type": "stream",
     "text": [
      "Loading .model.layers.12: 1006it [00:40, 29.31it/s]"
     ]
    },
    {
     "name": "stdout",
     "output_type": "stream",
     "text": [
      "quantile_size 89\n",
      "len examples 894\n",
      "n_quantiles 10\n",
      "quantile_size 11\n",
      "len examples 117\n",
      "n_quantiles 10\n",
      "quantile_size 34\n",
      "len examples 347\n",
      "n_quantiles 10\n"
     ]
    },
    {
     "name": "stderr",
     "output_type": "stream",
     "text": [
      "Loading .model.layers.12: 1021it [00:40, 42.21it/s]"
     ]
    },
    {
     "name": "stdout",
     "output_type": "stream",
     "text": [
      "quantile_size 104\n",
      "len examples 1049\n",
      "n_quantiles 10\n",
      "quantile_size 20\n",
      "len examples 201\n",
      "n_quantiles 10\n",
      "quantile_size 15\n",
      "len examples 153\n",
      "n_quantiles 10\n",
      "quantile_size 18\n",
      "len examples 181\n",
      "n_quantiles 10\n",
      "quantile_size 39\n",
      "len examples 398\n",
      "n_quantiles 10\n",
      "quantile_size 47\n",
      "len examples 476\n",
      "n_quantiles 10\n"
     ]
    },
    {
     "name": "stderr",
     "output_type": "stream",
     "text": [
      "Loading .model.layers.12: 1031it [00:41, 38.65it/s]"
     ]
    },
    {
     "name": "stdout",
     "output_type": "stream",
     "text": [
      "quantile_size 35\n",
      "len examples 357\n",
      "n_quantiles 10\n",
      "quantile_size 25\n",
      "len examples 250\n",
      "n_quantiles 10\n",
      "quantile_size 22\n",
      "len examples 227\n",
      "n_quantiles 10\n",
      "quantile_size 18\n",
      "len examples 181\n",
      "n_quantiles 10\n",
      "quantile_size 19\n",
      "len examples 192\n",
      "n_quantiles 10\n",
      "quantile_size 17\n",
      "len examples 179\n",
      "n_quantiles 10\n"
     ]
    },
    {
     "name": "stderr",
     "output_type": "stream",
     "text": [
      "Loading .model.layers.12: 1041it [00:41, 36.94it/s]"
     ]
    },
    {
     "name": "stdout",
     "output_type": "stream",
     "text": [
      "quantile_size 145\n",
      "len examples 1458\n",
      "n_quantiles 10\n",
      "quantile_size 95\n",
      "len examples 955\n",
      "n_quantiles 10\n",
      "quantile_size 12\n",
      "len examples 127\n",
      "n_quantiles 10\n",
      "quantile_size 18\n",
      "len examples 182\n",
      "n_quantiles 10\n",
      "quantile_size 38\n",
      "len examples 385\n",
      "n_quantiles 10\n"
     ]
    },
    {
     "name": "stderr",
     "output_type": "stream",
     "text": [
      "Loading .model.layers.12: 1052it [00:41, 43.98it/s]"
     ]
    },
    {
     "name": "stdout",
     "output_type": "stream",
     "text": [
      "quantile_size 13\n",
      "len examples 138\n",
      "n_quantiles 10\n",
      "quantile_size 33\n",
      "len examples 339\n",
      "n_quantiles 10\n",
      "quantile_size 26\n",
      "len examples 265\n",
      "n_quantiles 10\n",
      "quantile_size 56\n",
      "len examples 562\n",
      "n_quantiles 10\n"
     ]
    },
    {
     "name": "stderr",
     "output_type": "stream",
     "text": [
      "Loading .model.layers.12: 1057it [00:41, 36.52it/s]"
     ]
    },
    {
     "name": "stdout",
     "output_type": "stream",
     "text": [
      "quantile_size 21\n",
      "len examples 215\n",
      "n_quantiles 10\n",
      "quantile_size 44\n",
      "len examples 443\n",
      "n_quantiles 10\n",
      "quantile_size 50\n",
      "len examples 509\n",
      "n_quantiles 10\n",
      "quantile_size 43\n",
      "len examples 434\n",
      "n_quantiles 10\n",
      "quantile_size 27\n",
      "len examples 270\n",
      "n_quantiles 10\n"
     ]
    },
    {
     "name": "stderr",
     "output_type": "stream",
     "text": [
      "Loading .model.layers.12: 1066it [00:42, 33.75it/s]"
     ]
    },
    {
     "name": "stdout",
     "output_type": "stream",
     "text": [
      "quantile_size 55\n",
      "len examples 552\n",
      "n_quantiles 10\n",
      "quantile_size 163\n",
      "len examples 1633\n",
      "n_quantiles 10\n",
      "quantile_size 13\n",
      "len examples 139\n",
      "n_quantiles 10\n",
      "quantile_size 25\n",
      "len examples 253\n",
      "n_quantiles 10\n"
     ]
    },
    {
     "name": "stderr",
     "output_type": "stream",
     "text": [
      "Loading .model.layers.12: 1070it [00:42, 35.03it/s]"
     ]
    },
    {
     "name": "stdout",
     "output_type": "stream",
     "text": [
      "quantile_size 57\n",
      "len examples 579\n",
      "n_quantiles 10\n",
      "quantile_size 29\n",
      "len examples 298\n",
      "n_quantiles 10\n",
      "quantile_size 20\n",
      "len examples 200\n",
      "n_quantiles 10\n",
      "quantile_size 22\n",
      "len examples 227\n",
      "n_quantiles 10\n",
      "quantile_size 42\n",
      "len examples 429\n",
      "n_quantiles 10\n"
     ]
    },
    {
     "name": "stderr",
     "output_type": "stream",
     "text": [
      "Loading .model.layers.12: 1079it [00:42, 33.62it/s]"
     ]
    },
    {
     "name": "stdout",
     "output_type": "stream",
     "text": [
      "quantile_size 151\n",
      "len examples 1518\n",
      "n_quantiles 10\n",
      "quantile_size 2\n",
      "len examples 24\n",
      "n_quantiles 10\n",
      "quantile_size 114\n",
      "len examples 1145\n",
      "n_quantiles 10\n",
      "quantile_size 27\n",
      "len examples 276\n",
      "n_quantiles 10\n",
      "quantile_size 51\n",
      "len examples 516\n",
      "n_quantiles 10\n",
      "quantile_size 60\n",
      "len examples 603\n",
      "n_quantiles 10\n"
     ]
    },
    {
     "name": "stderr",
     "output_type": "stream",
     "text": [
      "Loading .model.layers.12: 1087it [00:42, 30.94it/s]"
     ]
    },
    {
     "name": "stdout",
     "output_type": "stream",
     "text": [
      "quantile_size 52\n",
      "len examples 522\n",
      "n_quantiles 10\n",
      "quantile_size 51\n",
      "len examples 513\n",
      "n_quantiles 10\n",
      "quantile_size 22\n",
      "len examples 220\n",
      "n_quantiles 10\n",
      "quantile_size 23\n",
      "len examples 236\n",
      "n_quantiles 10\n",
      "quantile_size 48\n",
      "len examples 480\n",
      "n_quantiles 10\n"
     ]
    },
    {
     "name": "stderr",
     "output_type": "stream",
     "text": [
      "Loading .model.layers.12: 1091it [00:43, 26.58it/s]"
     ]
    },
    {
     "name": "stdout",
     "output_type": "stream",
     "text": [
      "quantile_size 14\n",
      "len examples 141\n",
      "n_quantiles 10\n",
      "quantile_size 44\n",
      "len examples 441\n",
      "n_quantiles 10\n",
      "quantile_size 80\n",
      "len examples 808\n",
      "n_quantiles 10\n",
      "quantile_size 149\n",
      "len examples 1499\n",
      "n_quantiles 10\n"
     ]
    },
    {
     "name": "stderr",
     "output_type": "stream",
     "text": [
      "Loading .model.layers.12: 1095it [00:43, 24.63it/s]"
     ]
    },
    {
     "name": "stdout",
     "output_type": "stream",
     "text": [
      "quantile_size 25\n",
      "len examples 259\n",
      "n_quantiles 10\n",
      "quantile_size 44\n",
      "len examples 440\n",
      "n_quantiles 10\n",
      "quantile_size 61\n",
      "len examples 615\n",
      "n_quantiles 10\n",
      "quantile_size 61\n",
      "len examples 615\n",
      "n_quantiles 10\n"
     ]
    },
    {
     "name": "stderr",
     "output_type": "stream",
     "text": [
      "Loading .model.layers.12: 1104it [00:43, 24.21it/s]"
     ]
    },
    {
     "name": "stdout",
     "output_type": "stream",
     "text": [
      "quantile_size 59\n",
      "len examples 596\n",
      "n_quantiles 10\n",
      "quantile_size 25\n",
      "len examples 254\n",
      "n_quantiles 10\n",
      "quantile_size 13\n",
      "len examples 138\n",
      "n_quantiles 10\n",
      "quantile_size 27\n",
      "len examples 276\n",
      "n_quantiles 10\n",
      "quantile_size 28\n",
      "len examples 280\n",
      "n_quantiles 10\n"
     ]
    },
    {
     "name": "stderr",
     "output_type": "stream",
     "text": [
      "Loading .model.layers.12: 1112it [00:44, 25.69it/s]"
     ]
    },
    {
     "name": "stdout",
     "output_type": "stream",
     "text": [
      "quantile_size 31\n",
      "len examples 319\n",
      "n_quantiles 10\n",
      "quantile_size 23\n",
      "len examples 234\n",
      "n_quantiles 10\n",
      "quantile_size 31\n",
      "len examples 315\n",
      "n_quantiles 10\n",
      "quantile_size 18\n",
      "len examples 185\n",
      "n_quantiles 10\n",
      "quantile_size 44\n",
      "len examples 444\n",
      "n_quantiles 10\n"
     ]
    },
    {
     "name": "stderr",
     "output_type": "stream",
     "text": [
      "Loading .model.layers.12: 1116it [00:44, 28.85it/s]"
     ]
    },
    {
     "name": "stdout",
     "output_type": "stream",
     "text": [
      "quantile_size 7\n",
      "len examples 79\n",
      "n_quantiles 10\n",
      "quantile_size 36\n",
      "len examples 367\n",
      "n_quantiles 10\n",
      "quantile_size 19\n",
      "len examples 197\n",
      "n_quantiles 10\n",
      "quantile_size 128\n",
      "len examples 1282\n",
      "n_quantiles 10\n"
     ]
    },
    {
     "name": "stderr",
     "output_type": "stream",
     "text": [
      "Loading .model.layers.12: 1124it [00:44, 28.58it/s]"
     ]
    },
    {
     "name": "stdout",
     "output_type": "stream",
     "text": [
      "quantile_size 45\n",
      "len examples 452\n",
      "n_quantiles 10\n",
      "quantile_size 37\n",
      "len examples 372\n",
      "n_quantiles 10\n",
      "quantile_size 30\n",
      "len examples 300\n",
      "n_quantiles 10\n",
      "quantile_size 27\n",
      "len examples 271\n",
      "n_quantiles 10\n",
      "quantile_size 17\n",
      "len examples 170\n",
      "n_quantiles 10\n"
     ]
    },
    {
     "name": "stderr",
     "output_type": "stream",
     "text": [
      "Loading .model.layers.12: 1132it [00:44, 32.94it/s]"
     ]
    },
    {
     "name": "stdout",
     "output_type": "stream",
     "text": [
      "quantile_size 48\n",
      "len examples 482\n",
      "n_quantiles 10\n",
      "quantile_size 40\n",
      "len examples 409\n",
      "n_quantiles 10\n",
      "quantile_size 59\n",
      "len examples 596\n",
      "n_quantiles 10\n",
      "quantile_size 22\n",
      "len examples 220\n",
      "n_quantiles 10\n",
      "quantile_size 16\n",
      "len examples 160\n",
      "n_quantiles 10\n",
      "quantile_size 19\n",
      "len examples 195\n",
      "n_quantiles 10\n"
     ]
    },
    {
     "name": "stderr",
     "output_type": "stream",
     "text": [
      "Loading .model.layers.12: 1141it [00:45, 26.39it/s]"
     ]
    },
    {
     "name": "stdout",
     "output_type": "stream",
     "text": [
      "quantile_size 105\n",
      "len examples 1057\n",
      "n_quantiles 10\n",
      "quantile_size 22\n",
      "len examples 224\n",
      "n_quantiles 10\n",
      "quantile_size 56\n",
      "len examples 569\n",
      "n_quantiles 10\n",
      "quantile_size 12\n",
      "len examples 124\n",
      "n_quantiles 10\n",
      "quantile_size 9\n",
      "len examples 95\n",
      "n_quantiles 10\n",
      "quantile_size 67\n",
      "len examples 671\n",
      "n_quantiles 10\n"
     ]
    },
    {
     "name": "stderr",
     "output_type": "stream",
     "text": [
      "Loading .model.layers.12: 1151it [00:45, 36.79it/s]"
     ]
    },
    {
     "name": "stdout",
     "output_type": "stream",
     "text": [
      "quantile_size 17\n",
      "len examples 174\n",
      "n_quantiles 10\n",
      "quantile_size 173\n",
      "len examples 1732\n",
      "n_quantiles 10\n",
      "quantile_size 34\n",
      "len examples 348\n",
      "n_quantiles 10\n",
      "quantile_size 17\n",
      "len examples 176\n",
      "n_quantiles 10\n"
     ]
    },
    {
     "name": "stderr",
     "output_type": "stream",
     "text": [
      "Loading .model.layers.12: 1156it [00:45, 39.73it/s]"
     ]
    },
    {
     "name": "stdout",
     "output_type": "stream",
     "text": [
      "quantile_size 29\n",
      "len examples 292\n",
      "n_quantiles 10\n",
      "quantile_size 18\n",
      "len examples 189\n",
      "n_quantiles 10\n",
      "quantile_size 342\n",
      "len examples 3421\n",
      "n_quantiles 10\n",
      "quantile_size 33\n",
      "len examples 333\n",
      "n_quantiles 10\n",
      "quantile_size 35\n",
      "len examples 356\n",
      "n_quantiles 10\n"
     ]
    },
    {
     "name": "stderr",
     "output_type": "stream",
     "text": [
      "Loading .model.layers.12: 1165it [00:45, 35.05it/s]"
     ]
    },
    {
     "name": "stdout",
     "output_type": "stream",
     "text": [
      "quantile_size 22\n",
      "len examples 229\n",
      "n_quantiles 10\n",
      "quantile_size 25\n",
      "len examples 256\n",
      "n_quantiles 10\n",
      "quantile_size 39\n",
      "len examples 397\n",
      "n_quantiles 10\n",
      "quantile_size 63\n",
      "len examples 632\n",
      "n_quantiles 10\n"
     ]
    },
    {
     "name": "stderr",
     "output_type": "stream",
     "text": [
      "Loading .model.layers.12: 1179it [00:46, 36.92it/s]"
     ]
    },
    {
     "name": "stdout",
     "output_type": "stream",
     "text": [
      "quantile_size 178\n",
      "len examples 1787\n",
      "n_quantiles 10\n",
      "quantile_size 14\n",
      "len examples 146\n",
      "n_quantiles 10\n",
      "quantile_size 43\n",
      "len examples 433\n",
      "n_quantiles 10\n",
      "quantile_size 24\n",
      "len examples 241\n",
      "n_quantiles 10\n",
      "quantile_size 90\n",
      "len examples 908\n",
      "n_quantiles 10\n"
     ]
    },
    {
     "name": "stderr",
     "output_type": "stream",
     "text": [
      "Loading .model.layers.12: 1183it [00:46, 31.51it/s]"
     ]
    },
    {
     "name": "stdout",
     "output_type": "stream",
     "text": [
      "quantile_size 12\n",
      "len examples 122\n",
      "n_quantiles 10\n",
      "quantile_size 65\n",
      "len examples 655\n",
      "n_quantiles 10\n",
      "quantile_size 24\n",
      "len examples 247\n",
      "n_quantiles 10\n",
      "quantile_size 99\n",
      "len examples 999\n",
      "n_quantiles 10\n"
     ]
    },
    {
     "name": "stderr",
     "output_type": "stream",
     "text": [
      "Loading .model.layers.12: 1191it [00:46, 28.30it/s]"
     ]
    },
    {
     "name": "stdout",
     "output_type": "stream",
     "text": [
      "quantile_size 139\n",
      "len examples 1395\n",
      "n_quantiles 10\n",
      "quantile_size 65\n",
      "len examples 651\n",
      "n_quantiles 10\n",
      "quantile_size 71\n",
      "len examples 713\n",
      "n_quantiles 10\n",
      "quantile_size 23\n",
      "len examples 236\n",
      "n_quantiles 10\n"
     ]
    },
    {
     "name": "stderr",
     "output_type": "stream",
     "text": [
      "Loading .model.layers.12: 1196it [00:46, 32.53it/s]"
     ]
    },
    {
     "name": "stdout",
     "output_type": "stream",
     "text": [
      "quantile_size 15\n",
      "len examples 150\n",
      "n_quantiles 10\n",
      "quantile_size 35\n",
      "len examples 350\n",
      "n_quantiles 10\n",
      "quantile_size 12\n",
      "len examples 123\n",
      "n_quantiles 10\n",
      "quantile_size 10\n",
      "len examples 107\n",
      "n_quantiles 10\n",
      "quantile_size 25\n",
      "len examples 252\n",
      "n_quantiles 10\n"
     ]
    },
    {
     "name": "stderr",
     "output_type": "stream",
     "text": [
      "Loading .model.layers.12: 1205it [00:46, 32.71it/s]"
     ]
    },
    {
     "name": "stdout",
     "output_type": "stream",
     "text": [
      "quantile_size 11\n",
      "len examples 113\n",
      "n_quantiles 10\n",
      "quantile_size 38\n",
      "len examples 381\n",
      "n_quantiles 10\n",
      "quantile_size 29\n",
      "len examples 298\n",
      "n_quantiles 10\n",
      "quantile_size 38\n",
      "len examples 385\n",
      "n_quantiles 10\n",
      "quantile_size 19\n",
      "len examples 192\n",
      "n_quantiles 10\n"
     ]
    },
    {
     "name": "stderr",
     "output_type": "stream",
     "text": [
      "Loading .model.layers.12: 1215it [00:47, 32.37it/s]"
     ]
    },
    {
     "name": "stdout",
     "output_type": "stream",
     "text": [
      "quantile_size 29\n",
      "len examples 297\n",
      "n_quantiles 10\n",
      "quantile_size 46\n",
      "len examples 464\n",
      "n_quantiles 10\n",
      "quantile_size 34\n",
      "len examples 340\n",
      "n_quantiles 10\n",
      "quantile_size 60\n",
      "len examples 606\n",
      "n_quantiles 10\n",
      "quantile_size 66\n",
      "len examples 661\n",
      "n_quantiles 10\n"
     ]
    },
    {
     "name": "stderr",
     "output_type": "stream",
     "text": [
      "Loading .model.layers.12: 1227it [00:47, 25.52it/s]"
     ]
    },
    {
     "name": "stdout",
     "output_type": "stream",
     "text": [
      "quantile_size 19\n",
      "len examples 194\n",
      "n_quantiles 10\n",
      "quantile_size 13\n",
      "len examples 137\n",
      "n_quantiles 10\n",
      "quantile_size 25\n",
      "len examples 254\n",
      "n_quantiles 10\n",
      "quantile_size 24\n",
      "len examples 244\n",
      "n_quantiles 10\n",
      "quantile_size 43\n",
      "len examples 432\n",
      "n_quantiles 10\n",
      "quantile_size 10\n",
      "len examples 102\n",
      "n_quantiles 10\n",
      "quantile_size 52\n",
      "len examples 523\n",
      "n_quantiles 10\n"
     ]
    },
    {
     "name": "stderr",
     "output_type": "stream",
     "text": [
      "Loading .model.layers.12: 1231it [00:48, 21.05it/s]"
     ]
    },
    {
     "name": "stdout",
     "output_type": "stream",
     "text": [
      "quantile_size 128\n",
      "len examples 1280\n",
      "n_quantiles 10\n",
      "quantile_size 33\n",
      "len examples 335\n",
      "n_quantiles 10\n",
      "quantile_size 54\n",
      "len examples 548\n",
      "n_quantiles 10\n",
      "quantile_size 9\n",
      "len examples 93\n",
      "n_quantiles 10\n"
     ]
    },
    {
     "name": "stderr",
     "output_type": "stream",
     "text": [
      "Loading .model.layers.12: 1234it [00:48, 22.26it/s]"
     ]
    },
    {
     "name": "stdout",
     "output_type": "stream",
     "text": [
      "quantile_size 49\n",
      "len examples 491\n",
      "n_quantiles 10\n",
      "quantile_size 192\n",
      "len examples 1925\n",
      "n_quantiles 10\n"
     ]
    },
    {
     "name": "stderr",
     "output_type": "stream",
     "text": [
      "Loading .model.layers.12: 1237it [00:48, 17.66it/s]"
     ]
    },
    {
     "name": "stdout",
     "output_type": "stream",
     "text": [
      "quantile_size 10\n",
      "len examples 105\n",
      "n_quantiles 10\n",
      "quantile_size 9\n",
      "len examples 96\n",
      "n_quantiles 10\n"
     ]
    },
    {
     "name": "stderr",
     "output_type": "stream",
     "text": [
      "Loading .model.layers.12: 1243it [00:48, 18.89it/s]"
     ]
    },
    {
     "name": "stdout",
     "output_type": "stream",
     "text": [
      "quantile_size 18\n",
      "len examples 180\n",
      "n_quantiles 10\n",
      "quantile_size 21\n",
      "len examples 214\n",
      "n_quantiles 10\n",
      "quantile_size 28\n",
      "len examples 287\n",
      "n_quantiles 10\n",
      "quantile_size 29\n",
      "len examples 293\n",
      "n_quantiles 10\n",
      "quantile_size 19\n",
      "len examples 198\n",
      "n_quantiles 10\n",
      "quantile_size 25\n",
      "len examples 258\n",
      "n_quantiles 10\n"
     ]
    },
    {
     "name": "stderr",
     "output_type": "stream",
     "text": [
      "Loading .model.layers.12: 1251it [00:49, 22.62it/s]"
     ]
    },
    {
     "name": "stdout",
     "output_type": "stream",
     "text": [
      "quantile_size 23\n",
      "len examples 237\n",
      "n_quantiles 10\n",
      "quantile_size 62\n",
      "len examples 624\n",
      "n_quantiles 10\n",
      "quantile_size 19\n",
      "len examples 190\n",
      "n_quantiles 10\n",
      "quantile_size 34\n",
      "len examples 348\n",
      "n_quantiles 10\n",
      "quantile_size 19\n",
      "len examples 196\n",
      "n_quantiles 10\n",
      "quantile_size 28\n",
      "len examples 280\n",
      "n_quantiles 10\n",
      "quantile_size 11\n",
      "len examples 119\n",
      "n_quantiles 10\n"
     ]
    },
    {
     "name": "stderr",
     "output_type": "stream",
     "text": [
      "Loading .model.layers.12: 1265it [00:49, 32.44it/s]"
     ]
    },
    {
     "name": "stdout",
     "output_type": "stream",
     "text": [
      "quantile_size 43\n",
      "len examples 432\n",
      "n_quantiles 10\n",
      "quantile_size 33\n",
      "len examples 337\n",
      "n_quantiles 10\n",
      "quantile_size 23\n",
      "len examples 235\n",
      "n_quantiles 10\n",
      "quantile_size 42\n",
      "len examples 420\n",
      "n_quantiles 10\n"
     ]
    },
    {
     "name": "stderr",
     "output_type": "stream",
     "text": [
      "Loading .model.layers.12: 1279it [00:49, 45.97it/s]"
     ]
    },
    {
     "name": "stdout",
     "output_type": "stream",
     "text": [
      "quantile_size 19\n",
      "len examples 193\n",
      "n_quantiles 10\n",
      "quantile_size 25\n",
      "len examples 255\n",
      "n_quantiles 10\n",
      "quantile_size 83\n",
      "len examples 832\n",
      "n_quantiles 10\n",
      "quantile_size 64\n",
      "len examples 642\n",
      "n_quantiles 10\n"
     ]
    },
    {
     "name": "stderr",
     "output_type": "stream",
     "text": [
      "Loading .model.layers.12: 1285it [00:49, 39.96it/s]"
     ]
    },
    {
     "name": "stdout",
     "output_type": "stream",
     "text": [
      "quantile_size 36\n",
      "len examples 363\n",
      "n_quantiles 10\n",
      "quantile_size 36\n",
      "len examples 363\n",
      "n_quantiles 10\n",
      "quantile_size 16\n",
      "len examples 168\n",
      "n_quantiles 10\n",
      "quantile_size 81\n",
      "len examples 818\n",
      "n_quantiles 10\n",
      "quantile_size 15\n",
      "len examples 152\n",
      "n_quantiles 10\n"
     ]
    },
    {
     "name": "stderr",
     "output_type": "stream",
     "text": [
      "Loading .model.layers.12: 1294it [00:50, 29.90it/s]"
     ]
    },
    {
     "name": "stdout",
     "output_type": "stream",
     "text": [
      "quantile_size 32\n",
      "len examples 323\n",
      "n_quantiles 10\n",
      "quantile_size 21\n",
      "len examples 215\n",
      "n_quantiles 10\n",
      "quantile_size 132\n",
      "len examples 1320\n",
      "n_quantiles 10\n",
      "quantile_size 18\n",
      "len examples 184\n",
      "n_quantiles 10\n"
     ]
    },
    {
     "name": "stderr",
     "output_type": "stream",
     "text": [
      "Loading .model.layers.12: 1298it [00:50, 31.55it/s]"
     ]
    },
    {
     "name": "stdout",
     "output_type": "stream",
     "text": [
      "quantile_size 30\n",
      "len examples 303\n",
      "n_quantiles 10\n",
      "quantile_size 41\n",
      "len examples 411\n",
      "n_quantiles 10\n",
      "quantile_size 71\n",
      "len examples 718\n",
      "n_quantiles 10\n",
      "quantile_size 39\n",
      "len examples 390\n",
      "n_quantiles 10\n",
      "quantile_size 100\n",
      "len examples 1002\n",
      "n_quantiles 10\n",
      "quantile_size 16\n",
      "len examples 166\n",
      "n_quantiles 10\n"
     ]
    },
    {
     "name": "stderr",
     "output_type": "stream",
     "text": [
      "Loading .model.layers.12: 1310it [00:50, 30.98it/s]"
     ]
    },
    {
     "name": "stdout",
     "output_type": "stream",
     "text": [
      "quantile_size 24\n",
      "len examples 248\n",
      "n_quantiles 10\n",
      "quantile_size 43\n",
      "len examples 430\n",
      "n_quantiles 10\n",
      "quantile_size 7\n",
      "len examples 70\n",
      "n_quantiles 10\n",
      "quantile_size 43\n",
      "len examples 432\n",
      "n_quantiles 10\n",
      "quantile_size 16\n",
      "len examples 160\n",
      "n_quantiles 10\n"
     ]
    },
    {
     "name": "stderr",
     "output_type": "stream",
     "text": [
      "Loading .model.layers.12: 1315it [00:50, 35.33it/s]"
     ]
    },
    {
     "name": "stdout",
     "output_type": "stream",
     "text": [
      "quantile_size 18\n",
      "len examples 182\n",
      "n_quantiles 10\n",
      "quantile_size 54\n",
      "len examples 540\n",
      "n_quantiles 10\n",
      "quantile_size 32\n",
      "len examples 328\n",
      "n_quantiles 10\n",
      "quantile_size 20\n",
      "len examples 207\n",
      "n_quantiles 10\n",
      "quantile_size 43\n",
      "len examples 431\n",
      "n_quantiles 10\n"
     ]
    },
    {
     "name": "stderr",
     "output_type": "stream",
     "text": [
      "Loading .model.layers.12: 1323it [00:51, 29.32it/s]"
     ]
    },
    {
     "name": "stdout",
     "output_type": "stream",
     "text": [
      "quantile_size 49\n",
      "len examples 499\n",
      "n_quantiles 10\n",
      "quantile_size 45\n",
      "len examples 457\n",
      "n_quantiles 10\n",
      "quantile_size 81\n",
      "len examples 812\n",
      "n_quantiles 10\n",
      "quantile_size 30\n",
      "len examples 309\n",
      "n_quantiles 10\n",
      "quantile_size 19\n",
      "len examples 198\n",
      "n_quantiles 10\n"
     ]
    },
    {
     "name": "stderr",
     "output_type": "stream",
     "text": [
      "Loading .model.layers.12: 1330it [00:51, 26.92it/s]"
     ]
    },
    {
     "name": "stdout",
     "output_type": "stream",
     "text": [
      "quantile_size 15\n",
      "len examples 151\n",
      "n_quantiles 10\n",
      "quantile_size 30\n",
      "len examples 304\n",
      "n_quantiles 10\n",
      "quantile_size 21\n",
      "len examples 218\n",
      "n_quantiles 10\n",
      "quantile_size 23\n",
      "len examples 236\n",
      "n_quantiles 10\n",
      "quantile_size 27\n",
      "len examples 279\n",
      "n_quantiles 10\n"
     ]
    },
    {
     "name": "stderr",
     "output_type": "stream",
     "text": [
      "Loading .model.layers.12: 1333it [00:51, 27.18it/s]"
     ]
    },
    {
     "name": "stdout",
     "output_type": "stream",
     "text": [
      "quantile_size 156\n",
      "len examples 1564\n",
      "n_quantiles 10\n",
      "quantile_size 186\n",
      "len examples 1863\n",
      "n_quantiles 10\n",
      "quantile_size 30\n",
      "len examples 301\n",
      "n_quantiles 10\n",
      "quantile_size 37\n",
      "len examples 379\n",
      "n_quantiles 10\n"
     ]
    },
    {
     "name": "stderr",
     "output_type": "stream",
     "text": [
      "Loading .model.layers.12: 1344it [00:51, 32.51it/s]"
     ]
    },
    {
     "name": "stdout",
     "output_type": "stream",
     "text": [
      "quantile_size 24\n",
      "len examples 243\n",
      "n_quantiles 10\n",
      "quantile_size 135\n",
      "len examples 1357\n",
      "n_quantiles 10\n",
      "quantile_size 28\n",
      "len examples 280\n",
      "n_quantiles 10\n",
      "quantile_size 23\n",
      "len examples 233\n",
      "n_quantiles 10\n",
      "quantile_size 21\n",
      "len examples 211\n",
      "n_quantiles 10\n"
     ]
    },
    {
     "name": "stderr",
     "output_type": "stream",
     "text": [
      "Loading .model.layers.12: 1352it [00:52, 28.75it/s]"
     ]
    },
    {
     "name": "stdout",
     "output_type": "stream",
     "text": [
      "quantile_size 50\n",
      "len examples 507\n",
      "n_quantiles 10\n",
      "quantile_size 36\n",
      "len examples 369\n",
      "n_quantiles 10\n",
      "quantile_size 125\n",
      "len examples 1251\n",
      "n_quantiles 10\n"
     ]
    },
    {
     "name": "stderr",
     "output_type": "stream",
     "text": [
      "Loading .model.layers.12: 1361it [00:52, 34.53it/s]"
     ]
    },
    {
     "name": "stdout",
     "output_type": "stream",
     "text": [
      "quantile_size 13\n",
      "len examples 131\n",
      "n_quantiles 10\n",
      "quantile_size 20\n",
      "len examples 202\n",
      "n_quantiles 10\n",
      "quantile_size 134\n",
      "len examples 1343\n",
      "n_quantiles 10\n",
      "quantile_size 27\n",
      "len examples 271\n",
      "n_quantiles 10\n"
     ]
    },
    {
     "name": "stderr",
     "output_type": "stream",
     "text": [
      "Loading .model.layers.12: 1370it [00:52, 33.45it/s]"
     ]
    },
    {
     "name": "stdout",
     "output_type": "stream",
     "text": [
      "quantile_size 27\n",
      "len examples 279\n",
      "n_quantiles 10\n",
      "quantile_size 101\n",
      "len examples 1018\n",
      "n_quantiles 10\n",
      "quantile_size 14\n",
      "len examples 144\n",
      "n_quantiles 10\n",
      "quantile_size 36\n",
      "len examples 367\n",
      "n_quantiles 10\n",
      "quantile_size 13\n",
      "len examples 136\n",
      "n_quantiles 10\n"
     ]
    },
    {
     "name": "stderr",
     "output_type": "stream",
     "text": [
      "Loading .model.layers.12: 1374it [00:52, 27.55it/s]"
     ]
    },
    {
     "name": "stdout",
     "output_type": "stream",
     "text": [
      "quantile_size 53\n",
      "len examples 534\n",
      "n_quantiles 10\n",
      "quantile_size 29\n",
      "len examples 299\n",
      "n_quantiles 10\n",
      "quantile_size 30\n",
      "len examples 303\n",
      "n_quantiles 10\n"
     ]
    },
    {
     "name": "stderr",
     "output_type": "stream",
     "text": [
      "Loading .model.layers.12: 1378it [00:53, 10.37it/s]"
     ]
    },
    {
     "name": "stdout",
     "output_type": "stream",
     "text": [
      "quantile_size 46\n",
      "len examples 468\n",
      "n_quantiles 10\n",
      "quantile_size 8\n",
      "len examples 86\n",
      "n_quantiles 10\n"
     ]
    },
    {
     "name": "stderr",
     "output_type": "stream",
     "text": [
      "Loading .model.layers.12: 1381it [00:54, 11.16it/s]"
     ]
    },
    {
     "name": "stdout",
     "output_type": "stream",
     "text": [
      "quantile_size 19\n",
      "len examples 199\n",
      "n_quantiles 10\n"
     ]
    },
    {
     "name": "stderr",
     "output_type": "stream",
     "text": [
      "Loading .model.layers.12: 1384it [00:54,  9.94it/s]"
     ]
    },
    {
     "name": "stdout",
     "output_type": "stream",
     "text": [
      "quantile_size 90\n",
      "len examples 904\n",
      "n_quantiles 10\n",
      "quantile_size 67\n",
      "len examples 676\n",
      "n_quantiles 10\n"
     ]
    },
    {
     "name": "stderr",
     "output_type": "stream",
     "text": [
      "Loading .model.layers.12: 1386it [00:54,  8.36it/s]"
     ]
    },
    {
     "name": "stdout",
     "output_type": "stream",
     "text": [
      "quantile_size 24\n",
      "len examples 242\n",
      "n_quantiles 10\n"
     ]
    },
    {
     "name": "stderr",
     "output_type": "stream",
     "text": [
      "Loading .model.layers.12: 1390it [00:55,  7.84it/s]"
     ]
    },
    {
     "name": "stdout",
     "output_type": "stream",
     "text": [
      "quantile_size 40\n",
      "len examples 404\n",
      "n_quantiles 10\n",
      "quantile_size 55\n",
      "len examples 558\n",
      "n_quantiles 10\n"
     ]
    },
    {
     "name": "stderr",
     "output_type": "stream",
     "text": [
      "Loading .model.layers.12: 1392it [00:55,  9.09it/s]"
     ]
    },
    {
     "name": "stdout",
     "output_type": "stream",
     "text": [
      "quantile_size 18\n",
      "len examples 181\n",
      "n_quantiles 10\n",
      "quantile_size 11\n",
      "len examples 116\n",
      "n_quantiles 10\n",
      "quantile_size 63\n",
      "len examples 639\n",
      "n_quantiles 10\n"
     ]
    },
    {
     "name": "stderr",
     "output_type": "stream",
     "text": [
      "Loading .model.layers.12: 1402it [00:56, 16.84it/s]"
     ]
    },
    {
     "name": "stdout",
     "output_type": "stream",
     "text": [
      "quantile_size 29\n",
      "len examples 294\n",
      "n_quantiles 10\n",
      "quantile_size 36\n",
      "len examples 361\n",
      "n_quantiles 10\n",
      "quantile_size 21\n",
      "len examples 212\n",
      "n_quantiles 10\n",
      "quantile_size 31\n",
      "len examples 313\n",
      "n_quantiles 10\n"
     ]
    },
    {
     "name": "stderr",
     "output_type": "stream",
     "text": [
      "Loading .model.layers.12: 1405it [00:56, 14.09it/s]"
     ]
    },
    {
     "name": "stdout",
     "output_type": "stream",
     "text": [
      "quantile_size 37\n",
      "len examples 375\n",
      "n_quantiles 10\n"
     ]
    },
    {
     "name": "stderr",
     "output_type": "stream",
     "text": [
      "Loading .model.layers.12: 1409it [00:56, 10.33it/s]"
     ]
    },
    {
     "name": "stdout",
     "output_type": "stream",
     "text": [
      "quantile_size 20\n",
      "len examples 204\n",
      "n_quantiles 10\n",
      "quantile_size 21\n",
      "len examples 211\n",
      "n_quantiles 10\n"
     ]
    },
    {
     "name": "stderr",
     "output_type": "stream",
     "text": [
      "Loading .model.layers.12: 1413it [00:57, 10.23it/s]"
     ]
    },
    {
     "name": "stdout",
     "output_type": "stream",
     "text": [
      "quantile_size 23\n",
      "len examples 231\n",
      "n_quantiles 10\n",
      "quantile_size 40\n",
      "len examples 400\n",
      "n_quantiles 10\n"
     ]
    },
    {
     "name": "stderr",
     "output_type": "stream",
     "text": [
      "Loading .model.layers.12: 1415it [00:58,  6.11it/s]"
     ]
    },
    {
     "name": "stdout",
     "output_type": "stream",
     "text": [
      "quantile_size 46\n",
      "len examples 464\n",
      "n_quantiles 10\n"
     ]
    },
    {
     "name": "stderr",
     "output_type": "stream",
     "text": [
      "Loading .model.layers.12: 1417it [00:58,  5.80it/s]"
     ]
    },
    {
     "name": "stdout",
     "output_type": "stream",
     "text": [
      "quantile_size 22\n",
      "len examples 220\n",
      "n_quantiles 10\n",
      "quantile_size 157\n",
      "len examples 1572\n",
      "n_quantiles 10\n"
     ]
    },
    {
     "name": "stderr",
     "output_type": "stream",
     "text": [
      "Loading .model.layers.12: 1420it [00:58,  7.34it/s]"
     ]
    },
    {
     "name": "stdout",
     "output_type": "stream",
     "text": [
      "quantile_size 183\n",
      "len examples 1833\n",
      "n_quantiles 10\n",
      "quantile_size 42\n",
      "len examples 421\n",
      "n_quantiles 10\n",
      "quantile_size 57\n",
      "len examples 573\n",
      "n_quantiles 10\n"
     ]
    },
    {
     "name": "stderr",
     "output_type": "stream",
     "text": [
      "Loading .model.layers.12: 1428it [00:58, 15.01it/s]"
     ]
    },
    {
     "name": "stdout",
     "output_type": "stream",
     "text": [
      "quantile_size 73\n",
      "len examples 736\n",
      "n_quantiles 10\n",
      "quantile_size 36\n",
      "len examples 368\n",
      "n_quantiles 10\n",
      "quantile_size 16\n",
      "len examples 168\n",
      "n_quantiles 10\n",
      "quantile_size 20\n",
      "len examples 203\n",
      "n_quantiles 10\n",
      "quantile_size 17\n",
      "len examples 171\n",
      "n_quantiles 10\n",
      "quantile_size 20\n",
      "len examples 201\n",
      "n_quantiles 10\n"
     ]
    },
    {
     "name": "stderr",
     "output_type": "stream",
     "text": [
      "Loading .model.layers.12: 1436it [00:59, 20.00it/s]"
     ]
    },
    {
     "name": "stdout",
     "output_type": "stream",
     "text": [
      "quantile_size 357\n",
      "len examples 3575\n",
      "n_quantiles 10\n",
      "quantile_size 67\n",
      "len examples 673\n",
      "n_quantiles 10\n",
      "quantile_size 50\n",
      "len examples 505\n",
      "n_quantiles 10\n",
      "quantile_size 23\n",
      "len examples 238\n",
      "n_quantiles 10\n",
      "quantile_size 51\n",
      "len examples 514\n",
      "n_quantiles 10\n"
     ]
    },
    {
     "name": "stderr",
     "output_type": "stream",
     "text": [
      "Loading .model.layers.12: 1446it [00:59, 30.36it/s]"
     ]
    },
    {
     "name": "stdout",
     "output_type": "stream",
     "text": [
      "quantile_size 31\n",
      "len examples 319\n",
      "n_quantiles 10\n",
      "quantile_size 28\n",
      "len examples 283\n",
      "n_quantiles 10\n",
      "quantile_size 31\n",
      "len examples 313\n",
      "n_quantiles 10\n",
      "quantile_size 57\n",
      "len examples 578\n",
      "n_quantiles 10\n",
      "quantile_size 26\n",
      "len examples 267\n",
      "n_quantiles 10\n"
     ]
    },
    {
     "name": "stderr",
     "output_type": "stream",
     "text": [
      "Loading .model.layers.12: 1450it [00:59, 26.37it/s]"
     ]
    },
    {
     "name": "stdout",
     "output_type": "stream",
     "text": [
      "quantile_size 62\n",
      "len examples 626\n",
      "n_quantiles 10\n",
      "quantile_size 73\n",
      "len examples 739\n",
      "n_quantiles 10\n",
      "quantile_size 25\n",
      "len examples 251\n",
      "n_quantiles 10\n",
      "quantile_size 50\n",
      "len examples 501\n",
      "n_quantiles 10\n"
     ]
    },
    {
     "name": "stderr",
     "output_type": "stream",
     "text": [
      "Loading .model.layers.12: 1467it [01:00, 37.55it/s]"
     ]
    },
    {
     "name": "stdout",
     "output_type": "stream",
     "text": [
      "quantile_size 11\n",
      "len examples 110\n",
      "n_quantiles 10\n",
      "quantile_size 36\n",
      "len examples 369\n",
      "n_quantiles 10\n",
      "quantile_size 36\n",
      "len examples 369\n",
      "n_quantiles 10\n",
      "quantile_size 26\n",
      "len examples 265\n",
      "n_quantiles 10\n",
      "quantile_size 121\n",
      "len examples 1219\n",
      "n_quantiles 10\n"
     ]
    },
    {
     "name": "stderr",
     "output_type": "stream",
     "text": [
      "Loading .model.layers.12: 1475it [01:00, 37.70it/s]"
     ]
    },
    {
     "name": "stdout",
     "output_type": "stream",
     "text": [
      "quantile_size 49\n",
      "len examples 495\n",
      "n_quantiles 10\n",
      "quantile_size 72\n",
      "len examples 724\n",
      "n_quantiles 10\n",
      "quantile_size 24\n",
      "len examples 249\n",
      "n_quantiles 10\n",
      "quantile_size 80\n",
      "len examples 800\n",
      "n_quantiles 10\n",
      "quantile_size 18\n",
      "len examples 180\n",
      "n_quantiles 10\n",
      "quantile_size 171\n",
      "len examples 1719\n",
      "n_quantiles 10\n"
     ]
    },
    {
     "name": "stderr",
     "output_type": "stream",
     "text": [
      "Loading .model.layers.12: 1489it [01:00, 42.37it/s]"
     ]
    },
    {
     "name": "stdout",
     "output_type": "stream",
     "text": [
      "quantile_size 15\n",
      "len examples 154\n",
      "n_quantiles 10\n",
      "quantile_size 65\n",
      "len examples 655\n",
      "n_quantiles 10\n",
      "quantile_size 6\n",
      "len examples 64\n",
      "n_quantiles 10\n",
      "quantile_size 35\n",
      "len examples 352\n",
      "n_quantiles 10\n"
     ]
    },
    {
     "name": "stderr",
     "output_type": "stream",
     "text": [
      "Loading .model.layers.12: 1494it [01:00, 43.42it/s]"
     ]
    },
    {
     "name": "stdout",
     "output_type": "stream",
     "text": [
      "quantile_size 65\n",
      "len examples 653\n",
      "n_quantiles 10\n",
      "quantile_size 19\n",
      "len examples 190\n",
      "n_quantiles 10\n",
      "quantile_size 52\n",
      "len examples 527\n",
      "n_quantiles 10\n",
      "quantile_size 29\n",
      "len examples 298\n",
      "n_quantiles 10\n",
      "quantile_size 20\n",
      "len examples 204\n",
      "n_quantiles 10\n"
     ]
    },
    {
     "name": "stderr",
     "output_type": "stream",
     "text": [
      "Loading .model.layers.12: 1503it [01:00, 37.27it/s]"
     ]
    },
    {
     "name": "stdout",
     "output_type": "stream",
     "text": [
      "quantile_size 39\n",
      "len examples 390\n",
      "n_quantiles 10\n",
      "quantile_size 38\n",
      "len examples 380\n",
      "n_quantiles 10\n",
      "quantile_size 43\n",
      "len examples 439\n",
      "n_quantiles 10\n",
      "quantile_size 16\n",
      "len examples 161\n",
      "n_quantiles 10\n",
      "quantile_size 16\n",
      "len examples 161\n",
      "n_quantiles 10\n"
     ]
    },
    {
     "name": "stderr",
     "output_type": "stream",
     "text": [
      "Loading .model.layers.12: 1511it [01:01, 30.62it/s]"
     ]
    },
    {
     "name": "stdout",
     "output_type": "stream",
     "text": [
      "quantile_size 244\n",
      "len examples 2445\n",
      "n_quantiles 10\n",
      "quantile_size 107\n",
      "len examples 1075\n",
      "n_quantiles 10\n",
      "quantile_size 102\n",
      "len examples 1021\n",
      "n_quantiles 10\n",
      "quantile_size 50\n",
      "len examples 503\n",
      "n_quantiles 10\n",
      "quantile_size 30\n",
      "len examples 304\n",
      "n_quantiles 10\n"
     ]
    },
    {
     "name": "stderr",
     "output_type": "stream",
     "text": [
      "Loading .model.layers.12: 1520it [01:01, 31.51it/s]"
     ]
    },
    {
     "name": "stdout",
     "output_type": "stream",
     "text": [
      "quantile_size 117\n",
      "len examples 1174\n",
      "n_quantiles 10\n",
      "quantile_size 40\n",
      "len examples 407\n",
      "n_quantiles 10\n",
      "quantile_size 46\n",
      "len examples 460\n",
      "n_quantiles 10\n",
      "quantile_size 16\n",
      "len examples 163\n",
      "n_quantiles 10\n",
      "quantile_size 18\n",
      "len examples 182\n",
      "n_quantiles 10\n",
      "quantile_size 87\n",
      "len examples 872\n",
      "n_quantiles 10\n"
     ]
    },
    {
     "name": "stderr",
     "output_type": "stream",
     "text": [
      "Loading .model.layers.12: 1528it [01:01, 29.78it/s]"
     ]
    },
    {
     "name": "stdout",
     "output_type": "stream",
     "text": [
      "quantile_size 27\n",
      "len examples 276\n",
      "n_quantiles 10\n",
      "quantile_size 27\n",
      "len examples 279\n",
      "n_quantiles 10\n",
      "quantile_size 62\n",
      "len examples 623\n",
      "n_quantiles 10\n",
      "quantile_size 38\n",
      "len examples 385\n",
      "n_quantiles 10\n",
      "quantile_size 4\n",
      "len examples 49\n",
      "n_quantiles 10\n"
     ]
    },
    {
     "name": "stderr",
     "output_type": "stream",
     "text": [
      "Loading .model.layers.12: 1537it [01:02, 36.21it/s]"
     ]
    },
    {
     "name": "stdout",
     "output_type": "stream",
     "text": [
      "quantile_size 51\n",
      "len examples 510\n",
      "n_quantiles 10\n",
      "quantile_size 20\n",
      "len examples 204\n",
      "n_quantiles 10\n",
      "quantile_size 16\n",
      "len examples 168\n",
      "n_quantiles 10\n",
      "quantile_size 19\n",
      "len examples 190\n",
      "n_quantiles 10\n"
     ]
    },
    {
     "name": "stderr",
     "output_type": "stream",
     "text": [
      "Loading .model.layers.12: 1541it [01:02, 29.87it/s]"
     ]
    },
    {
     "name": "stdout",
     "output_type": "stream",
     "text": [
      "quantile_size 24\n",
      "len examples 246\n",
      "n_quantiles 10\n",
      "quantile_size 34\n",
      "len examples 349\n",
      "n_quantiles 10\n",
      "quantile_size 16\n",
      "len examples 166\n",
      "n_quantiles 10\n",
      "quantile_size 120\n",
      "len examples 1200\n",
      "n_quantiles 10\n"
     ]
    },
    {
     "name": "stderr",
     "output_type": "stream",
     "text": [
      "Loading .model.layers.12: 1548it [01:02, 26.52it/s]"
     ]
    },
    {
     "name": "stdout",
     "output_type": "stream",
     "text": [
      "quantile_size 30\n",
      "len examples 308\n",
      "n_quantiles 10\n",
      "quantile_size 149\n",
      "len examples 1499\n",
      "n_quantiles 10\n",
      "quantile_size 63\n",
      "len examples 634\n",
      "n_quantiles 10\n"
     ]
    },
    {
     "name": "stderr",
     "output_type": "stream",
     "text": [
      "Loading .model.layers.12: 1554it [01:02, 23.95it/s]"
     ]
    },
    {
     "name": "stdout",
     "output_type": "stream",
     "text": [
      "quantile_size 134\n",
      "len examples 1346\n",
      "n_quantiles 10\n",
      "quantile_size 18\n",
      "len examples 186\n",
      "n_quantiles 10\n",
      "quantile_size 58\n",
      "len examples 580\n",
      "n_quantiles 10\n",
      "quantile_size 31\n",
      "len examples 317\n",
      "n_quantiles 10\n"
     ]
    },
    {
     "name": "stderr",
     "output_type": "stream",
     "text": [
      "Loading .model.layers.12: 1557it [01:03, 17.15it/s]"
     ]
    },
    {
     "name": "stdout",
     "output_type": "stream",
     "text": [
      "quantile_size 27\n",
      "len examples 276\n",
      "n_quantiles 10\n"
     ]
    },
    {
     "name": "stderr",
     "output_type": "stream",
     "text": [
      "Loading .model.layers.12: 1560it [01:03, 11.27it/s]"
     ]
    },
    {
     "name": "stdout",
     "output_type": "stream",
     "text": [
      "quantile_size 22\n",
      "len examples 222\n",
      "n_quantiles 10\n",
      "quantile_size 35\n",
      "len examples 356\n",
      "n_quantiles 10\n"
     ]
    },
    {
     "name": "stderr",
     "output_type": "stream",
     "text": [
      "Loading .model.layers.12: 1562it [01:04,  7.52it/s]"
     ]
    },
    {
     "name": "stdout",
     "output_type": "stream",
     "text": [
      "quantile_size 17\n",
      "len examples 173\n",
      "n_quantiles 10\n",
      "quantile_size 31\n",
      "len examples 319\n",
      "n_quantiles 10\n"
     ]
    },
    {
     "name": "stderr",
     "output_type": "stream",
     "text": [
      "Loading .model.layers.12: 1566it [01:04,  7.76it/s]"
     ]
    },
    {
     "name": "stdout",
     "output_type": "stream",
     "text": [
      "quantile_size 42\n",
      "len examples 424\n",
      "n_quantiles 10\n",
      "quantile_size 15\n",
      "len examples 150\n",
      "n_quantiles 10\n"
     ]
    },
    {
     "name": "stderr",
     "output_type": "stream",
     "text": [
      "Loading .model.layers.12: 1571it [01:05,  9.68it/s]"
     ]
    },
    {
     "name": "stdout",
     "output_type": "stream",
     "text": [
      "quantile_size 85\n",
      "len examples 858\n",
      "n_quantiles 10\n"
     ]
    },
    {
     "name": "stderr",
     "output_type": "stream",
     "text": [
      "Loading .model.layers.12: 1573it [01:05,  7.77it/s]"
     ]
    },
    {
     "name": "stdout",
     "output_type": "stream",
     "text": [
      "quantile_size 46\n",
      "len examples 464\n",
      "n_quantiles 10\n",
      "quantile_size 15\n",
      "len examples 155\n",
      "n_quantiles 10\n"
     ]
    },
    {
     "name": "stderr",
     "output_type": "stream",
     "text": [
      "Loading .model.layers.12: 1575it [01:06,  6.24it/s]"
     ]
    },
    {
     "name": "stdout",
     "output_type": "stream",
     "text": [
      "quantile_size 87\n",
      "len examples 872\n",
      "n_quantiles 10\n",
      "quantile_size 20\n",
      "len examples 207\n",
      "n_quantiles 10\n"
     ]
    },
    {
     "name": "stderr",
     "output_type": "stream",
     "text": [
      "Loading .model.layers.12: 1576it [01:06,  6.61it/s]"
     ]
    },
    {
     "name": "stdout",
     "output_type": "stream",
     "text": [
      "quantile_size 43\n",
      "len examples 438\n",
      "n_quantiles 10\n",
      "quantile_size 18\n",
      "len examples 189\n",
      "n_quantiles 10\n"
     ]
    },
    {
     "name": "stderr",
     "output_type": "stream",
     "text": [
      "Loading .model.layers.12: 1578it [01:06,  7.34it/s]"
     ]
    },
    {
     "name": "stdout",
     "output_type": "stream",
     "text": [
      "quantile_size 44\n",
      "len examples 440\n",
      "n_quantiles 10\n"
     ]
    },
    {
     "name": "stderr",
     "output_type": "stream",
     "text": [
      "Loading .model.layers.12: 1580it [01:06,  5.98it/s]"
     ]
    },
    {
     "name": "stdout",
     "output_type": "stream",
     "text": [
      "quantile_size 22\n",
      "len examples 227\n",
      "n_quantiles 10\n",
      "quantile_size 69\n",
      "len examples 691\n",
      "n_quantiles 10\n",
      "quantile_size 31\n",
      "len examples 316\n",
      "n_quantiles 10\n"
     ]
    },
    {
     "name": "stderr",
     "output_type": "stream",
     "text": [
      "Loading .model.layers.12: 1586it [01:07, 12.24it/s]"
     ]
    },
    {
     "name": "stdout",
     "output_type": "stream",
     "text": [
      "quantile_size 53\n",
      "len examples 535\n",
      "n_quantiles 10\n",
      "quantile_size 20\n",
      "len examples 209\n",
      "n_quantiles 10\n",
      "quantile_size 19\n",
      "len examples 198\n",
      "n_quantiles 10\n"
     ]
    },
    {
     "name": "stderr",
     "output_type": "stream",
     "text": [
      "Loading .model.layers.12: 1588it [01:07,  9.97it/s]"
     ]
    },
    {
     "name": "stdout",
     "output_type": "stream",
     "text": [
      "quantile_size 10\n",
      "len examples 102\n",
      "n_quantiles 10\n"
     ]
    },
    {
     "name": "stderr",
     "output_type": "stream",
     "text": [
      "Loading .model.layers.12: 1590it [01:07,  7.74it/s]"
     ]
    },
    {
     "name": "stdout",
     "output_type": "stream",
     "text": [
      "quantile_size 6\n",
      "len examples 60\n",
      "n_quantiles 10\n"
     ]
    },
    {
     "name": "stderr",
     "output_type": "stream",
     "text": [
      "Loading .model.layers.12: 1592it [01:08,  6.83it/s]"
     ]
    },
    {
     "name": "stdout",
     "output_type": "stream",
     "text": [
      "quantile_size 41\n",
      "len examples 416\n",
      "n_quantiles 10\n"
     ]
    },
    {
     "name": "stderr",
     "output_type": "stream",
     "text": [
      "Loading .model.layers.12: 1594it [01:08,  4.84it/s]"
     ]
    },
    {
     "name": "stdout",
     "output_type": "stream",
     "text": [
      "quantile_size 27\n",
      "len examples 271\n",
      "n_quantiles 10\n",
      "quantile_size 21\n",
      "len examples 212\n",
      "n_quantiles 10\n",
      "quantile_size 6\n",
      "len examples 65\n",
      "n_quantiles 10\n"
     ]
    },
    {
     "name": "stderr",
     "output_type": "stream",
     "text": [
      "Loading .model.layers.12: 1596it [01:09,  4.54it/s]"
     ]
    },
    {
     "name": "stdout",
     "output_type": "stream",
     "text": [
      "quantile_size 36\n",
      "len examples 368\n",
      "n_quantiles 10\n",
      "quantile_size 11\n",
      "len examples 119\n",
      "n_quantiles 10\n"
     ]
    },
    {
     "name": "stderr",
     "output_type": "stream",
     "text": [
      "Loading .model.layers.12: 1600it [01:09,  6.58it/s]"
     ]
    },
    {
     "name": "stdout",
     "output_type": "stream",
     "text": [
      "quantile_size 54\n",
      "len examples 549\n",
      "n_quantiles 10\n",
      "quantile_size 17\n",
      "len examples 175\n",
      "n_quantiles 10\n",
      "quantile_size 51\n",
      "len examples 513\n",
      "n_quantiles 10\n"
     ]
    },
    {
     "name": "stderr",
     "output_type": "stream",
     "text": [
      "Loading .model.layers.12: 1607it [01:10, 13.94it/s]"
     ]
    },
    {
     "name": "stdout",
     "output_type": "stream",
     "text": [
      "quantile_size 137\n",
      "len examples 1375\n",
      "n_quantiles 10\n",
      "quantile_size 51\n",
      "len examples 517\n",
      "n_quantiles 10\n",
      "quantile_size 69\n",
      "len examples 697\n",
      "n_quantiles 10\n",
      "quantile_size 23\n",
      "len examples 232\n",
      "n_quantiles 10\n"
     ]
    },
    {
     "name": "stderr",
     "output_type": "stream",
     "text": [
      "Loading .model.layers.12: 1620it [01:10, 32.05it/s]"
     ]
    },
    {
     "name": "stdout",
     "output_type": "stream",
     "text": [
      "quantile_size 25\n",
      "len examples 255\n",
      "n_quantiles 10\n",
      "quantile_size 63\n",
      "len examples 630\n",
      "n_quantiles 10\n",
      "quantile_size 40\n",
      "len examples 409\n",
      "n_quantiles 10\n",
      "quantile_size 12\n",
      "len examples 126\n",
      "n_quantiles 10\n",
      "quantile_size 88\n",
      "len examples 886\n",
      "n_quantiles 10\n",
      "quantile_size 48\n",
      "len examples 488\n",
      "n_quantiles 10\n"
     ]
    },
    {
     "name": "stderr",
     "output_type": "stream",
     "text": [
      "Loading .model.layers.12: 1635it [01:11, 25.25it/s]"
     ]
    },
    {
     "name": "stdout",
     "output_type": "stream",
     "text": [
      "quantile_size 182\n",
      "len examples 1822\n",
      "n_quantiles 10\n",
      "quantile_size 29\n",
      "len examples 296\n",
      "n_quantiles 10\n",
      "quantile_size 237\n",
      "len examples 2377\n",
      "n_quantiles 10\n",
      "quantile_size 17\n",
      "len examples 172\n",
      "n_quantiles 10\n",
      "quantile_size 71\n",
      "len examples 716\n",
      "n_quantiles 10\n",
      "quantile_size 10\n",
      "len examples 105\n",
      "n_quantiles 10\n",
      "quantile_size 86\n",
      "len examples 868\n",
      "n_quantiles 10\n"
     ]
    },
    {
     "name": "stderr",
     "output_type": "stream",
     "text": [
      "Loading .model.layers.12: 1645it [01:11, 27.79it/s]"
     ]
    },
    {
     "name": "stdout",
     "output_type": "stream",
     "text": [
      "quantile_size 12\n",
      "len examples 126\n",
      "n_quantiles 10\n",
      "quantile_size 28\n",
      "len examples 289\n",
      "n_quantiles 10\n",
      "quantile_size 25\n",
      "len examples 255\n",
      "n_quantiles 10\n",
      "quantile_size 28\n",
      "len examples 282\n",
      "n_quantiles 10\n",
      "quantile_size 69\n",
      "len examples 691\n",
      "n_quantiles 10\n",
      "quantile_size 10\n",
      "len examples 106\n",
      "n_quantiles 10\n"
     ]
    },
    {
     "name": "stderr",
     "output_type": "stream",
     "text": [
      "Loading .model.layers.12: 1651it [01:11, 33.24it/s]"
     ]
    },
    {
     "name": "stdout",
     "output_type": "stream",
     "text": [
      "quantile_size 70\n",
      "len examples 705\n",
      "n_quantiles 10\n",
      "quantile_size 9\n",
      "len examples 94\n",
      "n_quantiles 10\n",
      "quantile_size 32\n",
      "len examples 325\n",
      "n_quantiles 10\n",
      "quantile_size 55\n",
      "len examples 555\n",
      "n_quantiles 10\n",
      "quantile_size 123\n",
      "len examples 1239\n",
      "n_quantiles 10\n"
     ]
    },
    {
     "name": "stderr",
     "output_type": "stream",
     "text": [
      "Loading .model.layers.12: 1656it [01:11, 30.55it/s]"
     ]
    },
    {
     "name": "stdout",
     "output_type": "stream",
     "text": [
      "quantile_size 24\n",
      "len examples 244\n",
      "n_quantiles 10\n",
      "quantile_size 12\n",
      "len examples 124\n",
      "n_quantiles 10\n",
      "quantile_size 30\n",
      "len examples 301\n",
      "n_quantiles 10\n",
      "quantile_size 71\n",
      "len examples 715\n",
      "n_quantiles 10\n",
      "quantile_size 154\n",
      "len examples 1549\n",
      "n_quantiles 10\n"
     ]
    },
    {
     "name": "stderr",
     "output_type": "stream",
     "text": [
      "Loading .model.layers.12: 1664it [01:12, 29.35it/s]"
     ]
    },
    {
     "name": "stdout",
     "output_type": "stream",
     "text": [
      "quantile_size 20\n",
      "len examples 202\n",
      "n_quantiles 10\n",
      "quantile_size 107\n",
      "len examples 1072\n",
      "n_quantiles 10\n",
      "quantile_size 49\n",
      "len examples 499\n",
      "n_quantiles 10\n",
      "quantile_size 36\n",
      "len examples 368\n",
      "n_quantiles 10\n",
      "quantile_size 27\n",
      "len examples 273\n",
      "n_quantiles 10\n"
     ]
    },
    {
     "name": "stderr",
     "output_type": "stream",
     "text": [
      "Loading .model.layers.12: 1672it [01:12, 27.43it/s]"
     ]
    },
    {
     "name": "stdout",
     "output_type": "stream",
     "text": [
      "quantile_size 37\n",
      "len examples 377\n",
      "n_quantiles 10\n",
      "quantile_size 49\n",
      "len examples 497\n",
      "n_quantiles 10\n",
      "quantile_size 37\n",
      "len examples 374\n",
      "n_quantiles 10\n",
      "quantile_size 21\n",
      "len examples 211\n",
      "n_quantiles 10\n",
      "quantile_size 47\n",
      "len examples 479\n",
      "n_quantiles 10\n",
      "quantile_size 26\n",
      "len examples 261\n",
      "n_quantiles 10\n"
     ]
    },
    {
     "name": "stderr",
     "output_type": "stream",
     "text": [
      "Loading .model.layers.12: 1676it [01:12, 29.81it/s]"
     ]
    },
    {
     "name": "stdout",
     "output_type": "stream",
     "text": [
      "quantile_size 46\n",
      "len examples 462\n",
      "n_quantiles 10\n",
      "quantile_size 72\n",
      "len examples 722\n",
      "n_quantiles 10\n",
      "quantile_size 72\n",
      "len examples 724\n",
      "n_quantiles 10\n",
      "quantile_size 48\n",
      "len examples 482\n",
      "n_quantiles 10\n",
      "quantile_size 29\n",
      "len examples 299\n",
      "n_quantiles 10\n"
     ]
    },
    {
     "name": "stderr",
     "output_type": "stream",
     "text": [
      "Loading .model.layers.12: 1680it [01:12, 26.55it/s]"
     ]
    },
    {
     "name": "stdout",
     "output_type": "stream",
     "text": [
      "quantile_size 23\n",
      "len examples 233\n",
      "n_quantiles 10\n",
      "quantile_size 72\n",
      "len examples 724\n",
      "n_quantiles 10\n",
      "quantile_size 74\n",
      "len examples 744\n",
      "n_quantiles 10\n"
     ]
    },
    {
     "name": "stderr",
     "output_type": "stream",
     "text": [
      "Loading .model.layers.12: 1686it [01:12, 23.64it/s]"
     ]
    },
    {
     "name": "stdout",
     "output_type": "stream",
     "text": [
      "quantile_size 62\n",
      "len examples 627\n",
      "n_quantiles 10\n",
      "quantile_size 12\n",
      "len examples 120\n",
      "n_quantiles 10\n"
     ]
    },
    {
     "name": "stderr",
     "output_type": "stream",
     "text": [
      "Loading .model.layers.12: 1695it [01:13, 26.65it/s]"
     ]
    },
    {
     "name": "stdout",
     "output_type": "stream",
     "text": [
      "quantile_size 67\n",
      "len examples 676\n",
      "n_quantiles 10\n",
      "quantile_size 22\n",
      "len examples 220\n",
      "n_quantiles 10\n"
     ]
    },
    {
     "name": "stderr",
     "output_type": "stream",
     "text": [
      "Loading .model.layers.12: 1705it [01:13, 32.36it/s]"
     ]
    },
    {
     "name": "stdout",
     "output_type": "stream",
     "text": [
      "quantile_size 93\n",
      "len examples 935\n",
      "n_quantiles 10\n",
      "quantile_size 34\n",
      "len examples 342\n",
      "n_quantiles 10\n",
      "quantile_size 30\n",
      "len examples 303\n",
      "n_quantiles 10\n",
      "quantile_size 13\n",
      "len examples 136\n",
      "n_quantiles 10\n",
      "quantile_size 20\n",
      "len examples 208\n",
      "n_quantiles 10\n",
      "quantile_size 20\n",
      "len examples 204\n",
      "n_quantiles 10\n",
      "quantile_size 21\n",
      "len examples 211\n",
      "n_quantiles 10\n"
     ]
    },
    {
     "name": "stderr",
     "output_type": "stream",
     "text": [
      "Loading .model.layers.12: 1713it [01:13, 28.91it/s]"
     ]
    },
    {
     "name": "stdout",
     "output_type": "stream",
     "text": [
      "quantile_size 62\n",
      "len examples 626\n",
      "n_quantiles 10\n",
      "quantile_size 18\n",
      "len examples 183\n",
      "n_quantiles 10\n",
      "quantile_size 35\n",
      "len examples 352\n",
      "n_quantiles 10\n",
      "quantile_size 49\n",
      "len examples 496\n",
      "n_quantiles 10\n"
     ]
    },
    {
     "name": "stderr",
     "output_type": "stream",
     "text": [
      "Loading .model.layers.12: 1722it [01:14, 35.48it/s]"
     ]
    },
    {
     "name": "stdout",
     "output_type": "stream",
     "text": [
      "quantile_size 35\n",
      "len examples 352\n",
      "n_quantiles 10\n",
      "quantile_size 108\n",
      "len examples 1085\n",
      "n_quantiles 10\n",
      "quantile_size 61\n",
      "len examples 610\n",
      "n_quantiles 10\n",
      "quantile_size 14\n",
      "len examples 146\n",
      "n_quantiles 10\n",
      "quantile_size 15\n",
      "len examples 153\n",
      "n_quantiles 10\n"
     ]
    },
    {
     "name": "stderr",
     "output_type": "stream",
     "text": [
      "Loading .model.layers.12: 1728it [01:14, 41.55it/s]"
     ]
    },
    {
     "name": "stdout",
     "output_type": "stream",
     "text": [
      "quantile_size 19\n",
      "len examples 195\n",
      "n_quantiles 10\n",
      "quantile_size 21\n",
      "len examples 210\n",
      "n_quantiles 10\n"
     ]
    },
    {
     "name": "stderr",
     "output_type": "stream",
     "text": [
      "Loading .model.layers.12: 1737it [01:14, 29.57it/s]"
     ]
    },
    {
     "name": "stdout",
     "output_type": "stream",
     "text": [
      "quantile_size 613\n",
      "len examples 6131\n",
      "n_quantiles 10\n",
      "quantile_size 21\n",
      "len examples 217\n",
      "n_quantiles 10\n",
      "quantile_size 43\n",
      "len examples 439\n",
      "n_quantiles 10\n",
      "quantile_size 39\n",
      "len examples 398\n",
      "n_quantiles 10\n",
      "quantile_size 28\n",
      "len examples 281\n",
      "n_quantiles 10\n",
      "quantile_size 112\n",
      "len examples 1126\n",
      "n_quantiles 10\n",
      "quantile_size 13\n",
      "len examples 130\n",
      "n_quantiles 10\n"
     ]
    },
    {
     "name": "stderr",
     "output_type": "stream",
     "text": [
      "Loading .model.layers.12: 1745it [01:14, 33.28it/s]"
     ]
    },
    {
     "name": "stdout",
     "output_type": "stream",
     "text": [
      "quantile_size 17\n",
      "len examples 177\n",
      "n_quantiles 10\n",
      "quantile_size 31\n",
      "len examples 319\n",
      "n_quantiles 10\n",
      "quantile_size 29\n",
      "len examples 293\n",
      "n_quantiles 10\n",
      "quantile_size 29\n",
      "len examples 299\n",
      "n_quantiles 10\n"
     ]
    },
    {
     "name": "stderr",
     "output_type": "stream",
     "text": [
      "Loading .model.layers.12: 1755it [01:15, 29.10it/s]"
     ]
    },
    {
     "name": "stdout",
     "output_type": "stream",
     "text": [
      "quantile_size 50\n",
      "len examples 500\n",
      "n_quantiles 10\n",
      "quantile_size 97\n",
      "len examples 978\n",
      "n_quantiles 10\n",
      "quantile_size 42\n",
      "len examples 428\n",
      "n_quantiles 10\n",
      "quantile_size 32\n",
      "len examples 325\n",
      "n_quantiles 10\n"
     ]
    },
    {
     "name": "stderr",
     "output_type": "stream",
     "text": [
      "Loading .model.layers.12: 1763it [01:15, 27.48it/s]"
     ]
    },
    {
     "name": "stdout",
     "output_type": "stream",
     "text": [
      "quantile_size 90\n",
      "len examples 906\n",
      "n_quantiles 10\n",
      "quantile_size 21\n",
      "len examples 218\n",
      "n_quantiles 10\n",
      "quantile_size 10\n",
      "len examples 104\n",
      "n_quantiles 10\n",
      "quantile_size 42\n",
      "len examples 425\n",
      "n_quantiles 10\n",
      "quantile_size 14\n",
      "len examples 146\n",
      "n_quantiles 10\n"
     ]
    },
    {
     "name": "stderr",
     "output_type": "stream",
     "text": [
      "Loading .model.layers.12: 1771it [01:15, 31.78it/s]"
     ]
    },
    {
     "name": "stdout",
     "output_type": "stream",
     "text": [
      "quantile_size 24\n",
      "len examples 241\n",
      "n_quantiles 10\n",
      "quantile_size 107\n",
      "len examples 1073\n",
      "n_quantiles 10\n",
      "quantile_size 42\n",
      "len examples 429\n",
      "n_quantiles 10\n",
      "quantile_size 46\n",
      "len examples 469\n",
      "n_quantiles 10\n",
      "quantile_size 21\n",
      "len examples 216\n",
      "n_quantiles 10\n"
     ]
    },
    {
     "name": "stderr",
     "output_type": "stream",
     "text": [
      "Loading .model.layers.12: 1775it [01:15, 27.44it/s]"
     ]
    },
    {
     "name": "stdout",
     "output_type": "stream",
     "text": [
      "quantile_size 12\n",
      "len examples 129\n",
      "n_quantiles 10\n",
      "quantile_size 61\n",
      "len examples 617\n",
      "n_quantiles 10\n",
      "quantile_size 48\n",
      "len examples 483\n",
      "n_quantiles 10\n",
      "quantile_size 48\n",
      "len examples 486\n",
      "n_quantiles 10\n",
      "quantile_size 31\n",
      "len examples 312\n",
      "n_quantiles 10\n"
     ]
    },
    {
     "name": "stderr",
     "output_type": "stream",
     "text": [
      "Loading .model.layers.12: 1783it [01:16, 32.38it/s]"
     ]
    },
    {
     "name": "stdout",
     "output_type": "stream",
     "text": [
      "quantile_size 10\n",
      "len examples 106\n",
      "n_quantiles 10\n",
      "quantile_size 23\n",
      "len examples 231\n",
      "n_quantiles 10\n",
      "quantile_size 22\n",
      "len examples 220\n",
      "n_quantiles 10\n",
      "quantile_size 81\n",
      "len examples 813\n",
      "n_quantiles 10\n"
     ]
    },
    {
     "name": "stderr",
     "output_type": "stream",
     "text": [
      "Loading .model.layers.12: 1793it [01:16, 22.74it/s]"
     ]
    },
    {
     "name": "stdout",
     "output_type": "stream",
     "text": [
      "quantile_size 19\n",
      "len examples 193\n",
      "n_quantiles 10\n",
      "quantile_size 40\n",
      "len examples 405\n",
      "n_quantiles 10\n",
      "quantile_size 5\n",
      "len examples 58\n",
      "n_quantiles 10\n"
     ]
    },
    {
     "name": "stderr",
     "output_type": "stream",
     "text": [
      "Loading .model.layers.12: 1804it [01:16, 34.65it/s]"
     ]
    },
    {
     "name": "stdout",
     "output_type": "stream",
     "text": [
      "quantile_size 67\n",
      "len examples 670\n",
      "n_quantiles 10\n",
      "quantile_size 22\n",
      "len examples 229\n",
      "n_quantiles 10\n",
      "quantile_size 15\n",
      "len examples 151\n",
      "n_quantiles 10\n",
      "quantile_size 15\n",
      "len examples 153\n",
      "n_quantiles 10\n",
      "quantile_size 31\n",
      "len examples 311\n",
      "n_quantiles 10\n",
      "quantile_size 88\n",
      "len examples 886\n",
      "n_quantiles 10\n",
      "quantile_size 23\n",
      "len examples 236\n",
      "n_quantiles 10\n"
     ]
    },
    {
     "name": "stderr",
     "output_type": "stream",
     "text": [
      "Loading .model.layers.12: 1814it [01:17, 35.16it/s]"
     ]
    },
    {
     "name": "stdout",
     "output_type": "stream",
     "text": [
      "quantile_size 204\n",
      "len examples 2049\n",
      "n_quantiles 10\n",
      "quantile_size 13\n",
      "len examples 133\n",
      "n_quantiles 10\n",
      "quantile_size 74\n",
      "len examples 741\n",
      "n_quantiles 10\n",
      "quantile_size 42\n",
      "len examples 423\n",
      "n_quantiles 10\n"
     ]
    },
    {
     "name": "stderr",
     "output_type": "stream",
     "text": [
      "Loading .model.layers.12: 1819it [01:17, 38.09it/s]"
     ]
    },
    {
     "name": "stdout",
     "output_type": "stream",
     "text": [
      "quantile_size 22\n",
      "len examples 226\n",
      "n_quantiles 10\n",
      "quantile_size 20\n",
      "len examples 200\n",
      "n_quantiles 10\n",
      "quantile_size 89\n",
      "len examples 896\n",
      "n_quantiles 10\n",
      "quantile_size 28\n",
      "len examples 282\n",
      "n_quantiles 10\n",
      "quantile_size 108\n",
      "len examples 1081\n",
      "n_quantiles 10\n"
     ]
    },
    {
     "name": "stderr",
     "output_type": "stream",
     "text": [
      "Loading .model.layers.12: 1828it [01:17, 28.73it/s]"
     ]
    },
    {
     "name": "stdout",
     "output_type": "stream",
     "text": [
      "quantile_size 62\n",
      "len examples 622\n",
      "n_quantiles 10\n",
      "quantile_size 17\n",
      "len examples 171\n",
      "n_quantiles 10\n",
      "quantile_size 32\n",
      "len examples 325\n",
      "n_quantiles 10\n",
      "quantile_size 35\n",
      "len examples 356\n",
      "n_quantiles 10\n",
      "quantile_size 18\n",
      "len examples 183\n",
      "n_quantiles 10\n"
     ]
    },
    {
     "name": "stderr",
     "output_type": "stream",
     "text": [
      "Loading .model.layers.12: 1837it [01:17, 34.27it/s]"
     ]
    },
    {
     "name": "stdout",
     "output_type": "stream",
     "text": [
      "quantile_size 13\n",
      "len examples 139\n",
      "n_quantiles 10\n",
      "quantile_size 55\n",
      "len examples 553\n",
      "n_quantiles 10\n",
      "quantile_size 37\n",
      "len examples 370\n",
      "n_quantiles 10\n",
      "quantile_size 33\n",
      "len examples 332\n",
      "n_quantiles 10\n",
      "quantile_size 92\n",
      "len examples 922\n",
      "n_quantiles 10\n"
     ]
    },
    {
     "name": "stderr",
     "output_type": "stream",
     "text": [
      "Loading .model.layers.12: 1842it [01:17, 37.73it/s]"
     ]
    },
    {
     "name": "stdout",
     "output_type": "stream",
     "text": [
      "quantile_size 19\n",
      "len examples 195\n",
      "n_quantiles 10\n",
      "quantile_size 28\n",
      "len examples 284\n",
      "n_quantiles 10\n",
      "quantile_size 152\n",
      "len examples 1522\n",
      "n_quantiles 10\n",
      "quantile_size 101\n",
      "len examples 1018\n",
      "n_quantiles 10\n"
     ]
    },
    {
     "name": "stderr",
     "output_type": "stream",
     "text": [
      "Loading .model.layers.12: 1851it [01:18, 34.57it/s]"
     ]
    },
    {
     "name": "stdout",
     "output_type": "stream",
     "text": [
      "quantile_size 63\n",
      "len examples 639\n",
      "n_quantiles 10\n",
      "quantile_size 88\n",
      "len examples 882\n",
      "n_quantiles 10\n",
      "quantile_size 50\n",
      "len examples 501\n",
      "n_quantiles 10\n",
      "quantile_size 50\n",
      "len examples 505\n",
      "n_quantiles 10\n"
     ]
    },
    {
     "name": "stderr",
     "output_type": "stream",
     "text": [
      "Loading .model.layers.12: 1862it [01:18, 37.87it/s]"
     ]
    },
    {
     "name": "stdout",
     "output_type": "stream",
     "text": [
      "quantile_size 99\n",
      "len examples 999\n",
      "n_quantiles 10\n",
      "quantile_size 50\n",
      "len examples 505\n",
      "n_quantiles 10\n",
      "quantile_size 9\n",
      "len examples 98\n",
      "n_quantiles 10\n",
      "quantile_size 18\n",
      "len examples 181\n",
      "n_quantiles 10\n",
      "quantile_size 7\n",
      "len examples 71\n",
      "n_quantiles 10\n"
     ]
    },
    {
     "name": "stderr",
     "output_type": "stream",
     "text": [
      "Loading .model.layers.12: 1877it [01:18, 42.10it/s]"
     ]
    },
    {
     "name": "stdout",
     "output_type": "stream",
     "text": [
      "quantile_size 33\n",
      "len examples 332\n",
      "n_quantiles 10\n",
      "quantile_size 23\n",
      "len examples 233\n",
      "n_quantiles 10\n",
      "quantile_size 23\n",
      "len examples 236\n",
      "n_quantiles 10\n",
      "quantile_size 29\n",
      "len examples 292\n",
      "n_quantiles 10\n",
      "quantile_size 26\n",
      "len examples 266\n",
      "n_quantiles 10\n"
     ]
    },
    {
     "name": "stderr",
     "output_type": "stream",
     "text": [
      "Loading .model.layers.12: 1882it [01:18, 43.63it/s]"
     ]
    },
    {
     "name": "stdout",
     "output_type": "stream",
     "text": [
      "quantile_size 69\n",
      "len examples 693\n",
      "n_quantiles 10\n",
      "quantile_size 33\n",
      "len examples 338\n",
      "n_quantiles 10\n",
      "quantile_size 83\n",
      "len examples 839\n",
      "n_quantiles 10\n",
      "quantile_size 43\n",
      "len examples 436\n",
      "n_quantiles 10\n"
     ]
    },
    {
     "name": "stderr",
     "output_type": "stream",
     "text": [
      "Loading .model.layers.12: 1892it [01:19, 39.55it/s]"
     ]
    },
    {
     "name": "stdout",
     "output_type": "stream",
     "text": [
      "quantile_size 15\n",
      "len examples 156\n",
      "n_quantiles 10\n",
      "quantile_size 16\n",
      "len examples 169\n",
      "n_quantiles 10\n",
      "quantile_size 16\n",
      "len examples 164\n",
      "n_quantiles 10\n",
      "quantile_size 120\n",
      "len examples 1206\n",
      "n_quantiles 10\n",
      "quantile_size 32\n",
      "len examples 322\n",
      "n_quantiles 10\n"
     ]
    },
    {
     "name": "stderr",
     "output_type": "stream",
     "text": [
      "Loading .model.layers.12: 1897it [01:19, 41.33it/s]"
     ]
    },
    {
     "name": "stdout",
     "output_type": "stream",
     "text": [
      "quantile_size 16\n",
      "len examples 163\n",
      "n_quantiles 10\n",
      "quantile_size 13\n",
      "len examples 138\n",
      "n_quantiles 10\n",
      "quantile_size 41\n",
      "len examples 417\n",
      "n_quantiles 10\n"
     ]
    },
    {
     "name": "stderr",
     "output_type": "stream",
     "text": [
      "Loading .model.layers.12: 1902it [01:19, 24.90it/s]"
     ]
    },
    {
     "name": "stdout",
     "output_type": "stream",
     "text": [
      "quantile_size 113\n",
      "len examples 1133\n",
      "n_quantiles 10\n",
      "quantile_size 44\n",
      "len examples 440\n",
      "n_quantiles 10\n",
      "quantile_size 300\n",
      "len examples 3005\n",
      "n_quantiles 10\n",
      "quantile_size 36\n",
      "len examples 364\n",
      "n_quantiles 10\n",
      "quantile_size 22\n",
      "len examples 226\n",
      "n_quantiles 10\n"
     ]
    },
    {
     "name": "stderr",
     "output_type": "stream",
     "text": [
      "Loading .model.layers.12: 1906it [01:19, 23.65it/s]"
     ]
    },
    {
     "name": "stdout",
     "output_type": "stream",
     "text": [
      "quantile_size 98\n",
      "len examples 988\n",
      "n_quantiles 10\n",
      "quantile_size 95\n",
      "len examples 953\n",
      "n_quantiles 10\n",
      "quantile_size 47\n",
      "len examples 472\n",
      "n_quantiles 10\n",
      "quantile_size 108\n",
      "len examples 1089\n",
      "n_quantiles 10\n"
     ]
    },
    {
     "name": "stderr",
     "output_type": "stream",
     "text": [
      "Loading .model.layers.12: 1919it [01:20, 30.78it/s]"
     ]
    },
    {
     "name": "stdout",
     "output_type": "stream",
     "text": [
      "quantile_size 27\n",
      "len examples 276\n",
      "n_quantiles 10\n",
      "quantile_size 17\n",
      "len examples 176\n",
      "n_quantiles 10\n",
      "quantile_size 36\n",
      "len examples 360\n",
      "n_quantiles 10\n",
      "quantile_size 20\n",
      "len examples 208\n",
      "n_quantiles 10\n"
     ]
    },
    {
     "name": "stderr",
     "output_type": "stream",
     "text": [
      "Loading .model.layers.12: 1931it [01:20, 40.28it/s]"
     ]
    },
    {
     "name": "stdout",
     "output_type": "stream",
     "text": [
      "quantile_size 18\n",
      "len examples 187\n",
      "n_quantiles 10\n",
      "quantile_size 11\n",
      "len examples 117\n",
      "n_quantiles 10\n",
      "quantile_size 15\n",
      "len examples 151\n",
      "n_quantiles 10\n",
      "quantile_size 41\n",
      "len examples 414\n",
      "n_quantiles 10\n",
      "quantile_size 34\n",
      "len examples 340\n",
      "n_quantiles 10\n"
     ]
    },
    {
     "name": "stderr",
     "output_type": "stream",
     "text": [
      "Loading .model.layers.12: 1942it [01:20, 40.27it/s]"
     ]
    },
    {
     "name": "stdout",
     "output_type": "stream",
     "text": [
      "quantile_size 11\n",
      "len examples 110\n",
      "n_quantiles 10\n",
      "quantile_size 77\n",
      "len examples 774\n",
      "n_quantiles 10\n",
      "quantile_size 47\n",
      "len examples 470\n",
      "n_quantiles 10\n",
      "quantile_size 13\n",
      "len examples 132\n",
      "n_quantiles 10\n",
      "quantile_size 84\n",
      "len examples 848\n",
      "n_quantiles 10\n",
      "quantile_size 22\n",
      "len examples 224\n",
      "n_quantiles 10\n",
      "quantile_size 93\n",
      "len examples 934\n",
      "n_quantiles 10\n",
      "quantile_size 207\n",
      "len examples 2073\n",
      "n_quantiles 10\n"
     ]
    },
    {
     "name": "stderr",
     "output_type": "stream",
     "text": [
      "Loading .model.layers.12: 1951it [01:21, 29.64it/s]"
     ]
    },
    {
     "name": "stdout",
     "output_type": "stream",
     "text": [
      "quantile_size 23\n",
      "len examples 239\n",
      "n_quantiles 10\n",
      "quantile_size 18\n",
      "len examples 185\n",
      "n_quantiles 10\n",
      "quantile_size 90\n",
      "len examples 905\n",
      "n_quantiles 10\n",
      "quantile_size 32\n",
      "len examples 324\n",
      "n_quantiles 10\n",
      "quantile_size 21\n",
      "len examples 213\n",
      "n_quantiles 10\n"
     ]
    },
    {
     "name": "stderr",
     "output_type": "stream",
     "text": [
      "Loading .model.layers.12: 1955it [01:21, 31.52it/s]"
     ]
    },
    {
     "name": "stdout",
     "output_type": "stream",
     "text": [
      "quantile_size 26\n",
      "len examples 269\n",
      "n_quantiles 10\n",
      "quantile_size 13\n",
      "len examples 133\n",
      "n_quantiles 10\n",
      "quantile_size 21\n",
      "len examples 218\n",
      "n_quantiles 10\n"
     ]
    },
    {
     "name": "stderr",
     "output_type": "stream",
     "text": [
      "Loading .model.layers.12: 1963it [01:21, 24.92it/s]"
     ]
    },
    {
     "name": "stdout",
     "output_type": "stream",
     "text": [
      "quantile_size 29\n",
      "len examples 298\n",
      "n_quantiles 10\n",
      "quantile_size 62\n",
      "len examples 622\n",
      "n_quantiles 10\n",
      "quantile_size 97\n",
      "len examples 976\n",
      "n_quantiles 10\n"
     ]
    },
    {
     "name": "stderr",
     "output_type": "stream",
     "text": [
      "Loading .model.layers.12: 1966it [01:21, 21.70it/s]"
     ]
    },
    {
     "name": "stdout",
     "output_type": "stream",
     "text": [
      "quantile_size 22\n",
      "len examples 228\n",
      "n_quantiles 10\n",
      "quantile_size 15\n",
      "len examples 159\n",
      "n_quantiles 10\n",
      "quantile_size 32\n",
      "len examples 325\n",
      "n_quantiles 10\n",
      "quantile_size 19\n",
      "len examples 196\n",
      "n_quantiles 10\n"
     ]
    },
    {
     "name": "stderr",
     "output_type": "stream",
     "text": [
      "Loading .model.layers.12: 1973it [01:22, 22.36it/s]"
     ]
    },
    {
     "name": "stdout",
     "output_type": "stream",
     "text": [
      "quantile_size 17\n",
      "len examples 175\n",
      "n_quantiles 10\n",
      "quantile_size 14\n",
      "len examples 148\n",
      "n_quantiles 10\n",
      "quantile_size 10\n",
      "len examples 109\n",
      "n_quantiles 10\n",
      "quantile_size 37\n",
      "len examples 379\n",
      "n_quantiles 10\n",
      "quantile_size 28\n",
      "len examples 286\n",
      "n_quantiles 10\n"
     ]
    },
    {
     "name": "stderr",
     "output_type": "stream",
     "text": [
      "Loading .model.layers.12: 1979it [01:22, 19.39it/s]"
     ]
    },
    {
     "name": "stdout",
     "output_type": "stream",
     "text": [
      "quantile_size 27\n",
      "len examples 271\n",
      "n_quantiles 10\n",
      "quantile_size 35\n",
      "len examples 356\n",
      "n_quantiles 10\n",
      "quantile_size 41\n",
      "len examples 415\n",
      "n_quantiles 10\n",
      "quantile_size 16\n",
      "len examples 161\n",
      "n_quantiles 10\n"
     ]
    },
    {
     "name": "stderr",
     "output_type": "stream",
     "text": [
      "Loading .model.layers.12: 1990it [01:22, 27.91it/s]"
     ]
    },
    {
     "name": "stdout",
     "output_type": "stream",
     "text": [
      "quantile_size 216\n",
      "len examples 2165\n",
      "n_quantiles 10\n",
      "quantile_size 51\n",
      "len examples 510\n",
      "n_quantiles 10\n",
      "quantile_size 16\n",
      "len examples 165\n",
      "n_quantiles 10\n",
      "quantile_size 22\n",
      "len examples 229\n",
      "n_quantiles 10\n",
      "quantile_size 24\n",
      "len examples 246\n",
      "n_quantiles 10\n"
     ]
    },
    {
     "name": "stderr",
     "output_type": "stream",
     "text": [
      "Loading .model.layers.12: 2000it [01:23, 36.23it/s]"
     ]
    },
    {
     "name": "stdout",
     "output_type": "stream",
     "text": [
      "quantile_size 74\n",
      "len examples 745\n",
      "n_quantiles 10\n",
      "quantile_size 55\n",
      "len examples 558\n",
      "n_quantiles 10\n",
      "quantile_size 16\n",
      "len examples 169\n",
      "n_quantiles 10\n",
      "quantile_size 102\n",
      "len examples 1025\n",
      "n_quantiles 10\n",
      "quantile_size 34\n",
      "len examples 346\n",
      "n_quantiles 10\n"
     ]
    },
    {
     "name": "stderr",
     "output_type": "stream",
     "text": [
      "Loading .model.layers.12: 2008it [01:23, 37.42it/s]"
     ]
    },
    {
     "name": "stdout",
     "output_type": "stream",
     "text": [
      "quantile_size 27\n",
      "len examples 277\n",
      "n_quantiles 10\n",
      "quantile_size 18\n",
      "len examples 189\n",
      "n_quantiles 10\n",
      "quantile_size 76\n",
      "len examples 764\n",
      "n_quantiles 10\n"
     ]
    },
    {
     "name": "stderr",
     "output_type": "stream",
     "text": [
      "Loading .model.layers.12: 2017it [01:23, 34.07it/s]"
     ]
    },
    {
     "name": "stdout",
     "output_type": "stream",
     "text": [
      "quantile_size 41\n",
      "len examples 414\n",
      "n_quantiles 10\n",
      "quantile_size 37\n",
      "len examples 370\n",
      "n_quantiles 10\n",
      "quantile_size 25\n",
      "len examples 257\n",
      "n_quantiles 10\n",
      "quantile_size 27\n",
      "len examples 274\n",
      "n_quantiles 10\n"
     ]
    },
    {
     "name": "stderr",
     "output_type": "stream",
     "text": [
      "Loading .model.layers.12: 2025it [01:23, 31.31it/s]"
     ]
    },
    {
     "name": "stdout",
     "output_type": "stream",
     "text": [
      "quantile_size 49\n",
      "len examples 491\n",
      "n_quantiles 10\n",
      "quantile_size 36\n",
      "len examples 365\n",
      "n_quantiles 10\n",
      "quantile_size 6\n",
      "len examples 63\n",
      "n_quantiles 10\n",
      "quantile_size 19\n",
      "len examples 196\n",
      "n_quantiles 10\n",
      "quantile_size 88\n",
      "len examples 887\n",
      "n_quantiles 10\n"
     ]
    },
    {
     "name": "stderr",
     "output_type": "stream",
     "text": [
      "Loading .model.layers.12: 2029it [01:23, 33.12it/s]"
     ]
    },
    {
     "name": "stdout",
     "output_type": "stream",
     "text": [
      "quantile_size 24\n",
      "len examples 247\n",
      "n_quantiles 10\n",
      "quantile_size 59\n",
      "len examples 593\n",
      "n_quantiles 10\n",
      "quantile_size 26\n",
      "len examples 268\n",
      "n_quantiles 10\n",
      "quantile_size 21\n",
      "len examples 214\n",
      "n_quantiles 10\n",
      "quantile_size 165\n",
      "len examples 1657\n",
      "n_quantiles 10\n"
     ]
    },
    {
     "name": "stderr",
     "output_type": "stream",
     "text": [
      "Loading .model.layers.12: 2038it [01:24, 38.47it/s]"
     ]
    },
    {
     "name": "stdout",
     "output_type": "stream",
     "text": [
      "quantile_size 5\n",
      "len examples 52\n",
      "n_quantiles 10\n",
      "quantile_size 57\n",
      "len examples 570\n",
      "n_quantiles 10\n",
      "quantile_size 37\n",
      "len examples 378\n",
      "n_quantiles 10\n"
     ]
    },
    {
     "name": "stderr",
     "output_type": "stream",
     "text": [
      "Loading .model.layers.12: 2049it [01:24, 39.07it/s]"
     ]
    },
    {
     "name": "stdout",
     "output_type": "stream",
     "text": [
      "quantile_size 61\n",
      "len examples 617\n",
      "n_quantiles 10\n",
      "quantile_size 25\n",
      "len examples 252\n",
      "n_quantiles 10\n",
      "quantile_size 11\n",
      "len examples 112\n",
      "n_quantiles 10\n",
      "quantile_size 24\n",
      "len examples 243\n",
      "n_quantiles 10\n",
      "quantile_size 17\n",
      "len examples 177\n",
      "n_quantiles 10\n"
     ]
    },
    {
     "name": "stderr",
     "output_type": "stream",
     "text": [
      "Loading .model.layers.12: 2054it [01:24, 33.26it/s]"
     ]
    },
    {
     "name": "stdout",
     "output_type": "stream",
     "text": [
      "quantile_size 147\n",
      "len examples 1475\n",
      "n_quantiles 10\n",
      "quantile_size 139\n",
      "len examples 1394\n",
      "n_quantiles 10\n",
      "quantile_size 40\n",
      "len examples 408\n",
      "n_quantiles 10\n",
      "quantile_size 63\n",
      "len examples 635\n",
      "n_quantiles 10\n",
      "quantile_size 16\n",
      "len examples 161\n",
      "n_quantiles 10\n",
      "quantile_size 41\n",
      "len examples 416\n",
      "n_quantiles 10\n"
     ]
    },
    {
     "name": "stderr",
     "output_type": "stream",
     "text": [
      "Loading .model.layers.12: 2058it [01:24, 23.97it/s]"
     ]
    },
    {
     "name": "stdout",
     "output_type": "stream",
     "text": [
      "quantile_size 44\n",
      "len examples 448\n",
      "n_quantiles 10\n",
      "quantile_size 15\n",
      "len examples 154\n",
      "n_quantiles 10\n"
     ]
    },
    {
     "name": "stderr",
     "output_type": "stream",
     "text": [
      "Loading .model.layers.12: 2061it [01:25, 12.15it/s]"
     ]
    },
    {
     "name": "stdout",
     "output_type": "stream",
     "text": [
      "quantile_size 40\n",
      "len examples 404\n",
      "n_quantiles 10\n"
     ]
    },
    {
     "name": "stderr",
     "output_type": "stream",
     "text": [
      "Loading .model.layers.12: 2064it [01:26,  7.46it/s]"
     ]
    },
    {
     "name": "stdout",
     "output_type": "stream",
     "text": [
      "quantile_size 53\n",
      "len examples 538\n",
      "n_quantiles 10\n",
      "quantile_size 97\n",
      "len examples 973\n",
      "n_quantiles 10\n"
     ]
    },
    {
     "name": "stderr",
     "output_type": "stream",
     "text": [
      "Loading .model.layers.12: 2066it [01:26,  7.88it/s]"
     ]
    },
    {
     "name": "stdout",
     "output_type": "stream",
     "text": [
      "quantile_size 14\n",
      "len examples 141\n",
      "n_quantiles 10\n",
      "quantile_size 79\n",
      "len examples 791\n",
      "n_quantiles 10\n"
     ]
    },
    {
     "name": "stderr",
     "output_type": "stream",
     "text": [
      "Loading .model.layers.12: 2070it [01:27,  7.77it/s]"
     ]
    },
    {
     "name": "stdout",
     "output_type": "stream",
     "text": [
      "quantile_size 32\n",
      "len examples 327\n",
      "n_quantiles 10\n",
      "quantile_size 129\n",
      "len examples 1299\n",
      "n_quantiles 10\n"
     ]
    },
    {
     "name": "stderr",
     "output_type": "stream",
     "text": [
      "Loading .model.layers.12: 2072it [01:27,  8.23it/s]"
     ]
    },
    {
     "name": "stdout",
     "output_type": "stream",
     "text": [
      "quantile_size 16\n",
      "len examples 167\n",
      "n_quantiles 10\n"
     ]
    },
    {
     "name": "stderr",
     "output_type": "stream",
     "text": [
      "Loading .model.layers.12: 2074it [01:28,  5.13it/s]"
     ]
    },
    {
     "name": "stdout",
     "output_type": "stream",
     "text": [
      "quantile_size 59\n",
      "len examples 594\n",
      "n_quantiles 10\n"
     ]
    },
    {
     "name": "stderr",
     "output_type": "stream",
     "text": [
      "Loading .model.layers.12: 2075it [01:28,  5.11it/s]"
     ]
    },
    {
     "name": "stdout",
     "output_type": "stream",
     "text": [
      "quantile_size 8\n",
      "len examples 82\n",
      "n_quantiles 10\n"
     ]
    },
    {
     "name": "stderr",
     "output_type": "stream",
     "text": [
      "Loading .model.layers.12: 2079it [01:28,  6.78it/s]"
     ]
    },
    {
     "name": "stdout",
     "output_type": "stream",
     "text": [
      "quantile_size 14\n",
      "len examples 145\n",
      "n_quantiles 10\n",
      "quantile_size 68\n",
      "len examples 689\n",
      "n_quantiles 10\n"
     ]
    },
    {
     "name": "stderr",
     "output_type": "stream",
     "text": [
      "Loading .model.layers.12: 2084it [01:29,  7.79it/s]"
     ]
    },
    {
     "name": "stdout",
     "output_type": "stream",
     "text": [
      "quantile_size 31\n",
      "len examples 314\n",
      "n_quantiles 10\n"
     ]
    },
    {
     "name": "stderr",
     "output_type": "stream",
     "text": [
      "Loading .model.layers.12: 2089it [01:29, 10.99it/s]"
     ]
    },
    {
     "name": "stdout",
     "output_type": "stream",
     "text": [
      "quantile_size 20\n",
      "len examples 200\n",
      "n_quantiles 10\n",
      "quantile_size 68\n",
      "len examples 687\n",
      "n_quantiles 10\n",
      "quantile_size 27\n",
      "len examples 272\n",
      "n_quantiles 10\n",
      "quantile_size 9\n",
      "len examples 95\n",
      "n_quantiles 10\n"
     ]
    },
    {
     "name": "stderr",
     "output_type": "stream",
     "text": [
      "Loading .model.layers.12: 2097it [01:30, 22.30it/s]"
     ]
    },
    {
     "name": "stdout",
     "output_type": "stream",
     "text": [
      "quantile_size 19\n",
      "len examples 193\n",
      "n_quantiles 10\n",
      "quantile_size 31\n",
      "len examples 318\n",
      "n_quantiles 10\n",
      "quantile_size 15\n",
      "len examples 156\n",
      "n_quantiles 10\n",
      "quantile_size 13\n",
      "len examples 138\n",
      "n_quantiles 10\n",
      "quantile_size 250\n",
      "len examples 2505\n",
      "n_quantiles 10\n"
     ]
    },
    {
     "name": "stderr",
     "output_type": "stream",
     "text": [
      "Loading .model.layers.12: 2105it [01:30, 24.98it/s]"
     ]
    },
    {
     "name": "stdout",
     "output_type": "stream",
     "text": [
      "quantile_size 46\n",
      "len examples 466\n",
      "n_quantiles 10\n",
      "quantile_size 20\n",
      "len examples 209\n",
      "n_quantiles 10\n",
      "quantile_size 27\n",
      "len examples 279\n",
      "n_quantiles 10\n",
      "quantile_size 20\n",
      "len examples 201\n",
      "n_quantiles 10\n",
      "quantile_size 18\n",
      "len examples 184\n",
      "n_quantiles 10\n",
      "quantile_size 25\n",
      "len examples 251\n",
      "n_quantiles 10\n"
     ]
    },
    {
     "name": "stderr",
     "output_type": "stream",
     "text": [
      "Loading .model.layers.12: 2115it [01:30, 30.59it/s]"
     ]
    },
    {
     "name": "stdout",
     "output_type": "stream",
     "text": [
      "quantile_size 26\n",
      "len examples 262\n",
      "n_quantiles 10\n",
      "quantile_size 18\n",
      "len examples 185\n",
      "n_quantiles 10\n",
      "quantile_size 47\n",
      "len examples 479\n",
      "n_quantiles 10\n",
      "quantile_size 28\n",
      "len examples 281\n",
      "n_quantiles 10\n",
      "quantile_size 13\n",
      "len examples 136\n",
      "n_quantiles 10\n"
     ]
    },
    {
     "name": "stderr",
     "output_type": "stream",
     "text": [
      "Loading .model.layers.12: 2125it [01:30, 38.22it/s]"
     ]
    },
    {
     "name": "stdout",
     "output_type": "stream",
     "text": [
      "quantile_size 21\n",
      "len examples 211\n",
      "n_quantiles 10\n",
      "quantile_size 29\n",
      "len examples 290\n",
      "n_quantiles 10\n",
      "quantile_size 12\n",
      "len examples 126\n",
      "n_quantiles 10\n",
      "quantile_size 20\n",
      "len examples 201\n",
      "n_quantiles 10\n",
      "quantile_size 30\n",
      "len examples 309\n",
      "n_quantiles 10\n"
     ]
    },
    {
     "name": "stderr",
     "output_type": "stream",
     "text": [
      "Loading .model.layers.12: 2137it [01:31, 22.62it/s]"
     ]
    },
    {
     "name": "stdout",
     "output_type": "stream",
     "text": [
      "quantile_size 71\n",
      "len examples 716\n",
      "n_quantiles 10\n",
      "quantile_size 15\n",
      "len examples 157\n",
      "n_quantiles 10\n",
      "quantile_size 14\n",
      "len examples 146\n",
      "n_quantiles 10\n",
      "quantile_size 18\n",
      "len examples 184\n",
      "n_quantiles 10\n",
      "quantile_size 15\n",
      "len examples 158\n",
      "n_quantiles 10\n",
      "quantile_size 53\n",
      "len examples 534\n",
      "n_quantiles 10\n",
      "quantile_size 23\n",
      "len examples 237\n",
      "n_quantiles 10\n",
      "quantile_size 11\n",
      "len examples 116\n",
      "n_quantiles 10\n",
      "quantile_size 30\n",
      "len examples 303\n",
      "n_quantiles 10\n",
      "quantile_size 56\n",
      "len examples 561\n",
      "n_quantiles 10\n",
      "quantile_size 24\n",
      "len examples 240\n",
      "n_quantiles 10\n"
     ]
    },
    {
     "name": "stderr",
     "output_type": "stream",
     "text": [
      "Loading .model.layers.12: 2148it [01:31, 32.31it/s]"
     ]
    },
    {
     "name": "stdout",
     "output_type": "stream",
     "text": [
      "quantile_size 15\n",
      "len examples 159\n",
      "n_quantiles 10\n",
      "quantile_size 39\n",
      "len examples 395\n",
      "n_quantiles 10\n",
      "quantile_size 14\n",
      "len examples 140\n",
      "n_quantiles 10\n",
      "quantile_size 22\n",
      "len examples 228\n",
      "n_quantiles 10\n",
      "quantile_size 13\n",
      "len examples 130\n",
      "n_quantiles 10\n",
      "quantile_size 24\n",
      "len examples 248\n",
      "n_quantiles 10\n"
     ]
    },
    {
     "name": "stderr",
     "output_type": "stream",
     "text": [
      "Loading .model.layers.12: 2159it [01:32, 40.30it/s]"
     ]
    },
    {
     "name": "stdout",
     "output_type": "stream",
     "text": [
      "quantile_size 147\n",
      "len examples 1473\n",
      "n_quantiles 10\n",
      "quantile_size 34\n",
      "len examples 349\n",
      "n_quantiles 10\n",
      "quantile_size 19\n",
      "len examples 198\n",
      "n_quantiles 10\n",
      "quantile_size 13\n",
      "len examples 132\n",
      "n_quantiles 10\n",
      "quantile_size 75\n",
      "len examples 752\n",
      "n_quantiles 10\n",
      "quantile_size 13\n",
      "len examples 137\n",
      "n_quantiles 10\n"
     ]
    },
    {
     "name": "stderr",
     "output_type": "stream",
     "text": [
      "Loading .model.layers.12: 2171it [01:32, 42.47it/s]"
     ]
    },
    {
     "name": "stdout",
     "output_type": "stream",
     "text": [
      "quantile_size 7\n",
      "len examples 73\n",
      "n_quantiles 10\n",
      "quantile_size 70\n",
      "len examples 705\n",
      "n_quantiles 10\n",
      "quantile_size 41\n",
      "len examples 416\n",
      "n_quantiles 10\n",
      "quantile_size 21\n",
      "len examples 219\n",
      "n_quantiles 10\n"
     ]
    },
    {
     "name": "stderr",
     "output_type": "stream",
     "text": [
      "Loading .model.layers.12: 2183it [01:32, 39.78it/s]"
     ]
    },
    {
     "name": "stdout",
     "output_type": "stream",
     "text": [
      "quantile_size 51\n",
      "len examples 518\n",
      "n_quantiles 10\n",
      "quantile_size 28\n",
      "len examples 288\n",
      "n_quantiles 10\n",
      "quantile_size 15\n",
      "len examples 156\n",
      "n_quantiles 10\n",
      "quantile_size 60\n",
      "len examples 608\n",
      "n_quantiles 10\n",
      "quantile_size 39\n",
      "len examples 398\n",
      "n_quantiles 10\n",
      "quantile_size 19\n",
      "len examples 195\n",
      "n_quantiles 10\n"
     ]
    },
    {
     "name": "stderr",
     "output_type": "stream",
     "text": [
      "Loading .model.layers.12: 2188it [01:32, 34.51it/s]"
     ]
    },
    {
     "name": "stdout",
     "output_type": "stream",
     "text": [
      "quantile_size 45\n",
      "len examples 456\n",
      "n_quantiles 10\n",
      "quantile_size 77\n",
      "len examples 775\n",
      "n_quantiles 10\n",
      "quantile_size 30\n",
      "len examples 306\n",
      "n_quantiles 10\n",
      "quantile_size 30\n",
      "len examples 302\n",
      "n_quantiles 10\n",
      "quantile_size 152\n",
      "len examples 1529\n",
      "n_quantiles 10\n"
     ]
    },
    {
     "name": "stderr",
     "output_type": "stream",
     "text": [
      "Loading .model.layers.12: 2192it [01:33, 29.78it/s]"
     ]
    },
    {
     "name": "stdout",
     "output_type": "stream",
     "text": [
      "quantile_size 116\n",
      "len examples 1165\n",
      "n_quantiles 10\n",
      "quantile_size 50\n",
      "len examples 503\n",
      "n_quantiles 10\n",
      "quantile_size 145\n",
      "len examples 1450\n",
      "n_quantiles 10\n",
      "quantile_size 71\n",
      "len examples 714\n",
      "n_quantiles 10\n"
     ]
    },
    {
     "name": "stderr",
     "output_type": "stream",
     "text": [
      "Loading .model.layers.12: 2200it [01:33, 27.32it/s]"
     ]
    },
    {
     "name": "stdout",
     "output_type": "stream",
     "text": [
      "quantile_size 27\n",
      "len examples 279\n",
      "n_quantiles 10\n",
      "quantile_size 77\n",
      "len examples 770\n",
      "n_quantiles 10\n",
      "quantile_size 16\n",
      "len examples 165\n",
      "n_quantiles 10\n",
      "quantile_size 82\n",
      "len examples 827\n",
      "n_quantiles 10\n",
      "quantile_size 52\n",
      "len examples 526\n",
      "n_quantiles 10\n"
     ]
    },
    {
     "name": "stderr",
     "output_type": "stream",
     "text": [
      "Loading .model.layers.12: 2204it [01:33, 24.83it/s]"
     ]
    },
    {
     "name": "stdout",
     "output_type": "stream",
     "text": [
      "quantile_size 26\n",
      "len examples 262\n",
      "n_quantiles 10\n",
      "quantile_size 117\n",
      "len examples 1172\n",
      "n_quantiles 10\n",
      "quantile_size 123\n",
      "len examples 1230\n",
      "n_quantiles 10\n",
      "quantile_size 57\n",
      "len examples 575\n",
      "n_quantiles 10\n"
     ]
    },
    {
     "name": "stderr",
     "output_type": "stream",
     "text": [
      "Loading .model.layers.12: 2212it [01:33, 26.91it/s]"
     ]
    },
    {
     "name": "stdout",
     "output_type": "stream",
     "text": [
      "quantile_size 74\n",
      "len examples 741\n",
      "n_quantiles 10\n",
      "quantile_size 54\n",
      "len examples 544\n",
      "n_quantiles 10\n",
      "quantile_size 8\n",
      "len examples 80\n",
      "n_quantiles 10\n",
      "quantile_size 48\n",
      "len examples 483\n",
      "n_quantiles 10\n"
     ]
    },
    {
     "name": "stderr",
     "output_type": "stream",
     "text": [
      "Loading .model.layers.12: 2216it [01:33, 29.68it/s]"
     ]
    },
    {
     "name": "stdout",
     "output_type": "stream",
     "text": [
      "quantile_size 48\n",
      "len examples 482\n",
      "n_quantiles 10\n",
      "quantile_size 15\n",
      "len examples 154\n",
      "n_quantiles 10\n",
      "quantile_size 64\n",
      "len examples 644\n",
      "n_quantiles 10\n",
      "quantile_size 29\n",
      "len examples 298\n",
      "n_quantiles 10\n",
      "quantile_size 24\n",
      "len examples 242\n",
      "n_quantiles 10\n",
      "quantile_size 15\n",
      "len examples 153\n",
      "n_quantiles 10\n"
     ]
    },
    {
     "name": "stderr",
     "output_type": "stream",
     "text": [
      "Loading .model.layers.12: 2223it [01:34, 26.64it/s]"
     ]
    },
    {
     "name": "stdout",
     "output_type": "stream",
     "text": [
      "quantile_size 30\n",
      "len examples 309\n",
      "n_quantiles 10\n",
      "quantile_size 216\n",
      "len examples 2167\n",
      "n_quantiles 10\n",
      "quantile_size 14\n",
      "len examples 146\n",
      "n_quantiles 10\n",
      "quantile_size 24\n",
      "len examples 241\n",
      "n_quantiles 10\n",
      "quantile_size 15\n",
      "len examples 152\n",
      "n_quantiles 10\n"
     ]
    },
    {
     "name": "stderr",
     "output_type": "stream",
     "text": [
      "Loading .model.layers.12: 2233it [01:34, 30.82it/s]"
     ]
    },
    {
     "name": "stdout",
     "output_type": "stream",
     "text": [
      "quantile_size 68\n",
      "len examples 687\n",
      "n_quantiles 10\n",
      "quantile_size 43\n",
      "len examples 435\n",
      "n_quantiles 10\n",
      "quantile_size 31\n",
      "len examples 310\n",
      "n_quantiles 10\n",
      "quantile_size 37\n",
      "len examples 377\n",
      "n_quantiles 10\n",
      "quantile_size 32\n",
      "len examples 329\n",
      "n_quantiles 10\n",
      "quantile_size 29\n",
      "len examples 297\n",
      "n_quantiles 10\n"
     ]
    },
    {
     "name": "stderr",
     "output_type": "stream",
     "text": [
      "Loading .model.layers.12: 2242it [01:34, 35.86it/s]"
     ]
    },
    {
     "name": "stdout",
     "output_type": "stream",
     "text": [
      "quantile_size 36\n",
      "len examples 369\n",
      "n_quantiles 10\n",
      "quantile_size 68\n",
      "len examples 686\n",
      "n_quantiles 10\n",
      "quantile_size 116\n",
      "len examples 1166\n",
      "n_quantiles 10\n",
      "quantile_size 97\n",
      "len examples 973\n",
      "n_quantiles 10\n"
     ]
    },
    {
     "name": "stderr",
     "output_type": "stream",
     "text": [
      "Loading .model.layers.12: 2251it [01:35, 33.72it/s]"
     ]
    },
    {
     "name": "stdout",
     "output_type": "stream",
     "text": [
      "quantile_size 86\n",
      "len examples 865\n",
      "n_quantiles 10\n",
      "quantile_size 19\n",
      "len examples 191\n",
      "n_quantiles 10\n",
      "quantile_size 16\n",
      "len examples 161\n",
      "n_quantiles 10\n",
      "quantile_size 21\n",
      "len examples 210\n",
      "n_quantiles 10\n",
      "quantile_size 19\n",
      "len examples 193\n",
      "n_quantiles 10\n",
      "quantile_size 56\n",
      "len examples 565\n",
      "n_quantiles 10\n",
      "quantile_size 32\n",
      "len examples 327\n",
      "n_quantiles 10\n"
     ]
    },
    {
     "name": "stderr",
     "output_type": "stream",
     "text": [
      "Loading .model.layers.12: 2262it [01:35, 43.95it/s]"
     ]
    },
    {
     "name": "stdout",
     "output_type": "stream",
     "text": [
      "quantile_size 203\n",
      "len examples 2034\n",
      "n_quantiles 10\n",
      "quantile_size 25\n",
      "len examples 258\n",
      "n_quantiles 10\n",
      "quantile_size 58\n",
      "len examples 589\n",
      "n_quantiles 10\n",
      "quantile_size 166\n",
      "len examples 1664\n",
      "n_quantiles 10\n"
     ]
    },
    {
     "name": "stderr",
     "output_type": "stream",
     "text": [
      "Loading .model.layers.12: 2267it [01:35, 29.94it/s]"
     ]
    },
    {
     "name": "stdout",
     "output_type": "stream",
     "text": [
      "quantile_size 94\n",
      "len examples 944\n",
      "n_quantiles 10\n",
      "quantile_size 29\n",
      "len examples 291\n",
      "n_quantiles 10\n",
      "quantile_size 102\n",
      "len examples 1020\n",
      "n_quantiles 10\n",
      "quantile_size 31\n",
      "len examples 315\n",
      "n_quantiles 10\n",
      "quantile_size 42\n",
      "len examples 423\n",
      "n_quantiles 10\n"
     ]
    },
    {
     "name": "stderr",
     "output_type": "stream",
     "text": [
      "Loading .model.layers.12: 2275it [01:35, 33.27it/s]"
     ]
    },
    {
     "name": "stdout",
     "output_type": "stream",
     "text": [
      "quantile_size 23\n",
      "len examples 237\n",
      "n_quantiles 10\n",
      "quantile_size 70\n",
      "len examples 700\n",
      "n_quantiles 10\n",
      "quantile_size 27\n",
      "len examples 275\n",
      "n_quantiles 10\n",
      "quantile_size 39\n",
      "len examples 395\n",
      "n_quantiles 10\n",
      "quantile_size 21\n",
      "len examples 214\n",
      "n_quantiles 10\n"
     ]
    },
    {
     "name": "stderr",
     "output_type": "stream",
     "text": [
      "Loading .model.layers.12: 2285it [01:36, 35.34it/s]"
     ]
    },
    {
     "name": "stdout",
     "output_type": "stream",
     "text": [
      "quantile_size 11\n",
      "len examples 111\n",
      "n_quantiles 10\n",
      "quantile_size 75\n",
      "len examples 756\n",
      "n_quantiles 10\n",
      "quantile_size 11\n",
      "len examples 115\n",
      "n_quantiles 10\n",
      "quantile_size 33\n",
      "len examples 337\n",
      "n_quantiles 10\n",
      "quantile_size 28\n",
      "len examples 285\n",
      "n_quantiles 10\n"
     ]
    },
    {
     "name": "stderr",
     "output_type": "stream",
     "text": [
      "Loading .model.layers.12: 2300it [01:36, 43.32it/s]"
     ]
    },
    {
     "name": "stdout",
     "output_type": "stream",
     "text": [
      "quantile_size 31\n",
      "len examples 316\n",
      "n_quantiles 10\n",
      "quantile_size 18\n",
      "len examples 185\n",
      "n_quantiles 10\n",
      "quantile_size 117\n",
      "len examples 1177\n",
      "n_quantiles 10\n",
      "quantile_size 49\n",
      "len examples 497\n",
      "n_quantiles 10\n"
     ]
    },
    {
     "name": "stderr",
     "output_type": "stream",
     "text": [
      "Loading .model.layers.12: 2309it [01:36, 55.98it/s]"
     ]
    },
    {
     "name": "stdout",
     "output_type": "stream",
     "text": [
      "quantile_size 30\n",
      "len examples 301\n",
      "n_quantiles 10\n",
      "quantile_size 26\n",
      "len examples 264\n",
      "n_quantiles 10\n",
      "quantile_size 27\n",
      "len examples 272\n",
      "n_quantiles 10\n",
      "quantile_size 57\n",
      "len examples 572\n",
      "n_quantiles 10\n",
      "quantile_size 44\n",
      "len examples 448\n",
      "n_quantiles 10\n"
     ]
    },
    {
     "name": "stderr",
     "output_type": "stream",
     "text": [
      "Loading .model.layers.12: 2315it [01:36, 44.69it/s]"
     ]
    },
    {
     "name": "stdout",
     "output_type": "stream",
     "text": [
      "quantile_size 14\n",
      "len examples 146\n",
      "n_quantiles 10\n",
      "quantile_size 17\n",
      "len examples 178\n",
      "n_quantiles 10\n",
      "quantile_size 16\n",
      "len examples 162\n",
      "n_quantiles 10\n",
      "quantile_size 17\n",
      "len examples 173\n",
      "n_quantiles 10\n",
      "quantile_size 45\n",
      "len examples 459\n",
      "n_quantiles 10\n",
      "quantile_size 84\n",
      "len examples 842\n",
      "n_quantiles 10\n"
     ]
    },
    {
     "name": "stderr",
     "output_type": "stream",
     "text": [
      "Loading .model.layers.12: 2326it [01:36, 41.36it/s]"
     ]
    },
    {
     "name": "stdout",
     "output_type": "stream",
     "text": [
      "quantile_size 27\n",
      "len examples 270\n",
      "n_quantiles 10\n",
      "quantile_size 22\n",
      "len examples 224\n",
      "n_quantiles 10\n",
      "quantile_size 32\n",
      "len examples 329\n",
      "n_quantiles 10\n",
      "quantile_size 27\n",
      "len examples 275\n",
      "n_quantiles 10\n",
      "quantile_size 43\n",
      "len examples 435\n",
      "n_quantiles 10\n",
      "quantile_size 21\n",
      "len examples 217\n",
      "n_quantiles 10\n"
     ]
    },
    {
     "name": "stderr",
     "output_type": "stream",
     "text": [
      "Loading .model.layers.12: 2335it [01:37, 36.39it/s]"
     ]
    },
    {
     "name": "stdout",
     "output_type": "stream",
     "text": [
      "quantile_size 24\n",
      "len examples 246\n",
      "n_quantiles 10\n",
      "quantile_size 27\n",
      "len examples 273\n",
      "n_quantiles 10\n",
      "quantile_size 108\n",
      "len examples 1084\n",
      "n_quantiles 10\n",
      "quantile_size 40\n",
      "len examples 409\n",
      "n_quantiles 10\n",
      "quantile_size 53\n",
      "len examples 531\n",
      "n_quantiles 10\n"
     ]
    },
    {
     "name": "stderr",
     "output_type": "stream",
     "text": [
      "Loading .model.layers.12: 2340it [01:37, 38.95it/s]"
     ]
    },
    {
     "name": "stdout",
     "output_type": "stream",
     "text": [
      "quantile_size 12\n",
      "len examples 123\n",
      "n_quantiles 10\n",
      "quantile_size 118\n",
      "len examples 1181\n",
      "n_quantiles 10\n",
      "quantile_size 27\n",
      "len examples 271\n",
      "n_quantiles 10\n",
      "quantile_size 63\n",
      "len examples 637\n",
      "n_quantiles 10\n",
      "quantile_size 29\n",
      "len examples 296\n",
      "n_quantiles 10\n"
     ]
    },
    {
     "name": "stderr",
     "output_type": "stream",
     "text": [
      "Loading .model.layers.12: 2349it [01:37, 34.83it/s]"
     ]
    },
    {
     "name": "stdout",
     "output_type": "stream",
     "text": [
      "quantile_size 41\n",
      "len examples 410\n",
      "n_quantiles 10\n",
      "quantile_size 7\n",
      "len examples 74\n",
      "n_quantiles 10\n",
      "quantile_size 29\n",
      "len examples 290\n",
      "n_quantiles 10\n",
      "quantile_size 44\n",
      "len examples 441\n",
      "n_quantiles 10\n",
      "quantile_size 37\n",
      "len examples 370\n",
      "n_quantiles 10\n"
     ]
    },
    {
     "name": "stderr",
     "output_type": "stream",
     "text": [
      "Loading .model.layers.12: 2357it [01:37, 29.78it/s]"
     ]
    },
    {
     "name": "stdout",
     "output_type": "stream",
     "text": [
      "quantile_size 15\n",
      "len examples 156\n",
      "n_quantiles 10\n",
      "quantile_size 37\n",
      "len examples 377\n",
      "n_quantiles 10\n",
      "quantile_size 28\n",
      "len examples 282\n",
      "n_quantiles 10\n",
      "quantile_size 21\n",
      "len examples 218\n",
      "n_quantiles 10\n"
     ]
    },
    {
     "name": "stderr",
     "output_type": "stream",
     "text": [
      "Loading .model.layers.12: 2365it [01:38, 33.72it/s]"
     ]
    },
    {
     "name": "stdout",
     "output_type": "stream",
     "text": [
      "quantile_size 23\n",
      "len examples 239\n",
      "n_quantiles 10\n",
      "quantile_size 25\n",
      "len examples 256\n",
      "n_quantiles 10\n",
      "quantile_size 57\n",
      "len examples 577\n",
      "n_quantiles 10\n",
      "quantile_size 42\n",
      "len examples 424\n",
      "n_quantiles 10\n",
      "quantile_size 39\n",
      "len examples 398\n",
      "n_quantiles 10\n"
     ]
    },
    {
     "name": "stderr",
     "output_type": "stream",
     "text": [
      "Loading .model.layers.12: 2373it [01:38, 29.57it/s]"
     ]
    },
    {
     "name": "stdout",
     "output_type": "stream",
     "text": [
      "quantile_size 16\n",
      "len examples 161\n",
      "n_quantiles 10\n",
      "quantile_size 23\n",
      "len examples 233\n",
      "n_quantiles 10\n",
      "quantile_size 16\n",
      "len examples 165\n",
      "n_quantiles 10\n",
      "quantile_size 25\n",
      "len examples 252\n",
      "n_quantiles 10\n",
      "quantile_size 16\n",
      "len examples 164\n",
      "n_quantiles 10\n",
      "quantile_size 39\n",
      "len examples 399\n",
      "n_quantiles 10\n"
     ]
    },
    {
     "name": "stderr",
     "output_type": "stream",
     "text": [
      "Loading .model.layers.12: 2380it [01:38, 38.30it/s]"
     ]
    },
    {
     "name": "stdout",
     "output_type": "stream",
     "text": [
      "quantile_size 28\n",
      "len examples 283\n",
      "n_quantiles 10\n",
      "quantile_size 29\n",
      "len examples 292\n",
      "n_quantiles 10\n"
     ]
    },
    {
     "name": "stderr",
     "output_type": "stream",
     "text": [
      "Loading .model.layers.12: 2389it [01:38, 28.27it/s]"
     ]
    },
    {
     "name": "stdout",
     "output_type": "stream",
     "text": [
      "quantile_size 102\n",
      "len examples 1027\n",
      "n_quantiles 10\n",
      "quantile_size 25\n",
      "len examples 253\n",
      "n_quantiles 10\n",
      "quantile_size 95\n",
      "len examples 953\n",
      "n_quantiles 10\n",
      "quantile_size 190\n",
      "len examples 1905\n",
      "n_quantiles 10\n"
     ]
    },
    {
     "name": "stderr",
     "output_type": "stream",
     "text": [
      "Loading .model.layers.12: 2393it [01:39, 30.67it/s]"
     ]
    },
    {
     "name": "stdout",
     "output_type": "stream",
     "text": [
      "quantile_size 14\n",
      "len examples 148\n",
      "n_quantiles 10\n",
      "quantile_size 49\n",
      "len examples 496\n",
      "n_quantiles 10\n",
      "quantile_size 14\n",
      "len examples 142\n",
      "n_quantiles 10\n",
      "quantile_size 70\n",
      "len examples 708\n",
      "n_quantiles 10\n",
      "quantile_size 58\n",
      "len examples 586\n",
      "n_quantiles 10\n"
     ]
    },
    {
     "name": "stderr",
     "output_type": "stream",
     "text": [
      "Loading .model.layers.12: 2397it [01:39, 26.83it/s]"
     ]
    },
    {
     "name": "stdout",
     "output_type": "stream",
     "text": [
      "quantile_size 127\n",
      "len examples 1275\n",
      "n_quantiles 10\n",
      "quantile_size 24\n",
      "len examples 248\n",
      "n_quantiles 10\n",
      "quantile_size 44\n",
      "len examples 444\n",
      "n_quantiles 10\n"
     ]
    },
    {
     "name": "stderr",
     "output_type": "stream",
     "text": [
      "Loading .model.layers.12: 2405it [01:39, 24.32it/s]"
     ]
    },
    {
     "name": "stdout",
     "output_type": "stream",
     "text": [
      "quantile_size 21\n",
      "len examples 211\n",
      "n_quantiles 10\n",
      "quantile_size 58\n",
      "len examples 583\n",
      "n_quantiles 10\n",
      "quantile_size 21\n",
      "len examples 211\n",
      "n_quantiles 10\n",
      "quantile_size 68\n",
      "len examples 680\n",
      "n_quantiles 10\n"
     ]
    },
    {
     "name": "stderr",
     "output_type": "stream",
     "text": [
      "Loading .model.layers.12: 2413it [01:39, 30.73it/s]"
     ]
    },
    {
     "name": "stdout",
     "output_type": "stream",
     "text": [
      "quantile_size 22\n",
      "len examples 226\n",
      "n_quantiles 10\n",
      "quantile_size 35\n",
      "len examples 354\n",
      "n_quantiles 10\n",
      "quantile_size 15\n",
      "len examples 158\n",
      "n_quantiles 10\n",
      "quantile_size 33\n",
      "len examples 337\n",
      "n_quantiles 10\n",
      "quantile_size 50\n",
      "len examples 501\n",
      "n_quantiles 10\n"
     ]
    },
    {
     "name": "stderr",
     "output_type": "stream",
     "text": [
      "Loading .model.layers.12: 2417it [01:40, 18.97it/s]"
     ]
    },
    {
     "name": "stdout",
     "output_type": "stream",
     "text": [
      "quantile_size 22\n",
      "len examples 224\n",
      "n_quantiles 10\n",
      "quantile_size 31\n",
      "len examples 315\n",
      "n_quantiles 10\n",
      "quantile_size 57\n",
      "len examples 575\n",
      "n_quantiles 10\n"
     ]
    },
    {
     "name": "stderr",
     "output_type": "stream",
     "text": [
      "Loading .model.layers.12: 2420it [01:40, 18.07it/s]"
     ]
    },
    {
     "name": "stdout",
     "output_type": "stream",
     "text": [
      "quantile_size 47\n",
      "len examples 472\n",
      "n_quantiles 10\n"
     ]
    },
    {
     "name": "stderr",
     "output_type": "stream",
     "text": [
      "Loading .model.layers.12: 2423it [01:40, 13.23it/s]"
     ]
    },
    {
     "name": "stdout",
     "output_type": "stream",
     "text": [
      "quantile_size 91\n",
      "len examples 919\n",
      "n_quantiles 10\n"
     ]
    },
    {
     "name": "stderr",
     "output_type": "stream",
     "text": [
      "Loading .model.layers.12: 2427it [01:41, 12.18it/s]"
     ]
    },
    {
     "name": "stdout",
     "output_type": "stream",
     "text": [
      "quantile_size 13\n",
      "len examples 137\n",
      "n_quantiles 10\n",
      "quantile_size 11\n",
      "len examples 116\n",
      "n_quantiles 10\n"
     ]
    },
    {
     "name": "stderr",
     "output_type": "stream",
     "text": [
      "Loading .model.layers.12: 2429it [01:41,  9.06it/s]"
     ]
    },
    {
     "name": "stdout",
     "output_type": "stream",
     "text": [
      "quantile_size 23\n",
      "len examples 235\n",
      "n_quantiles 10\n"
     ]
    },
    {
     "name": "stderr",
     "output_type": "stream",
     "text": [
      "Loading .model.layers.12: 2431it [01:41,  9.25it/s]"
     ]
    },
    {
     "name": "stdout",
     "output_type": "stream",
     "text": [
      "quantile_size 236\n",
      "len examples 2361\n",
      "n_quantiles 10\n"
     ]
    },
    {
     "name": "stderr",
     "output_type": "stream",
     "text": [
      "Loading .model.layers.12: 2435it [01:42,  5.50it/s]"
     ]
    },
    {
     "name": "stdout",
     "output_type": "stream",
     "text": [
      "quantile_size 17\n",
      "len examples 175\n",
      "n_quantiles 10\n",
      "quantile_size 35\n",
      "len examples 352\n",
      "n_quantiles 10\n",
      "quantile_size 90\n",
      "len examples 907\n",
      "n_quantiles 10\n",
      "quantile_size 29\n",
      "len examples 293\n",
      "n_quantiles 10\n"
     ]
    },
    {
     "name": "stderr",
     "output_type": "stream",
     "text": [
      "Loading .model.layers.12: 2449it [01:43, 18.51it/s]"
     ]
    },
    {
     "name": "stdout",
     "output_type": "stream",
     "text": [
      "quantile_size 35\n",
      "len examples 356\n",
      "n_quantiles 10\n",
      "quantile_size 16\n",
      "len examples 167\n",
      "n_quantiles 10\n",
      "quantile_size 33\n",
      "len examples 331\n",
      "n_quantiles 10\n",
      "quantile_size 19\n",
      "len examples 193\n",
      "n_quantiles 10\n",
      "quantile_size 15\n",
      "len examples 154\n",
      "n_quantiles 10\n",
      "quantile_size 35\n",
      "len examples 357\n",
      "n_quantiles 10\n",
      "quantile_size 18\n",
      "len examples 180\n",
      "n_quantiles 10\n",
      "quantile_size 26\n",
      "len examples 266\n",
      "n_quantiles 10\n"
     ]
    },
    {
     "name": "stderr",
     "output_type": "stream",
     "text": [
      "Loading .model.layers.12: 2456it [01:43, 13.62it/s]"
     ]
    },
    {
     "name": "stdout",
     "output_type": "stream",
     "text": [
      "quantile_size 44\n",
      "len examples 448\n",
      "n_quantiles 10\n"
     ]
    },
    {
     "name": "stderr",
     "output_type": "stream",
     "text": [
      "Loading .model.layers.12: 2459it [01:44, 12.42it/s]"
     ]
    },
    {
     "name": "stdout",
     "output_type": "stream",
     "text": [
      "quantile_size 18\n",
      "len examples 182\n",
      "n_quantiles 10\n",
      "quantile_size 87\n",
      "len examples 875\n",
      "n_quantiles 10\n",
      "quantile_size 13\n",
      "len examples 139\n",
      "n_quantiles 10\n"
     ]
    },
    {
     "name": "stderr",
     "output_type": "stream",
     "text": [
      "Loading .model.layers.12: 2463it [01:44, 11.14it/s]"
     ]
    },
    {
     "name": "stdout",
     "output_type": "stream",
     "text": [
      "quantile_size 119\n",
      "len examples 1193\n",
      "n_quantiles 10\n"
     ]
    },
    {
     "name": "stderr",
     "output_type": "stream",
     "text": [
      "Loading .model.layers.12: 2465it [01:44, 10.70it/s]"
     ]
    },
    {
     "name": "stdout",
     "output_type": "stream",
     "text": [
      "quantile_size 38\n",
      "len examples 389\n",
      "n_quantiles 10\n",
      "quantile_size 22\n",
      "len examples 225\n",
      "n_quantiles 10\n"
     ]
    },
    {
     "name": "stderr",
     "output_type": "stream",
     "text": [
      "Loading .model.layers.12: 2469it [01:45,  9.57it/s]"
     ]
    },
    {
     "name": "stdout",
     "output_type": "stream",
     "text": [
      "quantile_size 32\n",
      "len examples 324\n",
      "n_quantiles 10\n",
      "quantile_size 29\n",
      "len examples 299\n",
      "n_quantiles 10\n"
     ]
    },
    {
     "name": "stderr",
     "output_type": "stream",
     "text": [
      "Loading .model.layers.12: 2476it [01:45, 17.92it/s]"
     ]
    },
    {
     "name": "stdout",
     "output_type": "stream",
     "text": [
      "quantile_size 89\n",
      "len examples 897\n",
      "n_quantiles 10\n",
      "quantile_size 92\n",
      "len examples 924\n",
      "n_quantiles 10\n",
      "quantile_size 15\n",
      "len examples 158\n",
      "n_quantiles 10\n",
      "quantile_size 25\n",
      "len examples 259\n",
      "n_quantiles 10\n",
      "quantile_size 26\n",
      "len examples 269\n",
      "n_quantiles 10\n",
      "quantile_size 19\n",
      "len examples 192\n",
      "n_quantiles 10\n"
     ]
    },
    {
     "name": "stderr",
     "output_type": "stream",
     "text": [
      "Loading .model.layers.12: 2484it [01:45, 22.97it/s]"
     ]
    },
    {
     "name": "stdout",
     "output_type": "stream",
     "text": [
      "quantile_size 58\n",
      "len examples 584\n",
      "n_quantiles 10\n",
      "quantile_size 19\n",
      "len examples 194\n",
      "n_quantiles 10\n",
      "quantile_size 18\n",
      "len examples 181\n",
      "n_quantiles 10\n",
      "quantile_size 36\n",
      "len examples 362\n",
      "n_quantiles 10\n",
      "quantile_size 30\n",
      "len examples 301\n",
      "n_quantiles 10\n"
     ]
    },
    {
     "name": "stderr",
     "output_type": "stream",
     "text": [
      "Loading .model.layers.12: 2493it [01:46, 26.78it/s]"
     ]
    },
    {
     "name": "stdout",
     "output_type": "stream",
     "text": [
      "quantile_size 74\n",
      "len examples 749\n",
      "n_quantiles 10\n",
      "quantile_size 17\n",
      "len examples 171\n",
      "n_quantiles 10\n",
      "quantile_size 20\n",
      "len examples 204\n",
      "n_quantiles 10\n",
      "quantile_size 26\n",
      "len examples 266\n",
      "n_quantiles 10\n",
      "quantile_size 33\n",
      "len examples 337\n",
      "n_quantiles 10\n",
      "quantile_size 29\n",
      "len examples 296\n",
      "n_quantiles 10\n"
     ]
    },
    {
     "name": "stderr",
     "output_type": "stream",
     "text": [
      "Loading .model.layers.12: 2500it [01:46, 30.72it/s]"
     ]
    },
    {
     "name": "stdout",
     "output_type": "stream",
     "text": [
      "quantile_size 126\n",
      "len examples 1265\n",
      "n_quantiles 10\n",
      "quantile_size 95\n",
      "len examples 954\n",
      "n_quantiles 10\n",
      "quantile_size 65\n",
      "len examples 653\n",
      "n_quantiles 10\n"
     ]
    },
    {
     "name": "stderr",
     "output_type": "stream",
     "text": [
      "Loading .model.layers.12: 2507it [01:46, 21.89it/s]"
     ]
    },
    {
     "name": "stdout",
     "output_type": "stream",
     "text": [
      "quantile_size 13\n",
      "len examples 131\n",
      "n_quantiles 10\n",
      "quantile_size 19\n",
      "len examples 199\n",
      "n_quantiles 10\n",
      "quantile_size 29\n",
      "len examples 295\n",
      "n_quantiles 10\n",
      "quantile_size 16\n",
      "len examples 168\n",
      "n_quantiles 10\n"
     ]
    },
    {
     "name": "stderr",
     "output_type": "stream",
     "text": [
      "Loading .model.layers.12: 2514it [01:46, 26.61it/s]"
     ]
    },
    {
     "name": "stdout",
     "output_type": "stream",
     "text": [
      "quantile_size 37\n",
      "len examples 370\n",
      "n_quantiles 10\n",
      "quantile_size 31\n",
      "len examples 316\n",
      "n_quantiles 10\n",
      "quantile_size 110\n",
      "len examples 1104\n",
      "n_quantiles 10\n",
      "quantile_size 14\n",
      "len examples 141\n",
      "n_quantiles 10\n"
     ]
    },
    {
     "name": "stderr",
     "output_type": "stream",
     "text": [
      "Loading .model.layers.12: 2517it [01:47, 22.47it/s]"
     ]
    },
    {
     "name": "stdout",
     "output_type": "stream",
     "text": [
      "quantile_size 30\n",
      "len examples 306\n",
      "n_quantiles 10\n",
      "quantile_size 20\n",
      "len examples 206\n",
      "n_quantiles 10\n",
      "quantile_size 36\n",
      "len examples 366\n",
      "n_quantiles 10\n",
      "quantile_size 276\n",
      "len examples 2764\n",
      "n_quantiles 10\n"
     ]
    },
    {
     "name": "stderr",
     "output_type": "stream",
     "text": [
      "Loading .model.layers.12: 2530it [01:47, 34.45it/s]"
     ]
    },
    {
     "name": "stdout",
     "output_type": "stream",
     "text": [
      "quantile_size 28\n",
      "len examples 283\n",
      "n_quantiles 10\n",
      "quantile_size 73\n",
      "len examples 733\n",
      "n_quantiles 10\n",
      "quantile_size 13\n",
      "len examples 130\n",
      "n_quantiles 10\n",
      "quantile_size 14\n",
      "len examples 140\n",
      "n_quantiles 10\n",
      "quantile_size 29\n",
      "len examples 296\n",
      "n_quantiles 10\n",
      "quantile_size 27\n",
      "len examples 274\n",
      "n_quantiles 10\n"
     ]
    },
    {
     "name": "stderr",
     "output_type": "stream",
     "text": [
      "Loading .model.layers.12: 2539it [01:47, 38.65it/s]"
     ]
    },
    {
     "name": "stdout",
     "output_type": "stream",
     "text": [
      "quantile_size 95\n",
      "len examples 953\n",
      "n_quantiles 10\n",
      "quantile_size 22\n",
      "len examples 225\n",
      "n_quantiles 10\n",
      "quantile_size 31\n",
      "len examples 314\n",
      "n_quantiles 10\n",
      "quantile_size 22\n",
      "len examples 228\n",
      "n_quantiles 10\n",
      "quantile_size 46\n",
      "len examples 466\n",
      "n_quantiles 10\n"
     ]
    },
    {
     "name": "stderr",
     "output_type": "stream",
     "text": [
      "Loading .model.layers.12: 2549it [01:47, 34.77it/s]"
     ]
    },
    {
     "name": "stdout",
     "output_type": "stream",
     "text": [
      "quantile_size 46\n",
      "len examples 469\n",
      "n_quantiles 10\n",
      "quantile_size 55\n",
      "len examples 556\n",
      "n_quantiles 10\n",
      "quantile_size 19\n",
      "len examples 191\n",
      "n_quantiles 10\n",
      "quantile_size 17\n",
      "len examples 175\n",
      "n_quantiles 10\n",
      "quantile_size 16\n",
      "len examples 162\n",
      "n_quantiles 10\n"
     ]
    },
    {
     "name": "stderr",
     "output_type": "stream",
     "text": [
      "Loading .model.layers.12: 2557it [01:48, 30.03it/s]"
     ]
    },
    {
     "name": "stdout",
     "output_type": "stream",
     "text": [
      "quantile_size 67\n",
      "len examples 676\n",
      "n_quantiles 10\n",
      "quantile_size 126\n",
      "len examples 1264\n",
      "n_quantiles 10\n",
      "quantile_size 27\n",
      "len examples 273\n",
      "n_quantiles 10\n"
     ]
    },
    {
     "name": "stderr",
     "output_type": "stream",
     "text": [
      "Loading .model.layers.12: 2565it [01:48, 33.75it/s]"
     ]
    },
    {
     "name": "stdout",
     "output_type": "stream",
     "text": [
      "quantile_size 82\n",
      "len examples 824\n",
      "n_quantiles 10\n",
      "quantile_size 37\n",
      "len examples 371\n",
      "n_quantiles 10\n",
      "quantile_size 18\n",
      "len examples 188\n",
      "n_quantiles 10\n",
      "quantile_size 41\n",
      "len examples 414\n",
      "n_quantiles 10\n",
      "quantile_size 23\n",
      "len examples 231\n",
      "n_quantiles 10\n"
     ]
    },
    {
     "name": "stderr",
     "output_type": "stream",
     "text": [
      "Loading .model.layers.12: 2569it [01:48, 35.02it/s]"
     ]
    },
    {
     "name": "stdout",
     "output_type": "stream",
     "text": [
      "quantile_size 19\n",
      "len examples 195\n",
      "n_quantiles 10\n",
      "quantile_size 41\n",
      "len examples 419\n",
      "n_quantiles 10\n",
      "quantile_size 36\n",
      "len examples 364\n",
      "n_quantiles 10\n",
      "quantile_size 25\n",
      "len examples 256\n",
      "n_quantiles 10\n",
      "quantile_size 16\n",
      "len examples 162\n",
      "n_quantiles 10\n",
      "quantile_size 34\n",
      "len examples 349\n",
      "n_quantiles 10\n"
     ]
    },
    {
     "name": "stderr",
     "output_type": "stream",
     "text": [
      "Loading .model.layers.12: 2582it [01:49, 29.25it/s]"
     ]
    },
    {
     "name": "stdout",
     "output_type": "stream",
     "text": [
      "quantile_size 87\n",
      "len examples 874\n",
      "n_quantiles 10\n",
      "quantile_size 93\n",
      "len examples 937\n",
      "n_quantiles 10\n",
      "quantile_size 23\n",
      "len examples 231\n",
      "n_quantiles 10\n",
      "quantile_size 17\n",
      "len examples 171\n",
      "n_quantiles 10\n",
      "quantile_size 22\n",
      "len examples 226\n",
      "n_quantiles 10\n"
     ]
    },
    {
     "name": "stderr",
     "output_type": "stream",
     "text": [
      "Loading .model.layers.12: 2588it [01:49, 35.60it/s]"
     ]
    },
    {
     "name": "stdout",
     "output_type": "stream",
     "text": [
      "quantile_size 20\n",
      "len examples 208\n",
      "n_quantiles 10\n",
      "quantile_size 42\n",
      "len examples 426\n",
      "n_quantiles 10\n",
      "quantile_size 107\n",
      "len examples 1076\n",
      "n_quantiles 10\n",
      "quantile_size 37\n",
      "len examples 371\n",
      "n_quantiles 10\n",
      "quantile_size 42\n",
      "len examples 425\n",
      "n_quantiles 10\n",
      "quantile_size 16\n",
      "len examples 164\n",
      "n_quantiles 10\n"
     ]
    },
    {
     "name": "stderr",
     "output_type": "stream",
     "text": [
      "Loading .model.layers.12: 2596it [01:49, 31.91it/s]"
     ]
    },
    {
     "name": "stdout",
     "output_type": "stream",
     "text": [
      "quantile_size 12\n",
      "len examples 122\n",
      "n_quantiles 10\n",
      "quantile_size 16\n",
      "len examples 165\n",
      "n_quantiles 10\n",
      "quantile_size 89\n",
      "len examples 896\n",
      "n_quantiles 10\n",
      "quantile_size 12\n",
      "len examples 121\n",
      "n_quantiles 10\n"
     ]
    },
    {
     "name": "stderr",
     "output_type": "stream",
     "text": [
      "Loading .model.layers.12: 2607it [01:49, 40.80it/s]"
     ]
    },
    {
     "name": "stdout",
     "output_type": "stream",
     "text": [
      "quantile_size 41\n",
      "len examples 418\n",
      "n_quantiles 10\n",
      "quantile_size 26\n",
      "len examples 265\n",
      "n_quantiles 10\n",
      "quantile_size 74\n",
      "len examples 743\n",
      "n_quantiles 10\n",
      "quantile_size 20\n",
      "len examples 200\n",
      "n_quantiles 10\n"
     ]
    },
    {
     "name": "stderr",
     "output_type": "stream",
     "text": [
      "Loading .model.layers.12: 2616it [01:49, 35.93it/s]"
     ]
    },
    {
     "name": "stdout",
     "output_type": "stream",
     "text": [
      "quantile_size 39\n",
      "len examples 394\n",
      "n_quantiles 10\n",
      "quantile_size 28\n",
      "len examples 281\n",
      "n_quantiles 10\n",
      "quantile_size 23\n",
      "len examples 237\n",
      "n_quantiles 10\n",
      "quantile_size 17\n",
      "len examples 177\n",
      "n_quantiles 10\n",
      "quantile_size 30\n",
      "len examples 303\n",
      "n_quantiles 10\n"
     ]
    },
    {
     "name": "stderr",
     "output_type": "stream",
     "text": [
      "Loading .model.layers.12: 2624it [01:50, 37.11it/s]"
     ]
    },
    {
     "name": "stdout",
     "output_type": "stream",
     "text": [
      "quantile_size 18\n",
      "len examples 188\n",
      "n_quantiles 10\n",
      "quantile_size 58\n",
      "len examples 581\n",
      "n_quantiles 10\n",
      "quantile_size 28\n",
      "len examples 280\n",
      "n_quantiles 10\n",
      "quantile_size 83\n",
      "len examples 831\n",
      "n_quantiles 10\n",
      "quantile_size 22\n",
      "len examples 223\n",
      "n_quantiles 10\n"
     ]
    },
    {
     "name": "stderr",
     "output_type": "stream",
     "text": [
      "Loading .model.layers.12: 2632it [01:50, 30.52it/s]"
     ]
    },
    {
     "name": "stdout",
     "output_type": "stream",
     "text": [
      "quantile_size 41\n",
      "len examples 410\n",
      "n_quantiles 10\n",
      "quantile_size 29\n",
      "len examples 299\n",
      "n_quantiles 10\n",
      "quantile_size 22\n",
      "len examples 228\n",
      "n_quantiles 10\n",
      "quantile_size 116\n",
      "len examples 1163\n",
      "n_quantiles 10\n",
      "quantile_size 39\n",
      "len examples 398\n",
      "n_quantiles 10\n"
     ]
    },
    {
     "name": "stderr",
     "output_type": "stream",
     "text": [
      "Loading .model.layers.12: 2636it [01:50, 32.52it/s]"
     ]
    },
    {
     "name": "stdout",
     "output_type": "stream",
     "text": [
      "quantile_size 17\n",
      "len examples 171\n",
      "n_quantiles 10\n",
      "quantile_size 53\n",
      "len examples 536\n",
      "n_quantiles 10\n",
      "quantile_size 27\n",
      "len examples 274\n",
      "n_quantiles 10\n",
      "quantile_size 156\n",
      "len examples 1560\n",
      "n_quantiles 10\n"
     ]
    },
    {
     "name": "stderr",
     "output_type": "stream",
     "text": [
      "Loading .model.layers.12: 2644it [01:50, 30.08it/s]"
     ]
    },
    {
     "name": "stdout",
     "output_type": "stream",
     "text": [
      "quantile_size 14\n",
      "len examples 142\n",
      "n_quantiles 10\n",
      "quantile_size 35\n",
      "len examples 358\n",
      "n_quantiles 10\n",
      "quantile_size 15\n",
      "len examples 153\n",
      "n_quantiles 10\n",
      "quantile_size 27\n",
      "len examples 277\n",
      "n_quantiles 10\n",
      "quantile_size 47\n",
      "len examples 474\n",
      "n_quantiles 10\n",
      "quantile_size 22\n",
      "len examples 227\n",
      "n_quantiles 10\n"
     ]
    },
    {
     "name": "stderr",
     "output_type": "stream",
     "text": [
      "Loading .model.layers.12: 2648it [01:51, 26.48it/s]"
     ]
    },
    {
     "name": "stdout",
     "output_type": "stream",
     "text": [
      "quantile_size 27\n",
      "len examples 279\n",
      "n_quantiles 10\n",
      "quantile_size 67\n",
      "len examples 676\n",
      "n_quantiles 10\n",
      "quantile_size 8\n",
      "len examples 86\n",
      "n_quantiles 10\n",
      "quantile_size 113\n",
      "len examples 1130\n",
      "n_quantiles 10\n"
     ]
    },
    {
     "name": "stderr",
     "output_type": "stream",
     "text": [
      "Loading .model.layers.12: 2655it [01:51, 29.98it/s]"
     ]
    },
    {
     "name": "stdout",
     "output_type": "stream",
     "text": [
      "quantile_size 124\n",
      "len examples 1242\n",
      "n_quantiles 10\n",
      "quantile_size 18\n",
      "len examples 185\n",
      "n_quantiles 10\n",
      "quantile_size 24\n",
      "len examples 248\n",
      "n_quantiles 10\n",
      "quantile_size 15\n",
      "len examples 154\n",
      "n_quantiles 10\n",
      "quantile_size 13\n",
      "len examples 130\n",
      "n_quantiles 10\n"
     ]
    },
    {
     "name": "stderr",
     "output_type": "stream",
     "text": [
      "Loading .model.layers.12: 2667it [01:51, 38.12it/s]"
     ]
    },
    {
     "name": "stdout",
     "output_type": "stream",
     "text": [
      "quantile_size 220\n",
      "len examples 2209\n",
      "n_quantiles 10\n",
      "quantile_size 53\n",
      "len examples 537\n",
      "n_quantiles 10\n",
      "quantile_size 30\n",
      "len examples 307\n",
      "n_quantiles 10\n",
      "quantile_size 37\n",
      "len examples 374\n",
      "n_quantiles 10\n"
     ]
    },
    {
     "name": "stderr",
     "output_type": "stream",
     "text": [
      "Loading .model.layers.12: 2672it [01:51, 33.23it/s]"
     ]
    },
    {
     "name": "stdout",
     "output_type": "stream",
     "text": [
      "quantile_size 54\n",
      "len examples 547\n",
      "n_quantiles 10\n",
      "quantile_size 19\n",
      "len examples 190\n",
      "n_quantiles 10\n",
      "quantile_size 106\n",
      "len examples 1066\n",
      "n_quantiles 10\n",
      "quantile_size 54\n",
      "len examples 549\n",
      "n_quantiles 10\n",
      "quantile_size 39\n",
      "len examples 392\n",
      "n_quantiles 10\n",
      "quantile_size 13\n",
      "len examples 136\n",
      "n_quantiles 10\n"
     ]
    },
    {
     "name": "stderr",
     "output_type": "stream",
     "text": [
      "Loading .model.layers.12: 2680it [01:51, 35.52it/s]"
     ]
    },
    {
     "name": "stdout",
     "output_type": "stream",
     "text": [
      "quantile_size 22\n",
      "len examples 220\n",
      "n_quantiles 10\n",
      "quantile_size 32\n",
      "len examples 329\n",
      "n_quantiles 10\n",
      "quantile_size 51\n",
      "len examples 517\n",
      "n_quantiles 10\n",
      "quantile_size 21\n",
      "len examples 219\n",
      "n_quantiles 10\n",
      "quantile_size 20\n",
      "len examples 206\n",
      "n_quantiles 10\n",
      "quantile_size 16\n",
      "len examples 165\n",
      "n_quantiles 10\n"
     ]
    },
    {
     "name": "stderr",
     "output_type": "stream",
     "text": [
      "Loading .model.layers.12: 2689it [01:52, 34.12it/s]"
     ]
    },
    {
     "name": "stdout",
     "output_type": "stream",
     "text": [
      "quantile_size 52\n",
      "len examples 522\n",
      "n_quantiles 10\n",
      "quantile_size 66\n",
      "len examples 667\n",
      "n_quantiles 10\n",
      "quantile_size 14\n",
      "len examples 144\n",
      "n_quantiles 10\n",
      "quantile_size 37\n",
      "len examples 377\n",
      "n_quantiles 10\n"
     ]
    },
    {
     "name": "stderr",
     "output_type": "stream",
     "text": [
      "Loading .model.layers.12: 2693it [01:52, 35.31it/s]"
     ]
    },
    {
     "name": "stdout",
     "output_type": "stream",
     "text": [
      "quantile_size 72\n",
      "len examples 728\n",
      "n_quantiles 10\n",
      "quantile_size 56\n",
      "len examples 561\n",
      "n_quantiles 10\n",
      "quantile_size 28\n",
      "len examples 285\n",
      "n_quantiles 10\n",
      "quantile_size 47\n",
      "len examples 478\n",
      "n_quantiles 10\n",
      "quantile_size 13\n",
      "len examples 136\n",
      "n_quantiles 10\n"
     ]
    },
    {
     "name": "stderr",
     "output_type": "stream",
     "text": [
      "Loading .model.layers.12: 2701it [01:52, 31.31it/s]"
     ]
    },
    {
     "name": "stdout",
     "output_type": "stream",
     "text": [
      "quantile_size 124\n",
      "len examples 1245\n",
      "n_quantiles 10\n",
      "quantile_size 23\n",
      "len examples 237\n",
      "n_quantiles 10\n",
      "quantile_size 50\n",
      "len examples 505\n",
      "n_quantiles 10\n",
      "quantile_size 24\n",
      "len examples 248\n",
      "n_quantiles 10\n",
      "quantile_size 20\n",
      "len examples 203\n",
      "n_quantiles 10\n"
     ]
    },
    {
     "name": "stderr",
     "output_type": "stream",
     "text": [
      "Loading .model.layers.12: 2710it [01:52, 31.42it/s]"
     ]
    },
    {
     "name": "stdout",
     "output_type": "stream",
     "text": [
      "quantile_size 42\n",
      "len examples 427\n",
      "n_quantiles 10\n",
      "quantile_size 34\n",
      "len examples 344\n",
      "n_quantiles 10\n",
      "quantile_size 21\n",
      "len examples 219\n",
      "n_quantiles 10\n",
      "quantile_size 44\n",
      "len examples 444\n",
      "n_quantiles 10\n",
      "quantile_size 26\n",
      "len examples 267\n",
      "n_quantiles 10\n"
     ]
    },
    {
     "name": "stderr",
     "output_type": "stream",
     "text": [
      "Loading .model.layers.12: 2721it [01:53, 33.15it/s]"
     ]
    },
    {
     "name": "stdout",
     "output_type": "stream",
     "text": [
      "quantile_size 18\n",
      "len examples 182\n",
      "n_quantiles 10\n",
      "quantile_size 21\n",
      "len examples 212\n",
      "n_quantiles 10\n",
      "quantile_size 34\n",
      "len examples 346\n",
      "n_quantiles 10\n",
      "quantile_size 40\n",
      "len examples 407\n",
      "n_quantiles 10\n",
      "quantile_size 33\n",
      "len examples 330\n",
      "n_quantiles 10\n",
      "quantile_size 16\n",
      "len examples 161\n",
      "n_quantiles 10\n"
     ]
    },
    {
     "name": "stderr",
     "output_type": "stream",
     "text": [
      "Loading .model.layers.12: 2725it [01:53, 28.43it/s]"
     ]
    },
    {
     "name": "stdout",
     "output_type": "stream",
     "text": [
      "quantile_size 107\n",
      "len examples 1075\n",
      "n_quantiles 10\n",
      "quantile_size 163\n",
      "len examples 1637\n",
      "n_quantiles 10\n",
      "quantile_size 136\n",
      "len examples 1363\n",
      "n_quantiles 10\n",
      "quantile_size 18\n",
      "len examples 184\n",
      "n_quantiles 10\n",
      "quantile_size 11\n",
      "len examples 110\n",
      "n_quantiles 10\n"
     ]
    },
    {
     "name": "stderr",
     "output_type": "stream",
     "text": [
      "Loading .model.layers.12: 2730it [01:53, 32.52it/s]"
     ]
    },
    {
     "name": "stdout",
     "output_type": "stream",
     "text": [
      "quantile_size 133\n",
      "len examples 1338\n",
      "n_quantiles 10\n",
      "quantile_size 18\n",
      "len examples 188\n",
      "n_quantiles 10\n"
     ]
    },
    {
     "name": "stderr",
     "output_type": "stream",
     "text": [
      "Loading .model.layers.12: 2737it [01:54, 19.60it/s]"
     ]
    },
    {
     "name": "stdout",
     "output_type": "stream",
     "text": [
      "quantile_size 16\n",
      "len examples 167\n",
      "n_quantiles 10\n",
      "quantile_size 54\n",
      "len examples 548\n",
      "n_quantiles 10\n",
      "quantile_size 22\n",
      "len examples 226\n",
      "n_quantiles 10\n",
      "quantile_size 53\n",
      "len examples 530\n",
      "n_quantiles 10\n"
     ]
    },
    {
     "name": "stderr",
     "output_type": "stream",
     "text": [
      "Loading .model.layers.12: 2746it [01:54, 23.60it/s]"
     ]
    },
    {
     "name": "stdout",
     "output_type": "stream",
     "text": [
      "quantile_size 19\n",
      "len examples 199\n",
      "n_quantiles 10\n",
      "quantile_size 16\n",
      "len examples 160\n",
      "n_quantiles 10\n",
      "quantile_size 12\n",
      "len examples 122\n",
      "n_quantiles 10\n",
      "quantile_size 11\n",
      "len examples 115\n",
      "n_quantiles 10\n",
      "quantile_size 62\n",
      "len examples 628\n",
      "n_quantiles 10\n"
     ]
    },
    {
     "name": "stderr",
     "output_type": "stream",
     "text": [
      "Loading .model.layers.12: 2754it [01:54, 29.14it/s]"
     ]
    },
    {
     "name": "stdout",
     "output_type": "stream",
     "text": [
      "quantile_size 17\n",
      "len examples 179\n",
      "n_quantiles 10\n",
      "quantile_size 21\n",
      "len examples 217\n",
      "n_quantiles 10\n",
      "quantile_size 13\n",
      "len examples 137\n",
      "n_quantiles 10\n",
      "quantile_size 37\n",
      "len examples 370\n",
      "n_quantiles 10\n",
      "quantile_size 17\n",
      "len examples 179\n",
      "n_quantiles 10\n",
      "quantile_size 29\n",
      "len examples 291\n",
      "n_quantiles 10\n",
      "quantile_size 39\n",
      "len examples 393\n",
      "n_quantiles 10\n"
     ]
    },
    {
     "name": "stderr",
     "output_type": "stream",
     "text": [
      "Loading .model.layers.12: 2763it [01:55, 16.29it/s]"
     ]
    },
    {
     "name": "stdout",
     "output_type": "stream",
     "text": [
      "quantile_size 47\n",
      "len examples 473\n",
      "n_quantiles 10\n",
      "quantile_size 24\n",
      "len examples 241\n",
      "n_quantiles 10\n",
      "quantile_size 12\n",
      "len examples 121\n",
      "n_quantiles 10\n",
      "quantile_size 108\n",
      "len examples 1088\n",
      "n_quantiles 10\n",
      "quantile_size 37\n",
      "len examples 377\n",
      "n_quantiles 10\n"
     ]
    },
    {
     "name": "stderr",
     "output_type": "stream",
     "text": [
      "Loading .model.layers.12: 2770it [01:57,  7.97it/s]"
     ]
    },
    {
     "name": "stdout",
     "output_type": "stream",
     "text": [
      "quantile_size 32\n",
      "len examples 322\n",
      "n_quantiles 10\n",
      "quantile_size 26\n",
      "len examples 269\n",
      "n_quantiles 10\n",
      "quantile_size 20\n",
      "len examples 208\n",
      "n_quantiles 10\n"
     ]
    },
    {
     "name": "stderr",
     "output_type": "stream",
     "text": [
      "Loading .model.layers.12: 2773it [01:57,  7.91it/s]"
     ]
    },
    {
     "name": "stdout",
     "output_type": "stream",
     "text": [
      "quantile_size 21\n",
      "len examples 210\n",
      "n_quantiles 10\n"
     ]
    },
    {
     "name": "stderr",
     "output_type": "stream",
     "text": [
      "Loading .model.layers.12: 2780it [01:58,  9.57it/s]"
     ]
    },
    {
     "name": "stdout",
     "output_type": "stream",
     "text": [
      "quantile_size 24\n",
      "len examples 248\n",
      "n_quantiles 10\n",
      "quantile_size 25\n",
      "len examples 258\n",
      "n_quantiles 10\n",
      "quantile_size 20\n",
      "len examples 205\n",
      "n_quantiles 10\n"
     ]
    },
    {
     "name": "stderr",
     "output_type": "stream",
     "text": [
      "Loading .model.layers.12: 2783it [01:58, 11.50it/s]"
     ]
    },
    {
     "name": "stdout",
     "output_type": "stream",
     "text": [
      "quantile_size 32\n",
      "len examples 329\n",
      "n_quantiles 10\n",
      "quantile_size 85\n",
      "len examples 851\n",
      "n_quantiles 10\n"
     ]
    },
    {
     "name": "stderr",
     "output_type": "stream",
     "text": [
      "Loading .model.layers.12: 2788it [01:58, 11.99it/s]"
     ]
    },
    {
     "name": "stdout",
     "output_type": "stream",
     "text": [
      "quantile_size 83\n",
      "len examples 836\n",
      "n_quantiles 10\n",
      "quantile_size 51\n",
      "len examples 513\n",
      "n_quantiles 10\n"
     ]
    },
    {
     "name": "stderr",
     "output_type": "stream",
     "text": [
      "Loading .model.layers.12: 2790it [01:58, 10.37it/s]"
     ]
    },
    {
     "name": "stdout",
     "output_type": "stream",
     "text": [
      "quantile_size 47\n",
      "len examples 476\n",
      "n_quantiles 10\n"
     ]
    },
    {
     "name": "stderr",
     "output_type": "stream",
     "text": [
      "Loading .model.layers.12: 2792it [01:59,  6.71it/s]"
     ]
    },
    {
     "name": "stdout",
     "output_type": "stream",
     "text": [
      "quantile_size 8\n",
      "len examples 85\n",
      "n_quantiles 10\n",
      "quantile_size 27\n",
      "len examples 278\n",
      "n_quantiles 10\n"
     ]
    },
    {
     "name": "stderr",
     "output_type": "stream",
     "text": [
      "Loading .model.layers.12: 2794it [01:59,  6.72it/s]"
     ]
    },
    {
     "name": "stdout",
     "output_type": "stream",
     "text": [
      "quantile_size 34\n",
      "len examples 346\n",
      "n_quantiles 10\n"
     ]
    },
    {
     "name": "stderr",
     "output_type": "stream",
     "text": [
      "Loading .model.layers.12: 2795it [02:00,  5.46it/s]"
     ]
    },
    {
     "name": "stdout",
     "output_type": "stream",
     "text": [
      "quantile_size 30\n",
      "len examples 301\n",
      "n_quantiles 10\n",
      "quantile_size 29\n",
      "len examples 297\n",
      "n_quantiles 10\n"
     ]
    },
    {
     "name": "stderr",
     "output_type": "stream",
     "text": [
      "Loading .model.layers.12: 2797it [02:00,  5.79it/s]"
     ]
    },
    {
     "name": "stdout",
     "output_type": "stream",
     "text": [
      "quantile_size 41\n",
      "len examples 412\n",
      "n_quantiles 10\n",
      "quantile_size 14\n",
      "len examples 148\n",
      "n_quantiles 10\n"
     ]
    },
    {
     "name": "stderr",
     "output_type": "stream",
     "text": [
      "Loading .model.layers.12: 2801it [02:00,  7.75it/s]"
     ]
    },
    {
     "name": "stdout",
     "output_type": "stream",
     "text": [
      "quantile_size 22\n",
      "len examples 224\n",
      "n_quantiles 10\n",
      "quantile_size 118\n",
      "len examples 1180\n",
      "n_quantiles 10\n",
      "quantile_size 16\n",
      "len examples 164\n",
      "n_quantiles 10\n"
     ]
    },
    {
     "name": "stderr",
     "output_type": "stream",
     "text": [
      "Loading .model.layers.12: 2807it [02:01, 12.64it/s]"
     ]
    },
    {
     "name": "stdout",
     "output_type": "stream",
     "text": [
      "quantile_size 140\n",
      "len examples 1406\n",
      "n_quantiles 10\n",
      "quantile_size 56\n",
      "len examples 560\n",
      "n_quantiles 10\n",
      "quantile_size 83\n",
      "len examples 835\n",
      "n_quantiles 10\n"
     ]
    },
    {
     "name": "stderr",
     "output_type": "stream",
     "text": [
      "Loading .model.layers.12: 2815it [02:01, 16.36it/s]"
     ]
    },
    {
     "name": "stdout",
     "output_type": "stream",
     "text": [
      "quantile_size 22\n",
      "len examples 227\n",
      "n_quantiles 10\n",
      "quantile_size 20\n",
      "len examples 209\n",
      "n_quantiles 10\n",
      "quantile_size 11\n",
      "len examples 113\n",
      "n_quantiles 10\n",
      "quantile_size 113\n",
      "len examples 1132\n",
      "n_quantiles 10\n",
      "quantile_size 42\n",
      "len examples 426\n",
      "n_quantiles 10\n"
     ]
    },
    {
     "name": "stderr",
     "output_type": "stream",
     "text": [
      "Loading .model.layers.12: 2821it [02:01, 21.12it/s]"
     ]
    },
    {
     "name": "stdout",
     "output_type": "stream",
     "text": [
      "quantile_size 59\n",
      "len examples 590\n",
      "n_quantiles 10\n",
      "quantile_size 74\n",
      "len examples 742\n",
      "n_quantiles 10\n",
      "quantile_size 88\n",
      "len examples 880\n",
      "n_quantiles 10\n",
      "quantile_size 44\n",
      "len examples 444\n",
      "n_quantiles 10\n"
     ]
    },
    {
     "name": "stderr",
     "output_type": "stream",
     "text": [
      "Loading .model.layers.12: 2832it [02:02, 29.21it/s]"
     ]
    },
    {
     "name": "stdout",
     "output_type": "stream",
     "text": [
      "quantile_size 33\n",
      "len examples 333\n",
      "n_quantiles 10\n",
      "quantile_size 33\n",
      "len examples 330\n",
      "n_quantiles 10\n",
      "quantile_size 15\n",
      "len examples 157\n",
      "n_quantiles 10\n",
      "quantile_size 17\n",
      "len examples 178\n",
      "n_quantiles 10\n",
      "quantile_size 18\n",
      "len examples 180\n",
      "n_quantiles 10\n",
      "quantile_size 55\n",
      "len examples 558\n",
      "n_quantiles 10\n"
     ]
    },
    {
     "name": "stderr",
     "output_type": "stream",
     "text": [
      "Loading .model.layers.12: 2836it [02:02, 25.96it/s]"
     ]
    },
    {
     "name": "stdout",
     "output_type": "stream",
     "text": [
      "quantile_size 34\n",
      "len examples 344\n",
      "n_quantiles 10\n",
      "quantile_size 68\n",
      "len examples 687\n",
      "n_quantiles 10\n",
      "quantile_size 33\n",
      "len examples 336\n",
      "n_quantiles 10\n",
      "quantile_size 68\n",
      "len examples 681\n",
      "n_quantiles 10\n"
     ]
    },
    {
     "name": "stderr",
     "output_type": "stream",
     "text": [
      "Loading .model.layers.12: 2846it [02:02, 25.69it/s]"
     ]
    },
    {
     "name": "stdout",
     "output_type": "stream",
     "text": [
      "quantile_size 53\n",
      "len examples 536\n",
      "n_quantiles 10\n",
      "quantile_size 18\n",
      "len examples 180\n",
      "n_quantiles 10\n",
      "quantile_size 42\n",
      "len examples 423\n",
      "n_quantiles 10\n",
      "quantile_size 58\n",
      "len examples 587\n",
      "n_quantiles 10\n",
      "quantile_size 10\n",
      "len examples 103\n",
      "n_quantiles 10\n",
      "quantile_size 21\n",
      "len examples 216\n",
      "n_quantiles 10\n"
     ]
    },
    {
     "name": "stderr",
     "output_type": "stream",
     "text": [
      "Loading .model.layers.12: 2857it [02:03, 39.36it/s]"
     ]
    },
    {
     "name": "stdout",
     "output_type": "stream",
     "text": [
      "quantile_size 19\n",
      "len examples 191\n",
      "n_quantiles 10\n",
      "quantile_size 28\n",
      "len examples 284\n",
      "n_quantiles 10\n",
      "quantile_size 54\n",
      "len examples 545\n",
      "n_quantiles 10\n",
      "quantile_size 16\n",
      "len examples 164\n",
      "n_quantiles 10\n",
      "quantile_size 18\n",
      "len examples 185\n",
      "n_quantiles 10\n",
      "quantile_size 22\n",
      "len examples 223\n",
      "n_quantiles 10\n"
     ]
    },
    {
     "name": "stderr",
     "output_type": "stream",
     "text": [
      "Loading .model.layers.12: 2867it [02:03, 34.89it/s]"
     ]
    },
    {
     "name": "stdout",
     "output_type": "stream",
     "text": [
      "quantile_size 140\n",
      "len examples 1406\n",
      "n_quantiles 10\n",
      "quantile_size 21\n",
      "len examples 218\n",
      "n_quantiles 10\n",
      "quantile_size 26\n",
      "len examples 267\n",
      "n_quantiles 10\n",
      "quantile_size 42\n",
      "len examples 425\n",
      "n_quantiles 10\n",
      "quantile_size 120\n",
      "len examples 1207\n",
      "n_quantiles 10\n"
     ]
    },
    {
     "name": "stderr",
     "output_type": "stream",
     "text": [
      "Loading .model.layers.12: 2871it [02:03, 35.86it/s]"
     ]
    },
    {
     "name": "stdout",
     "output_type": "stream",
     "text": [
      "quantile_size 40\n",
      "len examples 408\n",
      "n_quantiles 10\n",
      "quantile_size 11\n",
      "len examples 112\n",
      "n_quantiles 10\n",
      "quantile_size 12\n",
      "len examples 128\n",
      "n_quantiles 10\n",
      "quantile_size 17\n",
      "len examples 179\n",
      "n_quantiles 10\n",
      "quantile_size 44\n",
      "len examples 441\n",
      "n_quantiles 10\n"
     ]
    },
    {
     "name": "stderr",
     "output_type": "stream",
     "text": [
      "Loading .model.layers.12: 2883it [02:03, 39.32it/s]"
     ]
    },
    {
     "name": "stdout",
     "output_type": "stream",
     "text": [
      "quantile_size 68\n",
      "len examples 682\n",
      "n_quantiles 10\n",
      "quantile_size 73\n",
      "len examples 734\n",
      "n_quantiles 10\n",
      "quantile_size 24\n",
      "len examples 241\n",
      "n_quantiles 10\n",
      "quantile_size 59\n",
      "len examples 594\n",
      "n_quantiles 10\n",
      "quantile_size 17\n",
      "len examples 179\n",
      "n_quantiles 10\n",
      "quantile_size 19\n",
      "len examples 194\n",
      "n_quantiles 10\n"
     ]
    },
    {
     "name": "stderr",
     "output_type": "stream",
     "text": [
      "Loading .model.layers.12: 2892it [02:04, 35.06it/s]"
     ]
    },
    {
     "name": "stdout",
     "output_type": "stream",
     "text": [
      "quantile_size 73\n",
      "len examples 734\n",
      "n_quantiles 10\n",
      "quantile_size 23\n",
      "len examples 236\n",
      "n_quantiles 10\n",
      "quantile_size 45\n",
      "len examples 459\n",
      "n_quantiles 10\n",
      "quantile_size 66\n",
      "len examples 662\n",
      "n_quantiles 10\n",
      "quantile_size 20\n",
      "len examples 208\n",
      "n_quantiles 10\n",
      "quantile_size 61\n",
      "len examples 616\n",
      "n_quantiles 10\n"
     ]
    },
    {
     "name": "stderr",
     "output_type": "stream",
     "text": [
      "Loading .model.layers.12: 2896it [02:04, 28.88it/s]"
     ]
    },
    {
     "name": "stdout",
     "output_type": "stream",
     "text": [
      "quantile_size 31\n",
      "len examples 315\n",
      "n_quantiles 10\n",
      "quantile_size 360\n",
      "len examples 3605\n",
      "n_quantiles 10\n",
      "quantile_size 25\n",
      "len examples 258\n",
      "n_quantiles 10\n",
      "quantile_size 18\n",
      "len examples 187\n",
      "n_quantiles 10\n",
      "quantile_size 48\n",
      "len examples 484\n",
      "n_quantiles 10\n"
     ]
    },
    {
     "name": "stderr",
     "output_type": "stream",
     "text": [
      "Loading .model.layers.12: 2908it [02:04, 36.67it/s]"
     ]
    },
    {
     "name": "stdout",
     "output_type": "stream",
     "text": [
      "quantile_size 51\n",
      "len examples 514\n",
      "n_quantiles 10\n",
      "quantile_size 18\n",
      "len examples 188\n",
      "n_quantiles 10\n",
      "quantile_size 25\n",
      "len examples 259\n",
      "n_quantiles 10\n"
     ]
    },
    {
     "name": "stderr",
     "output_type": "stream",
     "text": [
      "Loading .model.layers.12: 2913it [02:04, 32.08it/s]"
     ]
    },
    {
     "name": "stdout",
     "output_type": "stream",
     "text": [
      "quantile_size 27\n",
      "len examples 271\n",
      "n_quantiles 10\n",
      "quantile_size 14\n",
      "len examples 148\n",
      "n_quantiles 10\n",
      "quantile_size 36\n",
      "len examples 365\n",
      "n_quantiles 10\n",
      "quantile_size 18\n",
      "len examples 186\n",
      "n_quantiles 10\n"
     ]
    },
    {
     "name": "stderr",
     "output_type": "stream",
     "text": [
      "Loading .model.layers.12: 2922it [02:05, 32.58it/s]"
     ]
    },
    {
     "name": "stdout",
     "output_type": "stream",
     "text": [
      "quantile_size 15\n",
      "len examples 157\n",
      "n_quantiles 10\n",
      "quantile_size 32\n",
      "len examples 326\n",
      "n_quantiles 10\n",
      "quantile_size 3\n",
      "len examples 39\n",
      "n_quantiles 10\n",
      "quantile_size 24\n",
      "len examples 246\n",
      "n_quantiles 10\n",
      "quantile_size 13\n",
      "len examples 139\n",
      "n_quantiles 10\n",
      "quantile_size 29\n",
      "len examples 299\n",
      "n_quantiles 10\n"
     ]
    },
    {
     "name": "stderr",
     "output_type": "stream",
     "text": [
      "Loading .model.layers.12: 2932it [02:05, 32.79it/s]"
     ]
    },
    {
     "name": "stdout",
     "output_type": "stream",
     "text": [
      "quantile_size 53\n",
      "len examples 536\n",
      "n_quantiles 10\n",
      "quantile_size 28\n",
      "len examples 286\n",
      "n_quantiles 10\n",
      "quantile_size 35\n",
      "len examples 351\n",
      "n_quantiles 10\n",
      "quantile_size 18\n",
      "len examples 186\n",
      "n_quantiles 10\n",
      "quantile_size 45\n",
      "len examples 457\n",
      "n_quantiles 10\n",
      "quantile_size 15\n",
      "len examples 155\n",
      "n_quantiles 10\n"
     ]
    },
    {
     "name": "stderr",
     "output_type": "stream",
     "text": [
      "Loading .model.layers.12: 2942it [02:05, 39.94it/s]"
     ]
    },
    {
     "name": "stdout",
     "output_type": "stream",
     "text": [
      "quantile_size 25\n",
      "len examples 251\n",
      "n_quantiles 10\n",
      "quantile_size 56\n",
      "len examples 565\n",
      "n_quantiles 10\n",
      "quantile_size 23\n",
      "len examples 232\n",
      "n_quantiles 10\n",
      "quantile_size 8\n",
      "len examples 84\n",
      "n_quantiles 10\n",
      "quantile_size 24\n",
      "len examples 244\n",
      "n_quantiles 10\n"
     ]
    },
    {
     "name": "stderr",
     "output_type": "stream",
     "text": [
      "Loading .model.layers.12: 2952it [02:05, 35.42it/s]"
     ]
    },
    {
     "name": "stdout",
     "output_type": "stream",
     "text": [
      "quantile_size 39\n",
      "len examples 398\n",
      "n_quantiles 10\n",
      "quantile_size 76\n",
      "len examples 766\n",
      "n_quantiles 10\n",
      "quantile_size 93\n",
      "len examples 930\n",
      "n_quantiles 10\n",
      "quantile_size 16\n",
      "len examples 166\n",
      "n_quantiles 10\n"
     ]
    },
    {
     "name": "stderr",
     "output_type": "stream",
     "text": [
      "Loading .model.layers.12: 2960it [02:06, 37.02it/s]"
     ]
    },
    {
     "name": "stdout",
     "output_type": "stream",
     "text": [
      "quantile_size 25\n",
      "len examples 254\n",
      "n_quantiles 10\n",
      "quantile_size 34\n",
      "len examples 348\n",
      "n_quantiles 10\n",
      "quantile_size 52\n",
      "len examples 521\n",
      "n_quantiles 10\n",
      "quantile_size 60\n",
      "len examples 601\n",
      "n_quantiles 10\n",
      "quantile_size 17\n",
      "len examples 172\n",
      "n_quantiles 10\n"
     ]
    },
    {
     "name": "stderr",
     "output_type": "stream",
     "text": [
      "Loading .model.layers.12: 2971it [02:06, 37.22it/s]"
     ]
    },
    {
     "name": "stdout",
     "output_type": "stream",
     "text": [
      "quantile_size 45\n",
      "len examples 454\n",
      "n_quantiles 10\n",
      "quantile_size 20\n",
      "len examples 204\n",
      "n_quantiles 10\n",
      "quantile_size 23\n",
      "len examples 232\n",
      "n_quantiles 10\n",
      "quantile_size 25\n",
      "len examples 251\n",
      "n_quantiles 10\n",
      "quantile_size 13\n",
      "len examples 139\n",
      "n_quantiles 10\n",
      "quantile_size 21\n",
      "len examples 214\n",
      "n_quantiles 10\n"
     ]
    },
    {
     "name": "stderr",
     "output_type": "stream",
     "text": [
      "Loading .model.layers.12: 2977it [02:06, 42.59it/s]"
     ]
    },
    {
     "name": "stdout",
     "output_type": "stream",
     "text": [
      "quantile_size 20\n",
      "len examples 205\n",
      "n_quantiles 10\n",
      "quantile_size 18\n",
      "len examples 186\n",
      "n_quantiles 10\n",
      "quantile_size 10\n",
      "len examples 107\n",
      "n_quantiles 10\n",
      "quantile_size 13\n",
      "len examples 134\n",
      "n_quantiles 10\n",
      "quantile_size 13\n",
      "len examples 136\n",
      "n_quantiles 10\n",
      "quantile_size 235\n",
      "len examples 2359\n",
      "n_quantiles 10\n"
     ]
    },
    {
     "name": "stderr",
     "output_type": "stream",
     "text": [
      "Loading .model.layers.12: 2988it [02:06, 38.62it/s]"
     ]
    },
    {
     "name": "stdout",
     "output_type": "stream",
     "text": [
      "quantile_size 38\n",
      "len examples 389\n",
      "n_quantiles 10\n",
      "quantile_size 58\n",
      "len examples 587\n",
      "n_quantiles 10\n",
      "quantile_size 36\n",
      "len examples 360\n",
      "n_quantiles 10\n",
      "quantile_size 25\n",
      "len examples 253\n",
      "n_quantiles 10\n",
      "quantile_size 63\n",
      "len examples 630\n",
      "n_quantiles 10\n",
      "quantile_size 51\n",
      "len examples 517\n",
      "n_quantiles 10\n"
     ]
    },
    {
     "name": "stderr",
     "output_type": "stream",
     "text": [
      "Loading .model.layers.12: 3000it [02:06, 47.75it/s]"
     ]
    },
    {
     "name": "stdout",
     "output_type": "stream",
     "text": [
      "quantile_size 23\n",
      "len examples 235\n",
      "n_quantiles 10\n",
      "quantile_size 57\n",
      "len examples 579\n",
      "n_quantiles 10\n",
      "quantile_size 52\n",
      "len examples 523\n",
      "n_quantiles 10\n",
      "quantile_size 21\n",
      "len examples 211\n",
      "n_quantiles 10\n"
     ]
    },
    {
     "name": "stderr",
     "output_type": "stream",
     "text": [
      "Loading .model.layers.12: 3006it [02:07, 33.66it/s]"
     ]
    },
    {
     "name": "stdout",
     "output_type": "stream",
     "text": [
      "quantile_size 198\n",
      "len examples 1984\n",
      "n_quantiles 10\n",
      "quantile_size 105\n",
      "len examples 1054\n",
      "n_quantiles 10\n",
      "quantile_size 34\n",
      "len examples 343\n",
      "n_quantiles 10\n",
      "quantile_size 21\n",
      "len examples 217\n",
      "n_quantiles 10\n",
      "quantile_size 18\n",
      "len examples 184\n",
      "n_quantiles 10\n",
      "quantile_size 16\n",
      "len examples 162\n",
      "n_quantiles 10\n"
     ]
    },
    {
     "name": "stderr",
     "output_type": "stream",
     "text": [
      "Loading .model.layers.12: 3015it [02:07, 32.28it/s]"
     ]
    },
    {
     "name": "stdout",
     "output_type": "stream",
     "text": [
      "quantile_size 61\n",
      "len examples 613\n",
      "n_quantiles 10\n",
      "quantile_size 139\n",
      "len examples 1394\n",
      "n_quantiles 10\n",
      "quantile_size 20\n",
      "len examples 200\n",
      "n_quantiles 10\n",
      "quantile_size 32\n",
      "len examples 322\n",
      "n_quantiles 10\n",
      "quantile_size 47\n",
      "len examples 476\n",
      "n_quantiles 10\n"
     ]
    },
    {
     "name": "stderr",
     "output_type": "stream",
     "text": [
      "Loading .model.layers.12: 3019it [02:07, 28.26it/s]"
     ]
    },
    {
     "name": "stdout",
     "output_type": "stream",
     "text": [
      "quantile_size 28\n",
      "len examples 281\n",
      "n_quantiles 10\n",
      "quantile_size 20\n",
      "len examples 207\n",
      "n_quantiles 10\n",
      "quantile_size 45\n",
      "len examples 452\n",
      "n_quantiles 10\n",
      "quantile_size 30\n",
      "len examples 301\n",
      "n_quantiles 10\n",
      "quantile_size 19\n",
      "len examples 199\n",
      "n_quantiles 10\n"
     ]
    },
    {
     "name": "stderr",
     "output_type": "stream",
     "text": [
      "Loading .model.layers.12: 3023it [02:07, 25.40it/s]"
     ]
    },
    {
     "name": "stdout",
     "output_type": "stream",
     "text": [
      "quantile_size 97\n",
      "len examples 974\n",
      "n_quantiles 10\n",
      "quantile_size 22\n",
      "len examples 224\n",
      "n_quantiles 10\n",
      "quantile_size 124\n",
      "len examples 1247\n",
      "n_quantiles 10\n",
      "quantile_size 25\n",
      "len examples 258\n",
      "n_quantiles 10\n"
     ]
    },
    {
     "name": "stderr",
     "output_type": "stream",
     "text": [
      "Loading .model.layers.12: 3032it [02:08, 32.17it/s]"
     ]
    },
    {
     "name": "stdout",
     "output_type": "stream",
     "text": [
      "quantile_size 33\n",
      "len examples 330\n",
      "n_quantiles 10\n",
      "quantile_size 79\n",
      "len examples 794\n",
      "n_quantiles 10\n",
      "quantile_size 24\n",
      "len examples 246\n",
      "n_quantiles 10\n",
      "quantile_size 51\n",
      "len examples 512\n",
      "n_quantiles 10\n",
      "quantile_size 40\n",
      "len examples 405\n",
      "n_quantiles 10\n"
     ]
    },
    {
     "name": "stderr",
     "output_type": "stream",
     "text": [
      "Loading .model.layers.12: 3045it [02:08, 33.52it/s]"
     ]
    },
    {
     "name": "stdout",
     "output_type": "stream",
     "text": [
      "quantile_size 25\n",
      "len examples 254\n",
      "n_quantiles 10\n",
      "quantile_size 10\n",
      "len examples 106\n",
      "n_quantiles 10\n",
      "quantile_size 32\n",
      "len examples 329\n",
      "n_quantiles 10\n",
      "quantile_size 56\n",
      "len examples 565\n",
      "n_quantiles 10\n"
     ]
    },
    {
     "name": "stderr",
     "output_type": "stream",
     "text": [
      "Loading .model.layers.12: 3049it [02:08, 34.41it/s]"
     ]
    },
    {
     "name": "stdout",
     "output_type": "stream",
     "text": [
      "quantile_size 15\n",
      "len examples 158\n",
      "n_quantiles 10\n",
      "quantile_size 100\n",
      "len examples 1005\n",
      "n_quantiles 10\n",
      "quantile_size 48\n",
      "len examples 485\n",
      "n_quantiles 10\n",
      "quantile_size 29\n",
      "len examples 293\n",
      "n_quantiles 10\n"
     ]
    },
    {
     "name": "stderr",
     "output_type": "stream",
     "text": [
      "Loading .model.layers.12: 3053it [02:08, 23.45it/s]"
     ]
    },
    {
     "name": "stdout",
     "output_type": "stream",
     "text": [
      "quantile_size 15\n",
      "len examples 156\n",
      "n_quantiles 10\n",
      "quantile_size 19\n",
      "len examples 194\n",
      "n_quantiles 10\n",
      "quantile_size 37\n",
      "len examples 377\n",
      "n_quantiles 10\n"
     ]
    },
    {
     "name": "stderr",
     "output_type": "stream",
     "text": [
      "Loading .model.layers.12: 3060it [02:09, 20.48it/s]"
     ]
    },
    {
     "name": "stdout",
     "output_type": "stream",
     "text": [
      "quantile_size 33\n",
      "len examples 332\n",
      "n_quantiles 10\n",
      "quantile_size 13\n",
      "len examples 137\n",
      "n_quantiles 10\n",
      "quantile_size 24\n",
      "len examples 245\n",
      "n_quantiles 10\n",
      "quantile_size 25\n",
      "len examples 256\n",
      "n_quantiles 10\n",
      "quantile_size 15\n",
      "len examples 158\n",
      "n_quantiles 10\n",
      "quantile_size 54\n",
      "len examples 546\n",
      "n_quantiles 10\n",
      "quantile_size 114\n",
      "len examples 1145\n",
      "n_quantiles 10\n"
     ]
    },
    {
     "name": "stderr",
     "output_type": "stream",
     "text": [
      "Loading .model.layers.12: 3067it [02:09, 16.21it/s]"
     ]
    },
    {
     "name": "stdout",
     "output_type": "stream",
     "text": [
      "quantile_size 27\n",
      "len examples 270\n",
      "n_quantiles 10\n",
      "quantile_size 23\n",
      "len examples 236\n",
      "n_quantiles 10\n",
      "quantile_size 17\n",
      "len examples 177\n",
      "n_quantiles 10\n",
      "quantile_size 29\n",
      "len examples 295\n",
      "n_quantiles 10\n",
      "quantile_size 23\n",
      "len examples 238\n",
      "n_quantiles 10\n"
     ]
    },
    {
     "name": "stderr",
     "output_type": "stream",
     "text": [
      "Loading .model.layers.12: 3071it [02:10, 19.95it/s]"
     ]
    },
    {
     "name": "stdout",
     "output_type": "stream",
     "text": [
      "quantile_size 72\n",
      "len examples 723\n",
      "n_quantiles 10\n",
      "quantile_size 11\n",
      "len examples 110\n",
      "n_quantiles 10\n",
      "quantile_size 49\n",
      "len examples 497\n",
      "n_quantiles 10\n",
      "quantile_size 12\n",
      "len examples 120\n",
      "n_quantiles 10\n"
     ]
    },
    {
     "name": "stderr",
     "output_type": "stream",
     "text": [
      "Loading .model.layers.12: 3082it [02:10, 24.06it/s]"
     ]
    },
    {
     "name": "stdout",
     "output_type": "stream",
     "text": [
      "quantile_size 24\n",
      "len examples 244\n",
      "n_quantiles 10\n",
      "quantile_size 39\n",
      "len examples 390\n",
      "n_quantiles 10\n",
      "quantile_size 12\n",
      "len examples 127\n",
      "n_quantiles 10\n",
      "quantile_size 35\n",
      "len examples 356\n",
      "n_quantiles 10\n",
      "quantile_size 72\n",
      "len examples 724\n",
      "n_quantiles 10\n",
      "quantile_size 42\n",
      "len examples 424\n",
      "n_quantiles 10\n"
     ]
    },
    {
     "name": "stderr",
     "output_type": "stream",
     "text": [
      "Loading .model.layers.12: 3086it [02:10, 22.58it/s]"
     ]
    },
    {
     "name": "stdout",
     "output_type": "stream",
     "text": [
      "quantile_size 30\n",
      "len examples 303\n",
      "n_quantiles 10\n",
      "quantile_size 15\n",
      "len examples 150\n",
      "n_quantiles 10\n",
      "quantile_size 66\n",
      "len examples 661\n",
      "n_quantiles 10\n"
     ]
    },
    {
     "name": "stderr",
     "output_type": "stream",
     "text": [
      "Loading .model.layers.12: 3092it [02:11, 21.85it/s]"
     ]
    },
    {
     "name": "stdout",
     "output_type": "stream",
     "text": [
      "quantile_size 160\n",
      "len examples 1603\n",
      "n_quantiles 10\n",
      "quantile_size 77\n",
      "len examples 770\n",
      "n_quantiles 10\n",
      "quantile_size 22\n",
      "len examples 222\n",
      "n_quantiles 10\n",
      "quantile_size 13\n",
      "len examples 137\n",
      "n_quantiles 10\n",
      "quantile_size 19\n",
      "len examples 198\n",
      "n_quantiles 10\n"
     ]
    },
    {
     "name": "stderr",
     "output_type": "stream",
     "text": [
      "Loading .model.layers.12: 3095it [02:11, 16.60it/s]"
     ]
    },
    {
     "name": "stdout",
     "output_type": "stream",
     "text": [
      "quantile_size 26\n",
      "len examples 267\n",
      "n_quantiles 10\n",
      "quantile_size 31\n",
      "len examples 311\n",
      "n_quantiles 10\n",
      "quantile_size 49\n",
      "len examples 491\n",
      "n_quantiles 10\n"
     ]
    },
    {
     "name": "stderr",
     "output_type": "stream",
     "text": [
      "Loading .model.layers.12: 3098it [02:11, 13.91it/s]"
     ]
    },
    {
     "name": "stdout",
     "output_type": "stream",
     "text": [
      "quantile_size 18\n",
      "len examples 185\n",
      "n_quantiles 10\n"
     ]
    },
    {
     "name": "stderr",
     "output_type": "stream",
     "text": [
      "Loading .model.layers.12: 3105it [02:12, 14.51it/s]"
     ]
    },
    {
     "name": "stdout",
     "output_type": "stream",
     "text": [
      "quantile_size 51\n",
      "len examples 511\n",
      "n_quantiles 10\n",
      "quantile_size 29\n",
      "len examples 297\n",
      "n_quantiles 10\n",
      "quantile_size 39\n",
      "len examples 398\n",
      "n_quantiles 10\n"
     ]
    },
    {
     "name": "stderr",
     "output_type": "stream",
     "text": [
      "Loading .model.layers.12: 3108it [02:12, 16.83it/s]"
     ]
    },
    {
     "name": "stdout",
     "output_type": "stream",
     "text": [
      "quantile_size 15\n",
      "len examples 154\n",
      "n_quantiles 10\n",
      "quantile_size 15\n",
      "len examples 155\n",
      "n_quantiles 10\n",
      "quantile_size 22\n",
      "len examples 224\n",
      "n_quantiles 10\n",
      "quantile_size 65\n",
      "len examples 653\n",
      "n_quantiles 10\n"
     ]
    },
    {
     "name": "stderr",
     "output_type": "stream",
     "text": [
      "Loading .model.layers.12: 3113it [02:13, 10.44it/s]"
     ]
    },
    {
     "name": "stdout",
     "output_type": "stream",
     "text": [
      "quantile_size 45\n",
      "len examples 455\n",
      "n_quantiles 10\n",
      "quantile_size 27\n",
      "len examples 272\n",
      "n_quantiles 10\n",
      "quantile_size 91\n",
      "len examples 918\n",
      "n_quantiles 10\n"
     ]
    },
    {
     "name": "stderr",
     "output_type": "stream",
     "text": [
      "Loading .model.layers.12: 3116it [02:13, 12.97it/s]"
     ]
    },
    {
     "name": "stdout",
     "output_type": "stream",
     "text": [
      "quantile_size 62\n",
      "len examples 620\n",
      "n_quantiles 10\n",
      "quantile_size 100\n",
      "len examples 1006\n",
      "n_quantiles 10\n",
      "quantile_size 21\n",
      "len examples 212\n",
      "n_quantiles 10\n",
      "quantile_size 18\n",
      "len examples 184\n",
      "n_quantiles 10\n"
     ]
    },
    {
     "name": "stderr",
     "output_type": "stream",
     "text": [
      "Loading .model.layers.12: 3124it [02:13, 13.80it/s]"
     ]
    },
    {
     "name": "stdout",
     "output_type": "stream",
     "text": [
      "quantile_size 20\n",
      "len examples 209\n",
      "n_quantiles 10\n",
      "quantile_size 30\n",
      "len examples 302\n",
      "n_quantiles 10\n",
      "quantile_size 24\n",
      "len examples 244\n",
      "n_quantiles 10\n"
     ]
    },
    {
     "name": "stderr",
     "output_type": "stream",
     "text": [
      "Loading .model.layers.12: 3127it [02:14,  9.21it/s]"
     ]
    },
    {
     "name": "stdout",
     "output_type": "stream",
     "text": [
      "quantile_size 18\n",
      "len examples 181\n",
      "n_quantiles 10\n",
      "quantile_size 10\n",
      "len examples 101\n",
      "n_quantiles 10\n"
     ]
    },
    {
     "name": "stderr",
     "output_type": "stream",
     "text": [
      "Loading .model.layers.12: 3133it [02:14,  9.93it/s]"
     ]
    },
    {
     "name": "stdout",
     "output_type": "stream",
     "text": [
      "quantile_size 22\n",
      "len examples 221\n",
      "n_quantiles 10\n",
      "quantile_size 78\n",
      "len examples 781\n",
      "n_quantiles 10\n",
      "quantile_size 16\n",
      "len examples 166\n",
      "n_quantiles 10\n"
     ]
    },
    {
     "name": "stderr",
     "output_type": "stream",
     "text": [
      "Loading .model.layers.12: 3137it [02:15,  7.97it/s]"
     ]
    },
    {
     "name": "stdout",
     "output_type": "stream",
     "text": [
      "quantile_size 153\n",
      "len examples 1531\n",
      "n_quantiles 10\n",
      "quantile_size 87\n",
      "len examples 871\n",
      "n_quantiles 10\n",
      "quantile_size 12\n",
      "len examples 124\n",
      "n_quantiles 10\n"
     ]
    },
    {
     "name": "stderr",
     "output_type": "stream",
     "text": [
      "Loading .model.layers.12: 3139it [02:15,  8.35it/s]"
     ]
    },
    {
     "name": "stdout",
     "output_type": "stream",
     "text": [
      "quantile_size 19\n",
      "len examples 197\n",
      "n_quantiles 10\n",
      "quantile_size 15\n",
      "len examples 158\n",
      "n_quantiles 10\n"
     ]
    },
    {
     "name": "stderr",
     "output_type": "stream",
     "text": [
      "Loading .model.layers.12: 3141it [02:16,  5.18it/s]"
     ]
    },
    {
     "name": "stdout",
     "output_type": "stream",
     "text": [
      "quantile_size 18\n",
      "len examples 189\n",
      "n_quantiles 10\n",
      "quantile_size 31\n",
      "len examples 314\n",
      "n_quantiles 10\n",
      "quantile_size 51\n",
      "len examples 515\n",
      "n_quantiles 10\n"
     ]
    },
    {
     "name": "stderr",
     "output_type": "stream",
     "text": [
      "Loading .model.layers.12: 3145it [02:17,  4.60it/s]"
     ]
    },
    {
     "name": "stdout",
     "output_type": "stream",
     "text": [
      "quantile_size 29\n",
      "len examples 298\n",
      "n_quantiles 10\n",
      "quantile_size 33\n",
      "len examples 334\n",
      "n_quantiles 10\n"
     ]
    },
    {
     "name": "stderr",
     "output_type": "stream",
     "text": [
      "Loading .model.layers.12: 3147it [02:17,  5.91it/s]"
     ]
    },
    {
     "name": "stdout",
     "output_type": "stream",
     "text": [
      "quantile_size 16\n",
      "len examples 169\n",
      "n_quantiles 10\n"
     ]
    },
    {
     "name": "stderr",
     "output_type": "stream",
     "text": [
      "Loading .model.layers.12: 3150it [02:18,  6.06it/s]"
     ]
    },
    {
     "name": "stdout",
     "output_type": "stream",
     "text": [
      "quantile_size 19\n",
      "len examples 194\n",
      "n_quantiles 10\n",
      "quantile_size 102\n",
      "len examples 1026\n",
      "n_quantiles 10\n"
     ]
    },
    {
     "name": "stderr",
     "output_type": "stream",
     "text": [
      "Loading .model.layers.12: 3151it [02:18,  5.81it/s]"
     ]
    },
    {
     "name": "stdout",
     "output_type": "stream",
     "text": [
      "quantile_size 23\n",
      "len examples 236\n",
      "n_quantiles 10\n"
     ]
    },
    {
     "name": "stderr",
     "output_type": "stream",
     "text": [
      "Loading .model.layers.12: 3153it [02:18,  6.08it/s]"
     ]
    },
    {
     "name": "stdout",
     "output_type": "stream",
     "text": [
      "quantile_size 76\n",
      "len examples 762\n",
      "n_quantiles 10\n"
     ]
    },
    {
     "name": "stderr",
     "output_type": "stream",
     "text": [
      "Loading .model.layers.12: 3158it [02:19,  6.70it/s]"
     ]
    },
    {
     "name": "stdout",
     "output_type": "stream",
     "text": [
      "quantile_size 15\n",
      "len examples 151\n",
      "n_quantiles 10\n",
      "quantile_size 168\n",
      "len examples 1683\n",
      "n_quantiles 10\n"
     ]
    },
    {
     "name": "stderr",
     "output_type": "stream",
     "text": [
      "Loading .model.layers.12: 3162it [02:19,  9.82it/s]"
     ]
    },
    {
     "name": "stdout",
     "output_type": "stream",
     "text": [
      "quantile_size 101\n",
      "len examples 1018\n",
      "n_quantiles 10\n",
      "quantile_size 30\n",
      "len examples 301\n",
      "n_quantiles 10\n",
      "quantile_size 36\n",
      "len examples 369\n",
      "n_quantiles 10\n"
     ]
    },
    {
     "name": "stderr",
     "output_type": "stream",
     "text": [
      "Loading .model.layers.12: 3164it [02:20, 10.15it/s]"
     ]
    },
    {
     "name": "stdout",
     "output_type": "stream",
     "text": [
      "quantile_size 55\n",
      "len examples 553\n",
      "n_quantiles 10\n"
     ]
    },
    {
     "name": "stderr",
     "output_type": "stream",
     "text": [
      "Loading .model.layers.12: 3166it [02:20, 10.00it/s]"
     ]
    },
    {
     "name": "stdout",
     "output_type": "stream",
     "text": [
      "quantile_size 37\n",
      "len examples 379\n",
      "n_quantiles 10\n",
      "quantile_size 22\n",
      "len examples 229\n",
      "n_quantiles 10\n"
     ]
    },
    {
     "name": "stderr",
     "output_type": "stream",
     "text": [
      "Loading .model.layers.12: 3171it [02:20, 12.87it/s]"
     ]
    },
    {
     "name": "stdout",
     "output_type": "stream",
     "text": [
      "quantile_size 140\n",
      "len examples 1400\n",
      "n_quantiles 10\n"
     ]
    },
    {
     "name": "stderr",
     "output_type": "stream",
     "text": [
      "Loading .model.layers.12: 3173it [02:20, 10.23it/s]"
     ]
    },
    {
     "name": "stdout",
     "output_type": "stream",
     "text": [
      "quantile_size 15\n",
      "len examples 152\n",
      "n_quantiles 10\n",
      "quantile_size 33\n",
      "len examples 339\n",
      "n_quantiles 10\n",
      "quantile_size 105\n",
      "len examples 1050\n",
      "n_quantiles 10\n"
     ]
    },
    {
     "name": "stderr",
     "output_type": "stream",
     "text": [
      "Loading .model.layers.12: 3175it [02:21,  8.93it/s]"
     ]
    },
    {
     "name": "stdout",
     "output_type": "stream",
     "text": [
      "quantile_size 31\n",
      "len examples 316\n",
      "n_quantiles 10\n"
     ]
    },
    {
     "name": "stderr",
     "output_type": "stream",
     "text": [
      "Loading .model.layers.12: 3177it [02:21,  5.99it/s]"
     ]
    },
    {
     "name": "stdout",
     "output_type": "stream",
     "text": [
      "quantile_size 64\n",
      "len examples 640\n",
      "n_quantiles 10\n",
      "quantile_size 36\n",
      "len examples 363\n",
      "n_quantiles 10\n"
     ]
    },
    {
     "name": "stderr",
     "output_type": "stream",
     "text": [
      "Loading .model.layers.12: 3181it [02:22,  4.48it/s]"
     ]
    },
    {
     "name": "stdout",
     "output_type": "stream",
     "text": [
      "quantile_size 50\n",
      "len examples 501\n",
      "n_quantiles 10\n"
     ]
    },
    {
     "name": "stderr",
     "output_type": "stream",
     "text": [
      "Loading .model.layers.12: 3182it [02:23,  3.24it/s]"
     ]
    },
    {
     "name": "stdout",
     "output_type": "stream",
     "text": [
      "quantile_size 27\n",
      "len examples 279\n",
      "n_quantiles 10\n"
     ]
    },
    {
     "name": "stderr",
     "output_type": "stream",
     "text": [
      "Loading .model.layers.12: 3184it [02:23,  3.45it/s]"
     ]
    },
    {
     "name": "stdout",
     "output_type": "stream",
     "text": [
      "quantile_size 25\n",
      "len examples 252\n",
      "n_quantiles 10\n",
      "quantile_size 19\n",
      "len examples 193\n",
      "n_quantiles 10\n"
     ]
    },
    {
     "name": "stderr",
     "output_type": "stream",
     "text": [
      "Loading .model.layers.12: 3187it [02:24,  2.83it/s]"
     ]
    },
    {
     "name": "stdout",
     "output_type": "stream",
     "text": [
      "quantile_size 154\n",
      "len examples 1549\n",
      "n_quantiles 10\n"
     ]
    },
    {
     "name": "stderr",
     "output_type": "stream",
     "text": [
      "Loading .model.layers.12: 3189it [02:25,  2.67it/s]"
     ]
    },
    {
     "name": "stdout",
     "output_type": "stream",
     "text": [
      "quantile_size 59\n",
      "len examples 595\n",
      "n_quantiles 10\n"
     ]
    },
    {
     "name": "stderr",
     "output_type": "stream",
     "text": [
      "Loading .model.layers.12: 3191it [02:26,  3.56it/s]"
     ]
    },
    {
     "name": "stdout",
     "output_type": "stream",
     "text": [
      "quantile_size 34\n",
      "len examples 347\n",
      "n_quantiles 10\n"
     ]
    },
    {
     "name": "stderr",
     "output_type": "stream",
     "text": [
      "Loading .model.layers.12: 3193it [02:26,  3.82it/s]"
     ]
    },
    {
     "name": "stdout",
     "output_type": "stream",
     "text": [
      "quantile_size 46\n",
      "len examples 464\n",
      "n_quantiles 10\n"
     ]
    },
    {
     "name": "stderr",
     "output_type": "stream",
     "text": [
      "Loading .model.layers.12: 3195it [02:26,  4.80it/s]"
     ]
    },
    {
     "name": "stdout",
     "output_type": "stream",
     "text": [
      "quantile_size 17\n",
      "len examples 173\n",
      "n_quantiles 10\n"
     ]
    },
    {
     "name": "stderr",
     "output_type": "stream",
     "text": [
      "Loading .model.layers.12: 3200it [02:27,  6.64it/s]"
     ]
    },
    {
     "name": "stdout",
     "output_type": "stream",
     "text": [
      "quantile_size 30\n",
      "len examples 308\n",
      "n_quantiles 10\n"
     ]
    },
    {
     "name": "stderr",
     "output_type": "stream",
     "text": [
      "Loading .model.layers.12: 3203it [02:27,  7.60it/s]"
     ]
    },
    {
     "name": "stdout",
     "output_type": "stream",
     "text": [
      "quantile_size 54\n",
      "len examples 546\n",
      "n_quantiles 10\n"
     ]
    },
    {
     "name": "stderr",
     "output_type": "stream",
     "text": [
      "Loading .model.layers.12: 3208it [02:28,  8.32it/s]"
     ]
    },
    {
     "name": "stdout",
     "output_type": "stream",
     "text": [
      "quantile_size 200\n",
      "len examples 2007\n",
      "n_quantiles 10\n",
      "quantile_size 10\n",
      "len examples 103\n",
      "n_quantiles 10\n",
      "quantile_size 15\n",
      "len examples 154\n",
      "n_quantiles 10\n"
     ]
    },
    {
     "name": "stderr",
     "output_type": "stream",
     "text": [
      "Loading .model.layers.12: 3210it [02:28,  6.87it/s]"
     ]
    },
    {
     "name": "stdout",
     "output_type": "stream",
     "text": [
      "quantile_size 47\n",
      "len examples 471\n",
      "n_quantiles 10\n",
      "quantile_size 38\n",
      "len examples 384\n",
      "n_quantiles 10\n",
      "quantile_size 34\n",
      "len examples 340\n",
      "n_quantiles 10\n"
     ]
    },
    {
     "name": "stderr",
     "output_type": "stream",
     "text": [
      "Loading .model.layers.12: 3215it [02:29, 11.75it/s]"
     ]
    },
    {
     "name": "stdout",
     "output_type": "stream",
     "text": [
      "quantile_size 170\n",
      "len examples 1709\n",
      "n_quantiles 10\n",
      "quantile_size 122\n",
      "len examples 1221\n",
      "n_quantiles 10\n",
      "quantile_size 39\n",
      "len examples 393\n",
      "n_quantiles 10\n"
     ]
    },
    {
     "name": "stderr",
     "output_type": "stream",
     "text": [
      "Loading .model.layers.12: 3218it [02:29,  7.34it/s]"
     ]
    },
    {
     "name": "stdout",
     "output_type": "stream",
     "text": [
      "quantile_size 20\n",
      "len examples 206\n",
      "n_quantiles 10\n"
     ]
    },
    {
     "name": "stderr",
     "output_type": "stream",
     "text": [
      "Loading .model.layers.12: 3220it [02:30,  7.80it/s]"
     ]
    },
    {
     "name": "stdout",
     "output_type": "stream",
     "text": [
      "quantile_size 20\n",
      "len examples 201\n",
      "n_quantiles 10\n",
      "quantile_size 7\n",
      "len examples 70\n",
      "n_quantiles 10\n"
     ]
    },
    {
     "name": "stderr",
     "output_type": "stream",
     "text": [
      "Loading .model.layers.12: 3229it [02:30, 13.03it/s]"
     ]
    },
    {
     "name": "stdout",
     "output_type": "stream",
     "text": [
      "quantile_size 14\n",
      "len examples 144\n",
      "n_quantiles 10\n",
      "quantile_size 46\n",
      "len examples 467\n",
      "n_quantiles 10\n",
      "quantile_size 21\n",
      "len examples 210\n",
      "n_quantiles 10\n",
      "quantile_size 20\n",
      "len examples 206\n",
      "n_quantiles 10\n"
     ]
    },
    {
     "name": "stderr",
     "output_type": "stream",
     "text": [
      "Loading .model.layers.12: 3234it [02:31,  8.00it/s]"
     ]
    },
    {
     "name": "stdout",
     "output_type": "stream",
     "text": [
      "quantile_size 28\n",
      "len examples 287\n",
      "n_quantiles 10\n"
     ]
    },
    {
     "name": "stderr",
     "output_type": "stream",
     "text": [
      "Loading .model.layers.12: 3236it [02:31,  8.39it/s]"
     ]
    },
    {
     "name": "stdout",
     "output_type": "stream",
     "text": [
      "quantile_size 20\n",
      "len examples 205\n",
      "n_quantiles 10\n"
     ]
    },
    {
     "name": "stderr",
     "output_type": "stream",
     "text": [
      "Loading .model.layers.12: 3238it [02:32,  7.91it/s]"
     ]
    },
    {
     "name": "stdout",
     "output_type": "stream",
     "text": [
      "quantile_size 21\n",
      "len examples 212\n",
      "n_quantiles 10\n",
      "quantile_size 41\n",
      "len examples 414\n",
      "n_quantiles 10\n",
      "quantile_size 23\n",
      "len examples 237\n",
      "n_quantiles 10\n",
      "quantile_size 20\n",
      "len examples 203\n",
      "n_quantiles 10\n"
     ]
    },
    {
     "name": "stderr",
     "output_type": "stream",
     "text": [
      "Loading .model.layers.12: 3242it [02:32,  8.36it/s]"
     ]
    },
    {
     "name": "stdout",
     "output_type": "stream",
     "text": [
      "quantile_size 26\n",
      "len examples 265\n",
      "n_quantiles 10\n",
      "quantile_size 70\n",
      "len examples 707\n",
      "n_quantiles 10\n"
     ]
    },
    {
     "name": "stderr",
     "output_type": "stream",
     "text": [
      "Loading .model.layers.12: 3244it [02:33,  7.09it/s]"
     ]
    },
    {
     "name": "stdout",
     "output_type": "stream",
     "text": [
      "quantile_size 11\n",
      "len examples 119\n",
      "n_quantiles 10\n"
     ]
    },
    {
     "name": "stderr",
     "output_type": "stream",
     "text": [
      "Loading .model.layers.12: 3246it [02:33,  6.36it/s]"
     ]
    },
    {
     "name": "stdout",
     "output_type": "stream",
     "text": [
      "quantile_size 11\n",
      "len examples 117\n",
      "n_quantiles 10\n"
     ]
    },
    {
     "name": "stderr",
     "output_type": "stream",
     "text": [
      "Loading .model.layers.12: 3249it [02:33,  8.13it/s]"
     ]
    },
    {
     "name": "stdout",
     "output_type": "stream",
     "text": [
      "quantile_size 16\n",
      "len examples 168\n",
      "n_quantiles 10\n"
     ]
    },
    {
     "name": "stderr",
     "output_type": "stream",
     "text": [
      "Loading .model.layers.12: 3255it [02:34,  8.98it/s]"
     ]
    },
    {
     "name": "stdout",
     "output_type": "stream",
     "text": [
      "quantile_size 447\n",
      "len examples 4474\n",
      "n_quantiles 10\n",
      "quantile_size 16\n",
      "len examples 165\n",
      "n_quantiles 10\n",
      "quantile_size 92\n",
      "len examples 924\n",
      "n_quantiles 10\n",
      "quantile_size 22\n",
      "len examples 226\n",
      "n_quantiles 10\n"
     ]
    },
    {
     "name": "stderr",
     "output_type": "stream",
     "text": [
      "Loading .model.layers.12: 3260it [02:34, 10.99it/s]"
     ]
    },
    {
     "name": "stdout",
     "output_type": "stream",
     "text": [
      "quantile_size 268\n",
      "len examples 2689\n",
      "n_quantiles 10\n",
      "quantile_size 4\n",
      "len examples 45\n",
      "n_quantiles 10\n",
      "quantile_size 24\n",
      "len examples 249\n",
      "n_quantiles 10\n",
      "quantile_size 17\n",
      "len examples 170\n",
      "n_quantiles 10\n"
     ]
    },
    {
     "name": "stderr",
     "output_type": "stream",
     "text": [
      "Loading .model.layers.12: 3269it [02:34, 22.37it/s]"
     ]
    },
    {
     "name": "stdout",
     "output_type": "stream",
     "text": [
      "quantile_size 18\n",
      "len examples 180\n",
      "n_quantiles 10\n",
      "quantile_size 79\n",
      "len examples 790\n",
      "n_quantiles 10\n",
      "quantile_size 17\n",
      "len examples 173\n",
      "n_quantiles 10\n",
      "quantile_size 12\n",
      "len examples 120\n",
      "n_quantiles 10\n"
     ]
    },
    {
     "name": "stderr",
     "output_type": "stream",
     "text": [
      "Loading .model.layers.12: 3274it [02:35, 27.87it/s]"
     ]
    },
    {
     "name": "stdout",
     "output_type": "stream",
     "text": [
      "quantile_size 22\n",
      "len examples 220\n",
      "n_quantiles 10\n",
      "quantile_size 13\n",
      "len examples 136\n",
      "n_quantiles 10\n",
      "quantile_size 25\n",
      "len examples 252\n",
      "n_quantiles 10\n"
     ]
    },
    {
     "name": "stderr",
     "output_type": "stream",
     "text": [
      "Loading .model.layers.12: 3282it [02:35, 23.68it/s]"
     ]
    },
    {
     "name": "stdout",
     "output_type": "stream",
     "text": [
      "quantile_size 43\n",
      "len examples 432\n",
      "n_quantiles 10\n",
      "quantile_size 21\n",
      "len examples 214\n",
      "n_quantiles 10\n",
      "quantile_size 37\n",
      "len examples 370\n",
      "n_quantiles 10\n",
      "quantile_size 15\n",
      "len examples 151\n",
      "n_quantiles 10\n",
      "quantile_size 28\n",
      "len examples 288\n",
      "n_quantiles 10\n",
      "quantile_size 14\n",
      "len examples 145\n",
      "n_quantiles 10\n"
     ]
    },
    {
     "name": "stderr",
     "output_type": "stream",
     "text": [
      "Loading .model.layers.12: 3290it [02:35, 29.43it/s]"
     ]
    },
    {
     "name": "stdout",
     "output_type": "stream",
     "text": [
      "quantile_size 138\n",
      "len examples 1383\n",
      "n_quantiles 10\n",
      "quantile_size 10\n",
      "len examples 108\n",
      "n_quantiles 10\n",
      "quantile_size 28\n",
      "len examples 285\n",
      "n_quantiles 10\n",
      "quantile_size 33\n",
      "len examples 336\n",
      "n_quantiles 10\n"
     ]
    },
    {
     "name": "stderr",
     "output_type": "stream",
     "text": [
      "Loading .model.layers.12: 3300it [02:35, 38.20it/s]"
     ]
    },
    {
     "name": "stdout",
     "output_type": "stream",
     "text": [
      "quantile_size 12\n",
      "len examples 120\n",
      "n_quantiles 10\n",
      "quantile_size 49\n",
      "len examples 497\n",
      "n_quantiles 10\n",
      "quantile_size 25\n",
      "len examples 252\n",
      "n_quantiles 10\n",
      "quantile_size 18\n",
      "len examples 189\n",
      "n_quantiles 10\n"
     ]
    },
    {
     "name": "stderr",
     "output_type": "stream",
     "text": [
      "Loading .model.layers.12: 3309it [02:36, 34.63it/s]"
     ]
    },
    {
     "name": "stdout",
     "output_type": "stream",
     "text": [
      "quantile_size 51\n",
      "len examples 510\n",
      "n_quantiles 10\n",
      "quantile_size 36\n",
      "len examples 360\n",
      "n_quantiles 10\n",
      "quantile_size 28\n",
      "len examples 288\n",
      "n_quantiles 10\n",
      "quantile_size 77\n",
      "len examples 775\n",
      "n_quantiles 10\n"
     ]
    },
    {
     "name": "stderr",
     "output_type": "stream",
     "text": [
      "Loading .model.layers.12: 3319it [02:36, 40.79it/s]"
     ]
    },
    {
     "name": "stdout",
     "output_type": "stream",
     "text": [
      "quantile_size 16\n",
      "len examples 167\n",
      "n_quantiles 10\n",
      "quantile_size 27\n",
      "len examples 275\n",
      "n_quantiles 10\n",
      "quantile_size 82\n",
      "len examples 822\n",
      "n_quantiles 10\n",
      "quantile_size 27\n",
      "len examples 278\n",
      "n_quantiles 10\n",
      "quantile_size 35\n",
      "len examples 356\n",
      "n_quantiles 10\n"
     ]
    },
    {
     "name": "stderr",
     "output_type": "stream",
     "text": [
      "Loading .model.layers.12: 3324it [02:36, 24.36it/s]"
     ]
    },
    {
     "name": "stdout",
     "output_type": "stream",
     "text": [
      "quantile_size 34\n",
      "len examples 347\n",
      "n_quantiles 10\n"
     ]
    },
    {
     "name": "stderr",
     "output_type": "stream",
     "text": [
      "Loading .model.layers.12: 3328it [02:36, 26.73it/s]"
     ]
    },
    {
     "name": "stdout",
     "output_type": "stream",
     "text": [
      "quantile_size 33\n",
      "len examples 339\n",
      "n_quantiles 10\n",
      "quantile_size 24\n",
      "len examples 242\n",
      "n_quantiles 10\n"
     ]
    },
    {
     "name": "stderr",
     "output_type": "stream",
     "text": [
      "Loading .model.layers.12: 3332it [02:37, 20.61it/s]"
     ]
    },
    {
     "name": "stdout",
     "output_type": "stream",
     "text": [
      "quantile_size 55\n",
      "len examples 557\n",
      "n_quantiles 10\n"
     ]
    },
    {
     "name": "stderr",
     "output_type": "stream",
     "text": [
      "Loading .model.layers.12: 3338it [02:37, 18.85it/s]"
     ]
    },
    {
     "name": "stdout",
     "output_type": "stream",
     "text": [
      "quantile_size 30\n",
      "len examples 304\n",
      "n_quantiles 10\n",
      "quantile_size 16\n",
      "len examples 161\n",
      "n_quantiles 10\n",
      "quantile_size 36\n",
      "len examples 364\n",
      "n_quantiles 10\n",
      "quantile_size 67\n",
      "len examples 679\n",
      "n_quantiles 10\n"
     ]
    },
    {
     "name": "stderr",
     "output_type": "stream",
     "text": [
      "Loading .model.layers.12: 3344it [02:37, 17.64it/s]"
     ]
    },
    {
     "name": "stdout",
     "output_type": "stream",
     "text": [
      "quantile_size 64\n",
      "len examples 640\n",
      "n_quantiles 10\n",
      "quantile_size 70\n",
      "len examples 702\n",
      "n_quantiles 10\n",
      "quantile_size 23\n",
      "len examples 232\n",
      "n_quantiles 10\n",
      "quantile_size 25\n",
      "len examples 258\n",
      "n_quantiles 10\n",
      "quantile_size 31\n",
      "len examples 310\n",
      "n_quantiles 10\n"
     ]
    },
    {
     "name": "stderr",
     "output_type": "stream",
     "text": [
      "Loading .model.layers.12: 3353it [02:38, 23.20it/s]"
     ]
    },
    {
     "name": "stdout",
     "output_type": "stream",
     "text": [
      "quantile_size 50\n",
      "len examples 503\n",
      "n_quantiles 10\n",
      "quantile_size 8\n",
      "len examples 87\n",
      "n_quantiles 10\n",
      "quantile_size 21\n",
      "len examples 215\n",
      "n_quantiles 10\n",
      "quantile_size 259\n",
      "len examples 2597\n",
      "n_quantiles 10\n"
     ]
    },
    {
     "name": "stderr",
     "output_type": "stream",
     "text": [
      "Loading .model.layers.12: 3359it [02:38, 25.43it/s]"
     ]
    },
    {
     "name": "stdout",
     "output_type": "stream",
     "text": [
      "quantile_size 106\n",
      "len examples 1067\n",
      "n_quantiles 10\n",
      "quantile_size 41\n",
      "len examples 414\n",
      "n_quantiles 10\n",
      "quantile_size 14\n",
      "len examples 140\n",
      "n_quantiles 10\n",
      "quantile_size 37\n",
      "len examples 378\n",
      "n_quantiles 10\n",
      "quantile_size 64\n",
      "len examples 646\n",
      "n_quantiles 10\n"
     ]
    },
    {
     "name": "stderr",
     "output_type": "stream",
     "text": [
      "Loading .model.layers.12: 3362it [02:38, 21.10it/s]"
     ]
    },
    {
     "name": "stdout",
     "output_type": "stream",
     "text": [
      "quantile_size 27\n",
      "len examples 274\n",
      "n_quantiles 10\n",
      "quantile_size 375\n",
      "len examples 3756\n",
      "n_quantiles 10\n",
      "quantile_size 74\n",
      "len examples 746\n",
      "n_quantiles 10\n",
      "quantile_size 83\n",
      "len examples 836\n",
      "n_quantiles 10\n",
      "quantile_size 18\n",
      "len examples 180\n",
      "n_quantiles 10\n"
     ]
    },
    {
     "name": "stderr",
     "output_type": "stream",
     "text": [
      "Loading .model.layers.12: 3369it [02:38, 22.78it/s]"
     ]
    },
    {
     "name": "stdout",
     "output_type": "stream",
     "text": [
      "quantile_size 12\n",
      "len examples 122\n",
      "n_quantiles 10\n",
      "quantile_size 82\n",
      "len examples 828\n",
      "n_quantiles 10\n",
      "quantile_size 16\n",
      "len examples 160\n",
      "n_quantiles 10\n",
      "quantile_size 51\n",
      "len examples 516\n",
      "n_quantiles 10\n"
     ]
    },
    {
     "name": "stderr",
     "output_type": "stream",
     "text": [
      "Loading .model.layers.12: 3375it [02:39, 19.17it/s]"
     ]
    },
    {
     "name": "stdout",
     "output_type": "stream",
     "text": [
      "quantile_size 45\n",
      "len examples 453\n",
      "n_quantiles 10\n",
      "quantile_size 54\n",
      "len examples 548\n",
      "n_quantiles 10\n",
      "quantile_size 25\n",
      "len examples 259\n",
      "n_quantiles 10\n"
     ]
    },
    {
     "name": "stderr",
     "output_type": "stream",
     "text": [
      "Loading .model.layers.12: 3378it [02:39, 17.88it/s]"
     ]
    },
    {
     "name": "stdout",
     "output_type": "stream",
     "text": [
      "quantile_size 25\n",
      "len examples 258\n",
      "n_quantiles 10\n",
      "quantile_size 17\n",
      "len examples 170\n",
      "n_quantiles 10\n",
      "quantile_size 40\n",
      "len examples 407\n",
      "n_quantiles 10\n"
     ]
    },
    {
     "name": "stderr",
     "output_type": "stream",
     "text": [
      "Loading .model.layers.12: 3386it [02:40, 10.35it/s]"
     ]
    },
    {
     "name": "stdout",
     "output_type": "stream",
     "text": [
      "quantile_size 539\n",
      "len examples 5392\n",
      "n_quantiles 10\n",
      "quantile_size 19\n",
      "len examples 196\n",
      "n_quantiles 10\n",
      "quantile_size 14\n",
      "len examples 147\n",
      "n_quantiles 10\n",
      "quantile_size 40\n",
      "len examples 405\n",
      "n_quantiles 10\n",
      "quantile_size 58\n",
      "len examples 588\n",
      "n_quantiles 10\n",
      "quantile_size 28\n",
      "len examples 286\n",
      "n_quantiles 10\n"
     ]
    },
    {
     "name": "stderr",
     "output_type": "stream",
     "text": [
      "Loading .model.layers.12: 3391it [02:41, 10.91it/s]"
     ]
    },
    {
     "name": "stdout",
     "output_type": "stream",
     "text": [
      "quantile_size 25\n",
      "len examples 259\n",
      "n_quantiles 10\n",
      "quantile_size 22\n",
      "len examples 227\n",
      "n_quantiles 10\n"
     ]
    },
    {
     "name": "stderr",
     "output_type": "stream",
     "text": [
      "Loading .model.layers.12: 3393it [02:41,  7.93it/s]"
     ]
    },
    {
     "name": "stdout",
     "output_type": "stream",
     "text": [
      "quantile_size 40\n",
      "len examples 408\n",
      "n_quantiles 10\n",
      "quantile_size 101\n",
      "len examples 1017\n",
      "n_quantiles 10\n"
     ]
    },
    {
     "name": "stderr",
     "output_type": "stream",
     "text": [
      "Loading .model.layers.12: 3397it [02:41,  9.72it/s]"
     ]
    },
    {
     "name": "stdout",
     "output_type": "stream",
     "text": [
      "quantile_size 15\n",
      "len examples 156\n",
      "n_quantiles 10\n",
      "quantile_size 26\n",
      "len examples 266\n",
      "n_quantiles 10\n",
      "quantile_size 10\n",
      "len examples 107\n",
      "n_quantiles 10\n"
     ]
    },
    {
     "name": "stderr",
     "output_type": "stream",
     "text": [
      "Loading .model.layers.12: 3399it [02:42,  7.85it/s]"
     ]
    },
    {
     "name": "stdout",
     "output_type": "stream",
     "text": [
      "quantile_size 31\n",
      "len examples 317\n",
      "n_quantiles 10\n",
      "quantile_size 13\n",
      "len examples 135\n",
      "n_quantiles 10\n"
     ]
    },
    {
     "name": "stderr",
     "output_type": "stream",
     "text": [
      "Loading .model.layers.12: 3402it [02:42,  7.72it/s]"
     ]
    },
    {
     "name": "stdout",
     "output_type": "stream",
     "text": [
      "quantile_size 133\n",
      "len examples 1336\n",
      "n_quantiles 10\n"
     ]
    },
    {
     "name": "stderr",
     "output_type": "stream",
     "text": [
      "Loading .model.layers.12: 3405it [02:43,  7.52it/s]"
     ]
    },
    {
     "name": "stdout",
     "output_type": "stream",
     "text": [
      "quantile_size 31\n",
      "len examples 318\n",
      "n_quantiles 10\n",
      "quantile_size 24\n",
      "len examples 246\n",
      "n_quantiles 10\n",
      "quantile_size 7\n",
      "len examples 78\n",
      "n_quantiles 10\n"
     ]
    },
    {
     "name": "stderr",
     "output_type": "stream",
     "text": [
      "Loading .model.layers.12: 3410it [02:43,  7.79it/s]"
     ]
    },
    {
     "name": "stdout",
     "output_type": "stream",
     "text": [
      "quantile_size 23\n",
      "len examples 237\n",
      "n_quantiles 10\n",
      "quantile_size 16\n",
      "len examples 163\n",
      "n_quantiles 10\n",
      "quantile_size 62\n",
      "len examples 622\n",
      "n_quantiles 10\n"
     ]
    },
    {
     "name": "stderr",
     "output_type": "stream",
     "text": [
      "Loading .model.layers.12: 3416it [02:44, 11.56it/s]"
     ]
    },
    {
     "name": "stdout",
     "output_type": "stream",
     "text": [
      "quantile_size 125\n",
      "len examples 1259\n",
      "n_quantiles 10\n",
      "quantile_size 76\n",
      "len examples 762\n",
      "n_quantiles 10\n",
      "quantile_size 29\n",
      "len examples 296\n",
      "n_quantiles 10\n",
      "quantile_size 23\n",
      "len examples 232\n",
      "n_quantiles 10\n",
      "quantile_size 83\n",
      "len examples 838\n",
      "n_quantiles 10\n",
      "quantile_size 24\n",
      "len examples 248\n",
      "n_quantiles 10\n"
     ]
    },
    {
     "name": "stderr",
     "output_type": "stream",
     "text": [
      "Loading .model.layers.12: 3418it [02:44,  9.55it/s]"
     ]
    },
    {
     "name": "stdout",
     "output_type": "stream",
     "text": [
      "quantile_size 17\n",
      "len examples 172\n",
      "n_quantiles 10\n"
     ]
    },
    {
     "name": "stderr",
     "output_type": "stream",
     "text": [
      "Loading .model.layers.12: 3422it [02:45,  8.89it/s]"
     ]
    },
    {
     "name": "stdout",
     "output_type": "stream",
     "text": [
      "quantile_size 48\n",
      "len examples 483\n",
      "n_quantiles 10\n"
     ]
    },
    {
     "name": "stderr",
     "output_type": "stream",
     "text": [
      "Loading .model.layers.12: 3427it [02:45, 12.09it/s]"
     ]
    },
    {
     "name": "stdout",
     "output_type": "stream",
     "text": [
      "quantile_size 80\n",
      "len examples 801\n",
      "n_quantiles 10\n",
      "quantile_size 121\n",
      "len examples 1212\n",
      "n_quantiles 10\n",
      "quantile_size 20\n",
      "len examples 203\n",
      "n_quantiles 10\n",
      "quantile_size 27\n",
      "len examples 275\n",
      "n_quantiles 10\n"
     ]
    },
    {
     "name": "stderr",
     "output_type": "stream",
     "text": [
      "Loading .model.layers.12: 3432it [02:45, 10.89it/s]"
     ]
    },
    {
     "name": "stdout",
     "output_type": "stream",
     "text": [
      "quantile_size 19\n",
      "len examples 195\n",
      "n_quantiles 10\n"
     ]
    },
    {
     "name": "stderr",
     "output_type": "stream",
     "text": [
      "Loading .model.layers.12: 3434it [02:46,  9.62it/s]"
     ]
    },
    {
     "name": "stdout",
     "output_type": "stream",
     "text": [
      "quantile_size 78\n",
      "len examples 787\n",
      "n_quantiles 10\n"
     ]
    },
    {
     "name": "stderr",
     "output_type": "stream",
     "text": [
      "Loading .model.layers.12: 3436it [02:46,  8.63it/s]"
     ]
    },
    {
     "name": "stdout",
     "output_type": "stream",
     "text": [
      "quantile_size 10\n",
      "len examples 100\n",
      "n_quantiles 10\n"
     ]
    },
    {
     "name": "stderr",
     "output_type": "stream",
     "text": [
      "Loading .model.layers.12: 3438it [02:47,  4.84it/s]"
     ]
    },
    {
     "name": "stdout",
     "output_type": "stream",
     "text": [
      "quantile_size 37\n",
      "len examples 374\n",
      "n_quantiles 10\n",
      "quantile_size 26\n",
      "len examples 269\n",
      "n_quantiles 10\n"
     ]
    },
    {
     "name": "stderr",
     "output_type": "stream",
     "text": [
      "Loading .model.layers.12: 3441it [02:47,  6.67it/s]"
     ]
    },
    {
     "name": "stdout",
     "output_type": "stream",
     "text": [
      "quantile_size 21\n",
      "len examples 215\n",
      "n_quantiles 10\n",
      "quantile_size 211\n",
      "len examples 2115\n",
      "n_quantiles 10\n"
     ]
    },
    {
     "name": "stderr",
     "output_type": "stream",
     "text": [
      "Loading .model.layers.12: 3445it [02:48,  9.47it/s]"
     ]
    },
    {
     "name": "stdout",
     "output_type": "stream",
     "text": [
      "quantile_size 44\n",
      "len examples 445\n",
      "n_quantiles 10\n",
      "quantile_size 21\n",
      "len examples 218\n",
      "n_quantiles 10\n",
      "quantile_size 28\n",
      "len examples 287\n",
      "n_quantiles 10\n"
     ]
    },
    {
     "name": "stderr",
     "output_type": "stream",
     "text": [
      "Loading .model.layers.12: 3449it [02:48,  7.46it/s]"
     ]
    },
    {
     "name": "stdout",
     "output_type": "stream",
     "text": [
      "quantile_size 24\n",
      "len examples 244\n",
      "n_quantiles 10\n",
      "quantile_size 51\n",
      "len examples 510\n",
      "n_quantiles 10\n"
     ]
    },
    {
     "name": "stderr",
     "output_type": "stream",
     "text": [
      "Loading .model.layers.12: 3452it [02:49,  7.61it/s]"
     ]
    },
    {
     "name": "stdout",
     "output_type": "stream",
     "text": [
      "quantile_size 24\n",
      "len examples 245\n",
      "n_quantiles 10\n",
      "quantile_size 12\n",
      "len examples 127\n",
      "n_quantiles 10\n",
      "quantile_size 16\n",
      "len examples 161\n",
      "n_quantiles 10\n"
     ]
    },
    {
     "name": "stderr",
     "output_type": "stream",
     "text": [
      "Loading .model.layers.12: 3454it [02:49,  9.63it/s]"
     ]
    },
    {
     "name": "stdout",
     "output_type": "stream",
     "text": [
      "quantile_size 26\n",
      "len examples 261\n",
      "n_quantiles 10\n"
     ]
    },
    {
     "name": "stderr",
     "output_type": "stream",
     "text": [
      "Loading .model.layers.12: 3459it [02:49, 11.84it/s]"
     ]
    },
    {
     "name": "stdout",
     "output_type": "stream",
     "text": [
      "quantile_size 21\n",
      "len examples 217\n",
      "n_quantiles 10\n",
      "quantile_size 51\n",
      "len examples 513\n",
      "n_quantiles 10\n",
      "quantile_size 14\n",
      "len examples 148\n",
      "n_quantiles 10\n",
      "quantile_size 68\n",
      "len examples 680\n",
      "n_quantiles 10\n",
      "quantile_size 65\n",
      "len examples 650\n",
      "n_quantiles 10\n"
     ]
    },
    {
     "name": "stderr",
     "output_type": "stream",
     "text": [
      "Loading .model.layers.12: 3465it [02:49, 13.75it/s]"
     ]
    },
    {
     "name": "stdout",
     "output_type": "stream",
     "text": [
      "quantile_size 24\n",
      "len examples 248\n",
      "n_quantiles 10\n",
      "quantile_size 31\n",
      "len examples 312\n",
      "n_quantiles 10\n"
     ]
    },
    {
     "name": "stderr",
     "output_type": "stream",
     "text": [
      "Loading .model.layers.12: 3469it [02:51,  4.75it/s]"
     ]
    },
    {
     "name": "stdout",
     "output_type": "stream",
     "text": [
      "quantile_size 80\n",
      "len examples 802\n",
      "n_quantiles 10\n"
     ]
    },
    {
     "name": "stderr",
     "output_type": "stream",
     "text": [
      "Loading .model.layers.12: 3471it [02:52,  3.68it/s]"
     ]
    },
    {
     "name": "stdout",
     "output_type": "stream",
     "text": [
      "quantile_size 9\n",
      "len examples 95\n",
      "n_quantiles 10\n"
     ]
    },
    {
     "name": "stderr",
     "output_type": "stream",
     "text": [
      "Loading .model.layers.12: 3474it [02:53,  2.90it/s]"
     ]
    },
    {
     "name": "stdout",
     "output_type": "stream",
     "text": [
      "quantile_size 40\n",
      "len examples 403\n",
      "n_quantiles 10\n"
     ]
    },
    {
     "name": "stderr",
     "output_type": "stream",
     "text": [
      "Loading .model.layers.12: 3476it [02:54,  2.56it/s]"
     ]
    },
    {
     "name": "stdout",
     "output_type": "stream",
     "text": [
      "quantile_size 74\n",
      "len examples 746\n",
      "n_quantiles 10\n"
     ]
    },
    {
     "name": "stderr",
     "output_type": "stream",
     "text": [
      "Loading .model.layers.12: 3478it [02:55,  2.40it/s]"
     ]
    },
    {
     "name": "stdout",
     "output_type": "stream",
     "text": [
      "quantile_size 114\n",
      "len examples 1146\n",
      "n_quantiles 10\n"
     ]
    },
    {
     "name": "stderr",
     "output_type": "stream",
     "text": [
      "Loading .model.layers.12: 3480it [02:55,  3.34it/s]"
     ]
    },
    {
     "name": "stdout",
     "output_type": "stream",
     "text": [
      "quantile_size 34\n",
      "len examples 347\n",
      "n_quantiles 10\n"
     ]
    },
    {
     "name": "stderr",
     "output_type": "stream",
     "text": [
      "Loading .model.layers.12: 3483it [02:56,  3.56it/s]"
     ]
    },
    {
     "name": "stdout",
     "output_type": "stream",
     "text": [
      "quantile_size 31\n",
      "len examples 319\n",
      "n_quantiles 10\n",
      "quantile_size 16\n",
      "len examples 164\n",
      "n_quantiles 10\n"
     ]
    },
    {
     "name": "stderr",
     "output_type": "stream",
     "text": [
      "Loading .model.layers.12: 3485it [02:56,  5.07it/s]"
     ]
    },
    {
     "name": "stdout",
     "output_type": "stream",
     "text": [
      "quantile_size 23\n",
      "len examples 231\n",
      "n_quantiles 10\n"
     ]
    },
    {
     "name": "stderr",
     "output_type": "stream",
     "text": [
      "Loading .model.layers.12: 3489it [02:56,  9.24it/s]"
     ]
    },
    {
     "name": "stdout",
     "output_type": "stream",
     "text": [
      "quantile_size 74\n",
      "len examples 740\n",
      "n_quantiles 10\n",
      "quantile_size 9\n",
      "len examples 94\n",
      "n_quantiles 10\n",
      "quantile_size 75\n",
      "len examples 754\n",
      "n_quantiles 10\n",
      "quantile_size 46\n",
      "len examples 462\n",
      "n_quantiles 10\n"
     ]
    },
    {
     "name": "stderr",
     "output_type": "stream",
     "text": [
      "Loading .model.layers.12: 3492it [02:56, 13.10it/s]"
     ]
    },
    {
     "name": "stdout",
     "output_type": "stream",
     "text": [
      "quantile_size 73\n",
      "len examples 731\n",
      "n_quantiles 10\n",
      "quantile_size 86\n",
      "len examples 863\n",
      "n_quantiles 10\n"
     ]
    },
    {
     "name": "stderr",
     "output_type": "stream",
     "text": [
      "Loading .model.layers.12: 3496it [02:57,  8.05it/s]"
     ]
    },
    {
     "name": "stdout",
     "output_type": "stream",
     "text": [
      "quantile_size 22\n",
      "len examples 229\n",
      "n_quantiles 10\n",
      "quantile_size 175\n",
      "len examples 1754\n",
      "n_quantiles 10\n",
      "quantile_size 49\n",
      "len examples 496\n",
      "n_quantiles 10\n"
     ]
    },
    {
     "name": "stderr",
     "output_type": "stream",
     "text": [
      "Loading .model.layers.12: 3498it [02:57,  8.60it/s]"
     ]
    },
    {
     "name": "stdout",
     "output_type": "stream",
     "text": [
      "quantile_size 23\n",
      "len examples 233\n",
      "n_quantiles 10\n",
      "quantile_size 11\n",
      "len examples 118\n",
      "n_quantiles 10\n"
     ]
    },
    {
     "name": "stderr",
     "output_type": "stream",
     "text": [
      "Loading .model.layers.12: 3507it [02:58, 12.07it/s]"
     ]
    },
    {
     "name": "stdout",
     "output_type": "stream",
     "text": [
      "quantile_size 26\n",
      "len examples 263\n",
      "n_quantiles 10\n",
      "quantile_size 31\n",
      "len examples 310\n",
      "n_quantiles 10\n"
     ]
    },
    {
     "name": "stderr",
     "output_type": "stream",
     "text": [
      "Loading .model.layers.12: 3509it [02:58,  9.90it/s]"
     ]
    },
    {
     "name": "stdout",
     "output_type": "stream",
     "text": [
      "quantile_size 109\n",
      "len examples 1098\n",
      "n_quantiles 10\n",
      "quantile_size 70\n",
      "len examples 709\n",
      "n_quantiles 10\n",
      "quantile_size 164\n",
      "len examples 1646\n",
      "n_quantiles 10\n"
     ]
    },
    {
     "name": "stderr",
     "output_type": "stream",
     "text": [
      "Loading .model.layers.12: 3511it [02:59,  9.98it/s]"
     ]
    },
    {
     "name": "stdout",
     "output_type": "stream",
     "text": [
      "quantile_size 31\n",
      "len examples 313\n",
      "n_quantiles 10\n",
      "quantile_size 48\n",
      "len examples 484\n",
      "n_quantiles 10\n"
     ]
    },
    {
     "name": "stderr",
     "output_type": "stream",
     "text": [
      "Loading .model.layers.12: 3519it [03:00,  8.45it/s]"
     ]
    },
    {
     "name": "stdout",
     "output_type": "stream",
     "text": [
      "quantile_size 355\n",
      "len examples 3556\n",
      "n_quantiles 10\n",
      "quantile_size 30\n",
      "len examples 305\n",
      "n_quantiles 10\n",
      "quantile_size 22\n",
      "len examples 226\n",
      "n_quantiles 10\n",
      "quantile_size 75\n",
      "len examples 751\n",
      "n_quantiles 10\n",
      "quantile_size 27\n",
      "len examples 276\n",
      "n_quantiles 10\n",
      "quantile_size 133\n",
      "len examples 1335\n",
      "n_quantiles 10\n"
     ]
    },
    {
     "name": "stderr",
     "output_type": "stream",
     "text": [
      "Loading .model.layers.12: 3525it [03:00, 11.63it/s]"
     ]
    },
    {
     "name": "stdout",
     "output_type": "stream",
     "text": [
      "quantile_size 61\n",
      "len examples 610\n",
      "n_quantiles 10\n",
      "quantile_size 46\n",
      "len examples 466\n",
      "n_quantiles 10\n",
      "quantile_size 193\n",
      "len examples 1933\n",
      "n_quantiles 10\n",
      "quantile_size 56\n",
      "len examples 566\n",
      "n_quantiles 10\n"
     ]
    },
    {
     "name": "stderr",
     "output_type": "stream",
     "text": [
      "Loading .model.layers.12: 3531it [03:00, 16.59it/s]"
     ]
    },
    {
     "name": "stdout",
     "output_type": "stream",
     "text": [
      "quantile_size 119\n",
      "len examples 1198\n",
      "n_quantiles 10\n",
      "quantile_size 41\n",
      "len examples 418\n",
      "n_quantiles 10\n",
      "quantile_size 55\n",
      "len examples 552\n",
      "n_quantiles 10\n",
      "quantile_size 17\n",
      "len examples 172\n",
      "n_quantiles 10\n"
     ]
    },
    {
     "name": "stderr",
     "output_type": "stream",
     "text": [
      "Loading .model.layers.12: 3544it [03:01, 30.13it/s]"
     ]
    },
    {
     "name": "stdout",
     "output_type": "stream",
     "text": [
      "quantile_size 29\n",
      "len examples 293\n",
      "n_quantiles 10\n",
      "quantile_size 41\n",
      "len examples 413\n",
      "n_quantiles 10\n",
      "quantile_size 67\n",
      "len examples 678\n",
      "n_quantiles 10\n"
     ]
    },
    {
     "name": "stderr",
     "output_type": "stream",
     "text": [
      "Loading .model.layers.12: 3550it [03:01, 30.54it/s]"
     ]
    },
    {
     "name": "stdout",
     "output_type": "stream",
     "text": [
      "quantile_size 23\n",
      "len examples 237\n",
      "n_quantiles 10\n",
      "quantile_size 144\n",
      "len examples 1447\n",
      "n_quantiles 10\n",
      "quantile_size 15\n",
      "len examples 152\n",
      "n_quantiles 10\n",
      "quantile_size 35\n",
      "len examples 350\n",
      "n_quantiles 10\n"
     ]
    },
    {
     "name": "stderr",
     "output_type": "stream",
     "text": [
      "Loading .model.layers.12: 3561it [03:01, 33.78it/s]"
     ]
    },
    {
     "name": "stdout",
     "output_type": "stream",
     "text": [
      "quantile_size 35\n",
      "len examples 356\n",
      "n_quantiles 10\n",
      "quantile_size 47\n",
      "len examples 473\n",
      "n_quantiles 10\n",
      "quantile_size 18\n",
      "len examples 183\n",
      "n_quantiles 10\n",
      "quantile_size 19\n",
      "len examples 198\n",
      "n_quantiles 10\n",
      "quantile_size 20\n",
      "len examples 205\n",
      "n_quantiles 10\n"
     ]
    },
    {
     "name": "stderr",
     "output_type": "stream",
     "text": [
      "Loading .model.layers.12: 3565it [03:01, 28.60it/s]"
     ]
    },
    {
     "name": "stdout",
     "output_type": "stream",
     "text": [
      "quantile_size 48\n",
      "len examples 480\n",
      "n_quantiles 10\n",
      "quantile_size 22\n",
      "len examples 223\n",
      "n_quantiles 10\n",
      "quantile_size 59\n",
      "len examples 596\n",
      "n_quantiles 10\n",
      "quantile_size 30\n",
      "len examples 305\n",
      "n_quantiles 10\n",
      "quantile_size 102\n",
      "len examples 1021\n",
      "n_quantiles 10\n",
      "quantile_size 67\n",
      "len examples 676\n",
      "n_quantiles 10\n"
     ]
    },
    {
     "name": "stderr",
     "output_type": "stream",
     "text": [
      "Loading .model.layers.12: 3573it [03:02, 16.84it/s]"
     ]
    },
    {
     "name": "stdout",
     "output_type": "stream",
     "text": [
      "quantile_size 14\n",
      "len examples 141\n",
      "n_quantiles 10\n",
      "quantile_size 14\n",
      "len examples 140\n",
      "n_quantiles 10\n",
      "quantile_size 47\n",
      "len examples 472\n",
      "n_quantiles 10\n",
      "quantile_size 35\n",
      "len examples 353\n",
      "n_quantiles 10\n"
     ]
    },
    {
     "name": "stderr",
     "output_type": "stream",
     "text": [
      "Loading .model.layers.12: 3582it [03:02, 25.19it/s]"
     ]
    },
    {
     "name": "stdout",
     "output_type": "stream",
     "text": [
      "quantile_size 140\n",
      "len examples 1407\n",
      "n_quantiles 10\n",
      "quantile_size 28\n",
      "len examples 288\n",
      "n_quantiles 10\n",
      "quantile_size 21\n",
      "len examples 213\n",
      "n_quantiles 10\n",
      "quantile_size 22\n",
      "len examples 222\n",
      "n_quantiles 10\n",
      "quantile_size 25\n",
      "len examples 250\n",
      "n_quantiles 10\n"
     ]
    },
    {
     "name": "stderr",
     "output_type": "stream",
     "text": [
      "Loading .model.layers.12: 3593it [03:03, 29.50it/s]"
     ]
    },
    {
     "name": "stdout",
     "output_type": "stream",
     "text": [
      "quantile_size 28\n",
      "len examples 284\n",
      "n_quantiles 10\n",
      "quantile_size 27\n",
      "len examples 275\n",
      "n_quantiles 10\n",
      "quantile_size 68\n",
      "len examples 686\n",
      "n_quantiles 10\n",
      "quantile_size 27\n",
      "len examples 272\n",
      "n_quantiles 10\n"
     ]
    },
    {
     "name": "stderr",
     "output_type": "stream",
     "text": [
      "Loading .model.layers.12: 3597it [03:03, 26.30it/s]"
     ]
    },
    {
     "name": "stdout",
     "output_type": "stream",
     "text": [
      "quantile_size 88\n",
      "len examples 884\n",
      "n_quantiles 10\n",
      "quantile_size 106\n",
      "len examples 1061\n",
      "n_quantiles 10\n",
      "quantile_size 43\n",
      "len examples 438\n",
      "n_quantiles 10\n",
      "quantile_size 42\n",
      "len examples 424\n",
      "n_quantiles 10\n",
      "quantile_size 15\n",
      "len examples 151\n",
      "n_quantiles 10\n",
      "quantile_size 33\n",
      "len examples 336\n",
      "n_quantiles 10\n",
      "quantile_size 59\n",
      "len examples 593\n",
      "n_quantiles 10\n"
     ]
    },
    {
     "name": "stderr",
     "output_type": "stream",
     "text": [
      "Loading .model.layers.12: 3611it [03:03, 42.90it/s]"
     ]
    },
    {
     "name": "stdout",
     "output_type": "stream",
     "text": [
      "quantile_size 32\n",
      "len examples 324\n",
      "n_quantiles 10\n",
      "quantile_size 24\n",
      "len examples 247\n",
      "n_quantiles 10\n",
      "quantile_size 27\n",
      "len examples 275\n",
      "n_quantiles 10\n",
      "quantile_size 180\n",
      "len examples 1809\n",
      "n_quantiles 10\n",
      "quantile_size 85\n",
      "len examples 856\n",
      "n_quantiles 10\n"
     ]
    },
    {
     "name": "stderr",
     "output_type": "stream",
     "text": [
      "Loading .model.layers.12: 3621it [03:04, 21.31it/s]"
     ]
    },
    {
     "name": "stdout",
     "output_type": "stream",
     "text": [
      "quantile_size 116\n",
      "len examples 1161\n",
      "n_quantiles 10\n",
      "quantile_size 14\n",
      "len examples 144\n",
      "n_quantiles 10\n",
      "quantile_size 38\n",
      "len examples 381\n",
      "n_quantiles 10\n",
      "quantile_size 22\n",
      "len examples 222\n",
      "n_quantiles 10\n"
     ]
    },
    {
     "name": "stderr",
     "output_type": "stream",
     "text": [
      "Loading .model.layers.12: 3625it [03:04, 23.68it/s]"
     ]
    },
    {
     "name": "stdout",
     "output_type": "stream",
     "text": [
      "quantile_size 16\n",
      "len examples 164\n",
      "n_quantiles 10\n",
      "quantile_size 9\n",
      "len examples 91\n",
      "n_quantiles 10\n",
      "quantile_size 21\n",
      "len examples 216\n",
      "n_quantiles 10\n",
      "quantile_size 22\n",
      "len examples 228\n",
      "n_quantiles 10\n",
      "quantile_size 100\n",
      "len examples 1008\n",
      "n_quantiles 10\n"
     ]
    },
    {
     "name": "stderr",
     "output_type": "stream",
     "text": [
      "Loading .model.layers.12: 3633it [03:04, 22.25it/s]"
     ]
    },
    {
     "name": "stdout",
     "output_type": "stream",
     "text": [
      "quantile_size 39\n",
      "len examples 397\n",
      "n_quantiles 10\n",
      "quantile_size 59\n",
      "len examples 590\n",
      "n_quantiles 10\n",
      "quantile_size 28\n",
      "len examples 283\n",
      "n_quantiles 10\n",
      "quantile_size 56\n",
      "len examples 564\n",
      "n_quantiles 10\n"
     ]
    },
    {
     "name": "stderr",
     "output_type": "stream",
     "text": [
      "Loading .model.layers.12: 3645it [03:05, 27.19it/s]"
     ]
    },
    {
     "name": "stdout",
     "output_type": "stream",
     "text": [
      "quantile_size 30\n",
      "len examples 300\n",
      "n_quantiles 10\n",
      "quantile_size 32\n",
      "len examples 320\n",
      "n_quantiles 10\n",
      "quantile_size 17\n",
      "len examples 176\n",
      "n_quantiles 10\n"
     ]
    },
    {
     "name": "stderr",
     "output_type": "stream",
     "text": [
      "Loading .model.layers.12: 3653it [03:05, 26.07it/s]"
     ]
    },
    {
     "name": "stdout",
     "output_type": "stream",
     "text": [
      "quantile_size 160\n",
      "len examples 1604\n",
      "n_quantiles 10\n",
      "quantile_size 535\n",
      "len examples 5353\n",
      "n_quantiles 10\n",
      "quantile_size 43\n",
      "len examples 434\n",
      "n_quantiles 10\n",
      "quantile_size 30\n",
      "len examples 304\n",
      "n_quantiles 10\n"
     ]
    },
    {
     "name": "stderr",
     "output_type": "stream",
     "text": [
      "Loading .model.layers.12: 3658it [03:05, 31.24it/s]"
     ]
    },
    {
     "name": "stdout",
     "output_type": "stream",
     "text": [
      "quantile_size 15\n",
      "len examples 156\n",
      "n_quantiles 10\n",
      "quantile_size 15\n",
      "len examples 159\n",
      "n_quantiles 10\n",
      "quantile_size 14\n",
      "len examples 146\n",
      "n_quantiles 10\n",
      "quantile_size 16\n",
      "len examples 169\n",
      "n_quantiles 10\n",
      "quantile_size 14\n",
      "len examples 141\n",
      "n_quantiles 10\n"
     ]
    },
    {
     "name": "stderr",
     "output_type": "stream",
     "text": [
      "Loading .model.layers.12: 3667it [03:06, 26.69it/s]"
     ]
    },
    {
     "name": "stdout",
     "output_type": "stream",
     "text": [
      "quantile_size 44\n",
      "len examples 449\n",
      "n_quantiles 10\n"
     ]
    },
    {
     "name": "stderr",
     "output_type": "stream",
     "text": [
      "Loading .model.layers.12: 3676it [03:06, 33.24it/s]"
     ]
    },
    {
     "name": "stdout",
     "output_type": "stream",
     "text": [
      "quantile_size 19\n",
      "len examples 192\n",
      "n_quantiles 10\n",
      "quantile_size 25\n",
      "len examples 257\n",
      "n_quantiles 10\n",
      "quantile_size 16\n",
      "len examples 169\n",
      "n_quantiles 10\n",
      "quantile_size 15\n",
      "len examples 157\n",
      "n_quantiles 10\n",
      "quantile_size 11\n",
      "len examples 116\n",
      "n_quantiles 10\n",
      "quantile_size 13\n",
      "len examples 132\n",
      "n_quantiles 10\n"
     ]
    },
    {
     "name": "stderr",
     "output_type": "stream",
     "text": [
      "Loading .model.layers.12: 3680it [03:06, 28.11it/s]"
     ]
    },
    {
     "name": "stdout",
     "output_type": "stream",
     "text": [
      "quantile_size 81\n",
      "len examples 816\n",
      "n_quantiles 10\n",
      "quantile_size 74\n",
      "len examples 745\n",
      "n_quantiles 10\n"
     ]
    },
    {
     "name": "stderr",
     "output_type": "stream",
     "text": [
      "Loading .model.layers.12: 3688it [03:06, 32.31it/s]"
     ]
    },
    {
     "name": "stdout",
     "output_type": "stream",
     "text": [
      "quantile_size 24\n",
      "len examples 246\n",
      "n_quantiles 10\n",
      "quantile_size 21\n",
      "len examples 215\n",
      "n_quantiles 10\n",
      "quantile_size 64\n",
      "len examples 642\n",
      "n_quantiles 10\n",
      "quantile_size 76\n",
      "len examples 765\n",
      "n_quantiles 10\n"
     ]
    },
    {
     "name": "stderr",
     "output_type": "stream",
     "text": [
      "Loading .model.layers.12: 3696it [03:07, 26.03it/s]"
     ]
    },
    {
     "name": "stdout",
     "output_type": "stream",
     "text": [
      "quantile_size 40\n",
      "len examples 408\n",
      "n_quantiles 10\n",
      "quantile_size 19\n",
      "len examples 197\n",
      "n_quantiles 10\n",
      "quantile_size 61\n",
      "len examples 615\n",
      "n_quantiles 10\n",
      "quantile_size 103\n",
      "len examples 1038\n",
      "n_quantiles 10\n",
      "quantile_size 26\n",
      "len examples 265\n",
      "n_quantiles 10\n",
      "quantile_size 115\n",
      "len examples 1150\n",
      "n_quantiles 10\n"
     ]
    },
    {
     "name": "stderr",
     "output_type": "stream",
     "text": [
      "Loading .model.layers.12: 3700it [03:07, 20.34it/s]"
     ]
    },
    {
     "name": "stdout",
     "output_type": "stream",
     "text": [
      "quantile_size 35\n",
      "len examples 356\n",
      "n_quantiles 10\n",
      "quantile_size 18\n",
      "len examples 187\n",
      "n_quantiles 10\n",
      "quantile_size 21\n",
      "len examples 215\n",
      "n_quantiles 10\n",
      "quantile_size 47\n",
      "len examples 473\n",
      "n_quantiles 10\n"
     ]
    },
    {
     "name": "stderr",
     "output_type": "stream",
     "text": [
      "Loading .model.layers.12: 3708it [03:07, 24.24it/s]"
     ]
    },
    {
     "name": "stdout",
     "output_type": "stream",
     "text": [
      "quantile_size 72\n",
      "len examples 720\n",
      "n_quantiles 10\n",
      "quantile_size 4\n",
      "len examples 40\n",
      "n_quantiles 10\n",
      "quantile_size 27\n",
      "len examples 271\n",
      "n_quantiles 10\n",
      "quantile_size 15\n",
      "len examples 157\n",
      "n_quantiles 10\n"
     ]
    },
    {
     "name": "stderr",
     "output_type": "stream",
     "text": [
      "Loading .model.layers.12: 3715it [03:07, 24.29it/s]"
     ]
    },
    {
     "name": "stdout",
     "output_type": "stream",
     "text": [
      "quantile_size 189\n",
      "len examples 1891\n",
      "n_quantiles 10\n",
      "quantile_size 19\n",
      "len examples 198\n",
      "n_quantiles 10\n",
      "quantile_size 100\n",
      "len examples 1007\n",
      "n_quantiles 10\n",
      "quantile_size 19\n",
      "len examples 191\n",
      "n_quantiles 10\n"
     ]
    },
    {
     "name": "stderr",
     "output_type": "stream",
     "text": [
      "Loading .model.layers.12: 3723it [03:08, 24.80it/s]"
     ]
    },
    {
     "name": "stdout",
     "output_type": "stream",
     "text": [
      "quantile_size 47\n",
      "len examples 475\n",
      "n_quantiles 10\n",
      "quantile_size 17\n",
      "len examples 175\n",
      "n_quantiles 10\n",
      "quantile_size 25\n",
      "len examples 250\n",
      "n_quantiles 10\n"
     ]
    },
    {
     "name": "stderr",
     "output_type": "stream",
     "text": [
      "Loading .model.layers.12: 3728it [03:08, 30.21it/s]"
     ]
    },
    {
     "name": "stdout",
     "output_type": "stream",
     "text": [
      "quantile_size 171\n",
      "len examples 1716\n",
      "n_quantiles 10\n",
      "quantile_size 65\n",
      "len examples 658\n",
      "n_quantiles 10\n",
      "quantile_size 80\n",
      "len examples 804\n",
      "n_quantiles 10\n"
     ]
    },
    {
     "name": "stderr",
     "output_type": "stream",
     "text": [
      "Loading .model.layers.12: 3735it [03:08, 19.94it/s]"
     ]
    },
    {
     "name": "stdout",
     "output_type": "stream",
     "text": [
      "quantile_size 22\n",
      "len examples 227\n",
      "n_quantiles 10\n",
      "quantile_size 11\n",
      "len examples 118\n",
      "n_quantiles 10\n",
      "quantile_size 28\n",
      "len examples 282\n",
      "n_quantiles 10\n",
      "quantile_size 32\n",
      "len examples 321\n",
      "n_quantiles 10\n"
     ]
    },
    {
     "name": "stderr",
     "output_type": "stream",
     "text": [
      "Loading .model.layers.12: 3743it [03:09, 26.66it/s]"
     ]
    },
    {
     "name": "stdout",
     "output_type": "stream",
     "text": [
      "quantile_size 15\n",
      "len examples 157\n",
      "n_quantiles 10\n",
      "quantile_size 21\n",
      "len examples 219\n",
      "n_quantiles 10\n",
      "quantile_size 35\n",
      "len examples 359\n",
      "n_quantiles 10\n",
      "quantile_size 31\n",
      "len examples 310\n",
      "n_quantiles 10\n",
      "quantile_size 24\n",
      "len examples 243\n",
      "n_quantiles 10\n",
      "quantile_size 26\n",
      "len examples 269\n",
      "n_quantiles 10\n"
     ]
    },
    {
     "name": "stderr",
     "output_type": "stream",
     "text": [
      "Loading .model.layers.12: 3751it [03:09, 27.76it/s]"
     ]
    },
    {
     "name": "stdout",
     "output_type": "stream",
     "text": [
      "quantile_size 44\n",
      "len examples 443\n",
      "n_quantiles 10\n",
      "quantile_size 35\n",
      "len examples 352\n",
      "n_quantiles 10\n",
      "quantile_size 10\n",
      "len examples 109\n",
      "n_quantiles 10\n",
      "quantile_size 13\n",
      "len examples 139\n",
      "n_quantiles 10\n",
      "quantile_size 12\n",
      "len examples 121\n",
      "n_quantiles 10\n"
     ]
    },
    {
     "name": "stderr",
     "output_type": "stream",
     "text": [
      "Loading .model.layers.12: 3755it [03:09, 24.92it/s]"
     ]
    },
    {
     "name": "stdout",
     "output_type": "stream",
     "text": [
      "quantile_size 67\n",
      "len examples 673\n",
      "n_quantiles 10\n",
      "quantile_size 20\n",
      "len examples 203\n",
      "n_quantiles 10\n",
      "quantile_size 8\n",
      "len examples 88\n",
      "n_quantiles 10\n"
     ]
    },
    {
     "name": "stderr",
     "output_type": "stream",
     "text": [
      "Loading .model.layers.12: 3761it [03:09, 26.55it/s]"
     ]
    },
    {
     "name": "stdout",
     "output_type": "stream",
     "text": [
      "quantile_size 217\n",
      "len examples 2178\n",
      "n_quantiles 10\n",
      "quantile_size 20\n",
      "len examples 200\n",
      "n_quantiles 10\n",
      "quantile_size 28\n",
      "len examples 285\n",
      "n_quantiles 10\n",
      "quantile_size 19\n",
      "len examples 191\n",
      "n_quantiles 10\n"
     ]
    },
    {
     "name": "stderr",
     "output_type": "stream",
     "text": [
      "Loading .model.layers.12: 3765it [03:09, 23.91it/s]"
     ]
    },
    {
     "name": "stdout",
     "output_type": "stream",
     "text": [
      "quantile_size 32\n",
      "len examples 323\n",
      "n_quantiles 10\n",
      "quantile_size 20\n",
      "len examples 209\n",
      "n_quantiles 10\n"
     ]
    },
    {
     "name": "stderr",
     "output_type": "stream",
     "text": [
      "Loading .model.layers.12: 3772it [03:10, 24.44it/s]"
     ]
    },
    {
     "name": "stdout",
     "output_type": "stream",
     "text": [
      "quantile_size 18\n",
      "len examples 181\n",
      "n_quantiles 10\n",
      "quantile_size 24\n",
      "len examples 249\n",
      "n_quantiles 10\n",
      "quantile_size 22\n",
      "len examples 223\n",
      "n_quantiles 10\n",
      "quantile_size 35\n",
      "len examples 350\n",
      "n_quantiles 10\n",
      "quantile_size 110\n",
      "len examples 1108\n",
      "n_quantiles 10\n",
      "quantile_size 24\n",
      "len examples 241\n",
      "n_quantiles 10\n"
     ]
    },
    {
     "name": "stderr",
     "output_type": "stream",
     "text": [
      "Loading .model.layers.12: 3775it [03:10, 21.32it/s]"
     ]
    },
    {
     "name": "stdout",
     "output_type": "stream",
     "text": [
      "quantile_size 100\n",
      "len examples 1005\n",
      "n_quantiles 10\n",
      "quantile_size 27\n",
      "len examples 277\n",
      "n_quantiles 10\n",
      "quantile_size 11\n",
      "len examples 118\n",
      "n_quantiles 10\n",
      "quantile_size 10\n",
      "len examples 109\n",
      "n_quantiles 10\n"
     ]
    },
    {
     "name": "stderr",
     "output_type": "stream",
     "text": [
      "Loading .model.layers.12: 3780it [03:10, 26.73it/s]"
     ]
    },
    {
     "name": "stdout",
     "output_type": "stream",
     "text": [
      "quantile_size 29\n",
      "len examples 294\n",
      "n_quantiles 10\n",
      "quantile_size 21\n",
      "len examples 217\n",
      "n_quantiles 10\n"
     ]
    },
    {
     "name": "stderr",
     "output_type": "stream",
     "text": [
      "Loading .model.layers.12: 3789it [03:11, 19.19it/s]"
     ]
    },
    {
     "name": "stdout",
     "output_type": "stream",
     "text": [
      "quantile_size 33\n",
      "len examples 338\n",
      "n_quantiles 10\n",
      "quantile_size 55\n",
      "len examples 557\n",
      "n_quantiles 10\n",
      "quantile_size 72\n",
      "len examples 728\n",
      "n_quantiles 10\n"
     ]
    },
    {
     "name": "stderr",
     "output_type": "stream",
     "text": [
      "Loading .model.layers.12: 3793it [03:11, 22.47it/s]"
     ]
    },
    {
     "name": "stdout",
     "output_type": "stream",
     "text": [
      "quantile_size 38\n",
      "len examples 382\n",
      "n_quantiles 10\n",
      "quantile_size 65\n",
      "len examples 658\n",
      "n_quantiles 10\n",
      "quantile_size 42\n",
      "len examples 420\n",
      "n_quantiles 10\n",
      "quantile_size 31\n",
      "len examples 310\n",
      "n_quantiles 10\n"
     ]
    },
    {
     "name": "stderr",
     "output_type": "stream",
     "text": [
      "Loading .model.layers.12: 3799it [03:11, 21.87it/s]"
     ]
    },
    {
     "name": "stdout",
     "output_type": "stream",
     "text": [
      "quantile_size 33\n",
      "len examples 339\n",
      "n_quantiles 10\n",
      "quantile_size 25\n",
      "len examples 254\n",
      "n_quantiles 10\n",
      "quantile_size 17\n",
      "len examples 179\n",
      "n_quantiles 10\n",
      "quantile_size 17\n",
      "len examples 171\n",
      "n_quantiles 10\n"
     ]
    },
    {
     "name": "stderr",
     "output_type": "stream",
     "text": [
      "Loading .model.layers.12: 3805it [03:11, 21.46it/s]"
     ]
    },
    {
     "name": "stdout",
     "output_type": "stream",
     "text": [
      "quantile_size 69\n",
      "len examples 692\n",
      "n_quantiles 10\n",
      "quantile_size 40\n",
      "len examples 400\n",
      "n_quantiles 10\n",
      "quantile_size 11\n",
      "len examples 113\n",
      "n_quantiles 10\n",
      "quantile_size 34\n",
      "len examples 341\n",
      "n_quantiles 10\n",
      "quantile_size 55\n",
      "len examples 559\n",
      "n_quantiles 10\n"
     ]
    },
    {
     "name": "stderr",
     "output_type": "stream",
     "text": [
      "Loading .model.layers.12: 3814it [03:12, 24.86it/s]"
     ]
    },
    {
     "name": "stdout",
     "output_type": "stream",
     "text": [
      "quantile_size 20\n",
      "len examples 205\n",
      "n_quantiles 10\n",
      "quantile_size 75\n",
      "len examples 750\n",
      "n_quantiles 10\n",
      "quantile_size 13\n",
      "len examples 133\n",
      "n_quantiles 10\n"
     ]
    },
    {
     "name": "stderr",
     "output_type": "stream",
     "text": [
      "Loading .model.layers.12: 3818it [03:12, 27.96it/s]"
     ]
    },
    {
     "name": "stdout",
     "output_type": "stream",
     "text": [
      "quantile_size 29\n",
      "len examples 297\n",
      "n_quantiles 10\n",
      "quantile_size 43\n",
      "len examples 431\n",
      "n_quantiles 10\n",
      "quantile_size 26\n",
      "len examples 264\n",
      "n_quantiles 10\n",
      "quantile_size 68\n",
      "len examples 684\n",
      "n_quantiles 10\n",
      "quantile_size 21\n",
      "len examples 211\n",
      "n_quantiles 10\n"
     ]
    },
    {
     "name": "stderr",
     "output_type": "stream",
     "text": [
      "Loading .model.layers.12: 3826it [03:12, 28.21it/s]"
     ]
    },
    {
     "name": "stdout",
     "output_type": "stream",
     "text": [
      "quantile_size 37\n",
      "len examples 373\n",
      "n_quantiles 10\n",
      "quantile_size 47\n",
      "len examples 473\n",
      "n_quantiles 10\n",
      "quantile_size 103\n",
      "len examples 1030\n",
      "n_quantiles 10\n",
      "quantile_size 32\n",
      "len examples 321\n",
      "n_quantiles 10\n"
     ]
    },
    {
     "name": "stderr",
     "output_type": "stream",
     "text": [
      "Loading .model.layers.12: 3833it [03:12, 26.17it/s]"
     ]
    },
    {
     "name": "stdout",
     "output_type": "stream",
     "text": [
      "quantile_size 13\n",
      "len examples 134\n",
      "n_quantiles 10\n",
      "quantile_size 73\n",
      "len examples 732\n",
      "n_quantiles 10\n",
      "quantile_size 16\n",
      "len examples 169\n",
      "n_quantiles 10\n",
      "quantile_size 32\n",
      "len examples 328\n",
      "n_quantiles 10\n",
      "quantile_size 30\n",
      "len examples 302\n",
      "n_quantiles 10\n",
      "quantile_size 34\n",
      "len examples 349\n",
      "n_quantiles 10\n",
      "quantile_size 37\n",
      "len examples 375\n",
      "n_quantiles 10\n"
     ]
    },
    {
     "name": "stderr",
     "output_type": "stream",
     "text": [
      "Loading .model.layers.12: 3841it [03:13, 18.16it/s]"
     ]
    },
    {
     "name": "stdout",
     "output_type": "stream",
     "text": [
      "quantile_size 67\n",
      "len examples 675\n",
      "n_quantiles 10\n",
      "quantile_size 16\n",
      "len examples 168\n",
      "n_quantiles 10\n",
      "quantile_size 40\n",
      "len examples 407\n",
      "n_quantiles 10\n",
      "quantile_size 62\n",
      "len examples 620\n",
      "n_quantiles 10\n",
      "quantile_size 41\n",
      "len examples 410\n",
      "n_quantiles 10\n",
      "quantile_size 17\n",
      "len examples 171\n",
      "n_quantiles 10\n"
     ]
    },
    {
     "name": "stderr",
     "output_type": "stream",
     "text": [
      "Loading .model.layers.12: 3845it [03:13, 21.70it/s]"
     ]
    },
    {
     "name": "stdout",
     "output_type": "stream",
     "text": [
      "quantile_size 92\n",
      "len examples 920\n",
      "n_quantiles 10\n",
      "quantile_size 25\n",
      "len examples 252\n",
      "n_quantiles 10\n",
      "quantile_size 38\n",
      "len examples 381\n",
      "n_quantiles 10\n"
     ]
    },
    {
     "name": "stderr",
     "output_type": "stream",
     "text": [
      "Loading .model.layers.12: 3851it [03:13, 21.46it/s]"
     ]
    },
    {
     "name": "stdout",
     "output_type": "stream",
     "text": [
      "quantile_size 548\n",
      "len examples 5487\n",
      "n_quantiles 10\n",
      "quantile_size 15\n",
      "len examples 157\n",
      "n_quantiles 10\n",
      "quantile_size 34\n",
      "len examples 346\n",
      "n_quantiles 10\n",
      "quantile_size 9\n",
      "len examples 90\n",
      "n_quantiles 10\n",
      "quantile_size 72\n",
      "len examples 728\n",
      "n_quantiles 10\n",
      "quantile_size 73\n",
      "len examples 736\n",
      "n_quantiles 10\n"
     ]
    },
    {
     "name": "stderr",
     "output_type": "stream",
     "text": [
      "Loading .model.layers.12: 3858it [03:14, 26.13it/s]"
     ]
    },
    {
     "name": "stdout",
     "output_type": "stream",
     "text": [
      "quantile_size 11\n",
      "len examples 115\n",
      "n_quantiles 10\n",
      "quantile_size 13\n",
      "len examples 134\n",
      "n_quantiles 10\n",
      "quantile_size 72\n",
      "len examples 725\n",
      "n_quantiles 10\n",
      "quantile_size 16\n",
      "len examples 165\n",
      "n_quantiles 10\n",
      "quantile_size 26\n",
      "len examples 266\n",
      "n_quantiles 10\n"
     ]
    },
    {
     "name": "stderr",
     "output_type": "stream",
     "text": [
      "Loading .model.layers.12: 3868it [03:14, 32.13it/s]"
     ]
    },
    {
     "name": "stdout",
     "output_type": "stream",
     "text": [
      "quantile_size 30\n",
      "len examples 305\n",
      "n_quantiles 10\n",
      "quantile_size 15\n",
      "len examples 151\n",
      "n_quantiles 10\n",
      "quantile_size 32\n",
      "len examples 323\n",
      "n_quantiles 10\n",
      "quantile_size 13\n",
      "len examples 134\n",
      "n_quantiles 10\n",
      "quantile_size 24\n",
      "len examples 246\n",
      "n_quantiles 10\n"
     ]
    },
    {
     "name": "stderr",
     "output_type": "stream",
     "text": [
      "Loading .model.layers.12: 3876it [03:14, 34.90it/s]"
     ]
    },
    {
     "name": "stdout",
     "output_type": "stream",
     "text": [
      "quantile_size 33\n",
      "len examples 334\n",
      "n_quantiles 10\n",
      "quantile_size 37\n",
      "len examples 374\n",
      "n_quantiles 10\n",
      "quantile_size 14\n",
      "len examples 147\n",
      "n_quantiles 10\n",
      "quantile_size 34\n",
      "len examples 344\n",
      "n_quantiles 10\n",
      "quantile_size 39\n",
      "len examples 393\n",
      "n_quantiles 10\n",
      "quantile_size 10\n",
      "len examples 106\n",
      "n_quantiles 10\n"
     ]
    },
    {
     "name": "stderr",
     "output_type": "stream",
     "text": [
      "Loading .model.layers.12: 3884it [03:14, 29.74it/s]"
     ]
    },
    {
     "name": "stdout",
     "output_type": "stream",
     "text": [
      "quantile_size 16\n",
      "len examples 160\n",
      "n_quantiles 10\n",
      "quantile_size 39\n",
      "len examples 399\n",
      "n_quantiles 10\n",
      "quantile_size 31\n",
      "len examples 312\n",
      "n_quantiles 10\n",
      "quantile_size 38\n",
      "len examples 389\n",
      "n_quantiles 10\n",
      "quantile_size 37\n",
      "len examples 377\n",
      "n_quantiles 10\n"
     ]
    },
    {
     "name": "stderr",
     "output_type": "stream",
     "text": [
      "Loading .model.layers.12: 3893it [03:15, 36.48it/s]"
     ]
    },
    {
     "name": "stdout",
     "output_type": "stream",
     "text": [
      "quantile_size 17\n",
      "len examples 171\n",
      "n_quantiles 10\n",
      "quantile_size 14\n",
      "len examples 146\n",
      "n_quantiles 10\n",
      "quantile_size 24\n",
      "len examples 240\n",
      "n_quantiles 10\n",
      "quantile_size 7\n",
      "len examples 70\n",
      "n_quantiles 10\n",
      "quantile_size 18\n",
      "len examples 180\n",
      "n_quantiles 10\n"
     ]
    },
    {
     "name": "stderr",
     "output_type": "stream",
     "text": [
      "Loading .model.layers.12: 3897it [03:15, 36.93it/s]"
     ]
    },
    {
     "name": "stdout",
     "output_type": "stream",
     "text": [
      "quantile_size 47\n",
      "len examples 472\n",
      "n_quantiles 10\n",
      "quantile_size 27\n",
      "len examples 277\n",
      "n_quantiles 10\n",
      "quantile_size 43\n",
      "len examples 434\n",
      "n_quantiles 10\n",
      "quantile_size 8\n",
      "len examples 87\n",
      "n_quantiles 10\n",
      "quantile_size 30\n",
      "len examples 303\n",
      "n_quantiles 10\n"
     ]
    },
    {
     "name": "stderr",
     "output_type": "stream",
     "text": [
      "Loading .model.layers.12: 3907it [03:15, 35.52it/s]"
     ]
    },
    {
     "name": "stdout",
     "output_type": "stream",
     "text": [
      "quantile_size 52\n",
      "len examples 521\n",
      "n_quantiles 10\n",
      "quantile_size 16\n",
      "len examples 162\n",
      "n_quantiles 10\n",
      "quantile_size 40\n",
      "len examples 406\n",
      "n_quantiles 10\n",
      "quantile_size 7\n",
      "len examples 72\n",
      "n_quantiles 10\n",
      "quantile_size 25\n",
      "len examples 257\n",
      "n_quantiles 10\n"
     ]
    },
    {
     "name": "stderr",
     "output_type": "stream",
     "text": [
      "Loading .model.layers.12: 3915it [03:15, 31.43it/s]"
     ]
    },
    {
     "name": "stdout",
     "output_type": "stream",
     "text": [
      "quantile_size 69\n",
      "len examples 691\n",
      "n_quantiles 10\n",
      "quantile_size 87\n",
      "len examples 873\n",
      "n_quantiles 10\n",
      "quantile_size 28\n",
      "len examples 289\n",
      "n_quantiles 10\n",
      "quantile_size 20\n",
      "len examples 209\n",
      "n_quantiles 10\n",
      "quantile_size 14\n",
      "len examples 143\n",
      "n_quantiles 10\n"
     ]
    },
    {
     "name": "stderr",
     "output_type": "stream",
     "text": [
      "Loading .model.layers.12: 3923it [03:16, 30.14it/s]"
     ]
    },
    {
     "name": "stdout",
     "output_type": "stream",
     "text": [
      "quantile_size 32\n",
      "len examples 324\n",
      "n_quantiles 10\n",
      "quantile_size 10\n",
      "len examples 103\n",
      "n_quantiles 10\n",
      "quantile_size 34\n",
      "len examples 345\n",
      "n_quantiles 10\n",
      "quantile_size 27\n",
      "len examples 278\n",
      "n_quantiles 10\n",
      "quantile_size 21\n",
      "len examples 215\n",
      "n_quantiles 10\n"
     ]
    },
    {
     "name": "stderr",
     "output_type": "stream",
     "text": [
      "Loading .model.layers.12: 3934it [03:16, 41.10it/s]"
     ]
    },
    {
     "name": "stdout",
     "output_type": "stream",
     "text": [
      "quantile_size 68\n",
      "len examples 686\n",
      "n_quantiles 10\n",
      "quantile_size 16\n",
      "len examples 165\n",
      "n_quantiles 10\n",
      "quantile_size 24\n",
      "len examples 246\n",
      "n_quantiles 10\n",
      "quantile_size 31\n",
      "len examples 311\n",
      "n_quantiles 10\n"
     ]
    },
    {
     "name": "stderr",
     "output_type": "stream",
     "text": [
      "Loading .model.layers.12: 3945it [03:16, 47.66it/s]"
     ]
    },
    {
     "name": "stdout",
     "output_type": "stream",
     "text": [
      "quantile_size 15\n",
      "len examples 154\n",
      "n_quantiles 10\n",
      "quantile_size 19\n",
      "len examples 194\n",
      "n_quantiles 10\n",
      "quantile_size 33\n",
      "len examples 332\n",
      "n_quantiles 10\n",
      "quantile_size 94\n",
      "len examples 943\n",
      "n_quantiles 10\n"
     ]
    },
    {
     "name": "stderr",
     "output_type": "stream",
     "text": [
      "Loading .model.layers.12: 3955it [03:16, 37.53it/s]"
     ]
    },
    {
     "name": "stdout",
     "output_type": "stream",
     "text": [
      "quantile_size 110\n",
      "len examples 1107\n",
      "n_quantiles 10\n",
      "quantile_size 14\n",
      "len examples 144\n",
      "n_quantiles 10\n",
      "quantile_size 80\n",
      "len examples 806\n",
      "n_quantiles 10\n",
      "quantile_size 10\n",
      "len examples 100\n",
      "n_quantiles 10\n",
      "quantile_size 15\n",
      "len examples 151\n",
      "n_quantiles 10\n",
      "quantile_size 120\n",
      "len examples 1205\n",
      "n_quantiles 10\n"
     ]
    },
    {
     "name": "stderr",
     "output_type": "stream",
     "text": [
      "Loading .model.layers.12: 3960it [03:16, 32.96it/s]"
     ]
    },
    {
     "name": "stdout",
     "output_type": "stream",
     "text": [
      "quantile_size 111\n",
      "len examples 1110\n",
      "n_quantiles 10\n",
      "quantile_size 39\n",
      "len examples 397\n",
      "n_quantiles 10\n",
      "quantile_size 81\n",
      "len examples 810\n",
      "n_quantiles 10\n",
      "quantile_size 39\n",
      "len examples 398\n",
      "n_quantiles 10\n"
     ]
    },
    {
     "name": "stderr",
     "output_type": "stream",
     "text": [
      "Loading .model.layers.12: 3968it [03:17, 25.95it/s]"
     ]
    },
    {
     "name": "stdout",
     "output_type": "stream",
     "text": [
      "quantile_size 201\n",
      "len examples 2013\n",
      "n_quantiles 10\n",
      "quantile_size 36\n",
      "len examples 363\n",
      "n_quantiles 10\n",
      "quantile_size 32\n",
      "len examples 327\n",
      "n_quantiles 10\n",
      "quantile_size 35\n",
      "len examples 355\n",
      "n_quantiles 10\n",
      "quantile_size 15\n",
      "len examples 152\n",
      "n_quantiles 10\n"
     ]
    },
    {
     "name": "stderr",
     "output_type": "stream",
     "text": [
      "Loading .model.layers.12: 3976it [03:17, 30.83it/s]"
     ]
    },
    {
     "name": "stdout",
     "output_type": "stream",
     "text": [
      "quantile_size 28\n",
      "len examples 284\n",
      "n_quantiles 10\n",
      "quantile_size 14\n",
      "len examples 141\n",
      "n_quantiles 10\n",
      "quantile_size 12\n",
      "len examples 124\n",
      "n_quantiles 10\n",
      "quantile_size 34\n",
      "len examples 341\n",
      "n_quantiles 10\n",
      "quantile_size 17\n",
      "len examples 178\n",
      "n_quantiles 10\n"
     ]
    },
    {
     "name": "stderr",
     "output_type": "stream",
     "text": [
      "Loading .model.layers.12: 3980it [03:17, 26.39it/s]"
     ]
    },
    {
     "name": "stdout",
     "output_type": "stream",
     "text": [
      "quantile_size 35\n",
      "len examples 356\n",
      "n_quantiles 10\n",
      "quantile_size 74\n",
      "len examples 741\n",
      "n_quantiles 10\n",
      "quantile_size 19\n",
      "len examples 198\n",
      "n_quantiles 10\n",
      "quantile_size 179\n",
      "len examples 1791\n",
      "n_quantiles 10\n"
     ]
    },
    {
     "name": "stderr",
     "output_type": "stream",
     "text": [
      "Loading .model.layers.12: 3990it [03:18, 30.41it/s]"
     ]
    },
    {
     "name": "stdout",
     "output_type": "stream",
     "text": [
      "quantile_size 24\n",
      "len examples 246\n",
      "n_quantiles 10\n",
      "quantile_size 22\n",
      "len examples 223\n",
      "n_quantiles 10\n",
      "quantile_size 220\n",
      "len examples 2208\n",
      "n_quantiles 10\n",
      "quantile_size 23\n",
      "len examples 232\n",
      "n_quantiles 10\n"
     ]
    },
    {
     "name": "stderr",
     "output_type": "stream",
     "text": [
      "Loading .model.layers.12: 3994it [03:18, 32.02it/s]"
     ]
    },
    {
     "name": "stdout",
     "output_type": "stream",
     "text": [
      "quantile_size 72\n",
      "len examples 728\n",
      "n_quantiles 10\n",
      "quantile_size 34\n",
      "len examples 347\n",
      "n_quantiles 10\n",
      "quantile_size 59\n",
      "len examples 590\n",
      "n_quantiles 10\n",
      "quantile_size 44\n",
      "len examples 445\n",
      "n_quantiles 10\n",
      "quantile_size 46\n",
      "len examples 464\n",
      "n_quantiles 10\n"
     ]
    },
    {
     "name": "stderr",
     "output_type": "stream",
     "text": [
      "Loading .model.layers.12: 4003it [03:18, 32.55it/s]"
     ]
    },
    {
     "name": "stdout",
     "output_type": "stream",
     "text": [
      "quantile_size 23\n",
      "len examples 237\n",
      "n_quantiles 10\n",
      "quantile_size 47\n",
      "len examples 476\n",
      "n_quantiles 10\n",
      "quantile_size 10\n",
      "len examples 102\n",
      "n_quantiles 10\n",
      "quantile_size 13\n",
      "len examples 130\n",
      "n_quantiles 10\n",
      "quantile_size 69\n",
      "len examples 694\n",
      "n_quantiles 10\n"
     ]
    },
    {
     "name": "stderr",
     "output_type": "stream",
     "text": [
      "Loading .model.layers.12: 4011it [03:18, 28.46it/s]"
     ]
    },
    {
     "name": "stdout",
     "output_type": "stream",
     "text": [
      "quantile_size 169\n",
      "len examples 1698\n",
      "n_quantiles 10\n",
      "quantile_size 67\n",
      "len examples 670\n",
      "n_quantiles 10\n",
      "quantile_size 23\n",
      "len examples 237\n",
      "n_quantiles 10\n",
      "quantile_size 12\n",
      "len examples 128\n",
      "n_quantiles 10\n",
      "quantile_size 11\n",
      "len examples 114\n",
      "n_quantiles 10\n",
      "quantile_size 60\n",
      "len examples 606\n",
      "n_quantiles 10\n"
     ]
    },
    {
     "name": "stderr",
     "output_type": "stream",
     "text": [
      "Loading .model.layers.12: 4026it [03:19, 34.13it/s]"
     ]
    },
    {
     "name": "stdout",
     "output_type": "stream",
     "text": [
      "quantile_size 32\n",
      "len examples 323\n",
      "n_quantiles 10\n",
      "quantile_size 33\n",
      "len examples 335\n",
      "n_quantiles 10\n",
      "quantile_size 35\n",
      "len examples 350\n",
      "n_quantiles 10\n",
      "quantile_size 35\n",
      "len examples 354\n",
      "n_quantiles 10\n"
     ]
    },
    {
     "name": "stderr",
     "output_type": "stream",
     "text": [
      "Loading .model.layers.12: 4030it [03:19, 28.60it/s]"
     ]
    },
    {
     "name": "stdout",
     "output_type": "stream",
     "text": [
      "quantile_size 44\n",
      "len examples 442\n",
      "n_quantiles 10\n",
      "quantile_size 122\n",
      "len examples 1220\n",
      "n_quantiles 10\n",
      "quantile_size 44\n",
      "len examples 440\n",
      "n_quantiles 10\n",
      "quantile_size 15\n",
      "len examples 152\n",
      "n_quantiles 10\n",
      "quantile_size 28\n",
      "len examples 288\n",
      "n_quantiles 10\n"
     ]
    },
    {
     "name": "stderr",
     "output_type": "stream",
     "text": [
      "Loading .model.layers.12: 4038it [03:19, 32.70it/s]"
     ]
    },
    {
     "name": "stdout",
     "output_type": "stream",
     "text": [
      "quantile_size 14\n",
      "len examples 140\n",
      "n_quantiles 10\n",
      "quantile_size 209\n",
      "len examples 2098\n",
      "n_quantiles 10\n",
      "quantile_size 10\n",
      "len examples 103\n",
      "n_quantiles 10\n",
      "quantile_size 27\n",
      "len examples 274\n",
      "n_quantiles 10\n"
     ]
    },
    {
     "name": "stderr",
     "output_type": "stream",
     "text": [
      "Loading .model.layers.12: 4051it [03:19, 39.72it/s]"
     ]
    },
    {
     "name": "stdout",
     "output_type": "stream",
     "text": [
      "quantile_size 48\n",
      "len examples 482\n",
      "n_quantiles 10\n",
      "quantile_size 32\n",
      "len examples 325\n",
      "n_quantiles 10\n",
      "quantile_size 15\n",
      "len examples 158\n",
      "n_quantiles 10\n",
      "quantile_size 50\n",
      "len examples 505\n",
      "n_quantiles 10\n",
      "quantile_size 14\n",
      "len examples 145\n",
      "n_quantiles 10\n"
     ]
    },
    {
     "name": "stderr",
     "output_type": "stream",
     "text": [
      "Loading .model.layers.12: 4056it [03:19, 41.78it/s]"
     ]
    },
    {
     "name": "stdout",
     "output_type": "stream",
     "text": [
      "quantile_size 38\n",
      "len examples 386\n",
      "n_quantiles 10\n",
      "quantile_size 19\n",
      "len examples 190\n",
      "n_quantiles 10\n",
      "quantile_size 36\n",
      "len examples 365\n",
      "n_quantiles 10\n",
      "quantile_size 113\n",
      "len examples 1137\n",
      "n_quantiles 10\n"
     ]
    },
    {
     "name": "stderr",
     "output_type": "stream",
     "text": [
      "Loading .model.layers.12: 4069it [03:20, 37.18it/s]"
     ]
    },
    {
     "name": "stdout",
     "output_type": "stream",
     "text": [
      "quantile_size 59\n",
      "len examples 592\n",
      "n_quantiles 10\n",
      "quantile_size 56\n",
      "len examples 564\n",
      "n_quantiles 10\n",
      "quantile_size 18\n",
      "len examples 181\n",
      "n_quantiles 10\n",
      "quantile_size 26\n",
      "len examples 263\n",
      "n_quantiles 10\n"
     ]
    },
    {
     "name": "stderr",
     "output_type": "stream",
     "text": [
      "Loading .model.layers.12: 4077it [03:20, 37.94it/s]"
     ]
    },
    {
     "name": "stdout",
     "output_type": "stream",
     "text": [
      "quantile_size 58\n",
      "len examples 581\n",
      "n_quantiles 10\n",
      "quantile_size 50\n",
      "len examples 500\n",
      "n_quantiles 10\n",
      "quantile_size 25\n",
      "len examples 256\n",
      "n_quantiles 10\n",
      "quantile_size 56\n",
      "len examples 568\n",
      "n_quantiles 10\n",
      "quantile_size 33\n",
      "len examples 332\n",
      "n_quantiles 10\n"
     ]
    },
    {
     "name": "stderr",
     "output_type": "stream",
     "text": [
      "Loading .model.layers.12: 4085it [03:20, 32.50it/s]"
     ]
    },
    {
     "name": "stdout",
     "output_type": "stream",
     "text": [
      "quantile_size 85\n",
      "len examples 852\n",
      "n_quantiles 10\n",
      "quantile_size 36\n",
      "len examples 363\n",
      "n_quantiles 10\n",
      "quantile_size 13\n",
      "len examples 138\n",
      "n_quantiles 10\n",
      "quantile_size 56\n",
      "len examples 560\n",
      "n_quantiles 10\n",
      "quantile_size 52\n",
      "len examples 529\n",
      "n_quantiles 10\n"
     ]
    },
    {
     "name": "stderr",
     "output_type": "stream",
     "text": [
      "Loading .model.layers.12: 4093it [03:21, 28.82it/s]"
     ]
    },
    {
     "name": "stdout",
     "output_type": "stream",
     "text": [
      "quantile_size 33\n",
      "len examples 337\n",
      "n_quantiles 10\n",
      "quantile_size 49\n",
      "len examples 494\n",
      "n_quantiles 10\n",
      "quantile_size 65\n",
      "len examples 656\n",
      "n_quantiles 10\n",
      "quantile_size 53\n",
      "len examples 535\n",
      "n_quantiles 10\n"
     ]
    },
    {
     "name": "stderr",
     "output_type": "stream",
     "text": [
      "Loading .model.layers.12: 4102it [03:21, 42.71it/s]"
     ]
    },
    {
     "name": "stdout",
     "output_type": "stream",
     "text": [
      "quantile_size 24\n",
      "len examples 241\n",
      "n_quantiles 10\n",
      "quantile_size 73\n",
      "len examples 738\n",
      "n_quantiles 10\n",
      "quantile_size 39\n",
      "len examples 397\n",
      "n_quantiles 10\n",
      "quantile_size 48\n",
      "len examples 480\n",
      "n_quantiles 10\n",
      "quantile_size 111\n",
      "len examples 1110\n",
      "n_quantiles 10\n"
     ]
    },
    {
     "name": "stderr",
     "output_type": "stream",
     "text": [
      "Loading .model.layers.12: 4107it [03:21, 35.50it/s]"
     ]
    },
    {
     "name": "stdout",
     "output_type": "stream",
     "text": [
      "quantile_size 190\n",
      "len examples 1906\n",
      "n_quantiles 10\n",
      "quantile_size 54\n",
      "len examples 540\n",
      "n_quantiles 10\n",
      "quantile_size 27\n",
      "len examples 276\n",
      "n_quantiles 10\n",
      "quantile_size 12\n",
      "len examples 128\n",
      "n_quantiles 10\n"
     ]
    },
    {
     "name": "stderr",
     "output_type": "stream",
     "text": [
      "Loading .model.layers.12: 4119it [03:21, 31.93it/s]"
     ]
    },
    {
     "name": "stdout",
     "output_type": "stream",
     "text": [
      "quantile_size 528\n",
      "len examples 5281\n",
      "n_quantiles 10\n",
      "quantile_size 38\n",
      "len examples 387\n",
      "n_quantiles 10\n",
      "quantile_size 25\n",
      "len examples 256\n",
      "n_quantiles 10\n"
     ]
    },
    {
     "name": "stderr",
     "output_type": "stream",
     "text": [
      "Loading .model.layers.12: 4127it [03:22, 30.47it/s]"
     ]
    },
    {
     "name": "stdout",
     "output_type": "stream",
     "text": [
      "quantile_size 21\n",
      "len examples 216\n",
      "n_quantiles 10\n",
      "quantile_size 36\n",
      "len examples 361\n",
      "n_quantiles 10\n",
      "quantile_size 41\n",
      "len examples 415\n",
      "n_quantiles 10\n",
      "quantile_size 53\n",
      "len examples 532\n",
      "n_quantiles 10\n"
     ]
    },
    {
     "name": "stderr",
     "output_type": "stream",
     "text": [
      "Loading .model.layers.12: 4131it [03:22, 26.76it/s]"
     ]
    },
    {
     "name": "stdout",
     "output_type": "stream",
     "text": [
      "quantile_size 104\n",
      "len examples 1041\n",
      "n_quantiles 10\n",
      "quantile_size 235\n",
      "len examples 2353\n",
      "n_quantiles 10\n",
      "quantile_size 11\n",
      "len examples 119\n",
      "n_quantiles 10\n",
      "quantile_size 59\n",
      "len examples 591\n",
      "n_quantiles 10\n"
     ]
    },
    {
     "name": "stderr",
     "output_type": "stream",
     "text": [
      "Loading .model.layers.12: 4139it [03:22, 26.66it/s]"
     ]
    },
    {
     "name": "stdout",
     "output_type": "stream",
     "text": [
      "quantile_size 273\n",
      "len examples 2735\n",
      "n_quantiles 10\n",
      "quantile_size 56\n",
      "len examples 563\n",
      "n_quantiles 10\n",
      "quantile_size 47\n",
      "len examples 473\n",
      "n_quantiles 10\n",
      "quantile_size 18\n",
      "len examples 184\n",
      "n_quantiles 10\n",
      "quantile_size 22\n",
      "len examples 220\n",
      "n_quantiles 10\n",
      "quantile_size 44\n",
      "len examples 440\n",
      "n_quantiles 10\n"
     ]
    },
    {
     "name": "stderr",
     "output_type": "stream",
     "text": [
      "Loading .model.layers.12: 4145it [03:22, 22.97it/s]"
     ]
    },
    {
     "name": "stdout",
     "output_type": "stream",
     "text": [
      "quantile_size 31\n",
      "len examples 310\n",
      "n_quantiles 10\n",
      "quantile_size 19\n",
      "len examples 192\n",
      "n_quantiles 10\n",
      "quantile_size 14\n",
      "len examples 141\n",
      "n_quantiles 10\n",
      "quantile_size 25\n",
      "len examples 251\n",
      "n_quantiles 10\n",
      "quantile_size 173\n",
      "len examples 1736\n",
      "n_quantiles 10\n"
     ]
    },
    {
     "name": "stderr",
     "output_type": "stream",
     "text": [
      "Loading .model.layers.12: 4149it [03:23, 26.00it/s]"
     ]
    },
    {
     "name": "stdout",
     "output_type": "stream",
     "text": [
      "quantile_size 127\n",
      "len examples 1277\n",
      "n_quantiles 10\n",
      "quantile_size 39\n",
      "len examples 399\n",
      "n_quantiles 10\n",
      "quantile_size 30\n",
      "len examples 304\n",
      "n_quantiles 10\n",
      "quantile_size 34\n",
      "len examples 341\n",
      "n_quantiles 10\n",
      "quantile_size 32\n",
      "len examples 326\n",
      "n_quantiles 10\n"
     ]
    },
    {
     "name": "stderr",
     "output_type": "stream",
     "text": [
      "Loading .model.layers.12: 4159it [03:23, 29.21it/s]"
     ]
    },
    {
     "name": "stdout",
     "output_type": "stream",
     "text": [
      "quantile_size 21\n",
      "len examples 212\n",
      "n_quantiles 10\n",
      "quantile_size 35\n",
      "len examples 350\n",
      "n_quantiles 10\n",
      "quantile_size 103\n",
      "len examples 1039\n",
      "n_quantiles 10\n",
      "quantile_size 66\n",
      "len examples 660\n",
      "n_quantiles 10\n",
      "quantile_size 32\n",
      "len examples 329\n",
      "n_quantiles 10\n"
     ]
    },
    {
     "name": "stderr",
     "output_type": "stream",
     "text": [
      "Loading .model.layers.12: 4166it [03:23, 26.86it/s]"
     ]
    },
    {
     "name": "stdout",
     "output_type": "stream",
     "text": [
      "quantile_size 110\n",
      "len examples 1107\n",
      "n_quantiles 10\n",
      "quantile_size 63\n",
      "len examples 636\n",
      "n_quantiles 10\n",
      "quantile_size 42\n",
      "len examples 420\n",
      "n_quantiles 10\n",
      "quantile_size 26\n",
      "len examples 261\n",
      "n_quantiles 10\n"
     ]
    },
    {
     "name": "stderr",
     "output_type": "stream",
     "text": [
      "Loading .model.layers.12: 4174it [03:23, 32.13it/s]"
     ]
    },
    {
     "name": "stdout",
     "output_type": "stream",
     "text": [
      "quantile_size 60\n",
      "len examples 601\n",
      "n_quantiles 10\n",
      "quantile_size 43\n",
      "len examples 438\n",
      "n_quantiles 10\n",
      "quantile_size 23\n",
      "len examples 236\n",
      "n_quantiles 10\n",
      "quantile_size 23\n",
      "len examples 233\n",
      "n_quantiles 10\n"
     ]
    },
    {
     "name": "stderr",
     "output_type": "stream",
     "text": [
      "Loading .model.layers.12: 4182it [03:24, 35.27it/s]"
     ]
    },
    {
     "name": "stdout",
     "output_type": "stream",
     "text": [
      "quantile_size 40\n",
      "len examples 404\n",
      "n_quantiles 10\n",
      "quantile_size 30\n",
      "len examples 306\n",
      "n_quantiles 10\n",
      "quantile_size 40\n",
      "len examples 408\n",
      "n_quantiles 10\n",
      "quantile_size 43\n",
      "len examples 439\n",
      "n_quantiles 10\n",
      "quantile_size 50\n",
      "len examples 500\n",
      "n_quantiles 10\n"
     ]
    },
    {
     "name": "stderr",
     "output_type": "stream",
     "text": [
      "Loading .model.layers.12: 4186it [03:24, 29.31it/s]"
     ]
    },
    {
     "name": "stdout",
     "output_type": "stream",
     "text": [
      "quantile_size 71\n",
      "len examples 717\n",
      "n_quantiles 10\n",
      "quantile_size 57\n",
      "len examples 576\n",
      "n_quantiles 10\n",
      "quantile_size 21\n",
      "len examples 219\n",
      "n_quantiles 10\n",
      "quantile_size 185\n",
      "len examples 1857\n",
      "n_quantiles 10\n"
     ]
    },
    {
     "name": "stderr",
     "output_type": "stream",
     "text": [
      "Loading .model.layers.12: 4194it [03:24, 28.62it/s]"
     ]
    },
    {
     "name": "stdout",
     "output_type": "stream",
     "text": [
      "quantile_size 46\n",
      "len examples 464\n",
      "n_quantiles 10\n",
      "quantile_size 16\n",
      "len examples 164\n",
      "n_quantiles 10\n",
      "quantile_size 54\n",
      "len examples 544\n",
      "n_quantiles 10\n",
      "quantile_size 13\n",
      "len examples 133\n",
      "n_quantiles 10\n",
      "quantile_size 148\n",
      "len examples 1488\n",
      "n_quantiles 10\n"
     ]
    },
    {
     "name": "stderr",
     "output_type": "stream",
     "text": [
      "Loading .model.layers.12: 4203it [03:24, 34.66it/s]"
     ]
    },
    {
     "name": "stdout",
     "output_type": "stream",
     "text": [
      "quantile_size 23\n",
      "len examples 234\n",
      "n_quantiles 10\n",
      "quantile_size 67\n",
      "len examples 672\n",
      "n_quantiles 10\n",
      "quantile_size 21\n",
      "len examples 217\n",
      "n_quantiles 10\n",
      "quantile_size 9\n",
      "len examples 94\n",
      "n_quantiles 10\n",
      "quantile_size 17\n",
      "len examples 175\n",
      "n_quantiles 10\n",
      "quantile_size 23\n",
      "len examples 230\n",
      "n_quantiles 10\n"
     ]
    },
    {
     "name": "stderr",
     "output_type": "stream",
     "text": [
      "Loading .model.layers.12: 4212it [03:25, 33.27it/s]"
     ]
    },
    {
     "name": "stdout",
     "output_type": "stream",
     "text": [
      "quantile_size 79\n",
      "len examples 795\n",
      "n_quantiles 10\n",
      "quantile_size 14\n",
      "len examples 148\n",
      "n_quantiles 10\n",
      "quantile_size 23\n",
      "len examples 238\n",
      "n_quantiles 10\n",
      "quantile_size 55\n",
      "len examples 554\n",
      "n_quantiles 10\n",
      "quantile_size 13\n",
      "len examples 135\n",
      "n_quantiles 10\n",
      "quantile_size 15\n",
      "len examples 158\n",
      "n_quantiles 10\n"
     ]
    },
    {
     "name": "stderr",
     "output_type": "stream",
     "text": [
      "Loading .model.layers.12: 4223it [03:25, 43.24it/s]"
     ]
    },
    {
     "name": "stdout",
     "output_type": "stream",
     "text": [
      "quantile_size 255\n",
      "len examples 2559\n",
      "n_quantiles 10\n",
      "quantile_size 39\n",
      "len examples 394\n",
      "n_quantiles 10\n",
      "quantile_size 16\n",
      "len examples 168\n",
      "n_quantiles 10\n",
      "quantile_size 24\n",
      "len examples 246\n",
      "n_quantiles 10\n",
      "quantile_size 147\n",
      "len examples 1473\n",
      "n_quantiles 10\n",
      "quantile_size 34\n",
      "len examples 349\n",
      "n_quantiles 10\n",
      "quantile_size 36\n",
      "len examples 365\n",
      "n_quantiles 10\n"
     ]
    },
    {
     "name": "stderr",
     "output_type": "stream",
     "text": [
      "Loading .model.layers.12: 4232it [03:25, 30.30it/s]"
     ]
    },
    {
     "name": "stdout",
     "output_type": "stream",
     "text": [
      "quantile_size 48\n",
      "len examples 488\n",
      "n_quantiles 10\n",
      "quantile_size 10\n",
      "len examples 106\n",
      "n_quantiles 10\n",
      "quantile_size 28\n",
      "len examples 286\n",
      "n_quantiles 10\n",
      "quantile_size 20\n",
      "len examples 203\n",
      "n_quantiles 10\n",
      "quantile_size 43\n",
      "len examples 439\n",
      "n_quantiles 10\n",
      "quantile_size 22\n",
      "len examples 225\n",
      "n_quantiles 10\n"
     ]
    },
    {
     "name": "stderr",
     "output_type": "stream",
     "text": [
      "Loading .model.layers.12: 4237it [03:25, 34.19it/s]"
     ]
    },
    {
     "name": "stdout",
     "output_type": "stream",
     "text": [
      "quantile_size 27\n",
      "len examples 270\n",
      "n_quantiles 10\n",
      "quantile_size 38\n",
      "len examples 388\n",
      "n_quantiles 10\n",
      "quantile_size 18\n",
      "len examples 186\n",
      "n_quantiles 10\n",
      "quantile_size 28\n",
      "len examples 286\n",
      "n_quantiles 10\n",
      "quantile_size 66\n",
      "len examples 664\n",
      "n_quantiles 10\n"
     ]
    },
    {
     "name": "stderr",
     "output_type": "stream",
     "text": [
      "Loading .model.layers.12: 4245it [03:26, 31.07it/s]"
     ]
    },
    {
     "name": "stdout",
     "output_type": "stream",
     "text": [
      "quantile_size 62\n",
      "len examples 620\n",
      "n_quantiles 10\n",
      "quantile_size 20\n",
      "len examples 202\n",
      "n_quantiles 10\n",
      "quantile_size 72\n",
      "len examples 720\n",
      "n_quantiles 10\n",
      "quantile_size 23\n",
      "len examples 237\n",
      "n_quantiles 10\n",
      "quantile_size 20\n",
      "len examples 202\n",
      "n_quantiles 10\n"
     ]
    },
    {
     "name": "stderr",
     "output_type": "stream",
     "text": [
      "Loading .model.layers.12: 4253it [03:26, 34.62it/s]"
     ]
    },
    {
     "name": "stdout",
     "output_type": "stream",
     "text": [
      "quantile_size 14\n",
      "len examples 146\n",
      "n_quantiles 10\n",
      "quantile_size 52\n",
      "len examples 520\n",
      "n_quantiles 10\n",
      "quantile_size 43\n",
      "len examples 436\n",
      "n_quantiles 10\n",
      "quantile_size 25\n",
      "len examples 253\n",
      "n_quantiles 10\n",
      "quantile_size 14\n",
      "len examples 145\n",
      "n_quantiles 10\n"
     ]
    },
    {
     "name": "stderr",
     "output_type": "stream",
     "text": [
      "Loading .model.layers.12: 4257it [03:26, 28.75it/s]"
     ]
    },
    {
     "name": "stdout",
     "output_type": "stream",
     "text": [
      "quantile_size 28\n",
      "len examples 281\n",
      "n_quantiles 10\n",
      "quantile_size 99\n",
      "len examples 992\n",
      "n_quantiles 10\n",
      "quantile_size 73\n",
      "len examples 739\n",
      "n_quantiles 10\n",
      "quantile_size 7\n",
      "len examples 74\n",
      "n_quantiles 10\n"
     ]
    },
    {
     "name": "stderr",
     "output_type": "stream",
     "text": [
      "Loading .model.layers.12: 4266it [03:26, 35.12it/s]"
     ]
    },
    {
     "name": "stdout",
     "output_type": "stream",
     "text": [
      "quantile_size 54\n",
      "len examples 549\n",
      "n_quantiles 10\n",
      "quantile_size 33\n",
      "len examples 332\n",
      "n_quantiles 10\n",
      "quantile_size 75\n",
      "len examples 752\n",
      "n_quantiles 10\n",
      "quantile_size 15\n",
      "len examples 151\n",
      "n_quantiles 10\n",
      "quantile_size 13\n",
      "len examples 135\n",
      "n_quantiles 10\n"
     ]
    },
    {
     "name": "stderr",
     "output_type": "stream",
     "text": [
      "Loading .model.layers.12: 4278it [03:26, 36.01it/s]"
     ]
    },
    {
     "name": "stdout",
     "output_type": "stream",
     "text": [
      "quantile_size 8\n",
      "len examples 81\n",
      "n_quantiles 10\n",
      "quantile_size 9\n",
      "len examples 99\n",
      "n_quantiles 10\n",
      "quantile_size 49\n",
      "len examples 490\n",
      "n_quantiles 10\n",
      "quantile_size 80\n",
      "len examples 805\n",
      "n_quantiles 10\n",
      "quantile_size 32\n",
      "len examples 321\n",
      "n_quantiles 10\n"
     ]
    },
    {
     "name": "stderr",
     "output_type": "stream",
     "text": [
      "Loading .model.layers.12: 4289it [03:27, 36.22it/s]"
     ]
    },
    {
     "name": "stdout",
     "output_type": "stream",
     "text": [
      "quantile_size 17\n",
      "len examples 171\n",
      "n_quantiles 10\n",
      "quantile_size 17\n",
      "len examples 178\n",
      "n_quantiles 10\n",
      "quantile_size 16\n",
      "len examples 162\n",
      "n_quantiles 10\n",
      "quantile_size 27\n",
      "len examples 273\n",
      "n_quantiles 10\n",
      "quantile_size 67\n",
      "len examples 671\n",
      "n_quantiles 10\n",
      "quantile_size 20\n",
      "len examples 204\n",
      "n_quantiles 10\n"
     ]
    },
    {
     "name": "stderr",
     "output_type": "stream",
     "text": [
      "Loading .model.layers.12: 4293it [03:27, 30.13it/s]"
     ]
    },
    {
     "name": "stdout",
     "output_type": "stream",
     "text": [
      "quantile_size 40\n",
      "len examples 401\n",
      "n_quantiles 10\n",
      "quantile_size 28\n",
      "len examples 287\n",
      "n_quantiles 10\n",
      "quantile_size 234\n",
      "len examples 2348\n",
      "n_quantiles 10\n",
      "quantile_size 40\n",
      "len examples 405\n",
      "n_quantiles 10\n",
      "quantile_size 22\n",
      "len examples 228\n",
      "n_quantiles 10\n"
     ]
    },
    {
     "name": "stderr",
     "output_type": "stream",
     "text": [
      "Loading .model.layers.12: 4304it [03:27, 40.58it/s]"
     ]
    },
    {
     "name": "stdout",
     "output_type": "stream",
     "text": [
      "quantile_size 25\n",
      "len examples 254\n",
      "n_quantiles 10\n",
      "quantile_size 18\n",
      "len examples 181\n",
      "n_quantiles 10\n",
      "quantile_size 12\n",
      "len examples 121\n",
      "n_quantiles 10\n",
      "quantile_size 37\n",
      "len examples 373\n",
      "n_quantiles 10\n",
      "quantile_size 39\n",
      "len examples 392\n",
      "n_quantiles 10\n"
     ]
    },
    {
     "name": "stderr",
     "output_type": "stream",
     "text": [
      "Loading .model.layers.12: 4314it [03:28, 31.52it/s]"
     ]
    },
    {
     "name": "stdout",
     "output_type": "stream",
     "text": [
      "quantile_size 22\n",
      "len examples 222\n",
      "n_quantiles 10\n",
      "quantile_size 74\n",
      "len examples 744\n",
      "n_quantiles 10\n",
      "quantile_size 17\n",
      "len examples 171\n",
      "n_quantiles 10\n",
      "quantile_size 41\n",
      "len examples 413\n",
      "n_quantiles 10\n",
      "quantile_size 30\n",
      "len examples 307\n",
      "n_quantiles 10\n",
      "quantile_size 29\n",
      "len examples 298\n",
      "n_quantiles 10\n"
     ]
    },
    {
     "name": "stderr",
     "output_type": "stream",
     "text": [
      "Loading .model.layers.12: 4318it [03:28, 32.69it/s]"
     ]
    },
    {
     "name": "stdout",
     "output_type": "stream",
     "text": [
      "quantile_size 51\n",
      "len examples 511\n",
      "n_quantiles 10\n",
      "quantile_size 15\n",
      "len examples 156\n",
      "n_quantiles 10\n",
      "quantile_size 73\n",
      "len examples 734\n",
      "n_quantiles 10\n"
     ]
    },
    {
     "name": "stderr",
     "output_type": "stream",
     "text": [
      "Loading .model.layers.12: 4328it [03:28, 34.65it/s]"
     ]
    },
    {
     "name": "stdout",
     "output_type": "stream",
     "text": [
      "quantile_size 25\n",
      "len examples 256\n",
      "n_quantiles 10\n",
      "quantile_size 50\n",
      "len examples 509\n",
      "n_quantiles 10\n",
      "quantile_size 244\n",
      "len examples 2444\n",
      "n_quantiles 10\n",
      "quantile_size 31\n",
      "len examples 312\n",
      "n_quantiles 10\n"
     ]
    },
    {
     "name": "stderr",
     "output_type": "stream",
     "text": [
      "Loading .model.layers.12: 4334it [03:28, 33.48it/s]"
     ]
    },
    {
     "name": "stdout",
     "output_type": "stream",
     "text": [
      "quantile_size 15\n",
      "len examples 156\n",
      "n_quantiles 10\n",
      "quantile_size 37\n",
      "len examples 370\n",
      "n_quantiles 10\n",
      "quantile_size 39\n",
      "len examples 391\n",
      "n_quantiles 10\n",
      "quantile_size 55\n",
      "len examples 554\n",
      "n_quantiles 10\n"
     ]
    },
    {
     "name": "stderr",
     "output_type": "stream",
     "text": [
      "Loading .model.layers.12: 4344it [03:28, 40.17it/s]"
     ]
    },
    {
     "name": "stdout",
     "output_type": "stream",
     "text": [
      "quantile_size 89\n",
      "len examples 897\n",
      "n_quantiles 10\n",
      "quantile_size 38\n",
      "len examples 381\n",
      "n_quantiles 10\n"
     ]
    },
    {
     "name": "stderr",
     "output_type": "stream",
     "text": [
      "Loading .model.layers.12: 4353it [03:29, 35.28it/s]"
     ]
    },
    {
     "name": "stdout",
     "output_type": "stream",
     "text": [
      "quantile_size 168\n",
      "len examples 1682\n",
      "n_quantiles 10\n",
      "quantile_size 20\n",
      "len examples 202\n",
      "n_quantiles 10\n",
      "quantile_size 26\n",
      "len examples 268\n",
      "n_quantiles 10\n",
      "quantile_size 35\n",
      "len examples 354\n",
      "n_quantiles 10\n",
      "quantile_size 19\n",
      "len examples 196\n",
      "n_quantiles 10\n",
      "quantile_size 49\n",
      "len examples 493\n",
      "n_quantiles 10\n"
     ]
    },
    {
     "name": "stderr",
     "output_type": "stream",
     "text": [
      "Loading .model.layers.12: 4357it [03:29, 36.37it/s]"
     ]
    },
    {
     "name": "stdout",
     "output_type": "stream",
     "text": [
      "quantile_size 19\n",
      "len examples 198\n",
      "n_quantiles 10\n",
      "quantile_size 36\n",
      "len examples 366\n",
      "n_quantiles 10\n",
      "quantile_size 166\n",
      "len examples 1667\n",
      "n_quantiles 10\n"
     ]
    },
    {
     "name": "stderr",
     "output_type": "stream",
     "text": [
      "Loading .model.layers.12: 4365it [03:29, 32.06it/s]"
     ]
    },
    {
     "name": "stdout",
     "output_type": "stream",
     "text": [
      "quantile_size 78\n",
      "len examples 782\n",
      "n_quantiles 10\n",
      "quantile_size 32\n",
      "len examples 322\n",
      "n_quantiles 10\n",
      "quantile_size 39\n",
      "len examples 392\n",
      "n_quantiles 10\n",
      "quantile_size 41\n",
      "len examples 419\n",
      "n_quantiles 10\n"
     ]
    },
    {
     "name": "stderr",
     "output_type": "stream",
     "text": [
      "Loading .model.layers.12: 4369it [03:29, 27.49it/s]"
     ]
    },
    {
     "name": "stdout",
     "output_type": "stream",
     "text": [
      "quantile_size 25\n",
      "len examples 256\n",
      "n_quantiles 10\n",
      "quantile_size 137\n",
      "len examples 1379\n",
      "n_quantiles 10\n",
      "quantile_size 34\n",
      "len examples 341\n",
      "n_quantiles 10\n",
      "quantile_size 48\n",
      "len examples 489\n",
      "n_quantiles 10\n",
      "quantile_size 48\n",
      "len examples 485\n",
      "n_quantiles 10\n"
     ]
    },
    {
     "name": "stderr",
     "output_type": "stream",
     "text": [
      "Loading .model.layers.12: 4377it [03:30, 27.92it/s]"
     ]
    },
    {
     "name": "stdout",
     "output_type": "stream",
     "text": [
      "quantile_size 22\n",
      "len examples 228\n",
      "n_quantiles 10\n",
      "quantile_size 104\n",
      "len examples 1046\n",
      "n_quantiles 10\n",
      "quantile_size 51\n",
      "len examples 519\n",
      "n_quantiles 10\n"
     ]
    },
    {
     "name": "stderr",
     "output_type": "stream",
     "text": [
      "Loading .model.layers.12: 4383it [03:30, 35.00it/s]"
     ]
    },
    {
     "name": "stdout",
     "output_type": "stream",
     "text": [
      "quantile_size 46\n",
      "len examples 463\n",
      "n_quantiles 10\n",
      "quantile_size 15\n",
      "len examples 151\n",
      "n_quantiles 10\n",
      "quantile_size 89\n",
      "len examples 896\n",
      "n_quantiles 10\n",
      "quantile_size 77\n",
      "len examples 775\n",
      "n_quantiles 10\n"
     ]
    },
    {
     "name": "stderr",
     "output_type": "stream",
     "text": [
      "Loading .model.layers.12: 4391it [03:30, 26.14it/s]"
     ]
    },
    {
     "name": "stdout",
     "output_type": "stream",
     "text": [
      "quantile_size 66\n",
      "len examples 664\n",
      "n_quantiles 10\n",
      "quantile_size 16\n",
      "len examples 167\n",
      "n_quantiles 10\n",
      "quantile_size 43\n",
      "len examples 435\n",
      "n_quantiles 10\n"
     ]
    },
    {
     "name": "stderr",
     "output_type": "stream",
     "text": [
      "Loading .model.layers.12: 4394it [03:30, 26.43it/s]"
     ]
    },
    {
     "name": "stdout",
     "output_type": "stream",
     "text": [
      "quantile_size 14\n",
      "len examples 145\n",
      "n_quantiles 10\n",
      "quantile_size 86\n",
      "len examples 865\n",
      "n_quantiles 10\n",
      "quantile_size 24\n",
      "len examples 241\n",
      "n_quantiles 10\n"
     ]
    },
    {
     "name": "stderr",
     "output_type": "stream",
     "text": [
      "Loading .model.layers.12: 4398it [03:31, 12.63it/s]"
     ]
    },
    {
     "name": "stdout",
     "output_type": "stream",
     "text": [
      "quantile_size 60\n",
      "len examples 608\n",
      "n_quantiles 10\n"
     ]
    },
    {
     "name": "stderr",
     "output_type": "stream",
     "text": [
      "Loading .model.layers.12: 4401it [03:31,  9.14it/s]"
     ]
    },
    {
     "name": "stdout",
     "output_type": "stream",
     "text": [
      "quantile_size 32\n",
      "len examples 327\n",
      "n_quantiles 10\n",
      "quantile_size 34\n",
      "len examples 349\n",
      "n_quantiles 10\n"
     ]
    },
    {
     "name": "stderr",
     "output_type": "stream",
     "text": [
      "Loading .model.layers.12: 4403it [03:32,  9.27it/s]"
     ]
    },
    {
     "name": "stdout",
     "output_type": "stream",
     "text": [
      "quantile_size 14\n",
      "len examples 146\n",
      "n_quantiles 10\n",
      "quantile_size 20\n",
      "len examples 208\n",
      "n_quantiles 10\n"
     ]
    },
    {
     "name": "stderr",
     "output_type": "stream",
     "text": [
      "Loading .model.layers.12: 4407it [03:32,  9.51it/s]"
     ]
    },
    {
     "name": "stdout",
     "output_type": "stream",
     "text": [
      "quantile_size 27\n",
      "len examples 272\n",
      "n_quantiles 10\n",
      "quantile_size 156\n",
      "len examples 1567\n",
      "n_quantiles 10\n"
     ]
    },
    {
     "name": "stderr",
     "output_type": "stream",
     "text": [
      "Loading .model.layers.12: 4409it [03:32,  9.65it/s]"
     ]
    },
    {
     "name": "stdout",
     "output_type": "stream",
     "text": [
      "quantile_size 25\n",
      "len examples 257\n",
      "n_quantiles 10\n"
     ]
    },
    {
     "name": "stderr",
     "output_type": "stream",
     "text": [
      "Loading .model.layers.12: 4413it [03:33,  7.60it/s]"
     ]
    },
    {
     "name": "stdout",
     "output_type": "stream",
     "text": [
      "quantile_size 61\n",
      "len examples 612\n",
      "n_quantiles 10\n"
     ]
    },
    {
     "name": "stderr",
     "output_type": "stream",
     "text": [
      "Loading .model.layers.12: 4417it [03:33,  9.21it/s]"
     ]
    },
    {
     "name": "stdout",
     "output_type": "stream",
     "text": [
      "quantile_size 59\n",
      "len examples 595\n",
      "n_quantiles 10\n",
      "quantile_size 17\n",
      "len examples 173\n",
      "n_quantiles 10\n",
      "quantile_size 147\n",
      "len examples 1470\n",
      "n_quantiles 10\n"
     ]
    },
    {
     "name": "stderr",
     "output_type": "stream",
     "text": [
      "Loading .model.layers.12: 4419it [03:33, 11.05it/s]"
     ]
    },
    {
     "name": "stdout",
     "output_type": "stream",
     "text": [
      "quantile_size 39\n",
      "len examples 394\n",
      "n_quantiles 10\n",
      "quantile_size 36\n",
      "len examples 363\n",
      "n_quantiles 10\n",
      "quantile_size 152\n",
      "len examples 1523\n",
      "n_quantiles 10\n"
     ]
    },
    {
     "name": "stderr",
     "output_type": "stream",
     "text": [
      "Loading .model.layers.12: 4421it [03:35,  3.95it/s]"
     ]
    },
    {
     "name": "stdout",
     "output_type": "stream",
     "text": [
      "quantile_size 12\n",
      "len examples 128\n",
      "n_quantiles 10\n",
      "quantile_size 45\n",
      "len examples 452\n",
      "n_quantiles 10\n",
      "quantile_size 24\n",
      "len examples 245\n",
      "n_quantiles 10\n",
      "quantile_size 28\n",
      "len examples 283\n",
      "n_quantiles 10\n",
      "quantile_size 26\n",
      "len examples 260\n",
      "n_quantiles 10\n"
     ]
    },
    {
     "name": "stderr",
     "output_type": "stream",
     "text": [
      "Loading .model.layers.12: 4428it [03:35,  8.10it/s]"
     ]
    },
    {
     "name": "stdout",
     "output_type": "stream",
     "text": [
      "quantile_size 202\n",
      "len examples 2029\n",
      "n_quantiles 10\n"
     ]
    },
    {
     "name": "stderr",
     "output_type": "stream",
     "text": [
      "Loading .model.layers.12: 4430it [03:35,  7.75it/s]"
     ]
    },
    {
     "name": "stdout",
     "output_type": "stream",
     "text": [
      "quantile_size 47\n",
      "len examples 472\n",
      "n_quantiles 10\n"
     ]
    },
    {
     "name": "stderr",
     "output_type": "stream",
     "text": [
      "Loading .model.layers.12: 4432it [03:36,  6.53it/s]"
     ]
    },
    {
     "name": "stdout",
     "output_type": "stream",
     "text": [
      "quantile_size 44\n",
      "len examples 446\n",
      "n_quantiles 10\n"
     ]
    },
    {
     "name": "stderr",
     "output_type": "stream",
     "text": [
      "Loading .model.layers.12: 4436it [03:36,  5.88it/s]"
     ]
    },
    {
     "name": "stdout",
     "output_type": "stream",
     "text": [
      "quantile_size 13\n",
      "len examples 134\n",
      "n_quantiles 10\n"
     ]
    },
    {
     "name": "stderr",
     "output_type": "stream",
     "text": [
      "Loading .model.layers.12: 4441it [03:37, 10.22it/s]"
     ]
    },
    {
     "name": "stdout",
     "output_type": "stream",
     "text": [
      "quantile_size 16\n",
      "len examples 163\n",
      "n_quantiles 10\n",
      "quantile_size 13\n",
      "len examples 135\n",
      "n_quantiles 10\n"
     ]
    },
    {
     "name": "stderr",
     "output_type": "stream",
     "text": [
      "Loading .model.layers.12: 4443it [03:37,  9.02it/s]"
     ]
    },
    {
     "name": "stdout",
     "output_type": "stream",
     "text": [
      "quantile_size 18\n",
      "len examples 180\n",
      "n_quantiles 10\n",
      "quantile_size 9\n",
      "len examples 95\n",
      "n_quantiles 10\n"
     ]
    },
    {
     "name": "stderr",
     "output_type": "stream",
     "text": [
      "Loading .model.layers.12: 4451it [03:37, 17.24it/s]"
     ]
    },
    {
     "name": "stdout",
     "output_type": "stream",
     "text": [
      "quantile_size 313\n",
      "len examples 3138\n",
      "n_quantiles 10\n",
      "quantile_size 44\n",
      "len examples 446\n",
      "n_quantiles 10\n",
      "quantile_size 25\n",
      "len examples 256\n",
      "n_quantiles 10\n",
      "quantile_size 27\n",
      "len examples 277\n",
      "n_quantiles 10\n",
      "quantile_size 11\n",
      "len examples 113\n",
      "n_quantiles 10\n",
      "quantile_size 26\n",
      "len examples 266\n",
      "n_quantiles 10\n"
     ]
    },
    {
     "name": "stderr",
     "output_type": "stream",
     "text": [
      "Loading .model.layers.12: 4459it [03:38, 22.80it/s]"
     ]
    },
    {
     "name": "stdout",
     "output_type": "stream",
     "text": [
      "quantile_size 181\n",
      "len examples 1816\n",
      "n_quantiles 10\n",
      "quantile_size 15\n",
      "len examples 153\n",
      "n_quantiles 10\n",
      "quantile_size 20\n",
      "len examples 207\n",
      "n_quantiles 10\n",
      "quantile_size 31\n",
      "len examples 310\n",
      "n_quantiles 10\n",
      "quantile_size 22\n",
      "len examples 228\n",
      "n_quantiles 10\n"
     ]
    },
    {
     "name": "stderr",
     "output_type": "stream",
     "text": [
      "Loading .model.layers.12: 4463it [03:38, 21.39it/s]"
     ]
    },
    {
     "name": "stdout",
     "output_type": "stream",
     "text": [
      "quantile_size 17\n",
      "len examples 174\n",
      "n_quantiles 10\n",
      "quantile_size 81\n",
      "len examples 815\n",
      "n_quantiles 10\n",
      "quantile_size 32\n",
      "len examples 325\n",
      "n_quantiles 10\n"
     ]
    },
    {
     "name": "stderr",
     "output_type": "stream",
     "text": [
      "Loading .model.layers.12: 4466it [03:39,  9.84it/s]"
     ]
    },
    {
     "name": "stdout",
     "output_type": "stream",
     "text": [
      "quantile_size 26\n",
      "len examples 266\n",
      "n_quantiles 10\n"
     ]
    },
    {
     "name": "stderr",
     "output_type": "stream",
     "text": [
      "Loading .model.layers.12: 4469it [03:39,  8.47it/s]"
     ]
    },
    {
     "name": "stdout",
     "output_type": "stream",
     "text": [
      "quantile_size 8\n",
      "len examples 81\n",
      "n_quantiles 10\n",
      "quantile_size 25\n",
      "len examples 251\n",
      "n_quantiles 10\n"
     ]
    },
    {
     "name": "stderr",
     "output_type": "stream",
     "text": [
      "Loading .model.layers.12: 4477it [03:39, 15.49it/s]"
     ]
    },
    {
     "name": "stdout",
     "output_type": "stream",
     "text": [
      "quantile_size 27\n",
      "len examples 278\n",
      "n_quantiles 10\n",
      "quantile_size 70\n",
      "len examples 708\n",
      "n_quantiles 10\n",
      "quantile_size 163\n",
      "len examples 1630\n",
      "n_quantiles 10\n"
     ]
    },
    {
     "name": "stderr",
     "output_type": "stream",
     "text": [
      "Loading .model.layers.12: 4483it [03:40, 14.00it/s]"
     ]
    },
    {
     "name": "stdout",
     "output_type": "stream",
     "text": [
      "quantile_size 55\n",
      "len examples 557\n",
      "n_quantiles 10\n",
      "quantile_size 48\n",
      "len examples 482\n",
      "n_quantiles 10\n"
     ]
    },
    {
     "name": "stderr",
     "output_type": "stream",
     "text": [
      "Loading .model.layers.12: 4486it [03:40, 11.33it/s]"
     ]
    },
    {
     "name": "stdout",
     "output_type": "stream",
     "text": [
      "quantile_size 21\n",
      "len examples 211\n",
      "n_quantiles 10\n"
     ]
    },
    {
     "name": "stderr",
     "output_type": "stream",
     "text": [
      "Loading .model.layers.12: 4490it [03:41,  7.42it/s]"
     ]
    },
    {
     "name": "stdout",
     "output_type": "stream",
     "text": [
      "quantile_size 33\n",
      "len examples 335\n",
      "n_quantiles 10\n"
     ]
    },
    {
     "name": "stderr",
     "output_type": "stream",
     "text": [
      "Loading .model.layers.12: 4495it [03:42,  7.79it/s]"
     ]
    },
    {
     "name": "stdout",
     "output_type": "stream",
     "text": [
      "quantile_size 71\n",
      "len examples 717\n",
      "n_quantiles 10\n",
      "quantile_size 117\n",
      "len examples 1174\n",
      "n_quantiles 10\n",
      "quantile_size 26\n",
      "len examples 262\n",
      "n_quantiles 10\n",
      "quantile_size 206\n",
      "len examples 2069\n",
      "n_quantiles 10\n"
     ]
    },
    {
     "name": "stderr",
     "output_type": "stream",
     "text": [
      "Loading .model.layers.12: 4497it [03:42,  8.25it/s]"
     ]
    },
    {
     "name": "stdout",
     "output_type": "stream",
     "text": [
      "quantile_size 80\n",
      "len examples 806\n",
      "n_quantiles 10\n",
      "quantile_size 111\n",
      "len examples 1110\n",
      "n_quantiles 10\n"
     ]
    },
    {
     "name": "stderr",
     "output_type": "stream",
     "text": [
      "Loading .model.layers.12: 4499it [03:42,  8.54it/s]"
     ]
    },
    {
     "name": "stdout",
     "output_type": "stream",
     "text": [
      "quantile_size 12\n",
      "len examples 125\n",
      "n_quantiles 10\n",
      "quantile_size 77\n",
      "len examples 771\n",
      "n_quantiles 10\n",
      "quantile_size 22\n",
      "len examples 220\n",
      "n_quantiles 10\n"
     ]
    },
    {
     "name": "stderr",
     "output_type": "stream",
     "text": [
      "Loading .model.layers.12: 4503it [03:42, 11.34it/s]"
     ]
    },
    {
     "name": "stdout",
     "output_type": "stream",
     "text": [
      "quantile_size 20\n",
      "len examples 207\n",
      "n_quantiles 10\n",
      "quantile_size 339\n",
      "len examples 3399\n",
      "n_quantiles 10\n"
     ]
    },
    {
     "name": "stderr",
     "output_type": "stream",
     "text": [
      "Loading .model.layers.12: 4513it [03:43, 17.28it/s]"
     ]
    },
    {
     "name": "stdout",
     "output_type": "stream",
     "text": [
      "quantile_size 780\n",
      "len examples 7808\n",
      "n_quantiles 10\n",
      "quantile_size 108\n",
      "len examples 1088\n",
      "n_quantiles 10\n",
      "quantile_size 51\n",
      "len examples 511\n",
      "n_quantiles 10\n"
     ]
    },
    {
     "name": "stderr",
     "output_type": "stream",
     "text": [
      "Loading .model.layers.12: 4519it [03:43, 21.71it/s]"
     ]
    },
    {
     "name": "stdout",
     "output_type": "stream",
     "text": [
      "quantile_size 31\n",
      "len examples 311\n",
      "n_quantiles 10\n",
      "quantile_size 22\n",
      "len examples 224\n",
      "n_quantiles 10\n",
      "quantile_size 33\n",
      "len examples 336\n",
      "n_quantiles 10\n",
      "quantile_size 21\n",
      "len examples 216\n",
      "n_quantiles 10\n"
     ]
    },
    {
     "name": "stderr",
     "output_type": "stream",
     "text": [
      "Loading .model.layers.12: 4522it [03:44, 13.21it/s]"
     ]
    },
    {
     "name": "stdout",
     "output_type": "stream",
     "text": [
      "quantile_size 402\n",
      "len examples 4025\n",
      "n_quantiles 10\n"
     ]
    },
    {
     "name": "stderr",
     "output_type": "stream",
     "text": [
      "Loading .model.layers.12: 4526it [03:44, 12.37it/s]"
     ]
    },
    {
     "name": "stdout",
     "output_type": "stream",
     "text": [
      "quantile_size 8\n",
      "len examples 83\n",
      "n_quantiles 10\n"
     ]
    },
    {
     "name": "stderr",
     "output_type": "stream",
     "text": [
      "Loading .model.layers.12: 4531it [03:44, 14.65it/s]"
     ]
    },
    {
     "name": "stdout",
     "output_type": "stream",
     "text": [
      "quantile_size 59\n",
      "len examples 594\n",
      "n_quantiles 10\n",
      "quantile_size 54\n",
      "len examples 542\n",
      "n_quantiles 10\n",
      "quantile_size 17\n",
      "len examples 178\n",
      "n_quantiles 10\n"
     ]
    },
    {
     "name": "stderr",
     "output_type": "stream",
     "text": [
      "Loading .model.layers.12: 4533it [03:44, 13.12it/s]"
     ]
    },
    {
     "name": "stdout",
     "output_type": "stream",
     "text": [
      "quantile_size 172\n",
      "len examples 1721\n",
      "n_quantiles 10\n",
      "quantile_size 30\n",
      "len examples 307\n",
      "n_quantiles 10\n"
     ]
    },
    {
     "name": "stderr",
     "output_type": "stream",
     "text": [
      "Loading .model.layers.12: 4535it [03:45,  5.47it/s]"
     ]
    },
    {
     "name": "stdout",
     "output_type": "stream",
     "text": [
      "quantile_size 31\n",
      "len examples 315\n",
      "n_quantiles 10\n",
      "quantile_size 30\n",
      "len examples 300\n",
      "n_quantiles 10\n"
     ]
    },
    {
     "name": "stderr",
     "output_type": "stream",
     "text": [
      "Loading .model.layers.12: 4539it [03:47,  4.00it/s]"
     ]
    },
    {
     "name": "stdout",
     "output_type": "stream",
     "text": [
      "quantile_size 24\n",
      "len examples 245\n",
      "n_quantiles 10\n"
     ]
    },
    {
     "name": "stderr",
     "output_type": "stream",
     "text": [
      "Loading .model.layers.12: 4541it [03:48,  3.16it/s]"
     ]
    },
    {
     "name": "stdout",
     "output_type": "stream",
     "text": [
      "quantile_size 11\n",
      "len examples 117\n",
      "n_quantiles 10\n"
     ]
    },
    {
     "name": "stderr",
     "output_type": "stream",
     "text": [
      "Loading .model.layers.12: 4542it [03:48,  3.22it/s]"
     ]
    },
    {
     "name": "stdout",
     "output_type": "stream",
     "text": [
      "quantile_size 16\n",
      "len examples 165\n",
      "n_quantiles 10\n"
     ]
    },
    {
     "name": "stderr",
     "output_type": "stream",
     "text": [
      "Loading .model.layers.12: 4545it [03:48,  4.76it/s]"
     ]
    },
    {
     "name": "stdout",
     "output_type": "stream",
     "text": [
      "quantile_size 52\n",
      "len examples 523\n",
      "n_quantiles 10\n"
     ]
    },
    {
     "name": "stderr",
     "output_type": "stream",
     "text": [
      "Loading .model.layers.12: 4546it [03:49,  3.92it/s]"
     ]
    },
    {
     "name": "stdout",
     "output_type": "stream",
     "text": [
      "quantile_size 23\n",
      "len examples 236\n",
      "n_quantiles 10\n"
     ]
    },
    {
     "name": "stderr",
     "output_type": "stream",
     "text": [
      "Loading .model.layers.12: 4547it [03:49,  3.74it/s]"
     ]
    },
    {
     "name": "stdout",
     "output_type": "stream",
     "text": [
      "quantile_size 36\n",
      "len examples 369\n",
      "n_quantiles 10\n"
     ]
    },
    {
     "name": "stderr",
     "output_type": "stream",
     "text": [
      "Loading .model.layers.12: 4548it [03:50,  2.84it/s]"
     ]
    },
    {
     "name": "stdout",
     "output_type": "stream",
     "text": [
      "quantile_size 13\n",
      "len examples 139\n",
      "n_quantiles 10\n"
     ]
    },
    {
     "name": "stderr",
     "output_type": "stream",
     "text": [
      "Loading .model.layers.12: 4551it [03:51,  2.59it/s]"
     ]
    },
    {
     "name": "stdout",
     "output_type": "stream",
     "text": [
      "quantile_size 64\n",
      "len examples 646\n",
      "n_quantiles 10\n"
     ]
    },
    {
     "name": "stderr",
     "output_type": "stream",
     "text": [
      "Loading .model.layers.12: 4553it [03:51,  3.11it/s]"
     ]
    },
    {
     "name": "stdout",
     "output_type": "stream",
     "text": [
      "quantile_size 17\n",
      "len examples 174\n",
      "n_quantiles 10\n"
     ]
    },
    {
     "name": "stderr",
     "output_type": "stream",
     "text": [
      "Loading .model.layers.12: 4554it [03:52,  2.67it/s]"
     ]
    },
    {
     "name": "stdout",
     "output_type": "stream",
     "text": [
      "quantile_size 62\n",
      "len examples 626\n",
      "n_quantiles 10\n"
     ]
    },
    {
     "name": "stderr",
     "output_type": "stream",
     "text": [
      "Loading .model.layers.12: 4556it [03:53,  2.47it/s]"
     ]
    },
    {
     "name": "stdout",
     "output_type": "stream",
     "text": [
      "quantile_size 72\n",
      "len examples 726\n",
      "n_quantiles 10\n"
     ]
    },
    {
     "name": "stderr",
     "output_type": "stream",
     "text": [
      "Loading .model.layers.12: 4557it [03:54,  1.83it/s]"
     ]
    },
    {
     "name": "stdout",
     "output_type": "stream",
     "text": [
      "quantile_size 76\n",
      "len examples 762\n",
      "n_quantiles 10\n"
     ]
    },
    {
     "name": "stderr",
     "output_type": "stream",
     "text": [
      "Loading .model.layers.12: 4559it [03:54,  2.53it/s]"
     ]
    },
    {
     "name": "stdout",
     "output_type": "stream",
     "text": [
      "quantile_size 21\n",
      "len examples 217\n",
      "n_quantiles 10\n"
     ]
    },
    {
     "name": "stderr",
     "output_type": "stream",
     "text": [
      "Loading .model.layers.12: 4560it [03:55,  2.08it/s]"
     ]
    },
    {
     "name": "stdout",
     "output_type": "stream",
     "text": [
      "quantile_size 87\n",
      "len examples 871\n",
      "n_quantiles 10\n"
     ]
    },
    {
     "name": "stderr",
     "output_type": "stream",
     "text": [
      "Loading .model.layers.12: 4562it [03:56,  2.39it/s]"
     ]
    },
    {
     "name": "stdout",
     "output_type": "stream",
     "text": [
      "quantile_size 41\n",
      "len examples 411\n",
      "n_quantiles 10\n"
     ]
    },
    {
     "name": "stderr",
     "output_type": "stream",
     "text": [
      "Loading .model.layers.12: 4563it [03:57,  1.88it/s]"
     ]
    },
    {
     "name": "stdout",
     "output_type": "stream",
     "text": [
      "quantile_size 18\n",
      "len examples 180\n",
      "n_quantiles 10\n"
     ]
    },
    {
     "name": "stderr",
     "output_type": "stream",
     "text": [
      "Loading .model.layers.12: 4564it [03:57,  1.81it/s]"
     ]
    },
    {
     "name": "stdout",
     "output_type": "stream",
     "text": [
      "quantile_size 33\n",
      "len examples 338\n",
      "n_quantiles 10\n"
     ]
    },
    {
     "name": "stderr",
     "output_type": "stream",
     "text": [
      "Loading .model.layers.12: 4565it [03:58,  1.60it/s]"
     ]
    },
    {
     "name": "stdout",
     "output_type": "stream",
     "text": [
      "quantile_size 51\n",
      "len examples 517\n",
      "n_quantiles 10\n"
     ]
    },
    {
     "name": "stderr",
     "output_type": "stream",
     "text": [
      "Loading .model.layers.12: 4567it [03:59,  2.22it/s]"
     ]
    },
    {
     "name": "stdout",
     "output_type": "stream",
     "text": [
      "quantile_size 71\n",
      "len examples 716\n",
      "n_quantiles 10\n"
     ]
    },
    {
     "name": "stderr",
     "output_type": "stream",
     "text": [
      "Loading .model.layers.12: 4570it [03:59,  2.65it/s]"
     ]
    },
    {
     "name": "stdout",
     "output_type": "stream",
     "text": [
      "quantile_size 110\n",
      "len examples 1104\n",
      "n_quantiles 10\n"
     ]
    },
    {
     "name": "stderr",
     "output_type": "stream",
     "text": [
      "Loading .model.layers.12: 4571it [04:00,  1.99it/s]"
     ]
    },
    {
     "name": "stdout",
     "output_type": "stream",
     "text": [
      "quantile_size 18\n",
      "len examples 182\n",
      "n_quantiles 10\n"
     ]
    },
    {
     "name": "stderr",
     "output_type": "stream",
     "text": [
      "Loading .model.layers.12: 4572it [04:01,  1.70it/s]"
     ]
    },
    {
     "name": "stdout",
     "output_type": "stream",
     "text": [
      "quantile_size 36\n",
      "len examples 364\n",
      "n_quantiles 10\n",
      "quantile_size 30\n",
      "len examples 309\n",
      "n_quantiles 10\n"
     ]
    },
    {
     "name": "stderr",
     "output_type": "stream",
     "text": [
      "Loading .model.layers.12: 4580it [04:03,  2.94it/s]"
     ]
    },
    {
     "name": "stdout",
     "output_type": "stream",
     "text": [
      "quantile_size 32\n",
      "len examples 329\n",
      "n_quantiles 10\n"
     ]
    },
    {
     "name": "stderr",
     "output_type": "stream",
     "text": [
      "Loading .model.layers.12: 4582it [04:04,  2.56it/s]"
     ]
    },
    {
     "name": "stdout",
     "output_type": "stream",
     "text": [
      "quantile_size 40\n",
      "len examples 406\n",
      "n_quantiles 10\n"
     ]
    },
    {
     "name": "stderr",
     "output_type": "stream",
     "text": [
      "Loading .model.layers.12: 4583it [04:04,  3.24it/s]"
     ]
    },
    {
     "name": "stdout",
     "output_type": "stream",
     "text": [
      "quantile_size 17\n",
      "len examples 177\n",
      "n_quantiles 10\n"
     ]
    },
    {
     "name": "stderr",
     "output_type": "stream",
     "text": [
      "Loading .model.layers.12: 4584it [04:05,  2.21it/s]"
     ]
    },
    {
     "name": "stdout",
     "output_type": "stream",
     "text": [
      "quantile_size 20\n",
      "len examples 205\n",
      "n_quantiles 10\n"
     ]
    },
    {
     "name": "stderr",
     "output_type": "stream",
     "text": [
      "Loading .model.layers.12: 4586it [04:06,  2.34it/s]"
     ]
    },
    {
     "name": "stdout",
     "output_type": "stream",
     "text": [
      "quantile_size 28\n",
      "len examples 283\n",
      "n_quantiles 10\n"
     ]
    },
    {
     "name": "stderr",
     "output_type": "stream",
     "text": [
      "Loading .model.layers.12: 4587it [04:07,  1.85it/s]"
     ]
    },
    {
     "name": "stdout",
     "output_type": "stream",
     "text": [
      "quantile_size 32\n",
      "len examples 325\n",
      "n_quantiles 10\n"
     ]
    },
    {
     "name": "stderr",
     "output_type": "stream",
     "text": [
      "Loading .model.layers.12: 4588it [04:08,  1.48it/s]"
     ]
    },
    {
     "name": "stdout",
     "output_type": "stream",
     "text": [
      "quantile_size 163\n",
      "len examples 1639\n",
      "n_quantiles 10\n"
     ]
    },
    {
     "name": "stderr",
     "output_type": "stream",
     "text": [
      "Loading .model.layers.12: 4589it [04:08,  1.77it/s]"
     ]
    },
    {
     "name": "stdout",
     "output_type": "stream",
     "text": [
      "quantile_size 26\n",
      "len examples 261\n",
      "n_quantiles 10\n"
     ]
    },
    {
     "name": "stderr",
     "output_type": "stream",
     "text": [
      "Loading .model.layers.12: 4591it [04:09,  2.10it/s]"
     ]
    },
    {
     "name": "stdout",
     "output_type": "stream",
     "text": [
      "quantile_size 40\n",
      "len examples 408\n",
      "n_quantiles 10\n"
     ]
    },
    {
     "name": "stderr",
     "output_type": "stream",
     "text": [
      "Loading .model.layers.12: 4594it [04:10,  2.82it/s]"
     ]
    },
    {
     "name": "stdout",
     "output_type": "stream",
     "text": [
      "quantile_size 24\n",
      "len examples 243\n",
      "n_quantiles 10\n"
     ]
    },
    {
     "name": "stderr",
     "output_type": "stream",
     "text": [
      "Loading .model.layers.12: 4595it [04:10,  2.32it/s]"
     ]
    },
    {
     "name": "stdout",
     "output_type": "stream",
     "text": [
      "quantile_size 17\n",
      "len examples 176\n",
      "n_quantiles 10\n"
     ]
    },
    {
     "name": "stderr",
     "output_type": "stream",
     "text": [
      "Loading .model.layers.12: 4596it [04:11,  1.95it/s]"
     ]
    },
    {
     "name": "stdout",
     "output_type": "stream",
     "text": [
      "quantile_size 23\n",
      "len examples 231\n",
      "n_quantiles 10\n"
     ]
    },
    {
     "name": "stderr",
     "output_type": "stream",
     "text": [
      "Loading .model.layers.12: 4599it [04:12,  2.37it/s]"
     ]
    },
    {
     "name": "stdout",
     "output_type": "stream",
     "text": [
      "quantile_size 19\n",
      "len examples 192\n",
      "n_quantiles 10\n"
     ]
    },
    {
     "name": "stderr",
     "output_type": "stream",
     "text": [
      "Loading .model.layers.12: 4602it [04:13,  2.66it/s]"
     ]
    },
    {
     "name": "stdout",
     "output_type": "stream",
     "text": [
      "quantile_size 65\n",
      "len examples 651\n",
      "n_quantiles 10\n"
     ]
    },
    {
     "name": "stderr",
     "output_type": "stream",
     "text": [
      "Loading .model.layers.12: 4604it [04:14,  2.47it/s]"
     ]
    },
    {
     "name": "stdout",
     "output_type": "stream",
     "text": [
      "quantile_size 75\n",
      "len examples 759\n",
      "n_quantiles 10\n",
      "quantile_size 24\n",
      "len examples 247\n",
      "n_quantiles 10\n"
     ]
    },
    {
     "name": "stderr",
     "output_type": "stream",
     "text": [
      "Loading .model.layers.12: 4606it [04:15,  3.13it/s]"
     ]
    },
    {
     "name": "stdout",
     "output_type": "stream",
     "text": [
      "quantile_size 41\n",
      "len examples 410\n",
      "n_quantiles 10\n"
     ]
    },
    {
     "name": "stderr",
     "output_type": "stream",
     "text": [
      "Loading .model.layers.12: 4608it [04:15,  3.37it/s]"
     ]
    },
    {
     "name": "stdout",
     "output_type": "stream",
     "text": [
      "quantile_size 19\n",
      "len examples 190\n",
      "n_quantiles 10\n",
      "quantile_size 41\n",
      "len examples 416\n",
      "n_quantiles 10\n"
     ]
    },
    {
     "name": "stderr",
     "output_type": "stream",
     "text": [
      "Loading .model.layers.12: 4610it [04:16,  3.01it/s]"
     ]
    },
    {
     "name": "stdout",
     "output_type": "stream",
     "text": [
      "quantile_size 19\n",
      "len examples 196\n",
      "n_quantiles 10\n"
     ]
    },
    {
     "name": "stderr",
     "output_type": "stream",
     "text": [
      "Loading .model.layers.12: 4611it [04:17,  2.11it/s]"
     ]
    },
    {
     "name": "stdout",
     "output_type": "stream",
     "text": [
      "quantile_size 21\n",
      "len examples 211\n",
      "n_quantiles 10\n"
     ]
    },
    {
     "name": "stderr",
     "output_type": "stream",
     "text": [
      "Loading .model.layers.12: 4612it [04:18,  1.74it/s]"
     ]
    },
    {
     "name": "stdout",
     "output_type": "stream",
     "text": [
      "quantile_size 64\n",
      "len examples 649\n",
      "n_quantiles 10\n"
     ]
    },
    {
     "name": "stderr",
     "output_type": "stream",
     "text": [
      "Loading .model.layers.12: 4613it [04:18,  1.56it/s]"
     ]
    },
    {
     "name": "stdout",
     "output_type": "stream",
     "text": [
      "quantile_size 76\n",
      "len examples 768\n",
      "n_quantiles 10\n"
     ]
    },
    {
     "name": "stderr",
     "output_type": "stream",
     "text": [
      "Loading .model.layers.12: 4614it [04:19,  1.59it/s]"
     ]
    },
    {
     "name": "stdout",
     "output_type": "stream",
     "text": [
      "quantile_size 8\n",
      "len examples 89\n",
      "n_quantiles 10\n"
     ]
    },
    {
     "name": "stderr",
     "output_type": "stream",
     "text": [
      "Loading .model.layers.12: 4615it [04:20,  1.53it/s]"
     ]
    },
    {
     "name": "stdout",
     "output_type": "stream",
     "text": [
      "quantile_size 36\n",
      "len examples 367\n",
      "n_quantiles 10\n"
     ]
    },
    {
     "name": "stderr",
     "output_type": "stream",
     "text": [
      "Loading .model.layers.12: 4617it [04:21,  1.87it/s]"
     ]
    },
    {
     "name": "stdout",
     "output_type": "stream",
     "text": [
      "quantile_size 106\n",
      "len examples 1064\n",
      "n_quantiles 10\n",
      "quantile_size 123\n",
      "len examples 1238\n",
      "n_quantiles 10\n"
     ]
    },
    {
     "name": "stderr",
     "output_type": "stream",
     "text": [
      "Loading .model.layers.12: 4619it [04:21,  2.78it/s]"
     ]
    },
    {
     "name": "stdout",
     "output_type": "stream",
     "text": [
      "quantile_size 19\n",
      "len examples 198\n",
      "n_quantiles 10\n"
     ]
    },
    {
     "name": "stderr",
     "output_type": "stream",
     "text": [
      "Loading .model.layers.12: 4620it [04:22,  2.69it/s]"
     ]
    },
    {
     "name": "stdout",
     "output_type": "stream",
     "text": [
      "quantile_size 13\n",
      "len examples 135\n",
      "n_quantiles 10\n"
     ]
    },
    {
     "name": "stderr",
     "output_type": "stream",
     "text": [
      "Loading .model.layers.12: 4622it [04:22,  2.61it/s]"
     ]
    },
    {
     "name": "stdout",
     "output_type": "stream",
     "text": [
      "quantile_size 21\n",
      "len examples 210\n",
      "n_quantiles 10\n"
     ]
    },
    {
     "name": "stderr",
     "output_type": "stream",
     "text": [
      "Loading .model.layers.12: 4623it [04:23,  2.63it/s]"
     ]
    },
    {
     "name": "stdout",
     "output_type": "stream",
     "text": [
      "quantile_size 9\n",
      "len examples 96\n",
      "n_quantiles 10\n"
     ]
    },
    {
     "name": "stderr",
     "output_type": "stream",
     "text": [
      "Loading .model.layers.12: 4624it [04:23,  2.38it/s]"
     ]
    },
    {
     "name": "stdout",
     "output_type": "stream",
     "text": [
      "quantile_size 16\n",
      "len examples 165\n",
      "n_quantiles 10\n"
     ]
    },
    {
     "name": "stderr",
     "output_type": "stream",
     "text": [
      "Loading .model.layers.12: 4625it [04:24,  2.60it/s]"
     ]
    },
    {
     "name": "stdout",
     "output_type": "stream",
     "text": [
      "quantile_size 31\n",
      "len examples 310\n",
      "n_quantiles 10\n"
     ]
    },
    {
     "name": "stderr",
     "output_type": "stream",
     "text": [
      "Loading .model.layers.12: 4626it [04:24,  1.96it/s]"
     ]
    },
    {
     "name": "stdout",
     "output_type": "stream",
     "text": [
      "quantile_size 28\n",
      "len examples 288\n",
      "n_quantiles 10\n"
     ]
    },
    {
     "name": "stderr",
     "output_type": "stream",
     "text": [
      "Loading .model.layers.12: 4627it [04:25,  1.68it/s]"
     ]
    },
    {
     "name": "stdout",
     "output_type": "stream",
     "text": [
      "quantile_size 46\n",
      "len examples 463\n",
      "n_quantiles 10\n"
     ]
    },
    {
     "name": "stderr",
     "output_type": "stream",
     "text": [
      "Loading .model.layers.12: 4628it [04:26,  1.59it/s]"
     ]
    },
    {
     "name": "stdout",
     "output_type": "stream",
     "text": [
      "quantile_size 53\n",
      "len examples 531\n",
      "n_quantiles 10\n"
     ]
    },
    {
     "name": "stderr",
     "output_type": "stream",
     "text": [
      "Loading .model.layers.12: 4630it [04:27,  1.89it/s]"
     ]
    },
    {
     "name": "stdout",
     "output_type": "stream",
     "text": [
      "quantile_size 28\n",
      "len examples 281\n",
      "n_quantiles 10\n"
     ]
    },
    {
     "name": "stderr",
     "output_type": "stream",
     "text": [
      "Loading .model.layers.12: 4632it [04:28,  2.43it/s]"
     ]
    },
    {
     "name": "stdout",
     "output_type": "stream",
     "text": [
      "quantile_size 19\n",
      "len examples 197\n",
      "n_quantiles 10\n"
     ]
    },
    {
     "name": "stderr",
     "output_type": "stream",
     "text": [
      "Loading .model.layers.12: 4633it [04:29,  1.79it/s]"
     ]
    },
    {
     "name": "stdout",
     "output_type": "stream",
     "text": [
      "quantile_size 50\n",
      "len examples 501\n",
      "n_quantiles 10\n"
     ]
    },
    {
     "name": "stderr",
     "output_type": "stream",
     "text": [
      "Loading .model.layers.12: 4634it [04:29,  2.06it/s]"
     ]
    },
    {
     "name": "stdout",
     "output_type": "stream",
     "text": [
      "quantile_size 60\n",
      "len examples 608\n",
      "n_quantiles 10\n"
     ]
    },
    {
     "name": "stderr",
     "output_type": "stream",
     "text": [
      "Loading .model.layers.12: 4635it [04:29,  1.94it/s]"
     ]
    },
    {
     "name": "stdout",
     "output_type": "stream",
     "text": [
      "quantile_size 38\n",
      "len examples 381\n",
      "n_quantiles 10\n"
     ]
    },
    {
     "name": "stderr",
     "output_type": "stream",
     "text": [
      "Loading .model.layers.12: 4637it [04:30,  2.68it/s]"
     ]
    },
    {
     "name": "stdout",
     "output_type": "stream",
     "text": [
      "quantile_size 171\n",
      "len examples 1714\n",
      "n_quantiles 10\n"
     ]
    },
    {
     "name": "stderr",
     "output_type": "stream",
     "text": [
      "Loading .model.layers.12: 4642it [04:31,  2.87it/s]"
     ]
    },
    {
     "name": "stdout",
     "output_type": "stream",
     "text": [
      "quantile_size 22\n",
      "len examples 220\n",
      "n_quantiles 10\n"
     ]
    },
    {
     "name": "stderr",
     "output_type": "stream",
     "text": [
      "Loading .model.layers.12: 4643it [04:32,  2.06it/s]"
     ]
    },
    {
     "name": "stdout",
     "output_type": "stream",
     "text": [
      "quantile_size 78\n",
      "len examples 781\n",
      "n_quantiles 10\n"
     ]
    },
    {
     "name": "stderr",
     "output_type": "stream",
     "text": [
      "Loading .model.layers.12: 4645it [04:33,  2.80it/s]"
     ]
    },
    {
     "name": "stdout",
     "output_type": "stream",
     "text": [
      "quantile_size 20\n",
      "len examples 206\n",
      "n_quantiles 10\n"
     ]
    },
    {
     "name": "stderr",
     "output_type": "stream",
     "text": [
      "Loading .model.layers.12: 4648it [04:34,  2.78it/s]"
     ]
    },
    {
     "name": "stdout",
     "output_type": "stream",
     "text": [
      "quantile_size 22\n",
      "len examples 226\n",
      "n_quantiles 10\n"
     ]
    },
    {
     "name": "stderr",
     "output_type": "stream",
     "text": [
      "Loading .model.layers.12: 4649it [04:35,  1.93it/s]"
     ]
    },
    {
     "name": "stdout",
     "output_type": "stream",
     "text": [
      "quantile_size 30\n",
      "len examples 306\n",
      "n_quantiles 10\n"
     ]
    },
    {
     "name": "stderr",
     "output_type": "stream",
     "text": [
      "Loading .model.layers.12: 4651it [04:35,  2.37it/s]"
     ]
    },
    {
     "name": "stdout",
     "output_type": "stream",
     "text": [
      "quantile_size 46\n",
      "len examples 463\n",
      "n_quantiles 10\n"
     ]
    },
    {
     "name": "stderr",
     "output_type": "stream",
     "text": [
      "Loading .model.layers.12: 4652it [04:36,  1.78it/s]"
     ]
    },
    {
     "name": "stdout",
     "output_type": "stream",
     "text": [
      "quantile_size 98\n",
      "len examples 989\n",
      "n_quantiles 10\n"
     ]
    },
    {
     "name": "stderr",
     "output_type": "stream",
     "text": [
      "Loading .model.layers.12: 4654it [04:37,  2.52it/s]"
     ]
    },
    {
     "name": "stdout",
     "output_type": "stream",
     "text": [
      "quantile_size 22\n",
      "len examples 222\n",
      "n_quantiles 10\n",
      "quantile_size 49\n",
      "len examples 497\n",
      "n_quantiles 10\n"
     ]
    },
    {
     "name": "stderr",
     "output_type": "stream",
     "text": [
      "Loading .model.layers.12: 4657it [04:37,  3.77it/s]"
     ]
    },
    {
     "name": "stdout",
     "output_type": "stream",
     "text": [
      "quantile_size 29\n",
      "len examples 297\n",
      "n_quantiles 10\n"
     ]
    },
    {
     "name": "stderr",
     "output_type": "stream",
     "text": [
      "Loading .model.layers.12: 4661it [04:38,  5.48it/s]"
     ]
    },
    {
     "name": "stdout",
     "output_type": "stream",
     "text": [
      "quantile_size 39\n",
      "len examples 395\n",
      "n_quantiles 10\n",
      "quantile_size 16\n",
      "len examples 166\n",
      "n_quantiles 10\n",
      "quantile_size 22\n",
      "len examples 221\n",
      "n_quantiles 10\n"
     ]
    },
    {
     "name": "stderr",
     "output_type": "stream",
     "text": [
      "Loading .model.layers.12: 4664it [04:38,  7.55it/s]"
     ]
    },
    {
     "name": "stdout",
     "output_type": "stream",
     "text": [
      "quantile_size 46\n",
      "len examples 463\n",
      "n_quantiles 10\n",
      "quantile_size 88\n",
      "len examples 880\n",
      "n_quantiles 10\n"
     ]
    },
    {
     "name": "stderr",
     "output_type": "stream",
     "text": [
      "Loading .model.layers.12: 4666it [04:39,  7.38it/s]"
     ]
    },
    {
     "name": "stdout",
     "output_type": "stream",
     "text": [
      "quantile_size 79\n",
      "len examples 791\n",
      "n_quantiles 10\n",
      "quantile_size 26\n",
      "len examples 269\n",
      "n_quantiles 10\n"
     ]
    },
    {
     "name": "stderr",
     "output_type": "stream",
     "text": [
      "Loading .model.layers.12: 4668it [04:39,  8.98it/s]"
     ]
    },
    {
     "name": "stdout",
     "output_type": "stream",
     "text": [
      "quantile_size 31\n",
      "len examples 313\n",
      "n_quantiles 10\n"
     ]
    },
    {
     "name": "stderr",
     "output_type": "stream",
     "text": [
      "Loading .model.layers.12: 4671it [04:40,  5.10it/s]"
     ]
    },
    {
     "name": "stdout",
     "output_type": "stream",
     "text": [
      "quantile_size 49\n",
      "len examples 497\n",
      "n_quantiles 10\n"
     ]
    },
    {
     "name": "stderr",
     "output_type": "stream",
     "text": [
      "Loading .model.layers.12: 4673it [04:41,  3.62it/s]"
     ]
    },
    {
     "name": "stdout",
     "output_type": "stream",
     "text": [
      "quantile_size 70\n",
      "len examples 700\n",
      "n_quantiles 10\n",
      "quantile_size 27\n",
      "len examples 271\n",
      "n_quantiles 10\n"
     ]
    },
    {
     "name": "stderr",
     "output_type": "stream",
     "text": [
      "Loading .model.layers.12: 4678it [04:41,  6.34it/s]"
     ]
    },
    {
     "name": "stdout",
     "output_type": "stream",
     "text": [
      "quantile_size 23\n",
      "len examples 235\n",
      "n_quantiles 10\n",
      "quantile_size 16\n",
      "len examples 160\n",
      "n_quantiles 10\n"
     ]
    },
    {
     "name": "stderr",
     "output_type": "stream",
     "text": [
      "Loading .model.layers.12: 4687it [04:41, 16.16it/s]"
     ]
    },
    {
     "name": "stdout",
     "output_type": "stream",
     "text": [
      "quantile_size 30\n",
      "len examples 302\n",
      "n_quantiles 10\n"
     ]
    },
    {
     "name": "stderr",
     "output_type": "stream",
     "text": [
      "Loading .model.layers.12: 4693it [04:42, 16.00it/s]"
     ]
    },
    {
     "name": "stdout",
     "output_type": "stream",
     "text": [
      "quantile_size 60\n",
      "len examples 607\n",
      "n_quantiles 10\n",
      "quantile_size 20\n",
      "len examples 203\n",
      "n_quantiles 10\n"
     ]
    },
    {
     "name": "stderr",
     "output_type": "stream",
     "text": [
      "Loading .model.layers.12: 4696it [04:43,  9.01it/s]"
     ]
    },
    {
     "name": "stdout",
     "output_type": "stream",
     "text": [
      "quantile_size 30\n",
      "len examples 309\n",
      "n_quantiles 10\n"
     ]
    },
    {
     "name": "stderr",
     "output_type": "stream",
     "text": [
      "Loading .model.layers.12: 4698it [04:43,  8.25it/s]"
     ]
    },
    {
     "name": "stdout",
     "output_type": "stream",
     "text": [
      "quantile_size 50\n",
      "len examples 505\n",
      "n_quantiles 10\n",
      "quantile_size 27\n",
      "len examples 279\n",
      "n_quantiles 10\n"
     ]
    },
    {
     "name": "stderr",
     "output_type": "stream",
     "text": [
      "Loading .model.layers.12: 4700it [04:43,  6.17it/s]"
     ]
    },
    {
     "name": "stdout",
     "output_type": "stream",
     "text": [
      "quantile_size 18\n",
      "len examples 185\n",
      "n_quantiles 10\n",
      "quantile_size 38\n",
      "len examples 382\n",
      "n_quantiles 10\n"
     ]
    },
    {
     "name": "stderr",
     "output_type": "stream",
     "text": [
      "Loading .model.layers.12: 4704it [04:44,  6.30it/s]"
     ]
    },
    {
     "name": "stdout",
     "output_type": "stream",
     "text": [
      "quantile_size 33\n",
      "len examples 335\n",
      "n_quantiles 10\n"
     ]
    },
    {
     "name": "stderr",
     "output_type": "stream",
     "text": [
      "Loading .model.layers.12: 4706it [04:44,  7.76it/s]"
     ]
    },
    {
     "name": "stdout",
     "output_type": "stream",
     "text": [
      "quantile_size 35\n",
      "len examples 354\n",
      "n_quantiles 10\n"
     ]
    },
    {
     "name": "stderr",
     "output_type": "stream",
     "text": [
      "Loading .model.layers.12: 4710it [04:45,  6.76it/s]"
     ]
    },
    {
     "name": "stdout",
     "output_type": "stream",
     "text": [
      "quantile_size 19\n",
      "len examples 196\n",
      "n_quantiles 10\n"
     ]
    },
    {
     "name": "stderr",
     "output_type": "stream",
     "text": [
      "Loading .model.layers.12: 4711it [04:45,  5.17it/s]"
     ]
    },
    {
     "name": "stdout",
     "output_type": "stream",
     "text": [
      "quantile_size 451\n",
      "len examples 4516\n",
      "n_quantiles 10\n",
      "quantile_size 92\n",
      "len examples 920\n",
      "n_quantiles 10\n"
     ]
    },
    {
     "name": "stderr",
     "output_type": "stream",
     "text": [
      "Loading .model.layers.12: 4715it [04:46,  6.58it/s]"
     ]
    },
    {
     "name": "stdout",
     "output_type": "stream",
     "text": [
      "quantile_size 11\n",
      "len examples 116\n",
      "n_quantiles 10\n",
      "quantile_size 84\n",
      "len examples 849\n",
      "n_quantiles 10\n",
      "quantile_size 26\n",
      "len examples 267\n",
      "n_quantiles 10\n",
      "quantile_size 32\n",
      "len examples 327\n",
      "n_quantiles 10\n"
     ]
    },
    {
     "name": "stderr",
     "output_type": "stream",
     "text": [
      "Loading .model.layers.12: 4717it [04:46,  8.31it/s]"
     ]
    },
    {
     "name": "stdout",
     "output_type": "stream",
     "text": [
      "quantile_size 34\n",
      "len examples 346\n",
      "n_quantiles 10\n",
      "quantile_size 81\n",
      "len examples 817\n",
      "n_quantiles 10\n"
     ]
    },
    {
     "name": "stderr",
     "output_type": "stream",
     "text": [
      "Loading .model.layers.12: 4725it [04:47, 10.80it/s]"
     ]
    },
    {
     "name": "stdout",
     "output_type": "stream",
     "text": [
      "quantile_size 50\n",
      "len examples 505\n",
      "n_quantiles 10\n",
      "quantile_size 32\n",
      "len examples 327\n",
      "n_quantiles 10\n",
      "quantile_size 25\n",
      "len examples 254\n",
      "n_quantiles 10\n",
      "quantile_size 31\n",
      "len examples 316\n",
      "n_quantiles 10\n",
      "quantile_size 23\n",
      "len examples 234\n",
      "n_quantiles 10\n"
     ]
    },
    {
     "name": "stderr",
     "output_type": "stream",
     "text": [
      "Loading .model.layers.12: 4728it [04:47,  8.11it/s]"
     ]
    },
    {
     "name": "stdout",
     "output_type": "stream",
     "text": [
      "quantile_size 36\n",
      "len examples 368\n",
      "n_quantiles 10\n"
     ]
    },
    {
     "name": "stderr",
     "output_type": "stream",
     "text": [
      "Loading .model.layers.12: 4730it [04:48,  7.73it/s]"
     ]
    },
    {
     "name": "stdout",
     "output_type": "stream",
     "text": [
      "quantile_size 87\n",
      "len examples 876\n",
      "n_quantiles 10\n",
      "quantile_size 13\n",
      "len examples 134\n",
      "n_quantiles 10\n"
     ]
    },
    {
     "name": "stderr",
     "output_type": "stream",
     "text": [
      "Loading .model.layers.12: 4734it [04:48,  7.10it/s]"
     ]
    },
    {
     "name": "stdout",
     "output_type": "stream",
     "text": [
      "quantile_size 43\n",
      "len examples 439\n",
      "n_quantiles 10\n",
      "quantile_size 19\n",
      "len examples 193\n",
      "n_quantiles 10\n"
     ]
    },
    {
     "name": "stderr",
     "output_type": "stream",
     "text": [
      "Loading .model.layers.12: 4736it [04:48,  8.43it/s]"
     ]
    },
    {
     "name": "stdout",
     "output_type": "stream",
     "text": [
      "quantile_size 30\n",
      "len examples 309\n",
      "n_quantiles 10\n",
      "quantile_size 42\n",
      "len examples 421\n",
      "n_quantiles 10\n"
     ]
    },
    {
     "name": "stderr",
     "output_type": "stream",
     "text": [
      "Loading .model.layers.12: 4739it [04:50,  3.97it/s]"
     ]
    },
    {
     "name": "stdout",
     "output_type": "stream",
     "text": [
      "quantile_size 20\n",
      "len examples 209\n",
      "n_quantiles 10\n"
     ]
    },
    {
     "name": "stderr",
     "output_type": "stream",
     "text": [
      "Loading .model.layers.12: 4740it [04:50,  3.12it/s]"
     ]
    },
    {
     "name": "stdout",
     "output_type": "stream",
     "text": [
      "quantile_size 40\n",
      "len examples 408\n",
      "n_quantiles 10\n"
     ]
    },
    {
     "name": "stderr",
     "output_type": "stream",
     "text": [
      "Loading .model.layers.12: 4742it [04:51,  3.35it/s]"
     ]
    },
    {
     "name": "stdout",
     "output_type": "stream",
     "text": [
      "quantile_size 91\n",
      "len examples 919\n",
      "n_quantiles 10\n"
     ]
    },
    {
     "name": "stderr",
     "output_type": "stream",
     "text": [
      "Loading .model.layers.12: 4744it [04:52,  3.20it/s]"
     ]
    },
    {
     "name": "stdout",
     "output_type": "stream",
     "text": [
      "quantile_size 50\n",
      "len examples 500\n",
      "n_quantiles 10\n"
     ]
    },
    {
     "name": "stderr",
     "output_type": "stream",
     "text": [
      "Loading .model.layers.12: 4745it [04:53,  2.14it/s]"
     ]
    },
    {
     "name": "stdout",
     "output_type": "stream",
     "text": [
      "quantile_size 22\n",
      "len examples 224\n",
      "n_quantiles 10\n"
     ]
    },
    {
     "name": "stderr",
     "output_type": "stream",
     "text": [
      "Loading .model.layers.12: 4747it [04:54,  2.19it/s]"
     ]
    },
    {
     "name": "stdout",
     "output_type": "stream",
     "text": [
      "quantile_size 23\n",
      "len examples 236\n",
      "n_quantiles 10\n"
     ]
    },
    {
     "name": "stderr",
     "output_type": "stream",
     "text": [
      "Loading .model.layers.12: 4749it [04:55,  1.85it/s]"
     ]
    },
    {
     "name": "stdout",
     "output_type": "stream",
     "text": [
      "quantile_size 73\n",
      "len examples 730\n",
      "n_quantiles 10\n"
     ]
    },
    {
     "name": "stderr",
     "output_type": "stream",
     "text": [
      "Loading .model.layers.12: 4751it [04:56,  2.24it/s]"
     ]
    },
    {
     "name": "stdout",
     "output_type": "stream",
     "text": [
      "quantile_size 28\n",
      "len examples 285\n",
      "n_quantiles 10\n"
     ]
    },
    {
     "name": "stderr",
     "output_type": "stream",
     "text": [
      "Loading .model.layers.12: 4753it [04:56,  2.11it/s]"
     ]
    },
    {
     "name": "stdout",
     "output_type": "stream",
     "text": [
      "quantile_size 15\n",
      "len examples 157\n",
      "n_quantiles 10\n"
     ]
    },
    {
     "name": "stderr",
     "output_type": "stream",
     "text": [
      "Loading .model.layers.12: 4754it [04:57,  1.76it/s]"
     ]
    },
    {
     "name": "stdout",
     "output_type": "stream",
     "text": [
      "quantile_size 49\n",
      "len examples 490\n",
      "n_quantiles 10\n"
     ]
    },
    {
     "name": "stderr",
     "output_type": "stream",
     "text": [
      "Loading .model.layers.12: 4755it [04:58,  2.05it/s]"
     ]
    },
    {
     "name": "stdout",
     "output_type": "stream",
     "text": [
      "quantile_size 27\n",
      "len examples 276\n",
      "n_quantiles 10\n"
     ]
    },
    {
     "name": "stderr",
     "output_type": "stream",
     "text": [
      "Loading .model.layers.12: 4757it [04:58,  2.39it/s]"
     ]
    },
    {
     "name": "stdout",
     "output_type": "stream",
     "text": [
      "quantile_size 51\n",
      "len examples 514\n",
      "n_quantiles 10\n"
     ]
    },
    {
     "name": "stderr",
     "output_type": "stream",
     "text": [
      "Loading .model.layers.12: 4758it [04:59,  2.42it/s]"
     ]
    },
    {
     "name": "stdout",
     "output_type": "stream",
     "text": [
      "quantile_size 20\n",
      "len examples 209\n",
      "n_quantiles 10\n"
     ]
    },
    {
     "name": "stderr",
     "output_type": "stream",
     "text": [
      "Loading .model.layers.12: 4760it [04:59,  3.38it/s]"
     ]
    },
    {
     "name": "stdout",
     "output_type": "stream",
     "text": [
      "quantile_size 49\n",
      "len examples 494\n",
      "n_quantiles 10\n"
     ]
    },
    {
     "name": "stderr",
     "output_type": "stream",
     "text": [
      "Loading .model.layers.12: 4761it [05:00,  3.10it/s]"
     ]
    },
    {
     "name": "stdout",
     "output_type": "stream",
     "text": [
      "quantile_size 51\n",
      "len examples 518\n",
      "n_quantiles 10\n",
      "quantile_size 49\n",
      "len examples 490\n",
      "n_quantiles 10\n"
     ]
    },
    {
     "name": "stderr",
     "output_type": "stream",
     "text": [
      "Loading .model.layers.12: 4765it [05:00,  5.05it/s]"
     ]
    },
    {
     "name": "stdout",
     "output_type": "stream",
     "text": [
      "quantile_size 46\n",
      "len examples 460\n",
      "n_quantiles 10\n"
     ]
    },
    {
     "name": "stderr",
     "output_type": "stream",
     "text": [
      "Loading .model.layers.12: 4768it [05:00,  5.96it/s]"
     ]
    },
    {
     "name": "stdout",
     "output_type": "stream",
     "text": [
      "quantile_size 27\n",
      "len examples 277\n",
      "n_quantiles 10\n"
     ]
    },
    {
     "name": "stderr",
     "output_type": "stream",
     "text": [
      "Loading .model.layers.12: 4769it [05:01,  5.71it/s]"
     ]
    },
    {
     "name": "stdout",
     "output_type": "stream",
     "text": [
      "quantile_size 21\n",
      "len examples 218\n",
      "n_quantiles 10\n",
      "quantile_size 33\n",
      "len examples 337\n",
      "n_quantiles 10\n",
      "quantile_size 52\n",
      "len examples 529\n",
      "n_quantiles 10\n"
     ]
    },
    {
     "name": "stderr",
     "output_type": "stream",
     "text": [
      "Loading .model.layers.12: 4779it [05:02,  9.95it/s]"
     ]
    },
    {
     "name": "stdout",
     "output_type": "stream",
     "text": [
      "quantile_size 33\n",
      "len examples 334\n",
      "n_quantiles 10\n",
      "quantile_size 16\n",
      "len examples 165\n",
      "n_quantiles 10\n",
      "quantile_size 50\n",
      "len examples 505\n",
      "n_quantiles 10\n",
      "quantile_size 22\n",
      "len examples 228\n",
      "n_quantiles 10\n",
      "quantile_size 17\n",
      "len examples 172\n",
      "n_quantiles 10\n",
      "quantile_size 157\n",
      "len examples 1576\n",
      "n_quantiles 10\n"
     ]
    },
    {
     "name": "stderr",
     "output_type": "stream",
     "text": [
      "Loading .model.layers.12: 4783it [05:02, 11.31it/s]"
     ]
    },
    {
     "name": "stdout",
     "output_type": "stream",
     "text": [
      "quantile_size 43\n",
      "len examples 436\n",
      "n_quantiles 10\n"
     ]
    },
    {
     "name": "stderr",
     "output_type": "stream",
     "text": [
      "Loading .model.layers.12: 4785it [05:02,  8.56it/s]"
     ]
    },
    {
     "name": "stdout",
     "output_type": "stream",
     "text": [
      "quantile_size 45\n",
      "len examples 451\n",
      "n_quantiles 10\n",
      "quantile_size 47\n",
      "len examples 476\n",
      "n_quantiles 10\n"
     ]
    },
    {
     "name": "stderr",
     "output_type": "stream",
     "text": [
      "Loading .model.layers.12: 4789it [05:03, 10.40it/s]"
     ]
    },
    {
     "name": "stdout",
     "output_type": "stream",
     "text": [
      "quantile_size 16\n",
      "len examples 166\n",
      "n_quantiles 10\n",
      "quantile_size 70\n",
      "len examples 708\n",
      "n_quantiles 10\n"
     ]
    },
    {
     "name": "stderr",
     "output_type": "stream",
     "text": [
      "Loading .model.layers.12: 4794it [05:03,  8.69it/s]"
     ]
    },
    {
     "name": "stdout",
     "output_type": "stream",
     "text": [
      "quantile_size 16\n",
      "len examples 164\n",
      "n_quantiles 10\n",
      "quantile_size 105\n",
      "len examples 1057\n",
      "n_quantiles 10\n",
      "quantile_size 26\n",
      "len examples 265\n",
      "n_quantiles 10\n",
      "quantile_size 30\n",
      "len examples 305\n",
      "n_quantiles 10\n"
     ]
    },
    {
     "name": "stderr",
     "output_type": "stream",
     "text": [
      "Loading .model.layers.12: 4797it [05:03, 10.18it/s]"
     ]
    },
    {
     "name": "stdout",
     "output_type": "stream",
     "text": [
      "quantile_size 40\n",
      "len examples 409\n",
      "n_quantiles 10\n"
     ]
    },
    {
     "name": "stderr",
     "output_type": "stream",
     "text": [
      "Loading .model.layers.12: 4799it [05:04,  8.96it/s]"
     ]
    },
    {
     "name": "stdout",
     "output_type": "stream",
     "text": [
      "quantile_size 64\n",
      "len examples 647\n",
      "n_quantiles 10\n"
     ]
    },
    {
     "name": "stderr",
     "output_type": "stream",
     "text": [
      "Loading .model.layers.12: 4801it [05:04,  9.16it/s]"
     ]
    },
    {
     "name": "stdout",
     "output_type": "stream",
     "text": [
      "quantile_size 40\n",
      "len examples 402\n",
      "n_quantiles 10\n",
      "quantile_size 14\n",
      "len examples 145\n",
      "n_quantiles 10\n",
      "quantile_size 24\n",
      "len examples 240\n",
      "n_quantiles 10\n"
     ]
    },
    {
     "name": "stderr",
     "output_type": "stream",
     "text": [
      "Loading .model.layers.12: 4805it [05:04, 10.56it/s]"
     ]
    },
    {
     "name": "stdout",
     "output_type": "stream",
     "text": [
      "quantile_size 22\n",
      "len examples 221\n",
      "n_quantiles 10\n",
      "quantile_size 47\n",
      "len examples 472\n",
      "n_quantiles 10\n"
     ]
    },
    {
     "name": "stderr",
     "output_type": "stream",
     "text": [
      "Loading .model.layers.12: 4810it [05:05, 10.34it/s]"
     ]
    },
    {
     "name": "stdout",
     "output_type": "stream",
     "text": [
      "quantile_size 22\n",
      "len examples 225\n",
      "n_quantiles 10\n",
      "quantile_size 16\n",
      "len examples 167\n",
      "n_quantiles 10\n"
     ]
    },
    {
     "name": "stderr",
     "output_type": "stream",
     "text": [
      "Loading .model.layers.12: 4812it [05:05,  9.16it/s]"
     ]
    },
    {
     "name": "stdout",
     "output_type": "stream",
     "text": [
      "quantile_size 34\n",
      "len examples 344\n",
      "n_quantiles 10\n",
      "quantile_size 14\n",
      "len examples 146\n",
      "n_quantiles 10\n",
      "quantile_size 14\n",
      "len examples 146\n",
      "n_quantiles 10\n",
      "quantile_size 34\n",
      "len examples 349\n",
      "n_quantiles 10\n"
     ]
    },
    {
     "name": "stderr",
     "output_type": "stream",
     "text": [
      "Loading .model.layers.12: 4818it [05:05, 13.04it/s]"
     ]
    },
    {
     "name": "stdout",
     "output_type": "stream",
     "text": [
      "quantile_size 30\n",
      "len examples 302\n",
      "n_quantiles 10\n"
     ]
    },
    {
     "name": "stderr",
     "output_type": "stream",
     "text": [
      "Loading .model.layers.12: 4820it [05:06,  5.96it/s]"
     ]
    },
    {
     "name": "stdout",
     "output_type": "stream",
     "text": [
      "quantile_size 33\n",
      "len examples 338\n",
      "n_quantiles 10\n"
     ]
    },
    {
     "name": "stderr",
     "output_type": "stream",
     "text": [
      "Loading .model.layers.12: 4826it [05:07,  7.34it/s]"
     ]
    },
    {
     "name": "stdout",
     "output_type": "stream",
     "text": [
      "quantile_size 35\n",
      "len examples 351\n",
      "n_quantiles 10\n",
      "quantile_size 41\n",
      "len examples 411\n",
      "n_quantiles 10\n",
      "quantile_size 37\n",
      "len examples 375\n",
      "n_quantiles 10\n",
      "quantile_size 18\n",
      "len examples 187\n",
      "n_quantiles 10\n"
     ]
    },
    {
     "name": "stderr",
     "output_type": "stream",
     "text": [
      "Loading .model.layers.12: 4830it [05:07,  9.16it/s]"
     ]
    },
    {
     "name": "stdout",
     "output_type": "stream",
     "text": [
      "quantile_size 20\n",
      "len examples 209\n",
      "n_quantiles 10\n",
      "quantile_size 43\n",
      "len examples 435\n",
      "n_quantiles 10\n"
     ]
    },
    {
     "name": "stderr",
     "output_type": "stream",
     "text": [
      "Loading .model.layers.12: 4834it [05:08, 10.96it/s]"
     ]
    },
    {
     "name": "stdout",
     "output_type": "stream",
     "text": [
      "quantile_size 40\n",
      "len examples 400\n",
      "n_quantiles 10\n",
      "quantile_size 73\n",
      "len examples 731\n",
      "n_quantiles 10\n"
     ]
    },
    {
     "name": "stderr",
     "output_type": "stream",
     "text": [
      "Loading .model.layers.12: 4838it [05:08,  9.38it/s]"
     ]
    },
    {
     "name": "stdout",
     "output_type": "stream",
     "text": [
      "quantile_size 70\n",
      "len examples 704\n",
      "n_quantiles 10\n",
      "quantile_size 24\n",
      "len examples 246\n",
      "n_quantiles 10\n"
     ]
    },
    {
     "name": "stderr",
     "output_type": "stream",
     "text": [
      "Loading .model.layers.12: 4840it [05:09,  7.45it/s]"
     ]
    },
    {
     "name": "stdout",
     "output_type": "stream",
     "text": [
      "quantile_size 173\n",
      "len examples 1731\n",
      "n_quantiles 10\n",
      "quantile_size 16\n",
      "len examples 165\n",
      "n_quantiles 10\n",
      "quantile_size 32\n",
      "len examples 326\n",
      "n_quantiles 10\n"
     ]
    },
    {
     "name": "stderr",
     "output_type": "stream",
     "text": [
      "Loading .model.layers.12: 4843it [05:09,  6.29it/s]"
     ]
    },
    {
     "name": "stdout",
     "output_type": "stream",
     "text": [
      "quantile_size 73\n",
      "len examples 734\n",
      "n_quantiles 10\n"
     ]
    },
    {
     "name": "stderr",
     "output_type": "stream",
     "text": [
      "Loading .model.layers.12: 4844it [05:10,  3.88it/s]"
     ]
    },
    {
     "name": "stdout",
     "output_type": "stream",
     "text": [
      "quantile_size 24\n",
      "len examples 241\n",
      "n_quantiles 10\n"
     ]
    },
    {
     "name": "stderr",
     "output_type": "stream",
     "text": [
      "Loading .model.layers.12: 4848it [05:10,  6.08it/s]"
     ]
    },
    {
     "name": "stdout",
     "output_type": "stream",
     "text": [
      "quantile_size 42\n",
      "len examples 427\n",
      "n_quantiles 10\n",
      "quantile_size 31\n",
      "len examples 312\n",
      "n_quantiles 10\n",
      "quantile_size 60\n",
      "len examples 602\n",
      "n_quantiles 10\n",
      "quantile_size 59\n",
      "len examples 595\n",
      "n_quantiles 10\n"
     ]
    },
    {
     "name": "stderr",
     "output_type": "stream",
     "text": [
      "Loading .model.layers.12: 4856it [05:11, 12.85it/s]"
     ]
    },
    {
     "name": "stdout",
     "output_type": "stream",
     "text": [
      "quantile_size 15\n",
      "len examples 156\n",
      "n_quantiles 10\n",
      "quantile_size 51\n",
      "len examples 515\n",
      "n_quantiles 10\n",
      "quantile_size 104\n",
      "len examples 1045\n",
      "n_quantiles 10\n"
     ]
    },
    {
     "name": "stderr",
     "output_type": "stream",
     "text": [
      "Loading .model.layers.12: 4863it [05:11, 19.77it/s]"
     ]
    },
    {
     "name": "stdout",
     "output_type": "stream",
     "text": [
      "quantile_size 78\n",
      "len examples 780\n",
      "n_quantiles 10\n",
      "quantile_size 25\n",
      "len examples 254\n",
      "n_quantiles 10\n",
      "quantile_size 30\n",
      "len examples 303\n",
      "n_quantiles 10\n",
      "quantile_size 53\n",
      "len examples 537\n",
      "n_quantiles 10\n"
     ]
    },
    {
     "name": "stderr",
     "output_type": "stream",
     "text": [
      "Loading .model.layers.12: 4866it [05:11, 18.28it/s]"
     ]
    },
    {
     "name": "stdout",
     "output_type": "stream",
     "text": [
      "quantile_size 126\n",
      "len examples 1261\n",
      "n_quantiles 10\n",
      "quantile_size 291\n",
      "len examples 2912\n",
      "n_quantiles 10\n",
      "quantile_size 20\n",
      "len examples 208\n",
      "n_quantiles 10\n",
      "quantile_size 41\n",
      "len examples 419\n",
      "n_quantiles 10\n",
      "quantile_size 38\n",
      "len examples 381\n",
      "n_quantiles 10\n"
     ]
    },
    {
     "name": "stderr",
     "output_type": "stream",
     "text": [
      "Loading .model.layers.12: 4876it [05:11, 24.30it/s]"
     ]
    },
    {
     "name": "stdout",
     "output_type": "stream",
     "text": [
      "quantile_size 43\n",
      "len examples 433\n",
      "n_quantiles 10\n",
      "quantile_size 31\n",
      "len examples 314\n",
      "n_quantiles 10\n",
      "quantile_size 51\n",
      "len examples 512\n",
      "n_quantiles 10\n",
      "quantile_size 22\n",
      "len examples 221\n",
      "n_quantiles 10\n",
      "quantile_size 122\n",
      "len examples 1221\n",
      "n_quantiles 10\n"
     ]
    },
    {
     "name": "stderr",
     "output_type": "stream",
     "text": [
      "Loading .model.layers.12: 4884it [05:12, 30.00it/s]"
     ]
    },
    {
     "name": "stdout",
     "output_type": "stream",
     "text": [
      "quantile_size 22\n",
      "len examples 225\n",
      "n_quantiles 10\n",
      "quantile_size 58\n",
      "len examples 586\n",
      "n_quantiles 10\n",
      "quantile_size 23\n",
      "len examples 230\n",
      "n_quantiles 10\n",
      "quantile_size 31\n",
      "len examples 312\n",
      "n_quantiles 10\n",
      "quantile_size 18\n",
      "len examples 183\n",
      "n_quantiles 10\n",
      "quantile_size 37\n",
      "len examples 375\n",
      "n_quantiles 10\n"
     ]
    },
    {
     "name": "stderr",
     "output_type": "stream",
     "text": [
      "Loading .model.layers.12: 4892it [05:12, 24.01it/s]"
     ]
    },
    {
     "name": "stdout",
     "output_type": "stream",
     "text": [
      "quantile_size 63\n",
      "len examples 634\n",
      "n_quantiles 10\n",
      "quantile_size 279\n",
      "len examples 2793\n",
      "n_quantiles 10\n",
      "quantile_size 43\n",
      "len examples 438\n",
      "n_quantiles 10\n",
      "quantile_size 45\n",
      "len examples 454\n",
      "n_quantiles 10\n"
     ]
    },
    {
     "name": "stderr",
     "output_type": "stream",
     "text": [
      "Loading .model.layers.12: 4897it [05:12, 28.59it/s]"
     ]
    },
    {
     "name": "stdout",
     "output_type": "stream",
     "text": [
      "quantile_size 13\n",
      "len examples 133\n",
      "n_quantiles 10\n",
      "quantile_size 154\n",
      "len examples 1547\n",
      "n_quantiles 10\n",
      "quantile_size 13\n",
      "len examples 135\n",
      "n_quantiles 10\n",
      "quantile_size 38\n",
      "len examples 381\n",
      "n_quantiles 10\n",
      "quantile_size 57\n",
      "len examples 571\n",
      "n_quantiles 10\n"
     ]
    },
    {
     "name": "stderr",
     "output_type": "stream",
     "text": [
      "Loading .model.layers.12: 4905it [05:12, 29.05it/s]"
     ]
    },
    {
     "name": "stdout",
     "output_type": "stream",
     "text": [
      "quantile_size 15\n",
      "len examples 153\n",
      "n_quantiles 10\n",
      "quantile_size 49\n",
      "len examples 493\n",
      "n_quantiles 10\n",
      "quantile_size 30\n",
      "len examples 305\n",
      "n_quantiles 10\n",
      "quantile_size 107\n",
      "len examples 1077\n",
      "n_quantiles 10\n"
     ]
    },
    {
     "name": "stderr",
     "output_type": "stream",
     "text": [
      "Loading .model.layers.12: 4913it [05:13, 27.08it/s]"
     ]
    },
    {
     "name": "stdout",
     "output_type": "stream",
     "text": [
      "quantile_size 20\n",
      "len examples 200\n",
      "n_quantiles 10\n",
      "quantile_size 61\n",
      "len examples 618\n",
      "n_quantiles 10\n"
     ]
    },
    {
     "name": "stderr",
     "output_type": "stream",
     "text": [
      "Loading .model.layers.12: 4917it [05:13, 29.54it/s]"
     ]
    },
    {
     "name": "stdout",
     "output_type": "stream",
     "text": [
      "quantile_size 23\n",
      "len examples 230\n",
      "n_quantiles 10\n",
      "quantile_size 151\n",
      "len examples 1513\n",
      "n_quantiles 10\n",
      "quantile_size 73\n",
      "len examples 739\n",
      "n_quantiles 10\n"
     ]
    },
    {
     "name": "stderr",
     "output_type": "stream",
     "text": [
      "Loading .model.layers.12: 4926it [05:13, 31.33it/s]"
     ]
    },
    {
     "name": "stdout",
     "output_type": "stream",
     "text": [
      "quantile_size 25\n",
      "len examples 250\n",
      "n_quantiles 10\n",
      "quantile_size 21\n",
      "len examples 215\n",
      "n_quantiles 10\n",
      "quantile_size 16\n",
      "len examples 167\n",
      "n_quantiles 10\n",
      "quantile_size 23\n",
      "len examples 237\n",
      "n_quantiles 10\n",
      "quantile_size 20\n",
      "len examples 201\n",
      "n_quantiles 10\n"
     ]
    },
    {
     "name": "stderr",
     "output_type": "stream",
     "text": [
      "Loading .model.layers.12: 4934it [05:13, 28.00it/s]"
     ]
    },
    {
     "name": "stdout",
     "output_type": "stream",
     "text": [
      "quantile_size 16\n",
      "len examples 163\n",
      "n_quantiles 10\n",
      "quantile_size 42\n",
      "len examples 421\n",
      "n_quantiles 10\n",
      "quantile_size 154\n",
      "len examples 1545\n",
      "n_quantiles 10\n",
      "quantile_size 19\n",
      "len examples 195\n",
      "n_quantiles 10\n"
     ]
    },
    {
     "name": "stderr",
     "output_type": "stream",
     "text": [
      "Loading .model.layers.12: 4938it [05:14, 25.20it/s]"
     ]
    },
    {
     "name": "stdout",
     "output_type": "stream",
     "text": [
      "quantile_size 53\n",
      "len examples 537\n",
      "n_quantiles 10\n",
      "quantile_size 53\n",
      "len examples 535\n",
      "n_quantiles 10\n"
     ]
    },
    {
     "name": "stderr",
     "output_type": "stream",
     "text": [
      "Loading .model.layers.12: 4941it [05:14, 25.61it/s]"
     ]
    },
    {
     "name": "stdout",
     "output_type": "stream",
     "text": [
      "quantile_size 44\n",
      "len examples 447\n",
      "n_quantiles 10\n",
      "quantile_size 95\n",
      "len examples 952\n",
      "n_quantiles 10\n",
      "quantile_size 21\n",
      "len examples 214\n",
      "n_quantiles 10\n"
     ]
    },
    {
     "name": "stderr",
     "output_type": "stream",
     "text": [
      "Loading .model.layers.12: 4949it [05:14, 27.52it/s]"
     ]
    },
    {
     "name": "stdout",
     "output_type": "stream",
     "text": [
      "quantile_size 58\n",
      "len examples 584\n",
      "n_quantiles 10\n",
      "quantile_size 26\n",
      "len examples 268\n",
      "n_quantiles 10\n",
      "quantile_size 62\n",
      "len examples 625\n",
      "n_quantiles 10\n",
      "quantile_size 49\n",
      "len examples 493\n",
      "n_quantiles 10\n"
     ]
    },
    {
     "name": "stderr",
     "output_type": "stream",
     "text": [
      "Loading .model.layers.12: 4956it [05:14, 26.06it/s]"
     ]
    },
    {
     "name": "stdout",
     "output_type": "stream",
     "text": [
      "quantile_size 150\n",
      "len examples 1506\n",
      "n_quantiles 10\n",
      "quantile_size 14\n",
      "len examples 146\n",
      "n_quantiles 10\n",
      "quantile_size 36\n",
      "len examples 366\n",
      "n_quantiles 10\n",
      "quantile_size 32\n",
      "len examples 323\n",
      "n_quantiles 10\n",
      "quantile_size 13\n",
      "len examples 131\n",
      "n_quantiles 10\n"
     ]
    },
    {
     "name": "stderr",
     "output_type": "stream",
     "text": [
      "Loading .model.layers.12: 4965it [05:15, 27.93it/s]"
     ]
    },
    {
     "name": "stdout",
     "output_type": "stream",
     "text": [
      "quantile_size 97\n",
      "len examples 972\n",
      "n_quantiles 10\n",
      "quantile_size 18\n",
      "len examples 189\n",
      "n_quantiles 10\n",
      "quantile_size 32\n",
      "len examples 323\n",
      "n_quantiles 10\n",
      "quantile_size 22\n",
      "len examples 220\n",
      "n_quantiles 10\n"
     ]
    },
    {
     "name": "stderr",
     "output_type": "stream",
     "text": [
      "Loading .model.layers.12: 4973it [05:15, 32.57it/s]"
     ]
    },
    {
     "name": "stdout",
     "output_type": "stream",
     "text": [
      "quantile_size 47\n",
      "len examples 474\n",
      "n_quantiles 10\n",
      "quantile_size 60\n",
      "len examples 606\n",
      "n_quantiles 10\n",
      "quantile_size 16\n",
      "len examples 163\n",
      "n_quantiles 10\n"
     ]
    },
    {
     "name": "stderr",
     "output_type": "stream",
     "text": [
      "Loading .model.layers.12: 4977it [05:15, 27.68it/s]"
     ]
    },
    {
     "name": "stdout",
     "output_type": "stream",
     "text": [
      "quantile_size 274\n",
      "len examples 2747\n",
      "n_quantiles 10\n",
      "quantile_size 73\n",
      "len examples 734\n",
      "n_quantiles 10\n",
      "quantile_size 14\n",
      "len examples 146\n",
      "n_quantiles 10\n",
      "quantile_size 62\n",
      "len examples 624\n",
      "n_quantiles 10\n"
     ]
    },
    {
     "name": "stderr",
     "output_type": "stream",
     "text": [
      "Loading .model.layers.12: 4984it [05:15, 25.76it/s]"
     ]
    },
    {
     "name": "stdout",
     "output_type": "stream",
     "text": [
      "quantile_size 168\n",
      "len examples 1686\n",
      "n_quantiles 10\n",
      "quantile_size 63\n",
      "len examples 630\n",
      "n_quantiles 10\n",
      "quantile_size 26\n",
      "len examples 265\n",
      "n_quantiles 10\n",
      "quantile_size 34\n",
      "len examples 349\n",
      "n_quantiles 10\n"
     ]
    },
    {
     "name": "stderr",
     "output_type": "stream",
     "text": [
      "Loading .model.layers.12: 4987it [05:15, 21.90it/s]"
     ]
    },
    {
     "name": "stdout",
     "output_type": "stream",
     "text": [
      "quantile_size 11\n",
      "len examples 111\n",
      "n_quantiles 10\n",
      "quantile_size 15\n",
      "len examples 154\n",
      "n_quantiles 10\n",
      "quantile_size 155\n",
      "len examples 1551\n",
      "n_quantiles 10\n"
     ]
    },
    {
     "name": "stderr",
     "output_type": "stream",
     "text": [
      "Loading .model.layers.12: 4994it [05:16, 23.35it/s]"
     ]
    },
    {
     "name": "stdout",
     "output_type": "stream",
     "text": [
      "quantile_size 22\n",
      "len examples 229\n",
      "n_quantiles 10\n",
      "quantile_size 56\n",
      "len examples 564\n",
      "n_quantiles 10\n",
      "quantile_size 16\n",
      "len examples 168\n",
      "n_quantiles 10\n",
      "quantile_size 9\n",
      "len examples 96\n",
      "n_quantiles 10\n",
      "quantile_size 67\n",
      "len examples 670\n",
      "n_quantiles 10\n"
     ]
    },
    {
     "name": "stderr",
     "output_type": "stream",
     "text": [
      "Loading .model.layers.12: 5000it [05:16, 21.43it/s]"
     ]
    },
    {
     "name": "stdout",
     "output_type": "stream",
     "text": [
      "quantile_size 138\n",
      "len examples 1382\n",
      "n_quantiles 10\n",
      "quantile_size 30\n",
      "len examples 306\n",
      "n_quantiles 10\n",
      "quantile_size 47\n",
      "len examples 472\n",
      "n_quantiles 10\n",
      "quantile_size 53\n",
      "len examples 536\n",
      "n_quantiles 10\n"
     ]
    },
    {
     "name": "stderr",
     "output_type": "stream",
     "text": [
      "Loading .model.layers.12: 5011it [05:16, 33.44it/s]"
     ]
    },
    {
     "name": "stdout",
     "output_type": "stream",
     "text": [
      "quantile_size 25\n",
      "len examples 253\n",
      "n_quantiles 10\n",
      "quantile_size 33\n",
      "len examples 334\n",
      "n_quantiles 10\n",
      "quantile_size 27\n",
      "len examples 276\n",
      "n_quantiles 10\n"
     ]
    },
    {
     "name": "stderr",
     "output_type": "stream",
     "text": [
      "Loading .model.layers.12: 5019it [05:17, 23.59it/s]"
     ]
    },
    {
     "name": "stdout",
     "output_type": "stream",
     "text": [
      "quantile_size 87\n",
      "len examples 871\n",
      "n_quantiles 10\n",
      "quantile_size 27\n",
      "len examples 270\n",
      "n_quantiles 10\n",
      "quantile_size 32\n",
      "len examples 329\n",
      "n_quantiles 10\n",
      "quantile_size 113\n",
      "len examples 1135\n",
      "n_quantiles 10\n"
     ]
    },
    {
     "name": "stderr",
     "output_type": "stream",
     "text": [
      "Loading .model.layers.12: 5023it [05:17, 26.16it/s]"
     ]
    },
    {
     "name": "stdout",
     "output_type": "stream",
     "text": [
      "quantile_size 11\n",
      "len examples 119\n",
      "n_quantiles 10\n",
      "quantile_size 120\n",
      "len examples 1205\n",
      "n_quantiles 10\n"
     ]
    },
    {
     "name": "stderr",
     "output_type": "stream",
     "text": [
      "Loading .model.layers.12: 5027it [05:17, 17.82it/s]"
     ]
    },
    {
     "name": "stdout",
     "output_type": "stream",
     "text": [
      "quantile_size 37\n",
      "len examples 374\n",
      "n_quantiles 10\n",
      "quantile_size 28\n",
      "len examples 284\n",
      "n_quantiles 10\n",
      "quantile_size 48\n",
      "len examples 483\n",
      "n_quantiles 10\n"
     ]
    },
    {
     "name": "stderr",
     "output_type": "stream",
     "text": [
      "Loading .model.layers.12: 5030it [05:18, 15.10it/s]"
     ]
    },
    {
     "name": "stdout",
     "output_type": "stream",
     "text": [
      "quantile_size 41\n",
      "len examples 416\n",
      "n_quantiles 10\n",
      "quantile_size 57\n",
      "len examples 572\n",
      "n_quantiles 10\n",
      "quantile_size 16\n",
      "len examples 168\n",
      "n_quantiles 10\n",
      "quantile_size 37\n",
      "len examples 371\n",
      "n_quantiles 10\n"
     ]
    },
    {
     "name": "stderr",
     "output_type": "stream",
     "text": [
      "Loading .model.layers.12: 5036it [05:18, 14.39it/s]"
     ]
    },
    {
     "name": "stdout",
     "output_type": "stream",
     "text": [
      "quantile_size 80\n",
      "len examples 800\n",
      "n_quantiles 10\n",
      "quantile_size 271\n",
      "len examples 2714\n",
      "n_quantiles 10\n",
      "quantile_size 13\n",
      "len examples 132\n",
      "n_quantiles 10\n",
      "quantile_size 15\n",
      "len examples 151\n",
      "n_quantiles 10\n",
      "quantile_size 24\n",
      "len examples 248\n",
      "n_quantiles 10\n"
     ]
    },
    {
     "name": "stderr",
     "output_type": "stream",
     "text": [
      "Loading .model.layers.12: 5040it [05:18, 18.29it/s]"
     ]
    },
    {
     "name": "stdout",
     "output_type": "stream",
     "text": [
      "quantile_size 66\n",
      "len examples 662\n",
      "n_quantiles 10\n",
      "quantile_size 19\n",
      "len examples 197\n",
      "n_quantiles 10\n",
      "quantile_size 344\n",
      "len examples 3442\n",
      "n_quantiles 10\n",
      "quantile_size 76\n",
      "len examples 769\n",
      "n_quantiles 10\n"
     ]
    },
    {
     "name": "stderr",
     "output_type": "stream",
     "text": [
      "Loading .model.layers.12: 5046it [05:19, 11.50it/s]"
     ]
    },
    {
     "name": "stdout",
     "output_type": "stream",
     "text": [
      "quantile_size 26\n",
      "len examples 267\n",
      "n_quantiles 10\n",
      "quantile_size 22\n",
      "len examples 228\n",
      "n_quantiles 10\n"
     ]
    },
    {
     "name": "stderr",
     "output_type": "stream",
     "text": [
      "Loading .model.layers.12: 5055it [05:19, 20.12it/s]"
     ]
    },
    {
     "name": "stdout",
     "output_type": "stream",
     "text": [
      "quantile_size 28\n",
      "len examples 284\n",
      "n_quantiles 10\n",
      "quantile_size 54\n",
      "len examples 547\n",
      "n_quantiles 10\n",
      "quantile_size 10\n",
      "len examples 109\n",
      "n_quantiles 10\n",
      "quantile_size 9\n",
      "len examples 94\n",
      "n_quantiles 10\n"
     ]
    },
    {
     "name": "stderr",
     "output_type": "stream",
     "text": [
      "Loading .model.layers.12: 5059it [05:19, 20.17it/s]"
     ]
    },
    {
     "name": "stdout",
     "output_type": "stream",
     "text": [
      "quantile_size 15\n",
      "len examples 157\n",
      "n_quantiles 10\n",
      "quantile_size 111\n",
      "len examples 1113\n",
      "n_quantiles 10\n",
      "quantile_size 13\n",
      "len examples 138\n",
      "n_quantiles 10\n"
     ]
    },
    {
     "name": "stderr",
     "output_type": "stream",
     "text": [
      "Loading .model.layers.12: 5066it [05:19, 22.35it/s]"
     ]
    },
    {
     "name": "stdout",
     "output_type": "stream",
     "text": [
      "quantile_size 204\n",
      "len examples 2048\n",
      "n_quantiles 10\n",
      "quantile_size 35\n",
      "len examples 354\n",
      "n_quantiles 10\n",
      "quantile_size 17\n",
      "len examples 178\n",
      "n_quantiles 10\n",
      "quantile_size 179\n",
      "len examples 1792\n",
      "n_quantiles 10\n"
     ]
    },
    {
     "name": "stderr",
     "output_type": "stream",
     "text": [
      "Loading .model.layers.12: 5072it [05:20, 17.23it/s]"
     ]
    },
    {
     "name": "stdout",
     "output_type": "stream",
     "text": [
      "quantile_size 36\n",
      "len examples 361\n",
      "n_quantiles 10\n",
      "quantile_size 27\n",
      "len examples 277\n",
      "n_quantiles 10\n",
      "quantile_size 40\n",
      "len examples 402\n",
      "n_quantiles 10\n",
      "quantile_size 37\n",
      "len examples 379\n",
      "n_quantiles 10\n",
      "quantile_size 11\n",
      "len examples 113\n",
      "n_quantiles 10\n"
     ]
    },
    {
     "name": "stderr",
     "output_type": "stream",
     "text": [
      "Loading .model.layers.12: 5075it [05:20, 19.36it/s]"
     ]
    },
    {
     "name": "stdout",
     "output_type": "stream",
     "text": [
      "quantile_size 14\n",
      "len examples 142\n",
      "n_quantiles 10\n",
      "quantile_size 35\n",
      "len examples 353\n",
      "n_quantiles 10\n",
      "quantile_size 52\n",
      "len examples 522\n",
      "n_quantiles 10\n",
      "quantile_size 16\n",
      "len examples 165\n",
      "n_quantiles 10\n",
      "quantile_size 41\n",
      "len examples 414\n",
      "n_quantiles 10\n"
     ]
    },
    {
     "name": "stderr",
     "output_type": "stream",
     "text": [
      "Loading .model.layers.12: 5081it [05:20, 20.04it/s]"
     ]
    },
    {
     "name": "stdout",
     "output_type": "stream",
     "text": [
      "quantile_size 49\n",
      "len examples 498\n",
      "n_quantiles 10\n",
      "quantile_size 58\n",
      "len examples 585\n",
      "n_quantiles 10\n",
      "quantile_size 25\n",
      "len examples 254\n",
      "n_quantiles 10\n",
      "quantile_size 75\n",
      "len examples 758\n",
      "n_quantiles 10\n"
     ]
    },
    {
     "name": "stderr",
     "output_type": "stream",
     "text": [
      "Loading .model.layers.12: 5092it [05:21, 29.02it/s]"
     ]
    },
    {
     "name": "stdout",
     "output_type": "stream",
     "text": [
      "quantile_size 79\n",
      "len examples 796\n",
      "n_quantiles 10\n",
      "quantile_size 98\n",
      "len examples 988\n",
      "n_quantiles 10\n",
      "quantile_size 57\n",
      "len examples 579\n",
      "n_quantiles 10\n"
     ]
    },
    {
     "name": "stderr",
     "output_type": "stream",
     "text": [
      "Loading .model.layers.12: 5100it [05:21, 28.84it/s]"
     ]
    },
    {
     "name": "stdout",
     "output_type": "stream",
     "text": [
      "quantile_size 25\n",
      "len examples 253\n",
      "n_quantiles 10\n",
      "quantile_size 59\n",
      "len examples 598\n",
      "n_quantiles 10\n",
      "quantile_size 20\n",
      "len examples 201\n",
      "n_quantiles 10\n",
      "quantile_size 32\n",
      "len examples 327\n",
      "n_quantiles 10\n"
     ]
    },
    {
     "name": "stderr",
     "output_type": "stream",
     "text": [
      "Loading .model.layers.12: 5109it [05:21, 34.70it/s]"
     ]
    },
    {
     "name": "stdout",
     "output_type": "stream",
     "text": [
      "quantile_size 35\n",
      "len examples 353\n",
      "n_quantiles 10\n",
      "quantile_size 29\n",
      "len examples 293\n",
      "n_quantiles 10\n",
      "quantile_size 70\n",
      "len examples 700\n",
      "n_quantiles 10\n",
      "quantile_size 35\n",
      "len examples 355\n",
      "n_quantiles 10\n",
      "quantile_size 38\n",
      "len examples 382\n",
      "n_quantiles 10\n",
      "quantile_size 9\n",
      "len examples 90\n",
      "n_quantiles 10\n"
     ]
    },
    {
     "name": "stderr",
     "output_type": "stream",
     "text": [
      "Loading .model.layers.12: 5119it [05:21, 34.57it/s]"
     ]
    },
    {
     "name": "stdout",
     "output_type": "stream",
     "text": [
      "quantile_size 72\n",
      "len examples 725\n",
      "n_quantiles 10\n",
      "quantile_size 9\n",
      "len examples 99\n",
      "n_quantiles 10\n",
      "quantile_size 34\n",
      "len examples 347\n",
      "n_quantiles 10\n",
      "quantile_size 11\n",
      "len examples 111\n",
      "n_quantiles 10\n",
      "quantile_size 8\n",
      "len examples 86\n",
      "n_quantiles 10\n"
     ]
    },
    {
     "name": "stderr",
     "output_type": "stream",
     "text": [
      "Loading .model.layers.12: 5127it [05:22, 29.83it/s]"
     ]
    },
    {
     "name": "stdout",
     "output_type": "stream",
     "text": [
      "quantile_size 39\n",
      "len examples 394\n",
      "n_quantiles 10\n",
      "quantile_size 32\n",
      "len examples 325\n",
      "n_quantiles 10\n",
      "quantile_size 31\n",
      "len examples 318\n",
      "n_quantiles 10\n",
      "quantile_size 34\n",
      "len examples 347\n",
      "n_quantiles 10\n"
     ]
    },
    {
     "name": "stderr",
     "output_type": "stream",
     "text": [
      "Loading .model.layers.12: 5139it [05:22, 42.01it/s]"
     ]
    },
    {
     "name": "stdout",
     "output_type": "stream",
     "text": [
      "quantile_size 56\n",
      "len examples 565\n",
      "n_quantiles 10\n",
      "quantile_size 35\n",
      "len examples 350\n",
      "n_quantiles 10\n",
      "quantile_size 38\n",
      "len examples 387\n",
      "n_quantiles 10\n",
      "quantile_size 18\n",
      "len examples 180\n",
      "n_quantiles 10\n",
      "quantile_size 9\n",
      "len examples 96\n",
      "n_quantiles 10\n",
      "quantile_size 16\n",
      "len examples 161\n",
      "n_quantiles 10\n",
      "quantile_size 15\n",
      "len examples 152\n",
      "n_quantiles 10\n"
     ]
    },
    {
     "name": "stderr",
     "output_type": "stream",
     "text": [
      "Loading .model.layers.12: 5146it [05:22, 49.05it/s]"
     ]
    },
    {
     "name": "stdout",
     "output_type": "stream",
     "text": [
      "quantile_size 49\n",
      "len examples 494\n",
      "n_quantiles 10\n",
      "quantile_size 54\n",
      "len examples 543\n",
      "n_quantiles 10\n",
      "quantile_size 14\n",
      "len examples 140\n",
      "n_quantiles 10\n",
      "quantile_size 62\n",
      "len examples 621\n",
      "n_quantiles 10\n",
      "quantile_size 10\n",
      "len examples 107\n",
      "n_quantiles 10\n"
     ]
    },
    {
     "name": "stderr",
     "output_type": "stream",
     "text": [
      "Loading .model.layers.12: 5157it [05:22, 37.14it/s]"
     ]
    },
    {
     "name": "stdout",
     "output_type": "stream",
     "text": [
      "quantile_size 96\n",
      "len examples 960\n",
      "n_quantiles 10\n",
      "quantile_size 27\n",
      "len examples 271\n",
      "n_quantiles 10\n",
      "quantile_size 36\n",
      "len examples 364\n",
      "n_quantiles 10\n",
      "quantile_size 43\n",
      "len examples 431\n",
      "n_quantiles 10\n",
      "quantile_size 138\n",
      "len examples 1386\n",
      "n_quantiles 10\n"
     ]
    },
    {
     "name": "stderr",
     "output_type": "stream",
     "text": [
      "Loading .model.layers.12: 5162it [05:23, 32.59it/s]"
     ]
    },
    {
     "name": "stdout",
     "output_type": "stream",
     "text": [
      "quantile_size 36\n",
      "len examples 365\n",
      "n_quantiles 10\n",
      "quantile_size 25\n",
      "len examples 253\n",
      "n_quantiles 10\n",
      "quantile_size 18\n",
      "len examples 188\n",
      "n_quantiles 10\n",
      "quantile_size 90\n",
      "len examples 909\n",
      "n_quantiles 10\n",
      "quantile_size 156\n",
      "len examples 1562\n",
      "n_quantiles 10\n"
     ]
    },
    {
     "name": "stderr",
     "output_type": "stream",
     "text": [
      "Loading .model.layers.12: 5166it [05:23, 28.33it/s]"
     ]
    },
    {
     "name": "stdout",
     "output_type": "stream",
     "text": [
      "quantile_size 6\n",
      "len examples 60\n",
      "n_quantiles 10\n",
      "quantile_size 61\n",
      "len examples 611\n",
      "n_quantiles 10\n",
      "quantile_size 5\n",
      "len examples 58\n",
      "n_quantiles 10\n",
      "quantile_size 24\n",
      "len examples 243\n",
      "n_quantiles 10\n"
     ]
    },
    {
     "name": "stderr",
     "output_type": "stream",
     "text": [
      "Loading .model.layers.12: 5175it [05:23, 28.97it/s]"
     ]
    },
    {
     "name": "stdout",
     "output_type": "stream",
     "text": [
      "quantile_size 92\n",
      "len examples 924\n",
      "n_quantiles 10\n",
      "quantile_size 36\n",
      "len examples 364\n",
      "n_quantiles 10\n",
      "quantile_size 45\n",
      "len examples 456\n",
      "n_quantiles 10\n",
      "quantile_size 21\n",
      "len examples 216\n",
      "n_quantiles 10\n"
     ]
    },
    {
     "name": "stderr",
     "output_type": "stream",
     "text": [
      "Loading .model.layers.12: 5182it [05:23, 26.68it/s]"
     ]
    },
    {
     "name": "stdout",
     "output_type": "stream",
     "text": [
      "quantile_size 87\n",
      "len examples 872\n",
      "n_quantiles 10\n",
      "quantile_size 27\n",
      "len examples 274\n",
      "n_quantiles 10\n",
      "quantile_size 16\n",
      "len examples 164\n",
      "n_quantiles 10\n",
      "quantile_size 23\n",
      "len examples 239\n",
      "n_quantiles 10\n",
      "quantile_size 21\n",
      "len examples 214\n",
      "n_quantiles 10\n",
      "quantile_size 25\n",
      "len examples 254\n",
      "n_quantiles 10\n"
     ]
    },
    {
     "name": "stderr",
     "output_type": "stream",
     "text": [
      "Loading .model.layers.12: 5188it [05:24, 27.89it/s]"
     ]
    },
    {
     "name": "stdout",
     "output_type": "stream",
     "text": [
      "quantile_size 47\n",
      "len examples 476\n",
      "n_quantiles 10\n",
      "quantile_size 20\n",
      "len examples 201\n",
      "n_quantiles 10\n",
      "quantile_size 49\n",
      "len examples 490\n",
      "n_quantiles 10\n",
      "quantile_size 25\n",
      "len examples 256\n",
      "n_quantiles 10\n",
      "quantile_size 13\n",
      "len examples 138\n",
      "n_quantiles 10\n",
      "quantile_size 28\n",
      "len examples 281\n",
      "n_quantiles 10\n"
     ]
    },
    {
     "name": "stderr",
     "output_type": "stream",
     "text": [
      "Loading .model.layers.12: 5197it [05:24, 28.98it/s]"
     ]
    },
    {
     "name": "stdout",
     "output_type": "stream",
     "text": [
      "quantile_size 138\n",
      "len examples 1387\n",
      "n_quantiles 10\n",
      "quantile_size 32\n",
      "len examples 323\n",
      "n_quantiles 10\n",
      "quantile_size 17\n",
      "len examples 176\n",
      "n_quantiles 10\n",
      "quantile_size 19\n",
      "len examples 199\n",
      "n_quantiles 10\n",
      "quantile_size 19\n",
      "len examples 191\n",
      "n_quantiles 10\n",
      "quantile_size 47\n",
      "len examples 474\n",
      "n_quantiles 10\n"
     ]
    },
    {
     "name": "stderr",
     "output_type": "stream",
     "text": [
      "Loading .model.layers.12: 5205it [05:24, 28.81it/s]"
     ]
    },
    {
     "name": "stdout",
     "output_type": "stream",
     "text": [
      "quantile_size 50\n",
      "len examples 502\n",
      "n_quantiles 10\n",
      "quantile_size 17\n",
      "len examples 179\n",
      "n_quantiles 10\n",
      "quantile_size 48\n",
      "len examples 484\n",
      "n_quantiles 10\n",
      "quantile_size 16\n",
      "len examples 165\n",
      "n_quantiles 10\n",
      "quantile_size 44\n",
      "len examples 442\n",
      "n_quantiles 10\n",
      "quantile_size 40\n",
      "len examples 401\n",
      "n_quantiles 10\n"
     ]
    },
    {
     "name": "stderr",
     "output_type": "stream",
     "text": [
      "Loading .model.layers.12: 5216it [05:24, 40.86it/s]"
     ]
    },
    {
     "name": "stdout",
     "output_type": "stream",
     "text": [
      "quantile_size 28\n",
      "len examples 281\n",
      "n_quantiles 10\n",
      "quantile_size 20\n",
      "len examples 209\n",
      "n_quantiles 10\n",
      "quantile_size 30\n",
      "len examples 307\n",
      "n_quantiles 10\n",
      "quantile_size 36\n",
      "len examples 365\n",
      "n_quantiles 10\n"
     ]
    },
    {
     "name": "stderr",
     "output_type": "stream",
     "text": [
      "Loading .model.layers.12: 5223it [05:25, 38.94it/s]"
     ]
    },
    {
     "name": "stdout",
     "output_type": "stream",
     "text": [
      "quantile_size 20\n",
      "len examples 207\n",
      "n_quantiles 10\n",
      "quantile_size 15\n",
      "len examples 159\n",
      "n_quantiles 10\n",
      "quantile_size 25\n",
      "len examples 253\n",
      "n_quantiles 10\n",
      "quantile_size 39\n",
      "len examples 392\n",
      "n_quantiles 10\n"
     ]
    },
    {
     "name": "stderr",
     "output_type": "stream",
     "text": [
      "Loading .model.layers.12: 5232it [05:25, 34.70it/s]"
     ]
    },
    {
     "name": "stdout",
     "output_type": "stream",
     "text": [
      "quantile_size 24\n",
      "len examples 245\n",
      "n_quantiles 10\n",
      "quantile_size 26\n",
      "len examples 261\n",
      "n_quantiles 10\n",
      "quantile_size 26\n",
      "len examples 260\n",
      "n_quantiles 10\n",
      "quantile_size 50\n",
      "len examples 506\n",
      "n_quantiles 10\n",
      "quantile_size 20\n",
      "len examples 205\n",
      "n_quantiles 10\n"
     ]
    },
    {
     "name": "stderr",
     "output_type": "stream",
     "text": [
      "Loading .model.layers.12: 5240it [05:25, 36.24it/s]"
     ]
    },
    {
     "name": "stdout",
     "output_type": "stream",
     "text": [
      "quantile_size 68\n",
      "len examples 685\n",
      "n_quantiles 10\n",
      "quantile_size 40\n",
      "len examples 405\n",
      "n_quantiles 10\n",
      "quantile_size 33\n",
      "len examples 339\n",
      "n_quantiles 10\n",
      "quantile_size 18\n",
      "len examples 180\n",
      "n_quantiles 10\n",
      "quantile_size 93\n",
      "len examples 935\n",
      "n_quantiles 10\n",
      "quantile_size 74\n",
      "len examples 740\n",
      "n_quantiles 10\n"
     ]
    },
    {
     "name": "stderr",
     "output_type": "stream",
     "text": [
      "Loading .model.layers.12: 5242it [05:25, 16.09it/s]\n"
     ]
    }
   ],
   "source": [
    "records = next(loaded_data_iter)"
   ]
  },
  {
   "cell_type": "code",
   "execution_count": 8,
   "metadata": {},
   "outputs": [
    {
     "name": "stdout",
     "output_type": "stream",
     "text": [
      ".model.layers.12_feature1270\n"
     ]
    },
    {
     "data": {
      "text/html": [
       "<bos> and an introduction\n",
       "to the Second Marsh Wildlife Area and the McLaughlin Bay Wildlife Reserve\n",
       "trails. During the walk a variety of topics are discussed and may\n",
       "include the marsh and its features, plants of the marsh, trees,\n",
       "birds, amphibians, reptiles, as well as the history of the area.\n",
       "Specialty themed walks are also offered throughout\n",
       "the year and may include anything from trees to birds to reptiles.\n",
       "Be sure to<mark> check our</mark>\n",
       "<mark>Calendar of Events\n",
       "for a listing of upcoming walks or</mark> call Friends at (905) 723-5047.Our Family was in Lake Powell this week<br><br><bos> Dumont and Chris Coombs, who will craft three course menus of seasonal fare to be enjoyed in the Pine Grove. Each $65 Wednesday evening (beverages and gratuity not included) begins at 7:30pm. The whimsical nights are a go regardless of rain – peruse the<mark> schedule below and</mark> then book your tickets online.\n",
       "Wednesday, July 11th – Will Gilson, Bridgestreet\n",
       "Wednesday, July 18th – Andy Husbands, Tremont 647\n",
       "Wednesday, July 25th – Vittorio Ettore, Bistro 5\n",
       "Wednesday, August 1st<br><br><bos> expertise & knowledge of sites, we match your skills to the rock to give you the best abseiling and top rope climbing experience in this action packed day. Our friendly, professional guides are trained specialists in their field and will provide you with the knowledge, understanding and equipment to ensure your success.\n",
       "For more information on rock climbing click here\n",
       "For<mark> dates Rock course dates please click here</mark>\n",
       "Discounts available for schools or groups and mention our website for a special discount for individuals. Minimum group size 4 adults on weekend trips. Longer programs for school groups or specialised activity training courses or corporate training are available on request.\n",
       "Please call our<br><br><bos> the Fairfield Housing Authority. \"We have 38 now and we're going to have 50. We'd like to build a lot more because of the need in town, but we want to have a respectful development.\"\n",
       "The housing authority has filed an application for the proposed redevelopment in the town's Conservation Department and requested a public hearing before the town's Inland Wetlands Commission. A hearing<mark> date hasn</mark>'<mark>t been set</mark> for the project<mark>,</mark> which also would require approval from the Town Plan and Zoning Commission.\n",
       "Martin said the proposed apartments would be larger and offer modern amenities, such as washers and dryers, dish<br><br><bos> not so sure I’ll do all of them but I’ll try it!\n",
       "Some lists I did:\n",
       "• New year’s resolutions\n",
       "• Things to learn and improve\n",
       "• Books to read\n",
       "• Movies to see\n",
       "• Things to buy for home\n",
       "• Things to not do\n",
       "• G<mark>igs,</mark> Concerts<mark>, Ex</mark>ibitions<mark>,</mark> Museums to getSaturday<mark>,</mark> March 12, <mark>2</mark>011<mark>\n",
       "</mark>Canon EF 24-70mm f/2.8L\n",
       "We were at a surprise party for a mutual friend and the lighting was typical of indoor night time lighting. As such,"
      ],
      "text/plain": [
       "<IPython.core.display.HTML object>"
      ]
     },
     "metadata": {},
     "output_type": "display_data"
    }
   ],
   "source": [
    "from sae_auto_interp.utils import display\n",
    "record = records[0]\n",
    "print(record.feature)\n",
    "display(record, model.tokenizer, n=5)"
   ]
  },
  {
   "cell_type": "code",
   "execution_count": 40,
   "metadata": {},
   "outputs": [],
   "source": [
    "from sae_auto_interp.clients import OpenRouter\n",
    "\n",
    "client = OpenRouter('anthropic/claude-3.5-sonnet', api_key=\"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\")"
   ]
  },
  {
   "cell_type": "code",
   "execution_count": 47,
   "metadata": {},
   "outputs": [
    {
     "name": "stdout",
     "output_type": "stream",
     "text": [
      "Based on the provided examples, I can offer the following explanation for the neuron's behavior:\n",
      "\n",
      "[EXPLANATION]: This neuron appears to activate on phrases related to reservations, bookings, and registration requirements, particularly in the context of events, services, or experiences. It may play a role in identifying and processing information about how to secure participation or access to various activities.\n"
     ]
    }
   ],
   "source": [
    "from sae_auto_interp.explainers import SimpleExplainer\n",
    "\n",
    "explainer = SimpleExplainer(\n",
    "    client,\n",
    "    model.tokenizer,\n",
    "    max_new_tokens=50,\n",
    "    temperature=0.0,\n",
    "    verbose=True\n",
    ")\n",
    "\n",
    "explainer_result = await explainer(records[6])\n",
    "\n",
    "print(explainer_result[1])"
   ]
  },
  {
   "cell_type": "code",
   "execution_count": 46,
   "metadata": {},
   "outputs": [
    {
     "data": {
      "text/html": [
       "<bos> banana leaves and other plants. 7 people max.<mark> Reservations required.</mark> Initiatives Kartier Association with Ms. Grondin.\n",
       "• Sale of crafts related to the art of weaving (pandanus, coconut, etc.). Initiatives Kartier Association with Ms. Grondin.\n",
       "• Sale of ivory jewelry and plant seeds and vegetables. Ti Zardin Association.\n",
       "• Free demonstration of insect hotels.\n",
       "• Scavenger Hunt to the heart of Mascarin. Free game for children from 6 years.\n",
       "• Resting in the shade of palm trees to enjoy its benefits: better productivity, concentration, mood, physical and mental<br><br><bos> rate in this study was concerning,” said Dr.The National Botanical Conservatory Mascarin awaits visitors on Saturday, July 27, and Sunday, July 28, so it can share the benefits of living on Reunion Island.\n",
       "The program for these two days will focus on creation through workshops and decorative crafts, food via demonstration and tasting of local products, and finally well-being with the production of massage oil and essential oil.\n",
       "• Workshop vegetal decoration: composition potpourri, garlands and plant decorations. 7 people<mark> max. Reservations required. Ti</mark> Zardin Association<mark>.</mark>\n",
       "• Ecopot Workshop: making pot gardening in<br><br><bos> quickly snapped up.\"\n",
       "- Bairro Alto/Principe Real's Best Restaurants: \"Dining on the restaurant's secluded terrace is ideal during warmer weather, but should be<mark> booked in advance.\"</mark>\n",
       "- Best for Restaurants with Healthy Menus Because: Terra's owners are enthusiastically involved in promoting a healthy lifestyle and are proactive in advancing social welfare and animal rights issues.\n",
       "- Best for Bairro Alto/Principe Real's Best Restaurants Because: Terra is much more than a restaurant; it actively promotes a healthier vegetarian lifestyle and social and animal welfare issues.Note: This post was written by a guest author.\n",
       "Below<br><br><bos>s golf team is hoping for fairer weather at the Drake Creek Invitational on Monday and Tuesday after rain canceled the final two rounds of the squad’s season-opening event last weekend.\n",
       "September 7, 2011\n",
       "Tech golf to host \"An Evening with PGA Champion Scott Stallings\"\n",
       "PGA Tour professional and Tennessee Tech alumnus Scott Stallings is coming home to Cookeville for an evening in mid-October. Fans and supporters are invited to the event, but<mark> must reserve seats by Monday,</mark> Oct. <mark>3.</mark>\n",
       "September 6, 2011\n",
       "Final round rained out at Chris Banister Classic<br><br><bos>0 pm in the worship center at PJ Campus. Lunch will be provided.<mark> Please register asap as seating is limited. Click the link below to reserve a spot!</mark>\n",
       "Collective Youth Middle School and High School Ministry at Grace PJ!<mark>\n",
       "</mark>We are excited to announce that we have reopened our Middle and High School Ministry, Collective Youth, in person at PJ Campus! Masks and social distancing will be<mark> in</mark> place. We will be meeting every other Wednesday to start off…our next meeting is April 14th at 7 pm. Hope to see you there!\n",
       "Men's Group at PJ\n",
       "Our Men’s group meets weekly on<br><br><bos> and LSO St Luke's are both fully accessible.\n",
       "The Main entrance at Silk Street is ramped and lifts give access to all levels. The Concert Hall has seating for wheelchair users -<mark> please inform us of any access requirements on booking. There</mark> are<mark> three</mark> wheelchairs for visitors' use, subject<mark> to availability; these can be pre-booked by calling the Box Office on 0</mark>2<mark>0 </mark>7638 889<mark>1.</mark>\n",
       "An induction loop is provided in the Concert Hall. Visitors with hearing aids can<mark> make</mark> use of this facility by switching their hearing aid to the 'T' position.\n",
       "Assistance dogs may be<br><br><bos> ceremony and 250 seated guests for a meal and party.\n",
       "For more information about the Wedding Open Day, please visit The Biscuit Factory events website at www.biscuitfactoryevents.com/our-news. To book your<mark> free space, RSVP to email</mark>@example.<mark>comIt</mark> may be simply set up, but if you prefer an experienced to carry out the work, Modine delivers a professional electrician to put in the device for a really good value.\n",
       "Frigidaire has considering that modified the design on the FFTR1821 series, they usually not promote it as “garage Completely ready”. Though the<br><br><bos>oud in Fleurier (Switzerland) in 2011 as General Manager. He is currently in charge of the development of the brand under the leadership of Karl-Friedrich Scheufele, President and Co-President of the Chopard group, that is at the origin of the rebirth of the illustrious name of Ferdinand Berthoud, watchmaker-mechanic to the French King Louis XV and under the Empire.\n",
       "HSNY lectures will be streamed live via Zoom for the foreseeable future, with no in-person gatherings. Webinar registration<mark> is required.</mark> All HSNY lectures are free and open to the public, and all are recorded.<br><br><bos> III Only / upwind sailing ONLY)£230\n",
       "Sport centre prices are as a guide, prices can change depending on the season and exchange rates. When<mark> pre booking with</mark> Planet<mark> you</mark> normally<mark> receive</mark> around<mark> a </mark>1<mark>0</mark>% discount on direct local prices. More importantly,<mark> you</mark> MUST<mark> pre book any essential</mark> sport<mark> services at the time of booking to ensure availability. Please</mark> be sure<mark> to</mark> ask us about this<mark> during the</mark> booking process<mark>.</mark>Tired of waiting?\n",
       "Click here to disable ads!\n",
       "You are not logged in. If you sign up for an account,\n",
       "you can gain additional voting power over time, allowing your vote to have an<br><br><bos> dressed in khakis and pith helmets. Expect fresh, exotic libations to sip on, too.\n",
       "With our offer you can try the ‘Safari Experience’ for just £20. That gets you a boozy welcome treat for the tastebuds, an edible Victorian sun ointment (a coconut flavoured tropical mousse infused with rum), a Whitley Neill G&T and a cocktail from the safari menu.\n",
       "Need to know<mark>:\n",
       "</mark>- This voucher is valid<mark> for</mark> The Safari Experience at Mr Foggs Society of Exploration.<mark>\n",
       "- To book please email</mark> email@example.<mark>com and forward your Time</mark> Out voucher codes<mark> or</mark> call<mark> </mark>02<br><br><bos> Dumont and Chris Coombs, who will craft three course menus of seasonal fare to be enjoyed in the Pine Grove. Each $65 Wednesday evening (beverages and gratuity not included) begins at 7:30pm. The whimsical nights are a go regardless of rain – peruse the schedule below<mark> and then book your tickets online.</mark>\n",
       "Wednesday, July 11th – Will Gilson, Bridgestreet\n",
       "Wednesday, July 18th – Andy Husbands, Tremont 647\n",
       "Wednesday, July 25th – Vittorio Ettore, Bistro 5\n",
       "Wednesday, August 1st"
      ],
      "text/plain": [
       "<IPython.core.display.HTML object>"
      ]
     },
     "metadata": {},
     "output_type": "display_data"
    }
   ],
   "source": [
    "display(records[6], model.tokenizer, n=11)"
   ]
  },
  {
   "cell_type": "code",
   "execution_count": 37,
   "metadata": {},
   "outputs": [
    {
     "data": {
      "text/plain": [
       "3121"
      ]
     },
     "execution_count": 37,
     "metadata": {},
     "output_type": "execute_result"
    }
   ],
   "source": [
    "len(records)"
   ]
  },
  {
   "cell_type": "code",
   "execution_count": 38,
   "metadata": {},
   "outputs": [
    {
     "data": {
      "text/html": [
       "<bos> on the LouisCK.net mailing list, which finally offered a bit of insight about the design behind the series and plans for its future.\n",
       "About the surprise release, for instance, he explained, “As a TV watcher I”m always delighted when I can see a thing without knowing anything about it because of the promotion. So making this show and just posting it out of<mark> the</mark> blue gave me the rare opportunity to give you that experience of discovery.”\n",
       "He also noted that the filming style allows the episodes to be produced very close to when they’re released (the next one, which he’s shooting now, will be<br><br><bos> can't foresee such a time.\"\n",
       "Representatives from Symantec could not be reached for comment Tuesday.\n",
       "Graham Cluley, senior technology consultant at Sophos, said the news doesn't impact his security firm because it focuses on the enterprise market.\n",
       "\"I think this announcement may cause some sleepless nights for the chiefs at McAfee and Symantec--they've always done well out of<mark> the</mark> consumer anti-virus market, and with tougher financial times ahead of them (they) won't be pleased to see the possibility of that evaporating further,\" he wrote in an e-mail response to questions.\n",
       "Microsoft had been<br><br><bos> of the box,” chuckles Brad, “we tell them it’s more like out of<mark> the</mark> crate. We’re crazy about this mail-order-bride style of decorating. It starts with a picture of a potential treasure. When we give the go-ahead and the piece itself arrives, Pat and I unveil it, ask each other if we love it, and then declare our ‘I do’s.’”\n",
       "What might have been a nightmare of disjointedness comes together in a joyful blend. That’s because nearly every piece is from the 1800s is loved by owners and decorators alike, and settles<br><br><bos>-compatibility isn’t required or desired, then go with the 700p; the device packs all the hardware features of the 700w while being slightly newer and sporting a faster operating system. Also, if you’re a Mac user, then the 700p (or the 650 if you’re budget-minded) is your best best, as it will work with OS X right out of<mark> the</mark> box, while the 700w will not. So, based on this information, I would be inclined to go with the Treo 700p.<br><br><bos>0,000 troy ounces of gold.\n",
       "This has raised concern among Indian jewelers who believe these PAN cards will be an obstacle for people to consume, mainly big gold purchases such as for weddings. That's why on 31 March, 10,000 jewelers of Bengal state have given a strike call and will keep their stores closed.\n",
       "Retail business owners reported their worries to the Finance Minister, stating that a lot of gold purchases could be carried out \"out of<mark> the</mark> books\". Besides, they are aware that rural and semi-urban population do not have PAN cards, and the government measure<br><br><bos>Major League Baseball has made no official announcement as of yet concerning a start time if Game 2 were to be moved to Sunday.\n",
       "The Yankees have invited all fans interested in weather updates concerning future home games to check out Yankees.com/weather.\n",
       "Bryan Hoch is a reporter for MLB.com. This story was not subject to the approval of Major League Baseball or its clubs.by Ted Manna\n",
       "American Reporter Correspondent\n",
       "Colorado Springs, Colo.\n",
       "September 7, 2008\n",
       "PALIN: OUT OF<mark> THE</mark> PLANE AND INTO THE FIRE\n",
       "COLORADO SPRINGS, Colo., Sept. 6, 2<br><br><bos> enduring foundations of the earth, for Jehovah has a controversy with his people, and he will contend with Israel. 3 O my people, what have I done to thee? And in what have I wearied thee? Testify against me. 4 For I brought thee up out of<mark> the</mark> land of Egypt, and redeemed thee out of<mark> the house</mark> of bondage. And I sent before thee Moses, Aaron, and Miriam. 5 O my people, remember now what Balak king of Moab devised, and what Balaam the son of Beor answered him. Remember from Shittim to Gilgal, that ye may know the righteous acts<br><br><bos> 29, 2012\n",
       "Super talents at Serra\n",
       "USC has had quite a run landing players out of<mark> the talent</mark> factory Gardena (Calif.) Serra and they hope that trend will continue because they have two outstanding talents who are already national recruits.\n",
       "...More... To continue reading this article you must be a member. Sign Up Now for a FREE TrialWELCOME, SIGN IN\n",
       "Benefits of Private School Vs Public School\n",
       "Description:Education expert Ann Dolin discusses the differences between private school and public school, and shares tips to help choose the right one for your student.\n",
       "MonkeySee.com - Parenting\n",
       "Private<br><br><bos> all the details. We have all the prototyping, design, and development stages out of<mark> the</mark> way, and the product is already being molded during the course of this Kickstarter. So aside from Postal Delays, and Holidays, we don't foresee any issues staying on schedule.Learn about accountability on Kickstarter\n",
       "- (39 days)Below the term “ARCHITECT” from the Devil’s Dictionary by Ambrose Bierce.\n",
       "I placed this term (and I am still working on placing each and every of the close to 1000 terms of the Devils Dictionary) on a separate page that you can easily share in your social networks<br><br><bos> producers have gone bankrupt. Saudi Arabia, which has been trying to diversify its economy to be less reliant on oil as the sole source of prosperity, pushed the wider group of countries called OPEC+ to slash output and drag prices up out of<mark> the</mark> doldrums.\n",
       "These disruptions come as a growing number of investors, regulators and even energy giants are projecting bigger shifts in oil demand in the years to come as much of the world takes action to try to limit the most damaging consequences of climate change.\n",
       "BP and Shell are among the European oil and gas giants that have pledged to reshape their businesses to focus more on zero-carbon energy sources.<br><br><bos>00, and the first and second runners-up receive $140, according to the website.\n",
       "At the University of Iowa, the person with the best tweet by the July 28 deadline will receive a full scholarship to the university's business school.\n",
       "Applicant Seth Goldstein of Columbus, Ohio, submitted his tweet last week and said he was excited for the \"fun, unique challenge.\"\n",
       "\"It is something different and out of<mark> the</mark> box,\" Goldstein said. \"No other MBA schools I have applied to have anything like this.\"\n",
       "Jaron Lanier, author of You Are Not A Gadget: A Manifesto<br><br><bos> floor vacated by the 11t\"\n",
       "But the army and navy men.\n",
       "known now as the World War Veter\n",
       "ans, asked for it and came to an\n",
       "agreenment with new library board\n",
       "which contains a majority of nw\n",
       "memnbers, whereby the library's ap,\n",
       "plication for the upper floor wa,\n",
       "withdrawn in favor of the army antl\n",
       "Bulletin Boosters should patronize\n",
       "\"SLIPPERY VULCH\" A\n",
       "There i: an entortain ment entire- be\n",
       "ly out of<mark> the</mark> ordinary now going on oc\n",
       "at the Holland rink, where the L<br><br><bos> won marbles back in the ring. If a player doesn't hit any marbles out of<mark> the</mark> ring and his or her shooter stays in, the shooter can be replaced with another marble but the player is out altogether until the next game. If the player misses and the shooter goes outside the ring, the shooter stays where it is but the shooter loses his or her turn. On the next play, the player must shoot from where his or her shooter rested on the previous play.\n",
       "There is an art to shooting a marble and it's done like this: Curl your fingers and rest the marble on the crook of your index finger.<br><br><bos> be unsatisfied, since sexual penetration is practically not pleasing, plus an orgasm for a girl is unquestionably out of<mark> the</mark> question\n",
       ". On the other side, every time a woman's partner has an unusually enormous penis, most women can lead to feeling sex and penetration very painful and awfully unpleasing.\n",
       "If you are going through the business of poor heightened sexual performance, you may actually choose to try products which contain male enhancement ingredients. These products are extremely beneficial among males that are having trouble with performance such as erection, stamina, libido, along with other things. These supplements can be very capable to provide strategy to your entire issues.<br><br><bos> get that sinking reminder of what I was going to have to do. I imagined myself standing in front of hundreds of people and talking. I really had no idea how that was going to work. I struggled just standing in front of one person talking.\n",
       "I can’t tell you how many times I thought about it and worried about it that year.\n",
       "On the day of the event I planned to fly down in the morning of my session which was scheduled for 10am. I was also pretty scared of travelling, in particular flying in planes so I wanted to get it out of<mark> the</mark> way quick.\n",
       "I was all<br><br><bos> for the Leafs who has just one assist in 11 games in the NHL.\n",
       "Also a large part of the puzzle, Ben Scrivens, will be out of<mark> the</mark> lineup for Toronto as well. He was recently recalled to back up Jonas Gustavsson with Reimer out for an extended period. Scrivens has four of the Marlies' five wins on the year. Jussi Rynnas is 1-3-0 with a 2.51 GAA and .910 SV%. Scrivens' replacement in the AHL is Mark Owuya from the Reading Royals, who has not yet played an AHL game<br><br><bos> anyone lest they grasp my nefarious plan to eat food cooked in a trailer. In Yorba Linda, I was almost out of<mark> the</mark> woods; still a brief moment of paranoia as a highway patrol officer came up on my right, but then I was in Anaheim. I had made it. I was free.\n",
       "Well, free to attend a food truck gathering at Servite High School, a gathering that may or may not have been a fundraiser for the football team—I was too busy eating to find out. As I walked across the track field there were trucks of all colors and cuisines. The blue Bacon Mania truck, the graffiti<br><br><bos> even more sad than the fact that I will not be able to enjoy his presence much longer. Now I am faced with the loss of even the memory of him.Thursday, September 23, 2010\n",
       "Funny bed time memory!\n",
       "Tonight as I put Jared in bed we were singing out of<mark> the</mark> children's hymn book just like every other night, but usually his daddy gets to do that part with him. After singing \"Adam was a Prophet\" Jared said, \"Mommy I had a dream that I was with Adam, you know the Adam that was a prophet?\" I said, \"oh yea,<br><br><bos> to being replaced by Donphan\n",
       "Anyway, might as well get this out of<mark> the</mark> way for the complainers.. Ash is the only person in the entire region of Sinnoh, to have beaten Takuto's Darkrai. Doesn't that say enough? Even moreso, he beat the monster AFTER DARKRAI as well.. That's probably the best outcome anybody has ever done against him.. That's why Ash was so happy during the finals! Takuto beat that trainer with only Darkrai, making him come the closest to beating the Sinnoh League Champion!\n",
       "Two legendaries might be cheap, but Ash put<br><br><bos> out of<mark> your</mark> videography with the proper gear.\n",
       "Latest posts by Vivian Liu (see all)\n",
       "- What You Need to Start Shooting Tethered - April 4, 2017\n",
       "- The 20 Best iOS and Android Apps for Photographers - March 26, 2017\n",
       "- The 7 Best Mirrorless Cameras for Enthusiasts - December 27, 2016Introduction to Online Jobs are investment free\n",
       "Online jobs are the need of the day; especially an online job is a worth for students, senior citizens, disable peoples and housewives. Most of the people around<br><br><bos>- Linux 2.6.x kernel support.\n",
       "- x86 and ARM (both OABI and EABI) architecture support out<mark> the</mark> box with provision for others too .\n",
       "- Complete cross-compiling toolchain generation (gcc 3.4 and gcc 4.1 supported).\n",
       "- System layer with tuned Busybox, tslib, glibc2.x, Kdrive 7.1 XServer (aka TinyX) and more.\n",
       "- Complete customisable and optimised GNOME Embedded platform support for:\n",
       "- Gstreamer EDS Embedded\n",
       "- Optional dpkg (Debian) or Ipkg software<br><br><bos> a budget; the features on the other two phones simply blows the 650 out of<mark> the</mark> water. If you’re looking for a smartphone that has a look and feel similar to what you might be used to from your home computer, or you want a phone that is compatible with Microsoft applications and formats, then your best bet would be the Treo 700w; the screen might not be as high-res and the battery might not be quite as long-lived, but you get Windows compatibility and a common interface that most people know and understand well. If you’re a PalmOS fan, or Windows<br><br><bos> is closest to the edge of the ring gets to go first. The next closest is the second shooter, and so on. The players should pick up these marbles to shoot again when the game begins.\n",
       "The first player knuckles down at the starting line and shoots his or her marble toward the ring in an effort to hit a marble out of<mark> the</mark> ring. If the player hits both his or her marble and the target marble out of<mark> the</mark> ring, he or she gets to keep the marble and shoot again—only this time he or she has to shoot from where his or her shooter rests. If a player shoots a target marble out,<br><br><bos> and they have never let me down.\n",
       "it is really good price when they offer you with the special discount. Also, well.ca offer free shipping all the time even this big item, I really love this, and I think you will for sure if you ever tried to carry these big item in your small car.\n",
       "I love how easy it is to order diapers from Well.ca! When you have a little one and you're carting big boxes of diapers through a store, it gets difficult. Then you have to take them out of<mark> the</mark> car, etc. Having them come straight to my door with free shipping<br><br><bos> a married couple by a man everyone in the city knew, but could not prove, to be a major crime lord. Dean explained how he'd thought the man might have caught a glimpse of him as he made his own escape, and about his panicked flight to the police department. He related how the FBI took the case right out of<mark> the</mark> hands of local law enforcement and whisked him off for hours of grueling interrogation.\n",
       "He paused then, and held out his hand. Jo placed hers into it, while tears streamed down her face and dripped off the tip of her chin.\n",
       "\"They told me I had to<br><br><bos> is a sub-category of Under-construction.\n",
       "Frequently Asked Questions\n",
       "Some buildings on the map aren't marked. Why is this?\n",
       "This could be for a number of reasons:\n",
       "Our editors may not yet have identified and marked every building in the city. Out of<mark> a</mark> total of 105,013 highrises in our world-wide database which are eligible for inclusion on the highrise maps, only 96,158 of them have had their location data set and actually appear on the maps.\n",
       "Only highrise buildings are marked (a highrise is a multi-floored<br><br><bos>\n",
       "THIRD Enter Friend Wife! With her dander up and . j\n",
       "all sails set! J\n",
       "Now he's eating out of<mark> her</mark> hand1 ; j\n",
       "J A picture so crammed with laughr it will leave you j\n",
       "limp. 5 i\n",
       "g Written by a woman. Directed by , woman Starring ; j\n",
       "X the funniest woman on the 9creen. ' j\n",
       "Bring HIM!!! 3 i\n",
       "Hi !! ALSO SUNSHINE COMEDY\n",
       "UTAH THEATRE time I\n",
       "TEST LOT Gi\n",
       "IN LENGTHY RUN\n",
       "Stock Overland to Start From\n",
       "! New York Tomorrow on\n",
       "Coast to Coast<br><br><bos> I think he is a year or two away from that in reality). Check out San Jose's D if you want to see young and unproven. They did alright.\n",
       "The truth is the Oil likely will get a decent third pair out of<mark> the</mark> lot of them this season and in a year or two we will have a nice quality young D corps.\n",
       "So where do we look?\n",
       "A really nice summary of teams and their cap situations here and a few things jumped out at me.\n",
       "The Oilers have gone back to being young - the third youngest team after San Jose and Columbus from what I can see. Of course<br><br><bos> one in every 10 pints sold in London is now a Guinness.\n",
       "Dayalan Nayager, managing director, Diageo Great Britain, said: “We’re excited to create a new home for Guinness in the heart of London. ‘Guinness at Old Brewer’s Yard’ will strengthen London’s hospitality community and be a must-visit destination for thousands of visitors to enjoy.\n",
       "“Government support over the last two years has been vital for pubs and bars. Coming out of<mark> the</mark> pandemic, the long-term vitality of the trade will be significantly helped by the alcohol duty review and continued freezes in duty.”\n",
       "<br><br><bos> under oath to that fact.”\n",
       "Vilma then points to the failure of Goodell to examine evidence proving that Vilma did not withdraw $10,000 from his account at any point during the 2009 postseason, in specific response to the contention that Vilma physically offered a pair of $5,000 stacks to any player who knocked former Cardinals quarterback Kurt Warner out of<mark> the </mark>2009 divisional playoffs or who knocked former Vikings quarterback Brett Favre out of<mark> the</mark> 2009 NFC title game.\n",
       "Of course, there are plenty of other ways a guy can get his hands on<br><br><bos> go into make it out of<mark> the other</mark> end as customers.\n",
       "Many things need to take place from the moment a visitor enters your channel, to the moment they act and efficiently finish an acquisition.\n",
       "By breaking down the client’s trip right into smaller steps, you can be a lot more specific regarding exactly how when you offer a deal to your target market.\n",
       "The thorough steps in a funnel may look something similar to this:\n",
       "- Unqualified lead gets to touchdown web page\n",
       "- Web page interacts the initial offer (something totally free to accumulate an e-mail).\n",
       "- As soon as email is collected, major deal<br><br><bos>.\n",
       "Live Out Of<mark> Your</mark> Suitcase\n",
       "Corporate Housing encourages individuals with lavish settlement for impermanent remains on the rental premise. They are profoundly savvy, arranged close prime areas and let one carry on with an ordinary way of life, regardless of whether they are on a business visit, seeking after investigations or remaining out of<mark> their</mark> homes attributable to a few different reasons. They give all the vital offices at bring down expenses than lodging bills, and guarantee an unattractive situation. Corporate Housing remains as a win-win choice for business explorers and the organization, concerning the individual, it is particularly agreeable alternative, with every one of the conveniences while it fits<br><br><bos> alliance procures more than $530 million in food and food supplies annually.\n",
       "In recent years, the school districts in the alliance have implemented innovative ways to provide access to school meals including expanded options for reaching more students with breakfast on campus as well as supper after school in order to meet the needs of students.\n",
       "©2012 PR Newswire. All Rights Reserved.Mastodon Two India shows cancelled\n",
       "Two India shows cancelled\n",
       "Due to circumstances out of<mark> the</mark> bands control, Mastodon's appearance in India this month has been canceled; Percept Live, the organizer of FLY Music Festival, India’s first ever<br><br><bos> undocumented population in the US came here with a visa, overstayed their visas and promptly slid into the shadows. I was one of them. Well, that was until two Immigration and Custom Enforcement agents caught up with me, dragged me out of<mark> the</mark> […]Continue Reading →\n",
       "I am fresh off of an exhilarating weekend at The Justice Conference in Philadelphia, excited by the growing evangelical movement for justice. From throughout the country and the world, people gathered under the conviction that if we are to faithfully follow Jesus, we must seek justice.\n",
       "The Justice Conference is […]Continue Reading →\n",
       "Editor’s Update (May 2, 2<br><br><bos>s Carroll Petrie Foundation Dog Rescue Project, unveiled in September.\n",
       "Part of the ASPCA Animal Relocation Initiative, the Carroll Petrie Foundation Dog Rescue Project helps cash-strapped municipal shelters like Abilene’s relocate dogs to off-site adoption programs, rescues or private shelters by providing municipal shelters $50 per dog placed. That money can be spent on vet care for an animal, transportation of the pet, or on anything else that will help move the animal out of<mark> the</mark> shelter.\n",
       "For Diamond, this program was a godsend. Abilene was able to use the Petrie subsidy to move her to The Pawed<br><br><bos> overhead view in this one is great.\n",
       "awesome, thanks :)\n",
       "I'd like to see some Mt Everest base camp synths.\n",
       "This takes a step out of<mark> the</mark> realm of the real world, but I'd absolutely love to see Michael Chesko's miniature model cities thoroughly synthed.\n",
       "He's worked on models of New York City, but also has a fictional city of his own design, entitled 'Britannica'. I happened to bump into his work on Robyn Miller's blog some time ago and have been hooked on the idea of synthing his models ever since.\n",
       "You can find one of<br><br><bos> a good choice for Ash. Sceptile and Swellow are damn fast.\n",
       "And according to me Pikachu was now the one in need of some wins. We were ignoring that little mouse. Pikachu is also strong one.\n",
       "In the end I think Ash said \"I'll be the greatest Pokemon Master one day!\" and Dawn said \"I'll be the greatest Co-ordinator there is\"\n",
       "Then Brock must have thought that he must think about his goal.\n",
       "Barry rushed out of<mark> the</mark> scene having a rushed ending as Barry does it always. Goodbye Barry you were an awesome character -_-\n",
       "All I can say is:<br><br><bos> growing partnerships, and they serve as another method to show the Iraqi people their government is there to help them at all times.August 28 and 29 saw the second installment of the Targa Trophy go flying out of<mark> the</mark> San Francisco Bay and into Silicon Valley. As we wrote in the October ’10 issue, european car has partnered with the event organizers as an official media outlet and will be offering expanded content at europeancarweb.com, including expanded photo galleries and the official Targa press alerts. The second event began at the San Fran W Hotel, with a midday lunch stop at the W in Silicon Valley,<br><br><bos> nearly a kilometer below the\n",
       "surface and was originally identified from magnetic and gravity data.\n",
       "Lunar Impact Crater\n",
       "Typical characteristics of a lunar impact crater are labeled on\n",
       "this photograph of Aristarchus, 42 im in diameter, located West of Mare\n",
       "bowl shaped or flat, characteristically below surrounding ground\n",
       "level unless filled in with lava.\n",
       "blandet of mateial surrounding the crater that was exzcavated during\n",
       "the impact event. Ejecta becomes thinner away from the crater.\n",
       "rock thrown out of<mark> the</mark> crater and deposited as a ring-shaped pile\n",
       "of debris at the crater's edge during the explosion and<br><br><bos>1970s and 1980s and most were carried on 1/2 tons or 3/4 tons. Dually pickups were few and far between then and they were basically spartan work styled trucks.\n",
       "We bought our first TC in 1965 (a Georgie Boy decked out and with a bathroom made in Red Bay Alabama for $1270 out<mark> the</mark> door new) and carried it on a 1966 Chevy 3/4 ton with a 292 six cylinder pickup with a 5 speed floor shift and it had a creeper gear that worked great for<br><br><bos> hungry and frightened out of<mark> our</mark> minds. All we heard were sirens and gunshots and smelled smoke for what seemed like all summer. After that things were never the same.\n",
       "These are some of the memories that will never leave me. I spoke to my middle sister last night about the riots, she lives in North Carolina now, and she was wondering if we suffer from post traumatic stress syndrome. I told her probably on some level. I know that I know the difference between a gunshot and a firecracker automatically. After the riots we were able to get out of<mark> the</mark> projects, my mother bought a house in East Orange where she still<br><br><bos>Then, I took my ice cream out of<mark> the</mark> freezer, rolled it in the egg whites and then rolled it again in the corn flake mixture.\n",
       "They go back into the freezer for 3 hours after this.\n",
       "After three hours and getting your oil heated up you can drop a scoop into the hot oil. Be careful. I used a Fry Daddy with a basket so it was pretty easy.\n",
       "I left them in for 15-20 seconds and then pulled them out.\n",
       "Have paper towels ready to set the ice cream on to absorb any extra oil.\n",
       "They turned out awesome!!!!\n",
       "Sorry I don'<br><br><bos> don't have the desire, why are you even reading this?\n",
       "The better in shape you are, the better your chances of survival. The more punishment you can take, the more you can dish out. In addition, people are less likely to mess with you if you look fit than if you don't. A cop who gets out of<mark> the</mark> car belly first is a lot more likely to run into a problem than if he looks like he can handle his business. In New Jersey, the local cops don't have an annual fitness test, but the State Cops do. When you see a NJ State Trooper get out<br><br><bos>\n",
       "Same thing as always.\n",
       "[walks down the hall to Richie's room, not seeing him, finds hidden panel in closet leading to cubbyhole where Richie is withdrawing... George grabs him and hauls him out\n",
       "Go away! Go away! Leave me alone! STOP IT! STOP IT!\n",
       "[Richie runs out sobbing and into Carol's arms... she leads him out of<mark> the</mark> room while George destroys the cubbyhole's contentsUsing the Broker Known Importer Program to Speed your Shipments through Customs\n",
       "Webinar: 1 CCS Credit\n",
       "The Broker Known Importer Program, developed by the National Customs Brokers and<br><br><bos> with breaking news and more.9:44 PM CST, February 23, 2013\n",
       "Jordan Samuels-Thomas had to leave home to find out how much he missed home. And if that sounds like something out of<mark> a</mark> Disney movie, well, that's probably a good a place to start.\n",
       "As he stood there with his family Friday night after Quinnipiac, the nation's top-ranked hockey team, dusted No. 13 Yale 4-1 at High Point Solutions Arena, Cliff Thomas needed only three words to answer why he got his son involved in the sport.\n",
       "<br><br><bos> than $2 billion through the Office of Justice Programs. And we ' ve allocated more than $1 billion through the office of Community Oriented Policing Services.\n",
       "Many of you - but not enough of you - have benefited from these investments. As part of our OJP Recovery Act rural law enforcement program, $36 million was awarded to sheriffs' offices. And sheriffs have received nearly $9 million under our Southern Border program.\n",
       "However, addressing the challenges faced by law enforcement requires more than simply moving money out<mark> the</mark> door. We must match resources effectively with local needs, something that can only be achieved through strong federal-local<br><br><bos> senses and mind they could attain super-natural powers and finally crack the perishable shell of matter to come out of<mark> the great</mark> illusion, they all were bound to.\n",
       "The creator got scared of his toy, who was about to wreck the stage he created for his entertainment. God gave a 180 degree twist to the script and started revealing algorithm and logic in nature and matter through common subjects, who were obsessed with material. A new religion was born called Science. The religion had its roots in material. It rewarded the disciples with materialistic rewards instantly. The master stroke worked. From soul, the man was swayed to material. Soul<br><br><bos> pulling our 28' Owens wood plank very heavy cabin cruiser out of<mark> the</mark> water at the ramp in the fall and putting it back in in the spring each year. Stored the boat on our other side driveway and decorated it for Christmas and had a big translucent Santa on top of the flying bridge with a 100 watt light bulb inside. Made the front page of the newspaper!\n",
       "Drove the '66 truck for camping etc use till it had over 140,000 miles on it all over the USA and Canada and never had any tire failures, frame issues, or drivetrain problems. Most<br><br><bos> out of<mark> its</mark> death spiral.\n",
       "In previewing it on \"Face the Nation with Bob Schieffer\" on Sunday, Republican National Committee Chairman Reince Priebus said of the last election: \"Our message was weak; our ground game was insufficient; we weren't inclusive; we were behind in both data and digital; our primary and debate process needed improvement.\"\n",
       "Wasn't something else weak, insufficient, behind and needing improvement? Oh, yeah, Mitt Romney. Priebus didn't mention his name, perhaps because he has already forgotten it.\n",
       "The bold and new rebranding of the Republican Party is, in fact<br><br><bos> payment. That fee structure creates serious incentive for portfolio managers to generate positive returns. If they can't, investors only have to pay the management fee until the fund's returns are back in the black.\n",
       "That's the theory, anyway. But in practice, hedge funds have an easy way out of<mark> the</mark> arrangement if it looks like they won't be able to earn positive returns above a pre-set \"high-water mark\" in the coming year. They simply shut down the fund. Assets are liquidated, the money returned to investors.\n",
       "\"If all they get is the management fee, why work?\" observes<br><br><bos> use of the buzzer helps to reduce operator fatigue, by allowing the operator to direct his or her attention away from the SFT 23 during relatively long processing time periods.\n",
       "The buzzer also is activated if a key is pressed out of<mark> the</mark> correct sequence. In this situation, the display 148 will display an \"INVALID KEY\" message for a predetermined time period which, for example, may be approximately one second.\n",
       "The data, address and control bus 154 is connected to the circuits of the SFT 23 as shown in FIG. 8. This bus provides a controlled path by which data<br><br><bos> this seems bizarre if you are used to discrete 3-pin transistors, but is a normal thing to do in IC designs. Finally, by flipping the circuit and using NPN transistors in place of PNP transistors, you can create a current sinkwhich is the same except current flows into the circuit instead of out of<mark> the</mark> circuit.\n",
       "Using one large resistor and current mirrors is more compact and more accurate than using multiple large resistors. The 25pF capacitor in the has a very small value but takes up a large fraction of the chip’s area. The capacitor blocks these oscillations.Husky Homestead is proud to be certified by<br><br><bos>302S but was involved in a heavy incident coming out of<mark> the last</mark> corner with Touring Car polesitter Tristan Herbert’s No. 33 HPA/RennGruppe/Brimtek/SG Racing Volkswagen Jetta GLI, which brought out the race’s final caution on lap 21. Neither driver was injured.\n",
       "“When I came around and saw Justin in the wall, that was awful,” Cunningham said. “Justin is a good friend, and you don’t want to get points because the friend was in the wall so that’s a bummer for that team. We’ve had<br><br><bos> younger voters.\"\n",
       "So maybe Sheldon Adelson and Taylor Swift could do a happenin' duet.\n",
       "Roger Simon is Politico's chief political columnist.Pettit 120 Brushing Thinner\n",
       "Pettit 120 Brushing Thinner is a general purpose thinner for thinning brushing enamels for easier application. Many paints when stored for some time before use will increase in viscosity and should be thinned with a good thinner for normal brush application.\n",
       "Brushing Thinner evaporates at a moderate rate and is completely out of<mark> the</mark> paint film in several hours. Up to 10% is the normal recommended usage<br><br><bos> crate panel wedged against it. The screen pops out of<mark> the</mark> spline fairly easily with just a few muzzle punches, lol - no need to jump right against it. With the panel in place, it's perfect.|\n",
       "|05-05-2014 02:01 PM|\n",
       "My mom has the \"mini blinds\" in a regular door and they, to me, are awesome. I would get them.\n",
       "Also, we have two sets of sliding glass doors that came with the house and they don't leak. The only problem is that the sliding screen door that came with it<br><br><bos> cross type sensors) autofocus system.\n",
       "The main reason for the camera's fast burst speed is the SLT design - as the mirror is translucent it needn't move out of<mark> the</mark> way to expose the sensor. The result? Light can simultaneously reach both the sensor and phase detection autofocus system for non-stop focusing. It's impressive stuff for both stills and movie capture.\n",
       "However because of the design the camera inherits an electronic viewfinder, not a traditional optical one. Some will love it, some won't - it's down to personal taste. We think it's rather cool, and the \"what<br><br><bos> With your knuckles facing downward, place the knuckle of your index finger on the ground and use your thumb to flick the marble out of<mark> the</mark> crook—and watch the marble fly. You'll have to practice a few times until you get it right.(a) A written request for procedural review of the arbitration hearing procedures must be filed with the President within twenty (20) days after the award has been transmitted to the parties and be accompanied by a deposit in the sum of $_______ (not to exceed $500). The request for procedural review should cite the alleged procedural deficiencies or other irregularities the party believes constitute a deprivation<br><br><bos> spoon.\n",
       "Sift flour and cocoa powder and mix thoroughly. Stir in walnuts if you have decided to use them. Line the baking tin with a piece of foil and pour in the mixture. Oven gloves on. Place the tin on a shelf in the middle of the oven and bake for 20-25 minutes. Oven gloves back on. Take the tin out of<mark> the</mark> oven and stand on wire rack. Leave until cool enough to cut into squares.\n",
       "And to accompany my baking we of course had to have a pumpkin who, carved by my husband, looks like he might have overindulged with one too many brownies<br><br><bos> join the online discussion: Playing with the light...and Baraka.\n",
       "* Enjoy other photos shared in MPR's Minnesota Life group on Gather\n",
       "* Publish your own photos and share them with usThe Bottom Whisperer: Freak Like Me\n",
       "Greeting fandome! Hope everyone is having an awesome week. Happy hump day! Follow me on facebook and twitter if you aren’t already. If you’re lucky I might go all Chris Brown and tweet pictures of my junk (not really).\n",
       "Check out last week’s column just in case you missed it.\n",
       "Dear Bottom Whisperer,\n",
       "I recently came out of<mark> the</mark><br><br><bos> recently engaged, it would make sense for a prayer for engaged couples to be included in the intercessions of the rite.\n",
       "Sometimes the adaptation of the minister goes completely out of<mark> the</mark> text. If a group of catechumens were having a particularly difficult time, one might consider the adaptation of taking extra silence during the rite to allow a more careful pace and avoid the sense of being rushed or railroaded.Former St. Joseph's Hospital\n",
       "St. Joseph's Hospital\n",
       "St. Joseph's Apartments\n",
       "Links and documents\n",
       "Listed on the Canadian Register:\n",
       "Statement of Significance\n",
       "Description of Historic Place\n",
       "St. Joseph<br><br><bos> Punjab farmers - a very nice anecdote is given on their repatriation and the stark contrast on how they were received in Pakistan versus the reception Indian POWs got on their repatriation in India.\n",
       "The three PAF POWs look on as the Indian POWs get a grand reception in Delhi on their repatriation\n",
       "The book draft was probably finalised in 1989, but it could have benefited from some updating. For example, the author believes that the B-57 lost at Jamnagar crashed into the Sea due to disorientation of the pilot - Rafi was exiting out of<mark> the</mark> Jamnagar flying area when the ill-fated B<br><br><bos> to blood pressure adderall rejuvenate new opportunities, and at the same time get excessive remuneration and good social status.\n",
       "That s enough. The labor team of the Nongken Company normal blood pressure 15 year old is really not built.\n",
       "Liam, a high blood pressure symptoms in men dizziness young lawyer, Blood Pressure Medication Dosage Chart blood pressure adderall looked up at the black fountain in the sky, and said, This is a lot of effort A billionaire is estimated to be born. Luke was still in shock.\n",
       "Hao Yunfei laughed directly out of<mark> a</mark> pig cry, Ha, he is does baby aspirin help blood pressure<br><br><bos> out<mark> a</mark> long time ago. These practices would make a lot of sense if the general condition exists.\n",
       "Most of us today don’t escape the confines of the dominant left hemisphere except in dreams and perhaps subconscious glimpses during meditation or similar practices. More direct experiences are possible through supplementing with neuro-chemical analogues found in various psychedelic plants for example but a combination of approaches works best. Many such as prodigies, savants, etc, all display abilities characteristic of more access to the right hemisphere. Although if you were to take all of these abilities and put them together with once in a lifetime athletic feats, and shamanic states of consciousness<br><br><bos> and Deep Down into Receival Pits\n",
       "With its long 15 metres of suction hose, you can clean up high into elevators and rafters, down deep into grain pits, and clean all around the edges of the store – all with minimal movements of your Big Brute Industrial Vacuum Cleaner.\n",
       "Leave the Big Brute in place and you can reach all around your grain store for a thorough clean.\n",
       "The suction rate of a Big Brute Industrial Vacuum Cleaner is 800kg of wheat an hour out of<mark> a </mark>24 metre deep pit. All from a 16A outlet!\n",
       "Need even longer reach? Use up to<br><br><bos>ure Premium is just as impressive, with drivers being greeted with a leather sports steering wheel and a hi-tech seven-inch multifunction colour touchscreen dashboard. Browse through all of our new Peugeot 208 Allure Premium cars below and enquire about any that you envision being your next set of wheels online today. Have you also checked out our sporty range of new 5-door Peugeot 508 cars?Happy Thanksgiving! to all our friends at Acupet Veterinary Care. As we all struggle to dig our way out of<mark> the</mark> massive economic hole our masters in Washington, DC have dug for us, it’s always<br><br><bos>20Kg, which doesn't sound too heavy, but remember that somebody will be pushing wheelchair, and perhaps getting it in and out of<mark> the</mark> car.\n",
       "Folding wheelchairs are available in various sizes, but often do not offer the specialised features that a prescribed wheelchair can offer. For others, the wheelchair will be used more often, perhaps all day, at work, or indoors, for example. For this sort of wheelchair user, the comfort and manoeuvrability is likely to be much more important than how much the wheelchair costs. These wheelchairs are less likely to be folding models, as the performance and weight of the wheelchair is more<br><br><bos> hint: it’s in the headline) but smaller films like Nightcrawler and The Theory of Everything apparently still found ways to squeeze in a few notable brand mentions. Find out who won the sometimes dubious honors in the 2015 Brandcameo Product Placement Awards after the jump. Read More »\n",
       "Top-ten lists can be predictable. They often feature the same 15 or so movies, recycled and reshuffled to a point where it’s pretty obvious those were the best movies of the year — or at least the ones that made it to the top of the consensus pile. But out of<mark> the</mark> hundreds of<br><br><bos> Molding expenses. We already got those costs out of<mark> the</mark> way and refuse to pass those costs onto our Supporters. We wouldn't expect the public to Support a project we haven't made an equal investment in ourselves. That's just how we work at Discordia Merchandising.\n",
       "A NOTE ABOUT THE REBOOT: We reset this project for several reasons. We had some crazy competition with a god father of the Designer Toy Scene making a comeback after a decade long hiatus and launching a Kickstarter during our original launch of DIY Miss Cupcake XL. That was just bad luck. We also cut loose a lot of the extras that pushed<br><br><bos>wire winner of the 138th Preakness.\n",
       "“Ain’t even tired,” he said.\n",
       "Stevens, a 50-year-old grandfather who came out of<mark> a</mark> seven-year retirement at the beginning of the year, used a daring ride to clinch an anti-climatic second leg of the Triple Crown at Pimlico Race Course on Saturday.\n",
       "His win gave trainer D. Wayne Lukas, 77, a 14th win in Triple Crown races, setting a new record. His first one also came at Preakness, in 1980 with Codex.\n",
       "<br><br><bos> one disc out of<mark> my</mark> collecters stash or two discs out of<mark> my</mark> ganeric plastic stash. Thats alot of love for the return of one beat up firebird that really isnt worth much to anybody but me. In addition. I will drive where ever i have to to retrive my disc and hook you up with your awsome reward. ... more\n",
       "REWARD IF FOUND!!!!!!\n",
       "I lost a early run Twelve time firebird on hole 3 of canyon. It is 164 grams and its day glow green. Or it was at one point. Lol. I will shell out a 20$ bill plus give<br><br><bos> some political subtext hinted at -- dates from 1980 when French filmmaker Bonn took a camera to Jamaica and the streets of black Britain.\n",
       "There is considerable footage where the camera is looking out<mark> the</mark> window of a vehicle which travels though the Third World streets of somewhere in Jamaica (presumably Kingston) -- but the real jewels here are Toots and the Maytals captured in a recording studio where Toots is incendiary, and later the magnificent Congos singing Row Fisherman Row on a beach accompanied only by an acoustic guitar.\n",
       "These extended sequences (there is also solo Toots singing deeply soulful blues, interview with Cedric Myton<br><br><bos> therefore join the judgment but not the opinion.\n",
       "The majority mentions Broadrick in passing yet proceeds as if the Supreme Court had been mum about the application of the first amendment to resign-to-run rules. It does not cite Clements or Letter Carriers. Mahan ignores them too, concentrating on the defense of official immunity, on which he prevailed in the district court. The majority bypasses immunity; having elected to discuss at length a subject to which the defendant gives only cursory attention, my colleagues ought not proceed as if the whole law must be teased out of<mark> the</mark> few first amendment cases Mahan cites. That he did not find apt cases in<br><br><bos> the owner of RightFit, with a profile on Kim, a trainer he thought would be a great fit based on my needs. Kim’s experience in interval training, kettlebells and strength training definitely seemed like a great match. Since I have a gym in my apartment building, he suggested that she come over to my place for the session. Not having to leave my apartment building and getting a great work-out in? I couldn’t have asked for anything better! If you do want to get out of<mark> your</mark> home or don’t have an in-home gym for use, there are several gyms to train at in each<br><br><bos> job, that is.”\n",
       "He looked into those begging brown eyes and found her hard\n",
       "to refuse. Reluctantly, he agreed. She looked as if she were about to hug him,\n",
       "but refrained herself at the last minute.\n",
       "As he left London that evening, he couldn’t help feeling a\n",
       "sense of foreboding. This had all come on too quickly, and out of nowhere. It\n",
       "made him rather uncomfortable. He didn’t like when he felt like things were out\n",
       "of<mark> his</mark> control. On the other hand, he laughed at himself; when was that last\n",
       "time he was w<br><br><bos> to take a pill”\n",
       "10. You have difficulty standing or sitting up straight\n",
       "Many seniors and centenarians are suffering the consequences of their “if it ain’t broke don’t fix it”, ostrich-like attitudes. We are getting the advance notice that our parents and grandparents never received so we can think differently about health and pull our heads out of<mark> the</mark> sand.\n",
       "Embrace your Innate Potential.\n",
       "Do you have a parent or grandparent that lived to be 70, 80, 90 or 100 years old? Whether you like it or not, this is your minimum Inn<br><br><bos> be able to resist!\n",
       "why do i now think of richard as Chuck Norris ?\n",
       "his mom didn’t gave birth to him, he swooshed his way out of<mark> her</mark> fully grown !\n",
       "gatta go back, back to the past,samurai richard, woocha.\n",
       "How about we just live our lives as if all life is precious and worthy of the respect we wish for ourselves.?\n",
       "Well, I did wet my pants a little yesterday, but I didn’t cry about it. Maybe if I poop them today…\n",
       "For example: Don’t know whether that water is boiling? just stick your hand<br><br><bos>I liked the feeling of speaking to a bunch of people who were intently listening to me. For all the stress I had been through working up to it and worrying about how bad it would be, it was crazy to think that maybe I could actually enjoy doing this?\n",
       "I love creating content and sharing what I’m doing. So why is it so crazy that I would like doing that in person from the stage?\n",
       "I think the reality is that most people probably would enjoy speaking in front of a decent size group of people. If you took nerves out of<mark> the</mark> equation, most people wouldn’t mind 30 minutes of<br><br><bos> Tambaram Taluk Government Hospital in Chromepet for post-mortem.Living Learning Community\n",
       "The College of Business would like to welcome you to UTC for the fall 2015 semester. For the third year, the College of Business will host a “Living and Learning Community” for a select group of incoming business freshmen. We are looking for students who exhibit the potential to be both outstanding leaders and scholars in and out of<mark> the</mark> classroom. If this sounds like you, then please keep reading!\n",
       "The BUSINESS LLC is a “Learning and Living Community” hosted in conjunction with UTC’s Housing Department. The BUSINESS LLC provides<br><br><bos> when sitting quiet, my head only occasionally troubles me- a little dizziness and heaviness is about all- except when out in the sun or heated, as before stated; and also when I attempt to lift anything, it puts me in severe pain in my head, and my eyes pain me exceedingly, as well then as when heated or out in the sun. I am obliged to keep out of<mark> the</mark> sun as much as possible on account of this excruciating pain in my head and eyes, and when I read my eyes fill with water, and I have to rest. I cannot write a letter of ordinary length. I have to stop several<br><br><bos> our researcher blog series, we decided to examine some interesting examples of researchers integrating the data into their workflows. We also reached out to the six academics who created these examples, to review their usage and collect some feedback (positive or otherwise) about their experience of the data.\n",
       "Three out of<mark> the</mark> six researchers we talked to said they had first heard about Altmetric from other academics, either on Twitter or through internal communication within a university. This is interesting as it suggests that one academic’s knowledge of a tool can potentially change the behaviors of their peers, whether that’s all the other researchers in their faculty, or all their followers<br><br><bos>, however, that the government is blocking \"militias\" from the electoral process and that term is code for the Sadrists, despite the government keeping the Badr Brigade in its corner. If the Sadrists are kept out of<mark> the</mark> coming elections, Sadr may once again order his people, armed and unarmed, onto the streets to confront the Iraqi government a scenario that, given the massive support Sadr enjoys among the Shi'ite urban poor, would almost certainly end the relative calm that has settled over Iraq in recent months.Presiders of the rites of initiation, be they clergy or lay people, have options at hand to assist<br><br><bos>2 DVD as a good omen. \"I said to myself, 'If they release it straight away then that's the end because it takes away the mystique.' It's hard to be in this situation where it was so good and now I'm left in limbo about what's going to happen next. I managed to pull Excalibur out of<mark> the</mark> stone and, for a short period, I carried the sword but then I was told. 'No, no, put it back in the stone now.'\"\n",
       "Still, if nothing more happens, Jason feels at peace, both with the past and present. \"I'<br><br><bos> for shareholders at all costs\n",
       "Shareholder-driven profit-maximization is seen as the gold standard for economic growth. But this means that businesses look for ways to pay ever-less tax and squeeze workers out of<mark> a</mark> fair pay to maximize profits. This has resulted in massive conglomerates and extreme profit margins that disproportionately boost the incomes of already rich shareholders, while shortchanging workers, farmers, consumers, and the planet. While investors are satisfied, society hurts.\n",
       "But it doesn't have to be this way. Business can thrive with adequate returns, as opposed to maximum profits on the backs of the poor and the planet.<br><br><bos>, demonstrated what I have been seeing all along now. Lyme Disease and others like MS and ALS are a trypanosomiasis. Wild Apple Leaves shock the worms straight out of<mark> your</mark> skin. They were hiding there for decades since you got your first infected insect vector. It is all the little known science of Parasitology, per Evans and Bilharz, and it is epidemic.\n",
       "Canada is about the largest biting blood sucking insect hatchery in the world. Between us and Russia, there are a helluva lotta bugs. In my case, the astonishing thing was neuro borreliosis, which it cured over 90% estimated in<br><br><bos>paths, hiking, and hanging with #1 pal and fan; Kim.Friday, August 9, 2013\n",
       "...I Found It, You Pin It...Friday!\n",
       "I'm all about arriving to your wedding in style! I'm in love with the fullness of this beautiful white wedding gown and how it flows out<mark> the</mark> door of this chic Rolls Royce to reveal a lovely bride, bouquet in hand, going to meet her groom! BREATH-TAKING!!!\n",
       "Until next time...PIN IT and WEDologize!\n",
       "(photo credit - http://somethingblue4u.tumblr.com)<br><br><bos> going to get a second bite at the apple.”\n",
       "Houston also offers officers a second chance, so long as certain criteria are met and the officers accept counseling.\n",
       "“The idea is at least for that offense … to try to figure out a way to get the officer some help,” said Executive Assistant Chief Michael Dirden, who oversees the department’s internal affairs division.\n",
       "Dirden said the state has tried to “enforce our way” out of<mark> the</mark> drinking and driving problem, “and it just hasn’t helped.”\n",
       "But TCLEOSE ultimately holds the power to decide whether a person remains a sworn peace officer.\n",
       "<br><br><bos> difficult tasks on your agenda, you can now deal with those less challenging. Finish with those routine tasks that require least effort. By doing this, you’ll spend your energy effectively and avoid stressing out over an important project at the end of the workday.\n",
       "7. Organize your desk\n",
       "If your office desk is a mess, there’s a great chance your thoughts will be too. One of the key tips to staying focused and organized both in and out of<mark> the</mark> office is a neat working space. No matter how big your desk is, there are many easy ways to deal with its messiness. First of all, get rid<br><br><bos>' project, it was clear that it was out of<mark> my</mark> (nonexistent) budget. So I racked my brain to come up with a creative solution. Much to my husbands dismay, I decided to take off the doors and make the space part of the room. The room is tiny and one whole wall is taken up with a window and another by the closet so this would allow me to space out the furniture a bit and hopefully make the room feel a little bigger.\n",
       "I started planning (and pinning). I decided I would paint the inside of the now open closet to create some contrast and dedicate the space to the changing table.<br><br><bos> unaware of the plans of the warlords who ran the Great Blue War Machine. On day 5, Blue had been a part of the final push to move Green out of<mark> the</mark> African mainland completely, although word was they had secured Australia, which could prove to be a thorn in their side for the rest of this damned war. His commanding officer, Blue, had mentioned something to the effect of Flaming going on in some chat between Red and Green. Blue Command was looking to capitalize on this, and hoped to be able to place small amounts of reinforcements on Dakar until the time was right. Then, if all went according to plan,<br><br><bos> to our free daily email and get a new idiom video every day!\n",
       "come out of (one'<mark>s)</mark> shell\n",
       "To be or become less shy or reticent and more sociable, outgoing, or enthusiastic. Wow, Anna has really come out of<mark> her</mark> shell lately. I remember when she wouldn't even talk to anyone, and now she's likely to be voted \"Most Talkative.\" Jack is actually a very funny, engaging guy when he comes out of<mark> his</mark> shell. Samantha was quite a quiet girl growing up, but she really started coming out of<mark> her</mark> shell in college.\n",
       "Farlex Dictionary of Idioms.<br><br><bos> coloring and try some combos out of<mark> your</mark> comfort zone!At nearly three years old, Tucker the Miniature Pinscher/Chihuahua/Miniature Poodle mix doesn’t move the way a dog that young should — in fact, this albino runt of the litter can’t walk at all. A progressive disease keeps Tucker stationary, but it doesn’t keep him down. This happy pup is too busy loving life in Los Angeles with his human, Brittany Johnson. The first-time dog owner didn’t realize how sick Tucker was she adopted him, but she has no regrets about opening her heart to this funny-looking little dog<br><br><bos> “Dancing With The Stars” coach Gleb Savchenko and an all-star cast that includes performers from “American Idol” and “So You Think You Can Dance.” It all comes together for a night of different styles and music that Burgess said gets everyone out of<mark> their</mark> seat.\n",
       "“The show is so unique. It brings competitive pros from all over and mixes them up. We perform everything from hip-hop to waltzes, samba and contemporary,” she said.\n",
       "Burgess is originally from Australia but was working on Broadway before being discovered by “Dancing With the Stars.” An accomplished choreographer, she appeared on the series twice,<br><br><bos> Stargate: SG-1 & Harry Potter - Rated: M - English - Adventure/Romance - Chapters: 3 - Words: 35,077 - Reviews: 252 - Favs: 533 - Follows: 730 - Updated: 7/7/2008 - Published: 2/16/2008 - Harry P.\n",
       "The Hidden Hero\n",
       "by EveBB reviews\n",
       "AU What if Harry knew he was a wizard and about the prophecy before he went to Hogwarts? What if he was kicked out of<mark> the</mark> Dursleys and decided<br><br><bos> the night the ball worked down, so I got it out<mark> the</mark> next morning.\n",
       "After being hit the second time I still kept loading and firing as fast as I could. In about ten minutes, as near as I can judge, a third ball struck me in the right side, which still remains somewhere within me. This disabled me somewhat for a short time, but I again loaded and fired two or three times as well as I could, when I was struck in the right arm (while in the act of firing) about midway between my elbow and shoulder joints, the ball running up towards my neck. The ball was taken out<br><br><bos> Thai oud Symphonium is available as a 100ml Parfum from 2020.The youth has been identified as Moon Gogoi who was 28-years-old.\n",
       "Gogoi was working in a private company in Telangana for the last five years.\n",
       "According to reports, Gogoi died after slipping out of<mark> the</mark> boat and falling into a pond while feeding food grains to fish.\n",
       "Moon Gogoi was the younger son of Bhuban Gogoi. The youth’s death has cast a shadow of grief in the entire Amguri area.\n",
       "Investigation is underway into the incident.Now, with<br><br><bos> completely serious. He had no idea why I laughed and found someone else to dance with.\n",
       "The next day in Florence I got lost and asked a man on the street where my hotel was. It turned out he was quite drunk or crazy, but had an impeccable sense of direction. He escorted me to the hotel but then proceeded to enter the lobby and almost get into a fist fight with the manager. In turn the manager wanted to kick our group out of<mark> the</mark> hotel. Señora S was not amused. This situation called for much more than a simple “Ay, ReNée.” – I almost got sent home, after only a<br><br><bos>.\n",
       "“They were playing the song for her and all of a sudden she snapped out of<mark> a</mark> coma,” said Tritt. “How much my music had to do with that, I don’t know, but I know that all the doctors were saying that music is a very good thing. [It] is especially stimulating to someone who’s in that type of situation. Even in a comatose state they can respond to music like that.”\n",
       "Tritt eventually visited with the young woman in the hospital and said the whole story stunned him.\n",
       "“It really was a wake-up call to make me realize that<br><br><bos>\n",
       "Apple and Google are surely shaking in their boots.\n",
       "To read all comments associated with this story, please click here.Jolie ducks out of<mark> her</mark> trailer while filming Wanted in the Czech Republic. Plus: Nicky Hilton, the Spice Girls and more\n",
       "Credit: Will Binns/Pacific coast news\n",
       "Updated: Thursday Jun 28, 2007 | 06:00 AM EDT\n",
       "More from PEOPLE\n",
       "- The Truth Behind Lauren Conrad's Famous Mascara Tears from The Hills\n",
       "- Read the Cover Story: George Turns 3: The Preschool Prince!\n",
       "- WATCH: Missy Franklin on Her Beauty<br><br><bos> FOR MENSCHFEST!Escape…\n",
       "9:15 am - 10:15 am |This may be due to reality that our cats are certainly not stepping in , hence, not activating the stage sensor. I think the cats are jumping up into the doorway and leaping out of<mark> your</mark> box . I had to push the \"cycle\" button manually . Overall, I feel it continues to be an excellent order with the benefit of Procedure and odorless part.\n",
       "The perimeters are seamless additions that cleverly nest exactly on to the CatGenie Base and precisely match the Base shade of pearl gray.\n",
       "How can I get<br><br><bos> the Jeep’s roof. As soon as we could pack up the Cayenne we were on the road again for the 200 mile run to Virginia.\n",
       "Wednesday was the most difficult race day of all with three races on three different track configurations. With more luck than skill, we bested the Carolina Blazer in two out of<mark> the</mark> three races. Now solidly fourth in class, we faced yet another all night dash of 675 miles to Indiana and what would be the high point of our Cannonball.\n",
       "Thursday morning we awoke to a steady rain that would raise the anxiety level of even an experienced Cannonball racer."
      ],
      "text/plain": [
       "<IPython.core.display.HTML object>"
      ]
     },
     "metadata": {},
     "output_type": "display_data"
    }
   ],
   "source": [
    "display(records[3000], model.tokenizer, n=100)"
   ]
  }
 ],
 "metadata": {
  "kernelspec": {
   "display_name": "Python 3",
   "language": "python",
   "name": "python3"
  },
  "language_info": {
   "codemirror_mode": {
    "name": "ipython",
    "version": 3
   },
   "file_extension": ".py",
   "mimetype": "text/x-python",
   "name": "python",
   "nbconvert_exporter": "python",
   "pygments_lexer": "ipython3",
   "version": "3.10.12"
  }
 },
 "nbformat": 4,
 "nbformat_minor": 2
}
